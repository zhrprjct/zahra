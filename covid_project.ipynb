{
 "cells": [
  {
   "cell_type": "code",
   "execution_count": 2,
   "metadata": {},
   "outputs": [],
   "source": [
    "import numpy as np\n",
    "import datetime\n",
    "import random\n",
    "import sympy as sym\n",
    "from sympy import *\n",
    "from scipy.optimize import minimize\n",
    "import math\n",
    "from sympy import symbols\n",
    "from sympy.plotting import plot, plot3d, PlotGrid"
   ]
  },
  {
   "cell_type": "code",
   "execution_count": 3,
   "metadata": {},
   "outputs": [],
   "source": [
    "def Pr(xt_,yt,c,alpha,beta,gama,theta_0,theta_1):\n",
    "        \n",
    "    if yt==0:\n",
    "        p0=1-theta_0\n",
    "        p1=1-theta_1\n",
    "    else:\n",
    "        p0=theta_0\n",
    "        p1=theta_1\n",
    "    if xt_==0:\n",
    "        p0=p0*(1-alpha)*(1-beta)**c\n",
    "        p1=p1*(1-(1-alpha)*(1-beta)**c)\n",
    "    else:\n",
    "        p0=p0*gama\n",
    "        p1=p1*(1-gama)\n",
    "\n",
    "      \n",
    "    return p0,p1\n",
    "                "
   ]
  },
  {
   "cell_type": "code",
   "execution_count": 4,
   "metadata": {},
   "outputs": [],
   "source": [
    "# Function to calculate emission probability:\n",
    "def emission(X_,Y_,n,T,q_):\n",
    "    theta_0 = Symbol('theta_0')\n",
    "    theta_1 = Symbol('theta_1')\n",
    "    P=[]\n",
    "    for j in range(q_):\n",
    "        p=1\n",
    "        for m in range(n):\n",
    "            for t in range(T):\n",
    "                if X_[j][m][t]==0:\n",
    "                    if Y_[j][m][t]==1:\n",
    "                        p=p*theta_0\n",
    "                    else:\n",
    "                        p=p*(1-theta_0)\n",
    "                else:  \n",
    "                    if Y_[j][m][t]==1:\n",
    "                        p=p*theta_1\n",
    "                    else:\n",
    "                        p=p*(1-theta_1)\n",
    "        P.append(sym.log(p))                 \n",
    "    return P                "
   ]
  },
  {
   "cell_type": "code",
   "execution_count": 5,
   "metadata": {},
   "outputs": [],
   "source": [
    "# Function to calculate transmition probability:\n",
    "def transition(X_,C_,n,T,q_):\n",
    "    alpha = Symbol('alpha')\n",
    "    beta= Symbol('beta')\n",
    "    gamma=Symbol('gamma')\n",
    "    pi=Symbol('pi')\n",
    "    P=[]\n",
    "    for j in range(q_):\n",
    "        p=1\n",
    "        for m in range(n):\n",
    "            for t in range(T-1):\n",
    "                if (X_[j][m][t]==0):\n",
    "                    if t==0:\n",
    "                        p=p*pi\n",
    "                    if (X_[j][m][t+1]==0):\n",
    "                        p=p*(1-alpha)*(1-beta)**C_[j][m][t]\n",
    "                    else:\n",
    "                        p=p*(1-(1-alpha)*(1-beta)**C_[j][m][t])\n",
    "                else: \n",
    "                    if t==0:\n",
    "                        p=p*(1-pi)\n",
    "                    if (X_[j][m][t+1]==0):\n",
    "                        p=p*gamma\n",
    "                    else:\n",
    "                        p=p*(1-gamma)\n",
    "        P.append(sym.log(p))\n",
    "        \n",
    "    return P         \n",
    "    "
   ]
  },
  {
   "cell_type": "code",
   "execution_count": 6,
   "metadata": {},
   "outputs": [],
   "source": [
    "def CNbr(G_,X_):\n",
    "    C_=[]\n",
    "    for k in range(len(np.array(X_))):\n",
    "        indx=0\n",
    "        X=X_[k] \n",
    "        G=G_[k]\n",
    "        C=np.zeros((G.shape[1],G.shape[0]))\n",
    "        for t in range(G.shape[0]):\n",
    "            for i in range(G.shape[1]):\n",
    "                indx=0\n",
    "                c=0\n",
    "                g= G[t,i]\n",
    "                for k in g:\n",
    "                    if k==1:\n",
    "                        if X[indx,t]==1:\n",
    "                            c=c+1\n",
    "                    indx=indx+1\n",
    "                C[i,t]=c\n",
    "        C_.append(C)        \n",
    "    return C_      "
   ]
  },
  {
   "cell_type": "code",
   "execution_count": 7,
   "metadata": {},
   "outputs": [],
   "source": [
    "alpha = Symbol('alpha')\n",
    "beta= Symbol('beta')\n",
    "gamma=Symbol('gamma')\n",
    "theta_0 = Symbol('theta_0')\n",
    "theta_1 = Symbol('theta_1')"
   ]
  },
  {
   "cell_type": "code",
   "execution_count": 22,
   "metadata": {},
   "outputs": [],
   "source": [
    "#******************************update parameters\n",
    "alpha_=0.5\n",
    "beta_=0.5\n",
    "gama_=0.5\n",
    "theta_0_=0.5\n",
    "theta_1_=0.5\n",
    "p_=0.8\n",
    "n=100\n",
    "T=100\n",
    "J=20\n",
    "q_=3\n",
    "X=np.zeros((n,T))"
   ]
  },
  {
   "cell_type": "code",
   "execution_count": 23,
   "metadata": {},
   "outputs": [],
   "source": [
    "def Calc(q_,J,T,alpha_,beta_,gama_,theta_0_,theta_1_):\n",
    "    X_=[]\n",
    "    G_=[]\n",
    "    Y_=[]\n",
    "    \n",
    "    for q in range(q_):\n",
    "        X=np.zeros((n,T))\n",
    "        G=[]\n",
    "        for j in range(T-1):\n",
    "            g=np.identity(100)\n",
    "            for i in range(100):\n",
    "                inx=np.random.choice(range(i,100), 10)\n",
    "                g[i,inx]=1  \n",
    "                g[inx,i]=1\n",
    "            G.append(g)\n",
    "        G=np.array(G)\n",
    "        G_.append(G)\n",
    "        a=[]\n",
    "        Y=np.zeros((n,T))\n",
    "        idx=np.random.choice(range(n), int((1-p_)*n))\n",
    "        Y[idx,0]=1\n",
    "        for t in range(T-1):\n",
    "            for i in range(n):\n",
    "                for j in range(n):\n",
    "                    if G[t][i][j]==1:\n",
    "                        a.append((i,j))\n",
    "                        if Y[i,t]==1:\n",
    "                            if Y[j,t]==1:\n",
    "                                Y[i,t+1]=Y[j,t+1]=0\n",
    "                        else:\n",
    "                            Y[i,t+1]=0\n",
    "                            Y[j,t+1]=1\n",
    "                    elif Y[j,t]==1:\n",
    "                        Y[i,t+1]=1\n",
    "                        Y[j,t+1]=0\n",
    "        Y_.append(Y)\n",
    "        for j in range(J):    \n",
    "            for t in range(1,T):\n",
    "                c_=G[t-1].dot(X).T[t-1]\n",
    "                for i in range(n):\n",
    "            \n",
    "                    p0=Pr(X[i,t-1],Y[i,t],c_[i],alpha_,beta_,gama_,theta_0_,theta_1_)[0]\n",
    "                    p1=Pr(X[i,t-1],Y[i,t],c_[i],alpha_,beta_,gama_,theta_0_,theta_1_)[1]\n",
    "                    if t!=T-1:\n",
    "                        c=G[t].dot(X).T[t]\n",
    "                    \n",
    "                        g=G[t,i]\n",
    "                        for k in g:\n",
    "                            k=int(k)\n",
    "                            if X[k][t]==0:\n",
    "                                if X[k][t+1]==0:\n",
    "                                    if X[i,t]==0:\n",
    "                                        p0=p0*(1-alpha_)*(1-beta_)**c[k]\n",
    "                                    else:\n",
    "                                        p1=p1*(1-alpha_)*(1-beta_)**c[k]\n",
    "                                else:\n",
    "                                    if X[i,t]==0:\n",
    "                                        p0=p0*(1-(1-alpha_)*(1-beta_)**c[k])\n",
    "                                    else:\n",
    "                                        p1=p1*(1-(1-alpha_)*(1-beta_)**c[k])\n",
    "                            elif X[k][t+1]==0:\n",
    "                                if X[i,t]==0:\n",
    "                                    p0=p0*gama_\n",
    "                                else:\n",
    "                                    p1=p1*gama_\n",
    "                            elif X[i,t]==0:\n",
    "                                p0=p0*(1-gama_)\n",
    "                            else:\n",
    "                                p1=p1*(1-gama_)\n",
    "                    if p0>p1:\n",
    "                        X[i,t]=0\n",
    "                    else:\n",
    "                        X[i,t]=1  \n",
    "            if j!=J:\n",
    "                for i in range(n):\n",
    "                    indx=0\n",
    "                    p0=0\n",
    "                    p1=0\n",
    "                    c=0\n",
    "                    g= G[0,i]\n",
    "                    if Y[i,0]==0:\n",
    "                        p1=1-theta_1_\n",
    "                        p0=1-theta_0_\n",
    "                    else:\n",
    "                        p1=theta_1_\n",
    "                        p0=theta_0_\n",
    "                    p0=p0*p_\n",
    "                    p1=p1*(1-p_)\n",
    "                    for k in g:\n",
    "                        if k==1:\n",
    "                            if X[indx,1]==1:\n",
    "                                c=c+1\n",
    "                        indx=indx+1\n",
    "                    indx=0 \n",
    "                    for k in g:\n",
    "                        if X[indx,1]==1:\n",
    "                            if X[indx,0]==0:\n",
    "                                if indx==i:\n",
    "                                    c=c-1\n",
    "                                p0=p0*(1-alpha_)*(1-beta_)**c\n",
    "                                p1=p1*(1-alpha_)*(1-beta_)**c\n",
    "                            else:\n",
    "                                if indx==i:\n",
    "                                    c=c-1\n",
    "                                p0=p0*(1-gama_)\n",
    "                                p1=p1*(1-gama_)\n",
    "                        else :\n",
    "                            if X[indx,0]==0:\n",
    "                                if indx==i:\n",
    "                                    c=c-1\n",
    "                                p0=p0*(1-(1-alpha_)*(1-beta_)**c)\n",
    "                                p1=p1*(1-(1-alpha_)*(1-beta_)**c)\n",
    "                            else:\n",
    "                                if indx==i:\n",
    "                                    c=c-1\n",
    "                                p1=p1*gama_\n",
    "                                p0=p0*gama_\n",
    "                    if p0>p1:\n",
    "                        X[i,0]=0\n",
    "                    else: \n",
    "                        X[i,0]=1\n",
    "        X_.append(X)\n",
    "    G_=np.array(G_)\n",
    "    X_=np.array(X_)\n",
    "    Y_=np.array(Y_)\n",
    "    return X_,Y_,G_    "
   ]
  },
  {
   "cell_type": "code",
   "execution_count": 24,
   "metadata": {},
   "outputs": [],
   "source": [
    "U=Calc(q_,J,T,alpha_,beta_,gama_,theta_0_,theta_1_)\n",
    "X_=U[0]\n",
    "Y_=U[1]\n",
    "G_=U[2]"
   ]
  },
  {
   "cell_type": "code",
   "execution_count": 25,
   "metadata": {},
   "outputs": [
    {
     "data": {
      "text/latex": [
       "$\\displaystyle \\log{\\left(\\theta_{0}^{1970} \\theta_{1}^{3014} \\left(1 - \\theta_{0}\\right)^{2772} \\left(1 - \\theta_{1}\\right)^{2244} \\right)} + \\log{\\left(\\theta_{0}^{2390} \\theta_{1}^{2594} \\left(1 - \\theta_{0}\\right)^{2394} \\left(1 - \\theta_{1}\\right)^{2622} \\right)} + \\log{\\left(\\theta_{0}^{2477} \\theta_{1}^{2536} \\left(1 - \\theta_{0}\\right)^{2221} \\left(1 - \\theta_{1}\\right)^{2766} \\right)} + \\log{\\left(2.54629497041812 \\cdot 10^{-10} \\alpha^{94} \\gamma^{4680} \\left(0.2 - 0.2 \\gamma\\right) \\left(1 - \\alpha\\right)^{5} \\left(1 - \\beta\\right)^{5.0} \\left(1 - \\gamma\\right)^{435} \\left(- \\left(1 - \\alpha\\right) \\left(1 - \\beta\\right)^{1.0} + 1\\right)^{42} \\left(- \\left(1 - \\alpha\\right) \\left(1 - \\beta\\right)^{2.0} + 1\\right)^{151} \\left(- \\left(1 - \\alpha\\right) \\left(1 - \\beta\\right)^{3.0} + 1\\right)^{256} \\left(- \\left(1 - \\alpha\\right) \\left(1 - \\beta\\right)^{4.0} + 1\\right)^{431} \\left(- \\left(1 - \\alpha\\right) \\left(1 - \\beta\\right)^{5.0} + 1\\right)^{522} \\left(- \\left(1 - \\alpha\\right) \\left(1 - \\beta\\right)^{6.0} + 1\\right)^{612} \\left(- \\left(1 - \\alpha\\right) \\left(1 - \\beta\\right)^{7.0} + 1\\right)^{542} \\left(- \\left(1 - \\alpha\\right) \\left(1 - \\beta\\right)^{8.0} + 1\\right)^{507} \\left(- \\left(1 - \\alpha\\right) \\left(1 - \\beta\\right)^{9.0} + 1\\right)^{402} \\left(- \\left(1 - \\alpha\\right) \\left(1 - \\beta\\right)^{10.0} + 1\\right)^{306} \\left(- \\left(1 - \\alpha\\right) \\left(1 - \\beta\\right)^{11.0} + 1\\right)^{245} \\left(- \\left(1 - \\alpha\\right) \\left(1 - \\beta\\right)^{12.0} + 1\\right)^{194} \\left(- \\left(1 - \\alpha\\right) \\left(1 - \\beta\\right)^{13.0} + 1\\right)^{139} \\left(- \\left(1 - \\alpha\\right) \\left(1 - \\beta\\right)^{14.0} + 1\\right)^{117} \\left(- \\left(1 - \\alpha\\right) \\left(1 - \\beta\\right)^{15.0} + 1\\right)^{84} \\left(- \\left(1 - \\alpha\\right) \\left(1 - \\beta\\right)^{16.0} + 1\\right)^{57} \\left(- \\left(1 - \\alpha\\right) \\left(1 - \\beta\\right)^{17.0} + 1\\right)^{33} \\left(- \\left(1 - \\alpha\\right) \\left(1 - \\beta\\right)^{18.0} + 1\\right)^{21} \\left(- \\left(1 - \\alpha\\right) \\left(1 - \\beta\\right)^{19.0} + 1\\right)^{10} \\left(- \\left(1 - \\alpha\\right) \\left(1 - \\beta\\right)^{20.0} + 1\\right)^{4} \\left(- \\left(1 - \\alpha\\right) \\left(1 - \\beta\\right)^{21.0} + 1\\right)^{6} \\left(- \\left(1 - \\alpha\\right) \\left(1 - \\beta\\right)^{22.0} + 1\\right)^{3} \\left(- \\left(1 - \\alpha\\right) \\left(1 - \\beta\\right)^{26.0} + 1\\right) \\right)} + \\log{\\left(2.54629497041812 \\cdot 10^{-10} \\alpha^{97} \\gamma^{4640} \\left(0.2 - 0.2 \\gamma\\right) \\left(1 - \\alpha\\right)^{3} \\left(1 - \\beta\\right)^{3.0} \\left(1 - \\gamma\\right)^{517} \\left(- \\left(1 - \\alpha\\right) \\left(1 - \\beta\\right)^{1.0} + 1\\right)^{86} \\left(- \\left(1 - \\alpha\\right) \\left(1 - \\beta\\right)^{2.0} + 1\\right)^{228} \\left(- \\left(1 - \\alpha\\right) \\left(1 - \\beta\\right)^{3.0} + 1\\right)^{357} \\left(- \\left(1 - \\alpha\\right) \\left(1 - \\beta\\right)^{4.0} + 1\\right)^{477} \\left(- \\left(1 - \\alpha\\right) \\left(1 - \\beta\\right)^{5.0} + 1\\right)^{563} \\left(- \\left(1 - \\alpha\\right) \\left(1 - \\beta\\right)^{6.0} + 1\\right)^{549} \\left(- \\left(1 - \\alpha\\right) \\left(1 - \\beta\\right)^{7.0} + 1\\right)^{511} \\left(- \\left(1 - \\alpha\\right) \\left(1 - \\beta\\right)^{8.0} + 1\\right)^{435} \\left(- \\left(1 - \\alpha\\right) \\left(1 - \\beta\\right)^{9.0} + 1\\right)^{350} \\left(- \\left(1 - \\alpha\\right) \\left(1 - \\beta\\right)^{10.0} + 1\\right)^{303} \\left(- \\left(1 - \\alpha\\right) \\left(1 - \\beta\\right)^{11.0} + 1\\right)^{191} \\left(- \\left(1 - \\alpha\\right) \\left(1 - \\beta\\right)^{12.0} + 1\\right)^{172} \\left(- \\left(1 - \\alpha\\right) \\left(1 - \\beta\\right)^{13.0} + 1\\right)^{127} \\left(- \\left(1 - \\alpha\\right) \\left(1 - \\beta\\right)^{14.0} + 1\\right)^{82} \\left(- \\left(1 - \\alpha\\right) \\left(1 - \\beta\\right)^{15.0} + 1\\right)^{73} \\left(- \\left(1 - \\alpha\\right) \\left(1 - \\beta\\right)^{16.0} + 1\\right)^{47} \\left(- \\left(1 - \\alpha\\right) \\left(1 - \\beta\\right)^{17.0} + 1\\right)^{32} \\left(- \\left(1 - \\alpha\\right) \\left(1 - \\beta\\right)^{18.0} + 1\\right)^{25} \\left(- \\left(1 - \\alpha\\right) \\left(1 - \\beta\\right)^{19.0} + 1\\right)^{18} \\left(- \\left(1 - \\alpha\\right) \\left(1 - \\beta\\right)^{20.0} + 1\\right)^{8} \\left(- \\left(1 - \\alpha\\right) \\left(1 - \\beta\\right)^{21.0} + 1\\right)^{5} \\left(- \\left(1 - \\alpha\\right) \\left(1 - \\beta\\right)^{23.0} + 1\\right)^{2} \\left(- \\left(1 - \\alpha\\right) \\left(1 - \\beta\\right)^{25.0} + 1\\right) \\right)} + \\log{\\left(2.54629497041812 \\cdot 10^{-10} \\alpha^{91} \\gamma^{4595} \\left(0.2 - 0.2 \\gamma\\right) \\left(1 - \\alpha\\right)^{4} \\left(1 - \\beta\\right)^{4.0} \\left(1 - \\gamma\\right)^{606} \\left(- \\left(1 - \\alpha\\right) \\left(1 - \\beta\\right)^{1.0} + 1\\right)^{51} \\left(- \\left(1 - \\alpha\\right) \\left(1 - \\beta\\right)^{2.0} + 1\\right)^{144} \\left(- \\left(1 - \\alpha\\right) \\left(1 - \\beta\\right)^{3.0} + 1\\right)^{309} \\left(- \\left(1 - \\alpha\\right) \\left(1 - \\beta\\right)^{4.0} + 1\\right)^{431} \\left(- \\left(1 - \\alpha\\right) \\left(1 - \\beta\\right)^{5.0} + 1\\right)^{575} \\left(- \\left(1 - \\alpha\\right) \\left(1 - \\beta\\right)^{6.0} + 1\\right)^{587} \\left(- \\left(1 - \\alpha\\right) \\left(1 - \\beta\\right)^{7.0} + 1\\right)^{564} \\left(- \\left(1 - \\alpha\\right) \\left(1 - \\beta\\right)^{8.0} + 1\\right)^{477} \\left(- \\left(1 - \\alpha\\right) \\left(1 - \\beta\\right)^{9.0} + 1\\right)^{408} \\left(- \\left(1 - \\alpha\\right) \\left(1 - \\beta\\right)^{10.0} + 1\\right)^{274} \\left(- \\left(1 - \\alpha\\right) \\left(1 - \\beta\\right)^{11.0} + 1\\right)^{231} \\left(- \\left(1 - \\alpha\\right) \\left(1 - \\beta\\right)^{12.0} + 1\\right)^{189} \\left(- \\left(1 - \\alpha\\right) \\left(1 - \\beta\\right)^{13.0} + 1\\right)^{122} \\left(- \\left(1 - \\alpha\\right) \\left(1 - \\beta\\right)^{14.0} + 1\\right)^{86} \\left(- \\left(1 - \\alpha\\right) \\left(1 - \\beta\\right)^{15.0} + 1\\right)^{54} \\left(- \\left(1 - \\alpha\\right) \\left(1 - \\beta\\right)^{16.0} + 1\\right)^{37} \\left(- \\left(1 - \\alpha\\right) \\left(1 - \\beta\\right)^{17.0} + 1\\right)^{28} \\left(- \\left(1 - \\alpha\\right) \\left(1 - \\beta\\right)^{18.0} + 1\\right)^{6} \\left(- \\left(1 - \\alpha\\right) \\left(1 - \\beta\\right)^{19.0} + 1\\right)^{13} \\left(- \\left(1 - \\alpha\\right) \\left(1 - \\beta\\right)^{20.0} + 1\\right)^{6} \\left(- \\left(1 - \\alpha\\right) \\left(1 - \\beta\\right)^{21.0} + 1\\right)^{3} \\left(- \\left(1 - \\alpha\\right) \\left(1 - \\beta\\right)^{22.0} + 1\\right)^{2} \\left(- \\left(1 - \\alpha\\right) \\left(1 - \\beta\\right)^{24.0} + 1\\right)^{4} \\left(- \\left(1 - \\alpha\\right) \\left(1 - \\beta\\right)^{25.0} + 1\\right) \\left(- \\left(1 - \\alpha\\right) \\left(1 - \\beta\\right)^{28.0} + 1\\right) \\right)}$"
      ],
      "text/plain": [
       "log(theta_0**1970*theta_1**3014*(1 - theta_0)**2772*(1 - theta_1)**2244) + log(theta_0**2390*theta_1**2594*(1 - theta_0)**2394*(1 - theta_1)**2622) + log(theta_0**2477*theta_1**2536*(1 - theta_0)**2221*(1 - theta_1)**2766) + log(2.54629497041812e-10*alpha**94*gamma**4680*(0.2 - 0.2*gamma)*(1 - alpha)**5*(1 - beta)**5.0*(1 - gamma)**435*(-(1 - alpha)*(1 - beta)**1.0 + 1)**42*(-(1 - alpha)*(1 - beta)**2.0 + 1)**151*(-(1 - alpha)*(1 - beta)**3.0 + 1)**256*(-(1 - alpha)*(1 - beta)**4.0 + 1)**431*(-(1 - alpha)*(1 - beta)**5.0 + 1)**522*(-(1 - alpha)*(1 - beta)**6.0 + 1)**612*(-(1 - alpha)*(1 - beta)**7.0 + 1)**542*(-(1 - alpha)*(1 - beta)**8.0 + 1)**507*(-(1 - alpha)*(1 - beta)**9.0 + 1)**402*(-(1 - alpha)*(1 - beta)**10.0 + 1)**306*(-(1 - alpha)*(1 - beta)**11.0 + 1)**245*(-(1 - alpha)*(1 - beta)**12.0 + 1)**194*(-(1 - alpha)*(1 - beta)**13.0 + 1)**139*(-(1 - alpha)*(1 - beta)**14.0 + 1)**117*(-(1 - alpha)*(1 - beta)**15.0 + 1)**84*(-(1 - alpha)*(1 - beta)**16.0 + 1)**57*(-(1 - alpha)*(1 - beta)**17.0 + 1)**33*(-(1 - alpha)*(1 - beta)**18.0 + 1)**21*(-(1 - alpha)*(1 - beta)**19.0 + 1)**10*(-(1 - alpha)*(1 - beta)**20.0 + 1)**4*(-(1 - alpha)*(1 - beta)**21.0 + 1)**6*(-(1 - alpha)*(1 - beta)**22.0 + 1)**3*(-(1 - alpha)*(1 - beta)**26.0 + 1)) + log(2.54629497041812e-10*alpha**97*gamma**4640*(0.2 - 0.2*gamma)*(1 - alpha)**3*(1 - beta)**3.0*(1 - gamma)**517*(-(1 - alpha)*(1 - beta)**1.0 + 1)**86*(-(1 - alpha)*(1 - beta)**2.0 + 1)**228*(-(1 - alpha)*(1 - beta)**3.0 + 1)**357*(-(1 - alpha)*(1 - beta)**4.0 + 1)**477*(-(1 - alpha)*(1 - beta)**5.0 + 1)**563*(-(1 - alpha)*(1 - beta)**6.0 + 1)**549*(-(1 - alpha)*(1 - beta)**7.0 + 1)**511*(-(1 - alpha)*(1 - beta)**8.0 + 1)**435*(-(1 - alpha)*(1 - beta)**9.0 + 1)**350*(-(1 - alpha)*(1 - beta)**10.0 + 1)**303*(-(1 - alpha)*(1 - beta)**11.0 + 1)**191*(-(1 - alpha)*(1 - beta)**12.0 + 1)**172*(-(1 - alpha)*(1 - beta)**13.0 + 1)**127*(-(1 - alpha)*(1 - beta)**14.0 + 1)**82*(-(1 - alpha)*(1 - beta)**15.0 + 1)**73*(-(1 - alpha)*(1 - beta)**16.0 + 1)**47*(-(1 - alpha)*(1 - beta)**17.0 + 1)**32*(-(1 - alpha)*(1 - beta)**18.0 + 1)**25*(-(1 - alpha)*(1 - beta)**19.0 + 1)**18*(-(1 - alpha)*(1 - beta)**20.0 + 1)**8*(-(1 - alpha)*(1 - beta)**21.0 + 1)**5*(-(1 - alpha)*(1 - beta)**23.0 + 1)**2*(-(1 - alpha)*(1 - beta)**25.0 + 1)) + log(2.54629497041812e-10*alpha**91*gamma**4595*(0.2 - 0.2*gamma)*(1 - alpha)**4*(1 - beta)**4.0*(1 - gamma)**606*(-(1 - alpha)*(1 - beta)**1.0 + 1)**51*(-(1 - alpha)*(1 - beta)**2.0 + 1)**144*(-(1 - alpha)*(1 - beta)**3.0 + 1)**309*(-(1 - alpha)*(1 - beta)**4.0 + 1)**431*(-(1 - alpha)*(1 - beta)**5.0 + 1)**575*(-(1 - alpha)*(1 - beta)**6.0 + 1)**587*(-(1 - alpha)*(1 - beta)**7.0 + 1)**564*(-(1 - alpha)*(1 - beta)**8.0 + 1)**477*(-(1 - alpha)*(1 - beta)**9.0 + 1)**408*(-(1 - alpha)*(1 - beta)**10.0 + 1)**274*(-(1 - alpha)*(1 - beta)**11.0 + 1)**231*(-(1 - alpha)*(1 - beta)**12.0 + 1)**189*(-(1 - alpha)*(1 - beta)**13.0 + 1)**122*(-(1 - alpha)*(1 - beta)**14.0 + 1)**86*(-(1 - alpha)*(1 - beta)**15.0 + 1)**54*(-(1 - alpha)*(1 - beta)**16.0 + 1)**37*(-(1 - alpha)*(1 - beta)**17.0 + 1)**28*(-(1 - alpha)*(1 - beta)**18.0 + 1)**6*(-(1 - alpha)*(1 - beta)**19.0 + 1)**13*(-(1 - alpha)*(1 - beta)**20.0 + 1)**6*(-(1 - alpha)*(1 - beta)**21.0 + 1)**3*(-(1 - alpha)*(1 - beta)**22.0 + 1)**2*(-(1 - alpha)*(1 - beta)**24.0 + 1)**4*(-(1 - alpha)*(1 - beta)**25.0 + 1)*(-(1 - alpha)*(1 - beta)**28.0 + 1))"
      ]
     },
     "execution_count": 25,
     "metadata": {},
     "output_type": "execute_result"
    }
   ],
   "source": [
    "Q=np.sum(np.array(transition(X_,CNbr(G_,X_),n,T,q_))+emission(X_,Y_,n,T,q_),axis=0)\n",
    "Q"
   ]
  },
  {
   "cell_type": "code",
   "execution_count": 26,
   "metadata": {},
   "outputs": [
    {
     "data": {
      "text/latex": [
       "$\\displaystyle \\frac{15476.0 \\gamma - 13915.0}{\\gamma \\left(\\gamma - 1\\right)}$"
      ],
      "text/plain": [
       "(15476.0*gamma - 13915.0)/(gamma*(gamma - 1))"
      ]
     },
     "execution_count": 26,
     "metadata": {},
     "output_type": "execute_result"
    }
   ],
   "source": [
    "simplify(factor(Q.diff(gamma)))"
   ]
  },
  {
   "cell_type": "code",
   "execution_count": 27,
   "metadata": {},
   "outputs": [
    {
     "data": {
      "text/plain": [
       "(0.48066647919010125, 0.5162271805273834, 0.8991341431894546)"
      ]
     },
     "execution_count": 27,
     "metadata": {},
     "output_type": "execute_result"
    }
   ],
   "source": [
    "a=float(solve(simplify(Q.diff(theta_0)))[0])\n",
    "b=float(solve(simplify(Q.diff(theta_1)))[0])\n",
    "ga=float(solve(simplify(factor(Q.diff(gamma))))[0])\n",
    "a,b,ga"
   ]
  },
  {
   "cell_type": "code",
   "execution_count": 28,
   "metadata": {},
   "outputs": [
    {
     "data": {
      "text/latex": [
       "$\\displaystyle \\log{\\left(1.72987009626388 \\cdot 10^{-661} \\alpha^{94} \\left(1 - \\alpha\\right)^{5} \\left(1 - \\beta\\right)^{5.0} \\left(- \\left(1 - \\alpha\\right) \\left(1 - \\beta\\right)^{1.0} + 1\\right)^{42} \\left(- \\left(1 - \\alpha\\right) \\left(1 - \\beta\\right)^{2.0} + 1\\right)^{151} \\left(- \\left(1 - \\alpha\\right) \\left(1 - \\beta\\right)^{3.0} + 1\\right)^{256} \\left(- \\left(1 - \\alpha\\right) \\left(1 - \\beta\\right)^{4.0} + 1\\right)^{431} \\left(- \\left(1 - \\alpha\\right) \\left(1 - \\beta\\right)^{5.0} + 1\\right)^{522} \\left(- \\left(1 - \\alpha\\right) \\left(1 - \\beta\\right)^{6.0} + 1\\right)^{612} \\left(- \\left(1 - \\alpha\\right) \\left(1 - \\beta\\right)^{7.0} + 1\\right)^{542} \\left(- \\left(1 - \\alpha\\right) \\left(1 - \\beta\\right)^{8.0} + 1\\right)^{507} \\left(- \\left(1 - \\alpha\\right) \\left(1 - \\beta\\right)^{9.0} + 1\\right)^{402} \\left(- \\left(1 - \\alpha\\right) \\left(1 - \\beta\\right)^{10.0} + 1\\right)^{306} \\left(- \\left(1 - \\alpha\\right) \\left(1 - \\beta\\right)^{11.0} + 1\\right)^{245} \\left(- \\left(1 - \\alpha\\right) \\left(1 - \\beta\\right)^{12.0} + 1\\right)^{194} \\left(- \\left(1 - \\alpha\\right) \\left(1 - \\beta\\right)^{13.0} + 1\\right)^{139} \\left(- \\left(1 - \\alpha\\right) \\left(1 - \\beta\\right)^{14.0} + 1\\right)^{117} \\left(- \\left(1 - \\alpha\\right) \\left(1 - \\beta\\right)^{15.0} + 1\\right)^{84} \\left(- \\left(1 - \\alpha\\right) \\left(1 - \\beta\\right)^{16.0} + 1\\right)^{57} \\left(- \\left(1 - \\alpha\\right) \\left(1 - \\beta\\right)^{17.0} + 1\\right)^{33} \\left(- \\left(1 - \\alpha\\right) \\left(1 - \\beta\\right)^{18.0} + 1\\right)^{21} \\left(- \\left(1 - \\alpha\\right) \\left(1 - \\beta\\right)^{19.0} + 1\\right)^{10} \\left(- \\left(1 - \\alpha\\right) \\left(1 - \\beta\\right)^{20.0} + 1\\right)^{4} \\left(- \\left(1 - \\alpha\\right) \\left(1 - \\beta\\right)^{21.0} + 1\\right)^{6} \\left(- \\left(1 - \\alpha\\right) \\left(1 - \\beta\\right)^{22.0} + 1\\right)^{3} \\left(- \\left(1 - \\alpha\\right) \\left(1 - \\beta\\right)^{26.0} + 1\\right) \\right)} + \\log{\\left(2.466362062542 \\cdot 10^{-741} \\alpha^{97} \\left(1 - \\alpha\\right)^{3} \\left(1 - \\beta\\right)^{3.0} \\left(- \\left(1 - \\alpha\\right) \\left(1 - \\beta\\right)^{1.0} + 1\\right)^{86} \\left(- \\left(1 - \\alpha\\right) \\left(1 - \\beta\\right)^{2.0} + 1\\right)^{228} \\left(- \\left(1 - \\alpha\\right) \\left(1 - \\beta\\right)^{3.0} + 1\\right)^{357} \\left(- \\left(1 - \\alpha\\right) \\left(1 - \\beta\\right)^{4.0} + 1\\right)^{477} \\left(- \\left(1 - \\alpha\\right) \\left(1 - \\beta\\right)^{5.0} + 1\\right)^{563} \\left(- \\left(1 - \\alpha\\right) \\left(1 - \\beta\\right)^{6.0} + 1\\right)^{549} \\left(- \\left(1 - \\alpha\\right) \\left(1 - \\beta\\right)^{7.0} + 1\\right)^{511} \\left(- \\left(1 - \\alpha\\right) \\left(1 - \\beta\\right)^{8.0} + 1\\right)^{435} \\left(- \\left(1 - \\alpha\\right) \\left(1 - \\beta\\right)^{9.0} + 1\\right)^{350} \\left(- \\left(1 - \\alpha\\right) \\left(1 - \\beta\\right)^{10.0} + 1\\right)^{303} \\left(- \\left(1 - \\alpha\\right) \\left(1 - \\beta\\right)^{11.0} + 1\\right)^{191} \\left(- \\left(1 - \\alpha\\right) \\left(1 - \\beta\\right)^{12.0} + 1\\right)^{172} \\left(- \\left(1 - \\alpha\\right) \\left(1 - \\beta\\right)^{13.0} + 1\\right)^{127} \\left(- \\left(1 - \\alpha\\right) \\left(1 - \\beta\\right)^{14.0} + 1\\right)^{82} \\left(- \\left(1 - \\alpha\\right) \\left(1 - \\beta\\right)^{15.0} + 1\\right)^{73} \\left(- \\left(1 - \\alpha\\right) \\left(1 - \\beta\\right)^{16.0} + 1\\right)^{47} \\left(- \\left(1 - \\alpha\\right) \\left(1 - \\beta\\right)^{17.0} + 1\\right)^{32} \\left(- \\left(1 - \\alpha\\right) \\left(1 - \\beta\\right)^{18.0} + 1\\right)^{25} \\left(- \\left(1 - \\alpha\\right) \\left(1 - \\beta\\right)^{19.0} + 1\\right)^{18} \\left(- \\left(1 - \\alpha\\right) \\left(1 - \\beta\\right)^{20.0} + 1\\right)^{8} \\left(- \\left(1 - \\alpha\\right) \\left(1 - \\beta\\right)^{21.0} + 1\\right)^{5} \\left(- \\left(1 - \\alpha\\right) \\left(1 - \\beta\\right)^{23.0} + 1\\right)^{2} \\left(- \\left(1 - \\alpha\\right) \\left(1 - \\beta\\right)^{25.0} + 1\\right) \\right)} + \\log{\\left(6.35604550366751 \\cdot 10^{-828} \\alpha^{91} \\left(1 - \\alpha\\right)^{4} \\left(1 - \\beta\\right)^{4.0} \\left(- \\left(1 - \\alpha\\right) \\left(1 - \\beta\\right)^{1.0} + 1\\right)^{51} \\left(- \\left(1 - \\alpha\\right) \\left(1 - \\beta\\right)^{2.0} + 1\\right)^{144} \\left(- \\left(1 - \\alpha\\right) \\left(1 - \\beta\\right)^{3.0} + 1\\right)^{309} \\left(- \\left(1 - \\alpha\\right) \\left(1 - \\beta\\right)^{4.0} + 1\\right)^{431} \\left(- \\left(1 - \\alpha\\right) \\left(1 - \\beta\\right)^{5.0} + 1\\right)^{575} \\left(- \\left(1 - \\alpha\\right) \\left(1 - \\beta\\right)^{6.0} + 1\\right)^{587} \\left(- \\left(1 - \\alpha\\right) \\left(1 - \\beta\\right)^{7.0} + 1\\right)^{564} \\left(- \\left(1 - \\alpha\\right) \\left(1 - \\beta\\right)^{8.0} + 1\\right)^{477} \\left(- \\left(1 - \\alpha\\right) \\left(1 - \\beta\\right)^{9.0} + 1\\right)^{408} \\left(- \\left(1 - \\alpha\\right) \\left(1 - \\beta\\right)^{10.0} + 1\\right)^{274} \\left(- \\left(1 - \\alpha\\right) \\left(1 - \\beta\\right)^{11.0} + 1\\right)^{231} \\left(- \\left(1 - \\alpha\\right) \\left(1 - \\beta\\right)^{12.0} + 1\\right)^{189} \\left(- \\left(1 - \\alpha\\right) \\left(1 - \\beta\\right)^{13.0} + 1\\right)^{122} \\left(- \\left(1 - \\alpha\\right) \\left(1 - \\beta\\right)^{14.0} + 1\\right)^{86} \\left(- \\left(1 - \\alpha\\right) \\left(1 - \\beta\\right)^{15.0} + 1\\right)^{54} \\left(- \\left(1 - \\alpha\\right) \\left(1 - \\beta\\right)^{16.0} + 1\\right)^{37} \\left(- \\left(1 - \\alpha\\right) \\left(1 - \\beta\\right)^{17.0} + 1\\right)^{28} \\left(- \\left(1 - \\alpha\\right) \\left(1 - \\beta\\right)^{18.0} + 1\\right)^{6} \\left(- \\left(1 - \\alpha\\right) \\left(1 - \\beta\\right)^{19.0} + 1\\right)^{13} \\left(- \\left(1 - \\alpha\\right) \\left(1 - \\beta\\right)^{20.0} + 1\\right)^{6} \\left(- \\left(1 - \\alpha\\right) \\left(1 - \\beta\\right)^{21.0} + 1\\right)^{3} \\left(- \\left(1 - \\alpha\\right) \\left(1 - \\beta\\right)^{22.0} + 1\\right)^{2} \\left(- \\left(1 - \\alpha\\right) \\left(1 - \\beta\\right)^{24.0} + 1\\right)^{4} \\left(- \\left(1 - \\alpha\\right) \\left(1 - \\beta\\right)^{25.0} + 1\\right) \\left(- \\left(1 - \\alpha\\right) \\left(1 - \\beta\\right)^{28.0} + 1\\right) \\right)} - 20775.4695534709$"
      ],
      "text/plain": [
       "log(1.72987009626388e-661*alpha**94*(1 - alpha)**5*(1 - beta)**5.0*(-(1 - alpha)*(1 - beta)**1.0 + 1)**42*(-(1 - alpha)*(1 - beta)**2.0 + 1)**151*(-(1 - alpha)*(1 - beta)**3.0 + 1)**256*(-(1 - alpha)*(1 - beta)**4.0 + 1)**431*(-(1 - alpha)*(1 - beta)**5.0 + 1)**522*(-(1 - alpha)*(1 - beta)**6.0 + 1)**612*(-(1 - alpha)*(1 - beta)**7.0 + 1)**542*(-(1 - alpha)*(1 - beta)**8.0 + 1)**507*(-(1 - alpha)*(1 - beta)**9.0 + 1)**402*(-(1 - alpha)*(1 - beta)**10.0 + 1)**306*(-(1 - alpha)*(1 - beta)**11.0 + 1)**245*(-(1 - alpha)*(1 - beta)**12.0 + 1)**194*(-(1 - alpha)*(1 - beta)**13.0 + 1)**139*(-(1 - alpha)*(1 - beta)**14.0 + 1)**117*(-(1 - alpha)*(1 - beta)**15.0 + 1)**84*(-(1 - alpha)*(1 - beta)**16.0 + 1)**57*(-(1 - alpha)*(1 - beta)**17.0 + 1)**33*(-(1 - alpha)*(1 - beta)**18.0 + 1)**21*(-(1 - alpha)*(1 - beta)**19.0 + 1)**10*(-(1 - alpha)*(1 - beta)**20.0 + 1)**4*(-(1 - alpha)*(1 - beta)**21.0 + 1)**6*(-(1 - alpha)*(1 - beta)**22.0 + 1)**3*(-(1 - alpha)*(1 - beta)**26.0 + 1)) + log(2.466362062542e-741*alpha**97*(1 - alpha)**3*(1 - beta)**3.0*(-(1 - alpha)*(1 - beta)**1.0 + 1)**86*(-(1 - alpha)*(1 - beta)**2.0 + 1)**228*(-(1 - alpha)*(1 - beta)**3.0 + 1)**357*(-(1 - alpha)*(1 - beta)**4.0 + 1)**477*(-(1 - alpha)*(1 - beta)**5.0 + 1)**563*(-(1 - alpha)*(1 - beta)**6.0 + 1)**549*(-(1 - alpha)*(1 - beta)**7.0 + 1)**511*(-(1 - alpha)*(1 - beta)**8.0 + 1)**435*(-(1 - alpha)*(1 - beta)**9.0 + 1)**350*(-(1 - alpha)*(1 - beta)**10.0 + 1)**303*(-(1 - alpha)*(1 - beta)**11.0 + 1)**191*(-(1 - alpha)*(1 - beta)**12.0 + 1)**172*(-(1 - alpha)*(1 - beta)**13.0 + 1)**127*(-(1 - alpha)*(1 - beta)**14.0 + 1)**82*(-(1 - alpha)*(1 - beta)**15.0 + 1)**73*(-(1 - alpha)*(1 - beta)**16.0 + 1)**47*(-(1 - alpha)*(1 - beta)**17.0 + 1)**32*(-(1 - alpha)*(1 - beta)**18.0 + 1)**25*(-(1 - alpha)*(1 - beta)**19.0 + 1)**18*(-(1 - alpha)*(1 - beta)**20.0 + 1)**8*(-(1 - alpha)*(1 - beta)**21.0 + 1)**5*(-(1 - alpha)*(1 - beta)**23.0 + 1)**2*(-(1 - alpha)*(1 - beta)**25.0 + 1)) + log(6.35604550366751e-828*alpha**91*(1 - alpha)**4*(1 - beta)**4.0*(-(1 - alpha)*(1 - beta)**1.0 + 1)**51*(-(1 - alpha)*(1 - beta)**2.0 + 1)**144*(-(1 - alpha)*(1 - beta)**3.0 + 1)**309*(-(1 - alpha)*(1 - beta)**4.0 + 1)**431*(-(1 - alpha)*(1 - beta)**5.0 + 1)**575*(-(1 - alpha)*(1 - beta)**6.0 + 1)**587*(-(1 - alpha)*(1 - beta)**7.0 + 1)**564*(-(1 - alpha)*(1 - beta)**8.0 + 1)**477*(-(1 - alpha)*(1 - beta)**9.0 + 1)**408*(-(1 - alpha)*(1 - beta)**10.0 + 1)**274*(-(1 - alpha)*(1 - beta)**11.0 + 1)**231*(-(1 - alpha)*(1 - beta)**12.0 + 1)**189*(-(1 - alpha)*(1 - beta)**13.0 + 1)**122*(-(1 - alpha)*(1 - beta)**14.0 + 1)**86*(-(1 - alpha)*(1 - beta)**15.0 + 1)**54*(-(1 - alpha)*(1 - beta)**16.0 + 1)**37*(-(1 - alpha)*(1 - beta)**17.0 + 1)**28*(-(1 - alpha)*(1 - beta)**18.0 + 1)**6*(-(1 - alpha)*(1 - beta)**19.0 + 1)**13*(-(1 - alpha)*(1 - beta)**20.0 + 1)**6*(-(1 - alpha)*(1 - beta)**21.0 + 1)**3*(-(1 - alpha)*(1 - beta)**22.0 + 1)**2*(-(1 - alpha)*(1 - beta)**24.0 + 1)**4*(-(1 - alpha)*(1 - beta)**25.0 + 1)*(-(1 - alpha)*(1 - beta)**28.0 + 1)) - 20775.4695534709"
      ]
     },
     "execution_count": 28,
     "metadata": {},
     "output_type": "execute_result"
    }
   ],
   "source": [
    "o=Q.subs(theta_0,a).subs(theta_1,b).subs(gamma,ga)\n",
    "o"
   ]
  },
  {
   "cell_type": "code",
   "execution_count": 29,
   "metadata": {},
   "outputs": [
    {
     "data": {
      "text/latex": [
       "$\\displaystyle 282 \\log{\\left(\\alpha \\right)} + 12 \\log{\\left(1 - \\alpha \\right)} + 12.0 \\log{\\left(1 - \\beta \\right)} + 179 \\log{\\left(- \\left(1 - \\alpha\\right) \\left(1 - \\beta\\right)^{1.0} + 1 \\right)} + 523 \\log{\\left(- \\left(1 - \\alpha\\right) \\left(1 - \\beta\\right)^{2.0} + 1 \\right)} + 922 \\log{\\left(- \\left(1 - \\alpha\\right) \\left(1 - \\beta\\right)^{3.0} + 1 \\right)} + 1339 \\log{\\left(- \\left(1 - \\alpha\\right) \\left(1 - \\beta\\right)^{4.0} + 1 \\right)} + 1660 \\log{\\left(- \\left(1 - \\alpha\\right) \\left(1 - \\beta\\right)^{5.0} + 1 \\right)} + 1748 \\log{\\left(- \\left(1 - \\alpha\\right) \\left(1 - \\beta\\right)^{6.0} + 1 \\right)} + 1617 \\log{\\left(- \\left(1 - \\alpha\\right) \\left(1 - \\beta\\right)^{7.0} + 1 \\right)} + 1419 \\log{\\left(- \\left(1 - \\alpha\\right) \\left(1 - \\beta\\right)^{8.0} + 1 \\right)} + 1160 \\log{\\left(- \\left(1 - \\alpha\\right) \\left(1 - \\beta\\right)^{9.0} + 1 \\right)} + 883 \\log{\\left(- \\left(1 - \\alpha\\right) \\left(1 - \\beta\\right)^{10.0} + 1 \\right)} + 667 \\log{\\left(- \\left(1 - \\alpha\\right) \\left(1 - \\beta\\right)^{11.0} + 1 \\right)} + 555 \\log{\\left(- \\left(1 - \\alpha\\right) \\left(1 - \\beta\\right)^{12.0} + 1 \\right)} + 388 \\log{\\left(- \\left(1 - \\alpha\\right) \\left(1 - \\beta\\right)^{13.0} + 1 \\right)} + 285 \\log{\\left(- \\left(1 - \\alpha\\right) \\left(1 - \\beta\\right)^{14.0} + 1 \\right)} + 211 \\log{\\left(- \\left(1 - \\alpha\\right) \\left(1 - \\beta\\right)^{15.0} + 1 \\right)} + 141 \\log{\\left(- \\left(1 - \\alpha\\right) \\left(1 - \\beta\\right)^{16.0} + 1 \\right)} + 93 \\log{\\left(- \\left(1 - \\alpha\\right) \\left(1 - \\beta\\right)^{17.0} + 1 \\right)} + 52 \\log{\\left(- \\left(1 - \\alpha\\right) \\left(1 - \\beta\\right)^{18.0} + 1 \\right)} + 41 \\log{\\left(- \\left(1 - \\alpha\\right) \\left(1 - \\beta\\right)^{19.0} + 1 \\right)} + 18 \\log{\\left(- \\left(1 - \\alpha\\right) \\left(1 - \\beta\\right)^{20.0} + 1 \\right)} + 14 \\log{\\left(- \\left(1 - \\alpha\\right) \\left(1 - \\beta\\right)^{21.0} + 1 \\right)} + 5 \\log{\\left(- \\left(1 - \\alpha\\right) \\left(1 - \\beta\\right)^{22.0} + 1 \\right)} + 2 \\log{\\left(- \\left(1 - \\alpha\\right) \\left(1 - \\beta\\right)^{23.0} + 1 \\right)} + 4 \\log{\\left(- \\left(1 - \\alpha\\right) \\left(1 - \\beta\\right)^{24.0} + 1 \\right)} + 2 \\log{\\left(- \\left(1 - \\alpha\\right) \\left(1 - \\beta\\right)^{25.0} + 1 \\right)} + \\log{\\left(- \\left(1 - \\alpha\\right) \\left(1 - \\beta\\right)^{26.0} + 1 \\right)} + \\log{\\left(- \\left(1 - \\alpha\\right) \\left(1 - \\beta\\right)^{28.0} + 1 \\right)} - 25906.9341139073$"
      ],
      "text/plain": [
       "282*log(alpha) + 12*log(1 - alpha) + 12.0*log(1 - beta) + 179*log(-(1 - alpha)*(1 - beta)**1.0 + 1) + 523*log(-(1 - alpha)*(1 - beta)**2.0 + 1) + 922*log(-(1 - alpha)*(1 - beta)**3.0 + 1) + 1339*log(-(1 - alpha)*(1 - beta)**4.0 + 1) + 1660*log(-(1 - alpha)*(1 - beta)**5.0 + 1) + 1748*log(-(1 - alpha)*(1 - beta)**6.0 + 1) + 1617*log(-(1 - alpha)*(1 - beta)**7.0 + 1) + 1419*log(-(1 - alpha)*(1 - beta)**8.0 + 1) + 1160*log(-(1 - alpha)*(1 - beta)**9.0 + 1) + 883*log(-(1 - alpha)*(1 - beta)**10.0 + 1) + 667*log(-(1 - alpha)*(1 - beta)**11.0 + 1) + 555*log(-(1 - alpha)*(1 - beta)**12.0 + 1) + 388*log(-(1 - alpha)*(1 - beta)**13.0 + 1) + 285*log(-(1 - alpha)*(1 - beta)**14.0 + 1) + 211*log(-(1 - alpha)*(1 - beta)**15.0 + 1) + 141*log(-(1 - alpha)*(1 - beta)**16.0 + 1) + 93*log(-(1 - alpha)*(1 - beta)**17.0 + 1) + 52*log(-(1 - alpha)*(1 - beta)**18.0 + 1) + 41*log(-(1 - alpha)*(1 - beta)**19.0 + 1) + 18*log(-(1 - alpha)*(1 - beta)**20.0 + 1) + 14*log(-(1 - alpha)*(1 - beta)**21.0 + 1) + 5*log(-(1 - alpha)*(1 - beta)**22.0 + 1) + 2*log(-(1 - alpha)*(1 - beta)**23.0 + 1) + 4*log(-(1 - alpha)*(1 - beta)**24.0 + 1) + 2*log(-(1 - alpha)*(1 - beta)**25.0 + 1) + log(-(1 - alpha)*(1 - beta)**26.0 + 1) + log(-(1 - alpha)*(1 - beta)**28.0 + 1) - 25906.9341139073"
      ]
     },
     "execution_count": 29,
     "metadata": {},
     "output_type": "execute_result"
    }
   ],
   "source": [
    "o=expand_log(o, force=True)\n",
    "#e=o.subs(alpha,.2765)\n",
    "o"
   ]
  },
  {
   "cell_type": "code",
   "execution_count": 30,
   "metadata": {},
   "outputs": [],
   "source": [
    "alta=nsolve((o.diff(alpha),o.diff(beta)),(alpha,beta),(0.1496,0.4))"
   ]
  },
  {
   "cell_type": "code",
   "execution_count": 31,
   "metadata": {},
   "outputs": [],
   "source": [
    "#******************************update parameters\n",
    "alpha_=alta[0]\n",
    "beta_=alta[1]\n",
    "gama_=ga\n",
    "theta_0_=a\n",
    "theta_1_=b"
   ]
  },
  {
   "cell_type": "code",
   "execution_count": 38,
   "metadata": {},
   "outputs": [
    {
     "name": "stdout",
     "output_type": "stream",
     "text": [
      "𝛼: 0.976067252877729 𝛽: 0.641237016174635 𝛾: 0.8991341431894546 𝜃_0: 0.48066647919010125 𝜃_1 0.5162271805273834 \n",
      "\n"
     ]
    }
   ],
   "source": [
    "print(\"𝛼:\",alpha_,\"𝛽:\",beta_,\"𝛾:\",gama_,\"𝜃_0:\",theta_0_,\"𝜃_1\",theta_1_,\"\\n\")"
   ]
  },
  {
   "cell_type": "code",
   "execution_count": 32,
   "metadata": {},
   "outputs": [],
   "source": [
    "def CalcX(Y_,G_,q_,J,T,alpha_,beta_,gama_,theta_0_,theta_1_):\n",
    "    X_=[]\n",
    "    p0=0\n",
    "    p1=0\n",
    "    \n",
    "    for q in range(q_):\n",
    "        #X=np.zeros((n,T))\n",
    "        G=G_[q]\n",
    "        Y=Y_[q]\n",
    "        for j in range(J):    \n",
    "            for t in range(1,T):\n",
    "                c_=G[t-1].dot(X).T[t-1]\n",
    "                for i in range(n):\n",
    "            \n",
    "                    p0=Pr(X[i,t-1],Y[i,t],c_[i],alpha_,beta_,gama_,theta_0_,theta_1_)[0]\n",
    "                    p1=Pr(X[i,t-1],Y[i,t],c_[i],alpha_,beta_,gama_,theta_0_,theta_1_)[1]\n",
    "                    if t!=T-1:\n",
    "                        c=G[t].dot(X).T[t]\n",
    "                    \n",
    "                        g=G[t,i]\n",
    "                        for k in g:\n",
    "                            k=int(k)\n",
    "                            if X[k][t]==0:\n",
    "                                if X[k][t+1]==0:\n",
    "                                    if X[i,t]==0:\n",
    "                                        p0=p0*(1-alpha_)*(1-beta_)**c[k]\n",
    "                                    else:\n",
    "                                        p1=p1*(1-alpha_)*(1-beta_)**c[k]\n",
    "                                else:\n",
    "                                    if X[i,t]==0:\n",
    "                                        p0=p0*(1-(1-alpha_)*(1-beta_)**c[k])\n",
    "                                    else:\n",
    "                                        p1=p1*(1-(1-alpha_)*(1-beta_)**c[k])\n",
    "                            elif X[k][t+1]==0:\n",
    "                                if X[i,t]==0:\n",
    "                                    p0=p0*gama_\n",
    "                                else:\n",
    "                                    p1=p1*gama_\n",
    "                            elif X[i,t]==0:\n",
    "                                p0=p0*(1-gama_)\n",
    "                            else:\n",
    "                                p1=p1*(1-gama_)\n",
    "                    if p0>p1:\n",
    "                        X[i,t]=0\n",
    "                    else:\n",
    "                        X[i,t]=1  \n",
    "            if j!=J:\n",
    "                for i in range(n):\n",
    "                    indx=0\n",
    "                    p0=0\n",
    "                    p1=0\n",
    "                    c=0\n",
    "                    g= G[0,i]\n",
    "                    if Y[i,0]==0:\n",
    "                        p1=1-theta_1_\n",
    "                        p0=1-theta_0_\n",
    "                    else:\n",
    "                        p1=theta_1_\n",
    "                        p0=theta_0_\n",
    "                    p0=p0*p_\n",
    "                    p1=p1*(1-p_)\n",
    "                    for k in g:\n",
    "                        if k==1:\n",
    "                            if X[indx,1]==1:\n",
    "                                c=c+1\n",
    "                        indx=indx+1\n",
    "                    indx=0 \n",
    "                    for k in g:\n",
    "                        if X[indx,1]==1:\n",
    "                            if X[indx,0]==0:\n",
    "                                if indx==i:\n",
    "                                    c=c-1\n",
    "                                p0=p0*(1-alpha_)*(1-beta_)**c\n",
    "                                p1=p1*(1-alpha_)*(1-beta_)**c\n",
    "                            else:\n",
    "                                if indx==i:\n",
    "                                    c=c-1\n",
    "                                p0=p0*(1-gama_)\n",
    "                                p1=p1*(1-gama_)\n",
    "                        else :\n",
    "                            if X[indx,0]==0:\n",
    "                                if indx==i:\n",
    "                                    c=c-1\n",
    "                                p0=p0*(1-(1-alpha_)*(1-beta_)**c)\n",
    "                                p1=p1*(1-(1-alpha_)*(1-beta_)**c)\n",
    "                            else:\n",
    "                                if indx==i:\n",
    "                                    c=c-1\n",
    "                                p1=p1*gama_\n",
    "                                p0=p0*gama_\n",
    "                    if p0>p1:\n",
    "                        X[i,0]=0\n",
    "                    else: \n",
    "                        X[i,0]=1\n",
    "        X_.append(X)\n",
    "    \n",
    "    return X_   "
   ]
  },
  {
   "cell_type": "code",
   "execution_count": 36,
   "metadata": {},
   "outputs": [],
   "source": [
    "J=20"
   ]
  },
  {
   "cell_type": "code",
   "execution_count": 37,
   "metadata": {},
   "outputs": [
    {
     "name": "stdout",
     "output_type": "stream",
     "text": [
      "Parameter initialization:................................................................\n",
      "𝛼: 0.976067252877729   𝛽: 0.641237016174635   𝛾: 0.8991341431894546   𝜃_0: 0.48066647919010125   𝜃_1 0.5162271805273834\n",
      "Updating X:.............................................................................\n",
      " [[1. 0. 0. ... 1. 0. 1.]\n",
      " [0. 0. 0. ... 1. 0. 1.]\n",
      " [0. 1. 0. ... 1. 0. 1.]\n",
      " ...\n",
      " [0. 1. 0. ... 1. 0. 1.]\n",
      " [0. 1. 0. ... 1. 0. 1.]\n",
      " [0. 1. 0. ... 1. 0. 1.]]\n",
      "Current time: 2021-10-27 10:15:01.527813\n",
      "Iterration 1 :.........................................................................\n",
      "Computing X:...........................................................................\n",
      "Current time: 2021-10-27 11:18:29.044915\n",
      "X:\n",
      " [[1. 0. 0. ... 1. 0. 1.]\n",
      " [0. 0. 0. ... 1. 0. 1.]\n",
      " [0. 1. 0. ... 1. 0. 1.]\n",
      " ...\n",
      " [0. 1. 0. ... 1. 0. 1.]\n",
      " [0. 1. 0. ... 1. 0. 1.]\n",
      " [0. 1. 0. ... 1. 0. 1.]] \n",
      "\n",
      "Computing Q:..........................................................................\n",
      "Current time: 2021-10-27 11:19:57.807227\n",
      "Q:\n",
      " log(theta_0**106*theta_1**4907*(1 - theta_0)**4919*(1 - theta_1)**68) + log(theta_0**4578*theta_1**406*(1 - theta_0)**447*(1 - theta_1)**4569) + log(theta_0**4607*theta_1**377*(1 - theta_0)**418*(1 - theta_1)**4598) + log(5.09258994083624e-11*alpha**4570*gamma**4839*(1 - alpha)**87*(1 - beta)**243.0*(1 - gamma)**36*(-(1 - alpha)*(1 - beta)**1.0 + 1)**312*(-(1 - alpha)*(1 - beta)**2.0 + 1)**20*(-(1 - alpha)*(1 - beta)**8.0 + 1)**3*(-(1 - alpha)*(1 - beta)**9.0 + 1)**13*(-(1 - alpha)*(1 - beta)**10.0 + 1)**20) + log(5.09258994083624e-11*alpha**4572*gamma**4839*(1 - alpha)**87*(1 - beta)**248.0*(1 - gamma)**36*(-(1 - alpha)*(1 - beta)**1.0 + 1)**313*(-(1 - alpha)*(1 - beta)**2.0 + 1)**17*(-(1 - alpha)*(1 - beta)**8.0 + 1)**3*(-(1 - alpha)*(1 - beta)**9.0 + 1)**14*(-(1 - alpha)*(1 - beta)**10.0 + 1)**19) + log(5.09258994083624e-11*alpha**4570*gamma**4839*(1 - alpha)**87*(1 - beta)**241.0*(1 - gamma)**36*(-(1 - alpha)*(1 - beta)**1.0 + 1)**314*(-(1 - alpha)*(1 - beta)**2.0 + 1)**18*(-(1 - alpha)*(1 - beta)**7.0 + 1)*(-(1 - alpha)*(1 - beta)**8.0 + 1)**3*(-(1 - alpha)*(1 - beta)**9.0 + 1)**14*(-(1 - alpha)*(1 - beta)**10.0 + 1)**18)\n",
      "o:\n",
      " log(2.45477363769372e-103*alpha**4570*(1 - alpha)**87*(1 - beta)**243.0*(-(1 - alpha)*(1 - beta)**1.0 + 1)**312*(-(1 - alpha)*(1 - beta)**2.0 + 1)**20*(-(1 - alpha)*(1 - beta)**8.0 + 1)**3*(-(1 - alpha)*(1 - beta)**9.0 + 1)**13*(-(1 - alpha)*(1 - beta)**10.0 + 1)**20) + log(2.45477363769372e-103*alpha**4572*(1 - alpha)**87*(1 - beta)**248.0*(-(1 - alpha)*(1 - beta)**1.0 + 1)**313*(-(1 - alpha)*(1 - beta)**2.0 + 1)**17*(-(1 - alpha)*(1 - beta)**8.0 + 1)**3*(-(1 - alpha)*(1 - beta)**9.0 + 1)**14*(-(1 - alpha)*(1 - beta)**10.0 + 1)**19) + log(2.45477363769372e-103*alpha**4570*(1 - alpha)**87*(1 - beta)**241.0*(-(1 - alpha)*(1 - beta)**1.0 + 1)**314*(-(1 - alpha)*(1 - beta)**2.0 + 1)**18*(-(1 - alpha)*(1 - beta)**7.0 + 1)*(-(1 - alpha)*(1 - beta)**8.0 + 1)**3*(-(1 - alpha)*(1 - beta)**9.0 + 1)**14*(-(1 - alpha)*(1 - beta)**10.0 + 1)**18) - 19957.6686231202\n",
      "o_:\n",
      " 13712*log(alpha) + 261*log(1 - alpha) + 732.0*log(1 - beta) + 939*log(-(1 - alpha)*(1 - beta)**1.0 + 1) + 55*log(-(1 - alpha)*(1 - beta)**2.0 + 1) + log(-(1 - alpha)*(1 - beta)**7.0 + 1) + 9*log(-(1 - alpha)*(1 - beta)**8.0 + 1) + 41*log(-(1 - alpha)*(1 - beta)**9.0 + 1) + 57*log(-(1 - alpha)*(1 - beta)**10.0 + 1) - 20666.4733131982\n"
     ]
    },
    {
     "ename": "ValueError",
     "evalue": "Could not find root within given tolerance. (1845.95835737971661567 > 2.16840434497100886801e-19)\nTry another starting point or tweak arguments.",
     "output_type": "error",
     "traceback": [
      "\u001b[1;31m---------------------------------------------------------------------------\u001b[0m",
      "\u001b[1;31mValueError\u001b[0m                                Traceback (most recent call last)",
      "\u001b[1;32m<ipython-input-37-229bbfd85762>\u001b[0m in \u001b[0;36m<module>\u001b[1;34m\u001b[0m\n\u001b[0;32m     25\u001b[0m     \u001b[0mprint\u001b[0m\u001b[1;33m(\u001b[0m\u001b[1;34m\"o_:\\n\"\u001b[0m\u001b[1;33m,\u001b[0m\u001b[0mo\u001b[0m\u001b[1;33m)\u001b[0m\u001b[1;33m\u001b[0m\u001b[1;33m\u001b[0m\u001b[0m\n\u001b[0;32m     26\u001b[0m     \u001b[1;31m#plot3d(o)\u001b[0m\u001b[1;33m\u001b[0m\u001b[1;33m\u001b[0m\u001b[1;33m\u001b[0m\u001b[0m\n\u001b[1;32m---> 27\u001b[1;33m     \u001b[0malta\u001b[0m\u001b[1;33m=\u001b[0m\u001b[0mnsolve\u001b[0m\u001b[1;33m(\u001b[0m\u001b[1;33m(\u001b[0m\u001b[0mo\u001b[0m\u001b[1;33m.\u001b[0m\u001b[0mdiff\u001b[0m\u001b[1;33m(\u001b[0m\u001b[0mbeta\u001b[0m\u001b[1;33m)\u001b[0m\u001b[1;33m,\u001b[0m\u001b[0mo\u001b[0m\u001b[1;33m.\u001b[0m\u001b[0mdiff\u001b[0m\u001b[1;33m(\u001b[0m\u001b[0malpha\u001b[0m\u001b[1;33m)\u001b[0m\u001b[1;33m)\u001b[0m\u001b[1;33m,\u001b[0m\u001b[1;33m(\u001b[0m\u001b[0mbeta\u001b[0m\u001b[1;33m,\u001b[0m\u001b[0malpha\u001b[0m\u001b[1;33m)\u001b[0m\u001b[1;33m,\u001b[0m\u001b[1;33m(\u001b[0m\u001b[1;36m.05\u001b[0m\u001b[1;33m,\u001b[0m\u001b[1;36m.5\u001b[0m\u001b[1;33m)\u001b[0m\u001b[1;33m)\u001b[0m\u001b[1;33m\u001b[0m\u001b[1;33m\u001b[0m\u001b[0m\n\u001b[0m\u001b[0;32m     28\u001b[0m     \u001b[0malpha_\u001b[0m\u001b[1;33m=\u001b[0m\u001b[0malta\u001b[0m\u001b[1;33m[\u001b[0m\u001b[1;36m1\u001b[0m\u001b[1;33m]\u001b[0m\u001b[1;33m\u001b[0m\u001b[1;33m\u001b[0m\u001b[0m\n\u001b[0;32m     29\u001b[0m     \u001b[0mbeta_\u001b[0m\u001b[1;33m=\u001b[0m\u001b[0malta\u001b[0m\u001b[1;33m[\u001b[0m\u001b[1;36m0\u001b[0m\u001b[1;33m]\u001b[0m\u001b[1;33m\u001b[0m\u001b[1;33m\u001b[0m\u001b[0m\n",
      "\u001b[1;32m~\\anaconda3\\lib\\site-packages\\sympy\\utilities\\decorator.py\u001b[0m in \u001b[0;36mfunc_wrapper\u001b[1;34m(*args, **kwargs)\u001b[0m\n\u001b[0;32m     88\u001b[0m         \u001b[0mdps\u001b[0m \u001b[1;33m=\u001b[0m \u001b[0mmpmath\u001b[0m\u001b[1;33m.\u001b[0m\u001b[0mmp\u001b[0m\u001b[1;33m.\u001b[0m\u001b[0mdps\u001b[0m\u001b[1;33m\u001b[0m\u001b[1;33m\u001b[0m\u001b[0m\n\u001b[0;32m     89\u001b[0m         \u001b[1;32mtry\u001b[0m\u001b[1;33m:\u001b[0m\u001b[1;33m\u001b[0m\u001b[1;33m\u001b[0m\u001b[0m\n\u001b[1;32m---> 90\u001b[1;33m             \u001b[1;32mreturn\u001b[0m \u001b[0mfunc\u001b[0m\u001b[1;33m(\u001b[0m\u001b[1;33m*\u001b[0m\u001b[0margs\u001b[0m\u001b[1;33m,\u001b[0m \u001b[1;33m**\u001b[0m\u001b[0mkwargs\u001b[0m\u001b[1;33m)\u001b[0m\u001b[1;33m\u001b[0m\u001b[1;33m\u001b[0m\u001b[0m\n\u001b[0m\u001b[0;32m     91\u001b[0m         \u001b[1;32mfinally\u001b[0m\u001b[1;33m:\u001b[0m\u001b[1;33m\u001b[0m\u001b[1;33m\u001b[0m\u001b[0m\n\u001b[0;32m     92\u001b[0m             \u001b[0mmpmath\u001b[0m\u001b[1;33m.\u001b[0m\u001b[0mmp\u001b[0m\u001b[1;33m.\u001b[0m\u001b[0mdps\u001b[0m \u001b[1;33m=\u001b[0m \u001b[0mdps\u001b[0m\u001b[1;33m\u001b[0m\u001b[1;33m\u001b[0m\u001b[0m\n",
      "\u001b[1;32m~\\anaconda3\\lib\\site-packages\\sympy\\solvers\\solvers.py\u001b[0m in \u001b[0;36mnsolve\u001b[1;34m(*args, **kwargs)\u001b[0m\n\u001b[0;32m   3033\u001b[0m     \u001b[0mJ\u001b[0m \u001b[1;33m=\u001b[0m \u001b[0mlambdify\u001b[0m\u001b[1;33m(\u001b[0m\u001b[0mfargs\u001b[0m\u001b[1;33m,\u001b[0m \u001b[0mJ\u001b[0m\u001b[1;33m,\u001b[0m \u001b[0mmodules\u001b[0m\u001b[1;33m)\u001b[0m\u001b[1;33m\u001b[0m\u001b[1;33m\u001b[0m\u001b[0m\n\u001b[0;32m   3034\u001b[0m     \u001b[1;31m# solve the system numerically\u001b[0m\u001b[1;33m\u001b[0m\u001b[1;33m\u001b[0m\u001b[1;33m\u001b[0m\u001b[0m\n\u001b[1;32m-> 3035\u001b[1;33m     \u001b[0mx\u001b[0m \u001b[1;33m=\u001b[0m \u001b[0mfindroot\u001b[0m\u001b[1;33m(\u001b[0m\u001b[0mf\u001b[0m\u001b[1;33m,\u001b[0m \u001b[0mx0\u001b[0m\u001b[1;33m,\u001b[0m \u001b[0mJ\u001b[0m\u001b[1;33m=\u001b[0m\u001b[0mJ\u001b[0m\u001b[1;33m,\u001b[0m \u001b[1;33m**\u001b[0m\u001b[0mkwargs\u001b[0m\u001b[1;33m)\u001b[0m\u001b[1;33m\u001b[0m\u001b[1;33m\u001b[0m\u001b[0m\n\u001b[0m\u001b[0;32m   3036\u001b[0m     \u001b[1;32mif\u001b[0m \u001b[0mas_dict\u001b[0m\u001b[1;33m:\u001b[0m\u001b[1;33m\u001b[0m\u001b[1;33m\u001b[0m\u001b[0m\n\u001b[0;32m   3037\u001b[0m         \u001b[1;32mreturn\u001b[0m \u001b[1;33m[\u001b[0m\u001b[0mdict\u001b[0m\u001b[1;33m(\u001b[0m\u001b[0mzip\u001b[0m\u001b[1;33m(\u001b[0m\u001b[0mfargs\u001b[0m\u001b[1;33m,\u001b[0m \u001b[1;33m[\u001b[0m\u001b[0msympify\u001b[0m\u001b[1;33m(\u001b[0m\u001b[0mxi\u001b[0m\u001b[1;33m)\u001b[0m \u001b[1;32mfor\u001b[0m \u001b[0mxi\u001b[0m \u001b[1;32min\u001b[0m \u001b[0mx\u001b[0m\u001b[1;33m]\u001b[0m\u001b[1;33m)\u001b[0m\u001b[1;33m)\u001b[0m\u001b[1;33m]\u001b[0m\u001b[1;33m\u001b[0m\u001b[1;33m\u001b[0m\u001b[0m\n",
      "\u001b[1;32m~\\anaconda3\\lib\\site-packages\\mpmath\\calculus\\optimization.py\u001b[0m in \u001b[0;36mfindroot\u001b[1;34m(ctx, f, x0, solver, tol, verbose, verify, **kwargs)\u001b[0m\n\u001b[0;32m    974\u001b[0m             \u001b[0mxl\u001b[0m \u001b[1;33m=\u001b[0m \u001b[0mx\u001b[0m\u001b[1;33m\u001b[0m\u001b[1;33m\u001b[0m\u001b[0m\n\u001b[0;32m    975\u001b[0m         \u001b[1;32mif\u001b[0m \u001b[0mverify\u001b[0m \u001b[1;32mand\u001b[0m \u001b[0mnorm\u001b[0m\u001b[1;33m(\u001b[0m\u001b[0mf\u001b[0m\u001b[1;33m(\u001b[0m\u001b[1;33m*\u001b[0m\u001b[0mxl\u001b[0m\u001b[1;33m)\u001b[0m\u001b[1;33m)\u001b[0m\u001b[1;33m**\u001b[0m\u001b[1;36m2\u001b[0m \u001b[1;33m>\u001b[0m \u001b[0mtol\u001b[0m\u001b[1;33m:\u001b[0m \u001b[1;31m# TODO: better condition?\u001b[0m\u001b[1;33m\u001b[0m\u001b[1;33m\u001b[0m\u001b[0m\n\u001b[1;32m--> 976\u001b[1;33m             raise ValueError('Could not find root within given tolerance. '\n\u001b[0m\u001b[0;32m    977\u001b[0m                              \u001b[1;34m'(%s > %s)\\n'\u001b[0m\u001b[1;33m\u001b[0m\u001b[1;33m\u001b[0m\u001b[0m\n\u001b[0;32m    978\u001b[0m                              \u001b[1;34m'Try another starting point or tweak arguments.'\u001b[0m\u001b[1;33m\u001b[0m\u001b[1;33m\u001b[0m\u001b[0m\n",
      "\u001b[1;31mValueError\u001b[0m: Could not find root within given tolerance. (1845.95835737971661567 > 2.16840434497100886801e-19)\nTry another starting point or tweak arguments."
     ]
    }
   ],
   "source": [
    "print(\"Parameter initialization:................................................................\")\n",
    "print(\"𝛼:\",alpha_,\"  𝛽:\",beta_,\"  𝛾:\",gama_,\"  𝜃_0:\",theta_0_,\"  𝜃_1\",theta_1_)\n",
    "print(\"Updating X:.............................................................................\\n\",X)\n",
    "for i in range(2):\n",
    "    print(\"Current time:\",datetime.datetime.now())\n",
    "    print(\"Iterration\",i+1,\":.........................................................................\")\n",
    "    #X=np.zeros((n,T))\n",
    "    print(\"Computing X:...........................................................................\")\n",
    "    X_=CalcX(Y_,G_,q_,J,T,alpha_,beta_,gama_,theta_0_,theta_1_)\n",
    "    print(\"Current time:\",datetime.datetime.now())\n",
    "    print(\"X:\\n\",X,\"\\n\")\n",
    "    print(\"Computing Q:..........................................................................\")\n",
    "    Q=np.sum(np.array(transition(X_,CNbr(G_,X_),n,T,q_))+emission(X_,Y_,n,T,q_),axis=0)\n",
    "    print(\"Current time:\",datetime.datetime.now())\n",
    "    print(\"Q:\\n\",Q)\n",
    "    if not solve(simplify(factor(Q.diff(gamma)))):\n",
    "        print(\"error\")\n",
    "        break\n",
    "    ga=float(solve(simplify(factor(Q.diff(gamma))))[0])\n",
    "    a=float(solve(simplify(Q.diff(theta_0)))[0])\n",
    "    b=float(solve(simplify(Q.diff(theta_1)))[0]) \n",
    "    o=Q.subs(theta_0,a).subs(theta_1,b).subs(gamma,ga)\n",
    "    print(\"o:\\n\",o)\n",
    "    o=expand_log(o, force=True)\n",
    "    print(\"o_:\\n\",o)\n",
    "    #plot3d(o)\n",
    "    alta=nsolve((o.diff(beta),o.diff(alpha)),(beta,alpha),(.05,.5))\n",
    "    alpha_=alta[1]\n",
    "    beta_=alta[0]\n",
    "    gama_=c\n",
    "    theta_0_=a\n",
    "    theta_1_=b\n",
    "    print(\"Updating parameters:.............................................................................\\n\")\n",
    "    print(\"𝛼:\",alpha_,\"𝛽:\",beta_,\"𝛾:\",gama_,\"𝜃_0:\",theta_0_,\"𝜃_1\",theta_1_,\"\\n\")\n",
    "    print(\"Updating X:.............................................................................\\n\",X,\"\\n\")"
   ]
  },
  {
   "cell_type": "code",
   "execution_count": null,
   "metadata": {},
   "outputs": [],
   "source": []
  },
  {
   "cell_type": "code",
   "execution_count": null,
   "metadata": {},
   "outputs": [],
   "source": []
  }
 ],
 "metadata": {
  "kernelspec": {
   "display_name": "Python 3",
   "language": "python",
   "name": "python3"
  },
  "language_info": {
   "codemirror_mode": {
    "name": "ipython",
    "version": 3
   },
   "file_extension": ".py",
   "mimetype": "text/x-python",
   "name": "python",
   "nbconvert_exporter": "python",
   "pygments_lexer": "ipython3",
   "version": "3.8.5"
  }
 },
 "nbformat": 4,
 "nbformat_minor": 4
}
