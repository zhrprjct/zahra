{
 "cells": [
  {
   "cell_type": "markdown",
   "metadata": {},
   "source": [
    "# Python code of Gibbs sampling model for family test result Covid problem"
   ]
  },
  {
   "cell_type": "code",
   "execution_count": 7,
   "metadata": {},
   "outputs": [],
   "source": [
    "# import neccessary libraries\n",
    "import numpy as np\n",
    "import random\n",
    "import sympy as sym\n",
    "from sympy import *\n",
    "from sympy import symbols\n",
    "from sympy.plotting import plot, plot3d\n",
    "from datetime import datetime\n",
    "from scipy.stats import beta\n",
    "from sklearn.metrics import accuracy_score\n",
    "import winsound\n",
    "import matplotlib.pyplot as plt\n",
    "from scipy import spatial\n",
    "from sklearn import svm, datasets\n",
    "from sklearn.metrics import roc_curve, auc\n",
    "from sklearn.metrics import roc_auc_score\n",
    "\n",
    "duration = 1000  # milliseconds\n",
    "freq = 440  # Hz\n"
   ]
  },
  {
   "cell_type": "code",
   "execution_count": 8,
   "metadata": {},
   "outputs": [],
   "source": [
    "# function to count the number of the infected neighbores of i at t:\n",
    "def CNbr(G,X,n,T):\n",
    "    C=np.zeros((T,n))\n",
    "    for t in range(T):\n",
    "        C[t]=G[t].dot(X.T[t])\n",
    "    return C.T"
   ]
  },
  {
   "cell_type": "code",
   "execution_count": 9,
   "metadata": {},
   "outputs": [],
   "source": [
    "def transition(X,t,G,F,j,param):\n",
    "    alpha_=param[0]\n",
    "    beta_=param[1]\n",
    "    betaf=param[2]\n",
    "    gama_=param[3]\n",
    "    c=CNbr(G,X,n,T)[j][t]\n",
    "    number_of_infected_members_in_family=F.dot(X.T[t])[j]\n",
    "    k=X[j,t]-2*X[j,t+1]\n",
    "    if k==0:\n",
    "        return 1-alpha_-beta_*c-betaf*number_of_infected_members_in_family\n",
    "    elif k==-2:\n",
    "        return alpha_+beta_*c+betaf*number_of_infected_members_in_family\n",
    "    elif k==1:\n",
    "        return gama_\n",
    "    else:\n",
    "        return 1-gama_\n",
    "    "
   ]
  },
  {
   "cell_type": "code",
   "execution_count": 10,
   "metadata": {},
   "outputs": [],
   "source": [
    "# Function to obtain the very initial sample of X, using forwad sampling:\n",
    "def Forward_Sampling(T,n,G,F,param):\n",
    "    alpha_=param[0]\n",
    "    beta_=param[1]\n",
    "    betaf=param[2]\n",
    "    gama_=param[3]\n",
    "    p0=P\n",
    "    p1=1-P\n",
    "    x=int(np.round(((1-P)*n),0))\n",
    "    X=np.zeros((n,T))  \n",
    "    idx=np.random.choice(range(n), x)\n",
    "    X[idx,0]=1\n",
    "    for t in range(T-1):\n",
    "        cf=F.dot(X.T[t])\n",
    "        for i in range(n):\n",
    "            c=CNbr(G,X,n,T)[i,t]\n",
    "            if X[i,t]==0:\n",
    "                p1=(alpha_+beta_*c+betaf*cf[i])\n",
    "            else:\n",
    "                p1=(1-gama_)\n",
    "            X[i,t+1]=np.random.binomial( 1, p1,size=None) \n",
    "    return X"
   ]
  },
  {
   "cell_type": "code",
   "execution_count": 50,
   "metadata": {},
   "outputs": [],
   "source": [
    "def Sample_hidden_state(pos_probs,X,G,F,unique_rows,Y,param,t):\n",
    "    \n",
    "    alpha_=param[0]\n",
    "    beta_=param[1]\n",
    "    betaf=param[2]\n",
    "    gama_=param[3]\n",
    "    theta_0_=param[4]\n",
    "    theta_1_=param[5]\n",
    "    \n",
    "    for i in range(n):\n",
    "        if t==0:\n",
    "            p_0,p_1=P,1-P\n",
    "        else:\n",
    "            p_0,p_1=1,1\n",
    "        pow0=1-Y[i,t]\n",
    "        pow1=Y[i,t]\n",
    "        number_of_members_in_family=np.sum(unique_rows[family_index(i,unique_rows)])\n",
    "        \n",
    "        X[i,t]=0\n",
    "        number_of_infected_members_in_family0=F.dot(X.T[t])[i]\n",
    "        number_of_healthy_members_in_family0=number_of_members_in_family-number_of_infected_members_in_family0\n",
    "        p_0=(1/number_of_members_in_family)*p_0*((1-theta_0_)*number_of_healthy_members_in_family0+(1-theta_1_)*number_of_infected_members_in_family0)**pow0*(theta_1_*number_of_infected_members_in_family0+theta_0_*number_of_healthy_members_in_family0)**pow1\n",
    "        if (t==0):\n",
    "            c=G[t].dot(X.T[t])[i]\n",
    "        else:    \n",
    "            c=G[t-1].dot(X.T[t-1])[i]\n",
    "    \n",
    "        if t!=0:\n",
    "            if X[i,t-1]==0:\n",
    "                p_0=p_0*(1-alpha_-beta_*c-betaf*number_of_infected_members_in_family0)\n",
    "            else:\n",
    "                p_0=p_0*gama_\n",
    "        \n",
    "        X[i,t]=1\n",
    "        number_of_infected_members_in_family1=F.dot(X.T[t])[i]\n",
    "        number_of_healthy_members_in_family1=number_of_members_in_family-number_of_infected_members_in_family1\n",
    "        p_1=(1/number_of_members_in_family)*p_1*((1-theta_0_)*number_of_healthy_members_in_family1+(1-theta_1_)*number_of_infected_members_in_family1)**pow0*(theta_1_*number_of_infected_members_in_family1+theta_0_*number_of_healthy_members_in_family1)**pow1\n",
    "\n",
    "        if (t==0):\n",
    "            c=G[t].dot(X.T[t])[i]\n",
    "        else:    \n",
    "            c=G[t-1].dot(X.T[t-1])[i]\n",
    "        if t!=0:\n",
    "            if X[i,t-1]==0:\n",
    "                p_1=p_1*(alpha_+beta_*c+betaf*number_of_infected_members_in_family1)\n",
    "            else:\n",
    "                p_1=p_1*(1-gama_)\n",
    "        family_members=unique_rows[family_index(i,unique_rows)]\n",
    "        \n",
    "        if t!=T-1:        \n",
    "            X[i,t]=0\n",
    "            for j in np.where(family_members==1)[0]:\n",
    "                if j!=i:\n",
    "                    p_0=p_0*transition(X,t,G,F,j,param)\n",
    "            for j in np.where(G[t][i]==1)[0]:\n",
    "                p_0=p_0*transition(X,t,G,F,j,param)\n",
    "            X[i,t]=1\n",
    "            for j in np.where(family_members==1)[0]:\n",
    "                if j!=i:\n",
    "                    p_1=p_1*transition(X,t,G,F,j,param)\n",
    "            for j in np.where(G[t][i]==1)[0]:\n",
    "                p_1=p_1*transition(X,t,G,F,j,param)\n",
    "        if t==T-1:\n",
    "            if X[i,t-1]==0:\n",
    "                X[i,t]=0\n",
    "                c=G[t].dot(X.T[t])[i]\n",
    "                number_of_infected_members_in_family=F.dot(X.T[t])[i]\n",
    "                p_0=p_0*(1-alpha_-beta_*c-betaf*number_of_infected_members_in_family)\n",
    "                X[i,t]=1\n",
    "                c=G[t].dot(X.T[t])[i]\n",
    "                number_of_infected_members_in_family=F.dot(X.T[t])[i]\n",
    "                p_1=p_1*(alpha_+beta_*c+betaf*number_of_infected_members_in_family)\n",
    "            else:\n",
    "                p_0=p_0*gama_\n",
    "                p_1=p_1*(1-gama_)\n",
    "        if p_0+p_1==0:            \n",
    "            l=0.5\n",
    "        else:\n",
    "            l=p_1/(p_0+p_1)\n",
    "        if (l<0)|(l>1): \n",
    "            print(p_0,p_1)\n",
    "        X[i,t]=np.random.binomial( 1,  l,size=None)    \n",
    "        pos_probs[i,t]=l\n",
    "    return X ,pos_probs   "
   ]
  },
  {
   "cell_type": "code",
   "execution_count": 46,
   "metadata": {},
   "outputs": [],
   "source": [
    "# Gibbs sampling to obtain X, as new sample of posterior distribution:\n",
    "def Calculate_X(K,T,X,G,F1,Y,param):\n",
    "    pos_probs=np.zeros((n,T))\n",
    "    for k in range(K):\n",
    "        for t in range(T):\n",
    "            hidden_states=Sample_hidden_state(pos_probs,X,G,F1,unique_rows,Y,param,t)\n",
    "            X=hidden_states[0]\n",
    "            pos_probs=hidden_states[1]\n",
    "    return X  ,pos_probs              "
   ]
  },
  {
   "cell_type": "code",
   "execution_count": 13,
   "metadata": {},
   "outputs": [],
   "source": [
    "def Accuracy_(X,X_):\n",
    "    Xflat = np.hstack(np.hstack(X))\n",
    "    X_flat = np.hstack(np.hstack(X_))\n",
    "    result=accuracy_score(Xflat, X_flat,normalize=True)\n",
    "    return result"
   ]
  },
  {
   "cell_type": "markdown",
   "metadata": {},
   "source": [
    "# Functions to sample from beta distribution\n"
   ]
  },
  {
   "cell_type": "code",
   "execution_count": 14,
   "metadata": {},
   "outputs": [],
   "source": [
    "# function to define auxiliary variable R_(n,t):\n",
    "def R_(G,X,params):\n",
    "    alpha_,beta_,betaf,gama_,theta_0_,theta_1_=params[0],params[1],params[2],params[3],params[4],params[5]\n",
    "    infected_neighbore=np.array(CNbr(G,X,n,T))\n",
    "    R=np.zeros((n,T))+1\n",
    "    for i in range(n):\n",
    "        for t in range(T-1):\n",
    "            c=int(infected_neighbore[i,t])\n",
    "            cf=int(F.dot(X.T[t])[i])\n",
    "            pr_a=alpha_/(alpha_+beta_*c+betaf*cf)\n",
    "            pr_b=beta_/(alpha_+beta_*c+betaf*cf)\n",
    "            pr_bf=betaf/(alpha_+beta_*c+betaf*cf)\n",
    "            v=np.random.multinomial(1, [pr_a]+[pr_b]*c+[pr_bf]*cf)\n",
    "            if (X[i][t]==0)&(X[i][t+1]==1):\n",
    "                if v[0]==1:\n",
    "                    R[i,t]=0\n",
    "                elif (cf!=0):\n",
    "                    if ((v[-cf:]==1).any()):\n",
    "                        R[i,t]=3\n",
    "                else:    \n",
    "                    R[i,t]=2\n",
    "    return R"
   ]
  },
  {
   "cell_type": "code",
   "execution_count": 15,
   "metadata": {},
   "outputs": [],
   "source": [
    "# function to sample new parameters and update parameters:\n",
    "def Params(R,G,F,X,n,T,Y,hyper_param):\n",
    "    \n",
    "    a_alpha=hyper_params[0]\n",
    "    b_alpha=hyper_params[1]\n",
    "    a_beta=hyper_params[2]\n",
    "    b_beta=hyper_params[3]\n",
    "    a_betaf=hyper_params[4]\n",
    "    b_betaf=hyper_params[5]\n",
    "    a_gama=hyper_params[6]\n",
    "    b_gama=hyper_params[7]\n",
    "    a_teta0=hyper_params[8]\n",
    "    b_teta0=hyper_params[9]\n",
    "    a_teta1=hyper_params[10]\n",
    "    b_teta1=hyper_params[11]\n",
    "      \n",
    "    TP=np.sum(np.multiply(unique_rows.dot(X),YF))\n",
    "    FP=np.count_nonzero(unique_rows.dot(X)-YF==-1)\n",
    "    \n",
    "    infected_neighbore=np.array(CNbr(G,X,n,T))\n",
    "    a_alpha, b_alpha=a_alpha +  np.count_nonzero(R==0) , b_alpha +np.count_nonzero(X==0)- np.count_nonzero(R==0)\n",
    "    alpha_=Sample_alpha(a_alpha, b_alpha)\n",
    "    a_beta,b_beta=a_beta + np.count_nonzero(R==2) , b_beta +np.sum(np.multiply((1-X),infected_neighbore))-np.count_nonzero(R==2)\n",
    "    beta_=Sample_beta(a_beta,b_beta)\n",
    "    a_betaf ,b_betaf=a_betaf + np.count_nonzero(R==3) , b_betaf +np.sum(np.multiply((1-X),F.dot(X)))-np.count_nonzero(R==3)\n",
    "    betaf=Sample_betaf(a_betaf ,b_betaf)\n",
    "    while alpha_>beta_:\n",
    "        alpha_=Sample_alpha(a_alpha, b_alpha)\n",
    "        beta_=Sample_beta(a_beta, b_beta)\n",
    "    while beta_>betaf:\n",
    "        betaf=Sample_betaf(a_betaf, b_betaf)\n",
    "    gama_=Sample_gama(a_gama +np.count_nonzero((X[:,:-1]-X[:,1:])==1), b_gama+np.sum(X)-np.count_nonzero((X[:,:-1]-X[:,1:])==1))\n",
    "    theta_0_=Sample_theta0( a_teta0+FP,b_teta0+np.count_nonzero((unique_rows.dot(X))==0)-FP)\n",
    "    theta_1_=Sample_theta1( a_teta1+TP,b_teta1+np.sum(unique_rows.dot(X))-TP)\n",
    "    \n",
    "    R=R_(G,X,params)\n",
    "    param=[alpha_,beta_,betaf,gama_,theta_0_,theta_1_]\n",
    "    return param,R"
   ]
  },
  {
   "cell_type": "code",
   "execution_count": 16,
   "metadata": {},
   "outputs": [],
   "source": [
    "def Sample_alpha(a_alpha, b_alpha):\n",
    "    for i in beta.rvs(a_alpha, b_alpha, size=10000):\n",
    "        if (i>0.001)&(i<0.2):\n",
    "            alpha_=round(i,3)\n",
    "            break\n",
    "    return alpha_        \n"
   ]
  },
  {
   "cell_type": "code",
   "execution_count": 17,
   "metadata": {},
   "outputs": [],
   "source": [
    "def Sample_beta(a_beta, b_beta):\n",
    "    for i in beta.rvs(a_beta, b_beta, size=10000):\n",
    "        if (i>0.001)&(i<0.0451):\n",
    "            beta_=round(i,4)\n",
    "            break\n",
    "    return beta_        "
   ]
  },
  {
   "cell_type": "code",
   "execution_count": 18,
   "metadata": {},
   "outputs": [],
   "source": [
    "def Sample_betaf(a_betaf, b_betaf):\n",
    "    for i in beta.rvs(a_betaf, b_betaf, size=1000):\n",
    "        if (i>0.002)&(i<0.5):\n",
    "            betaf=round(i,4)\n",
    "            break\n",
    "    return betaf        "
   ]
  },
  {
   "cell_type": "code",
   "execution_count": 19,
   "metadata": {},
   "outputs": [],
   "source": [
    "def Sample_gama(a_gama,b_gama):\n",
    "    for i in beta.rvs(a_gama, b_gama, size=10000):\n",
    "        if (i>0.1)&(i<0.5):\n",
    "            gama_=round(i,3)\n",
    "            break\n",
    "    return gama_  "
   ]
  },
  {
   "cell_type": "code",
   "execution_count": 20,
   "metadata": {},
   "outputs": [],
   "source": [
    "def Sample_theta0(a_teta0, b_teta0):\n",
    "    for i in beta.rvs(a_teta0, b_teta0, size=10000):\n",
    "        if (i>0.01)&(i<0.51):\n",
    "            theta_0_=round(i,3)\n",
    "            break\n",
    "    return theta_0_  "
   ]
  },
  {
   "cell_type": "code",
   "execution_count": 21,
   "metadata": {},
   "outputs": [],
   "source": [
    "def Sample_theta1(a_teta1, b_teta1):\n",
    "    for i in beta.rvs(a_teta1, b_teta1, size=10000):\n",
    "        if 0.990>i>0.78:\n",
    "            theta_1_=round(i,3)\n",
    "            break\n",
    "    return theta_1_  "
   ]
  },
  {
   "cell_type": "code",
   "execution_count": 22,
   "metadata": {},
   "outputs": [],
   "source": [
    "def add_noise(YF,noise_percent,unique_rows):\n",
    "    \n",
    "    number_of_families=unique_rows.shape[0]\n",
    "    indx=random.sample(range(number_of_families), number_of_families)\n",
    "    tndx=random.sample(range(T), int(noise_percent*T))\n",
    "    for i in indx:\n",
    "        for t in tndx:\n",
    "            YF[i,t]=(YF[i,t]+1)*(1-YF[i,t])\n",
    "    return YF        "
   ]
  },
  {
   "cell_type": "code",
   "execution_count": 23,
   "metadata": {},
   "outputs": [],
   "source": [
    "# funtion to retun related family index of individual i:\n",
    "def family_index(i,unique_rows):\n",
    "    for j in range(n):\n",
    "        if unique_rows[j,i]==1:\n",
    "            return j"
   ]
  },
  {
   "cell_type": "code",
   "execution_count": 24,
   "metadata": {},
   "outputs": [],
   "source": [
    "# Function to generates Synthetic dataset\n",
    "def Synthetic_Data(n,T,y,params,number_families):\n",
    "    alpha_,beta_,betaf,gama_,theta_0_,theta_1_=params[0],params[1],params[2],params[3],params[4],params[5]\n",
    "    x=int(np.round(((1-P)*n),0))\n",
    "    X=np.zeros((n,T))\n",
    "    idx=np.random.choice(range(n), x)\n",
    "    X[idx,0]=1\n",
    "    # Random social network\n",
    "    G=[]\n",
    "    for j in range(T):\n",
    "        g=np.identity(n,dtype=int)\n",
    "        for i in range(n):\n",
    "            indx=np.random.choice(range(i,n), y)\n",
    "            for inx in indx:\n",
    "                g[i,inx]=1  \n",
    "                g[inx,i]=1\n",
    "        G.append(g)\n",
    "    G=np.array(G)\n",
    "    # Synthetize Family matrix:\n",
    "    a=list(range(n))\n",
    "    Family=np.identity(n,dtype=int)\n",
    "    for i in range(1,number_families):\n",
    "        number_family_members=np.random.randint(2, 5)\n",
    "        inx=random.sample(list(a), number_family_members)\n",
    "        a=set(a).difference(inx)\n",
    "        for j in inx:\n",
    "            for k in inx:\n",
    "                Family[j,k]=1  \n",
    "    G=G-Family\n",
    "    G=G+np.identity(n,dtype=int)\n",
    "    #Family=Family-np.identity(n,dtype=int)\n",
    "    G = np.where(G <0, 0, G)\n",
    "    # Synthetize X, using params,G, Family and transition probability:\n",
    "    #Family=Family+np.identity(n,dtype=int)\n",
    "    for t in range(T-1):\n",
    "        for i in range(n):\n",
    "            infR=CNbr(G,X,n,T)\n",
    "            cf=int(Family.dot(X.T[t])[i])\n",
    "            c=infR[i,t]\n",
    "            if X[i,t]==0:\n",
    "                p0=1-alpha_-beta_*c-betaf*cf\n",
    "                p1=alpha_+beta_*c+betaf*cf\n",
    "            else:\n",
    "                p0=gama_\n",
    "                p1=1-gama_\n",
    "            if p0+p1==0:\n",
    "                l=0.5\n",
    "            else:\n",
    "                l=p1/(p0+p1)\n",
    "            X[i,t+1]=np.random.binomial( 1, l,size=None) \n",
    "\n",
    "    # Synthetize Y, using params,G, X, emission probability:\n",
    "    unique_rows = np.unique(Family, axis=0)\n",
    "    nf=unique_rows.shape[0]\n",
    "    YF=np.zeros((nf,T))\n",
    "    for t in range(T):\n",
    "        for i in range(nf):\n",
    "            number_of_members_in_family=np.sum(unique_rows[i])\n",
    "            number_of_infected_members_in_family=unique_rows[i].dot(X.T[t])\n",
    "            number_of_healthy_members_in_family= number_of_members_in_family-number_of_infected_members_in_family\n",
    "            py1=(theta_0_*number_of_healthy_members_in_family+theta_1_*number_of_infected_members_in_family)/ number_of_members_in_family\n",
    "            py0=((1-theta_0_)*number_of_healthy_members_in_family+(1-theta_1_)*number_of_infected_members_in_family)/ number_of_members_in_family\n",
    "            l=py1/(py1+py0)\n",
    "            YF[i,t]=np.random.binomial( 1, l,size=None) \n",
    "    return G,YF,X,Family           "
   ]
  },
  {
   "cell_type": "code",
   "execution_count": 44,
   "metadata": {},
   "outputs": [],
   "source": [
    "# initialize parameters for beta distributions:\n",
    "a_alpha=20\n",
    "b_alpha=1000\n",
    "a_beta=10\n",
    "b_beta=1000\n",
    "a_betaf=8\n",
    "b_betaf=80\n",
    "a_gama=50\n",
    "b_gama=200\n",
    "a_teta0=10\n",
    "b_teta0=1000\n",
    "a_teta1=9000\n",
    "b_teta1=300\n",
    "P=1\n",
    "U=1\n",
    "K=1\n",
    "J=1\n",
    "hyper_params=np.array([a_alpha,b_alpha,a_beta,b_beta,a_betaf,b_betaf,a_gama,b_gama,a_teta0,b_teta0,a_teta1,b_teta1])"
   ]
  },
  {
   "cell_type": "code",
   "execution_count": 40,
   "metadata": {},
   "outputs": [],
   "source": [
    "# function to sample infection and emission parameters(alpha,beta,betaf,gama,teta0,teta1)\n",
    "def initialize_parameters(hyper_params):\n",
    "    a_alpha=hyper_params[0]\n",
    "    b_alpha=hyper_params[1]\n",
    "    a_beta=hyper_params[2]\n",
    "    b_beta=hyper_params[3]\n",
    "    a_betaf=hyper_params[4]\n",
    "    b_betaf=hyper_params[5]\n",
    "    a_gama=hyper_params[6]\n",
    "    b_gama=hyper_params[7]\n",
    "    a_teta0=hyper_params[8]\n",
    "    b_teta0=hyper_params[9]\n",
    "    a_teta1=hyper_params[10]\n",
    "    b_teta1=hyper_params[11]\n",
    "    alpha_=Sample_alpha(a_alpha, b_alpha)\n",
    "    beta_=Sample_beta(a_beta, b_beta)\n",
    "    betaf=Sample_betaf(a_betaf, b_betaf)\n",
    "    while alpha_>beta_:\n",
    "        alpha_=Sample_alpha(a_alpha, b_alpha)\n",
    "        beta_=Sample_beta(a_beta, b_beta)\n",
    "    while beta_>betaf:\n",
    "        betaf=Sample_betaf(a_betaf, b_betaf)\n",
    "    gama_=Sample_gama(a_gama,b_gama)\n",
    "    theta_0_=Sample_theta0(a_teta0, b_teta0)\n",
    "    theta_1_=Sample_theta1(a_teta1, b_teta1)\n",
    "    params=np.array([alpha_,beta_,betaf,gama_,theta_0_,theta_1_])\n",
    "    return params"
   ]
  },
  {
   "cell_type": "code",
   "execution_count": 36,
   "metadata": {},
   "outputs": [
    {
     "data": {
      "text/plain": [
       "array([0.023 , 0.0102, 0.1141, 0.242 , 0.011 , 0.966 ])"
      ]
     },
     "execution_count": 36,
     "metadata": {},
     "output_type": "execute_result"
    }
   ],
   "source": [
    "params=initialize_parameters(hyper_params)\n",
    "params"
   ]
  },
  {
   "cell_type": "code",
   "execution_count": 37,
   "metadata": {
    "scrolled": true
   },
   "outputs": [],
   "source": [
    "# Generate synthetic data,G ,Y:\n",
    "n,T,y=100,100,5\n",
    "number_families=33\n",
    "synthetic_data=Synthetic_Data(n,T,y,params,number_families)\n",
    "G,YF,X,F =synthetic_data[0],synthetic_data[1],synthetic_data[2],synthetic_data[3]"
   ]
  },
  {
   "cell_type": "code",
   "execution_count": 38,
   "metadata": {},
   "outputs": [],
   "source": [
    "# Main code to run entire Gibbs sampling algorithm U times:\n",
    "def Gibbs_train(hyper_params,T,n,G,F,Y,U,K,J):\n",
    "    \n",
    "    a_alpha=hyper_params[0]\n",
    "    b_alpha=hyper_params[1]\n",
    "    a_beta=hyper_params[2]\n",
    "    b_beta=hyper_params[3]\n",
    "    a_betaf=hyper_params[4]\n",
    "    b_betaf=hyper_params[5]\n",
    "    a_gama=hyper_params[6]\n",
    "    b_gama=hyper_params[7]\n",
    "    a_teta0=hyper_params[8]\n",
    "    b_teta0=hyper_params[9]\n",
    "    a_teta1=hyper_params[10]\n",
    "    b_teta1=hyper_params[11]\n",
    "    acc=[]  \n",
    "    XX=[]\n",
    "    for j in range(J):\n",
    "        params=initialize_parameters(hyper_params)\n",
    "        print(params)\n",
    "        X=Forward_Sampling(T,n,G,F,params)\n",
    "        print(\"Forward_Sampling\",j,\"\\n\",\"\\n\")\n",
    "        print(\"Start Gibbs Sampling:\")\n",
    "        mylist=[]\n",
    "        accuracy=[]\n",
    "        for i in range(U):\n",
    "            print(\"************************************************ Iteration\",i,\"************************************************\")\n",
    "            print(\"Current Parameters:\",params)\n",
    "            now = datetime.now()\n",
    "            current_time = now.strftime(\"%H:%M:%S\")\n",
    "            print(\"Current Time is :\", current_time)\n",
    "            cal=Calculate_X(K,T,X,G,F,Y,params)\n",
    "            X=cal[0]\n",
    "            R=R_(G,X,params)\n",
    "            prm=Params(R,G,F,X,n,T,Y,hyper_params)\n",
    "            params=prm[0]\n",
    "            R=prm[1]\n",
    "        label=\"Sample:\"+str(j)\n",
    "        iteration=cal[1]\n",
    "        Accuracy=cal[2]\n",
    "        pos_probs=cal[3]\n",
    "        plt.figure()\n",
    "        plt.plot(iteration,Accuracy ,label=label) \n",
    "        plt.legend()\n",
    "        XX.append(X)    \n",
    "        now = datetime.now()\n",
    "        current_time = now.strftime(\"%H:%M:%S\")\n",
    "        print(\"Current Time is :\", current_time)\n",
    "    winsound.Beep(freq, duration) \n",
    "    return params, np.array(XX) ,pos_probs"
   ]
  },
  {
   "cell_type": "code",
   "execution_count": 48,
   "metadata": {},
   "outputs": [],
   "source": [
    "unique_rows = np.unique(F.T, axis=0)"
   ]
  },
  {
   "cell_type": "code",
   "execution_count": 55,
   "metadata": {},
   "outputs": [],
   "source": [
    "Y=np.zeros((n,T))\n",
    "for i in range(n):\n",
    "    for j in range(unique_rows.shape[0]):\n",
    "        if unique_rows[j,i]==1:\n",
    "            Y[i,:]=YF[j,:]"
   ]
  },
  {
   "cell_type": "code",
   "execution_count": null,
   "metadata": {},
   "outputs": [
    {
     "name": "stdout",
     "output_type": "stream",
     "text": [
      "[0.017  0.0176 0.0846 0.161  0.01   0.967 ]\n",
      "Forward_Sampling 0 \n",
      " \n",
      "\n",
      "Start Gibbs Sampling:\n",
      "************************************************ Iteration 0 ************************************************\n",
      "Current Parameters: [0.017  0.0176 0.0846 0.161  0.01   0.967 ]\n",
      "Current Time is : 21:54:56\n"
     ]
    }
   ],
   "source": [
    "Train=Gibbs_train(hyper_params,T,n,G,F,Y,U,K,J)"
   ]
  },
  {
   "cell_type": "code",
   "execution_count": null,
   "metadata": {},
   "outputs": [],
   "source": [
    "# Save true value of X in Z, as the correct label of data:\n",
    "Z=X\n",
    "np.sum(Z)"
   ]
  },
  {
   "cell_type": "code",
   "execution_count": null,
   "metadata": {},
   "outputs": [],
   "source": [
    "F=Family"
   ]
  },
  {
   "cell_type": "markdown",
   "metadata": {},
   "source": [
    "# Adding noise to YF:"
   ]
  },
  {
   "cell_type": "code",
   "execution_count": null,
   "metadata": {},
   "outputs": [],
   "source": [
    "%store YF\n",
    "%store params"
   ]
  },
  {
   "cell_type": "code",
   "execution_count": null,
   "metadata": {},
   "outputs": [],
   "source": [
    "noise_percent=.1\n",
    "YF_noisey=add_noise(YF,noise_percent,unique_rows)"
   ]
  },
  {
   "cell_type": "code",
   "execution_count": null,
   "metadata": {},
   "outputs": [],
   "source": [
    "U=10\n",
    "K=10\n",
    "J=10"
   ]
  },
  {
   "cell_type": "code",
   "execution_count": null,
   "metadata": {
    "scrolled": true
   },
   "outputs": [],
   "source": [
    "# Main code to run entire Gibbs algorithm U times:\n",
    "Zflat = np.hstack(Z)\n",
    "XX=[]\n",
    "for j in range(J):\n",
    "    params=initialize_parameters(a_alpha,b_alpha,a_beta,b_beta,a_betaf,b_betaf,a_gama,b_gama,a_teta0,b_teta0,a_teta1,b_teta1)\n",
    "    #params=np.array([0.019 , 0.0118, 0.0841, 0.173 , 0.014 , 0.97  ])\n",
    "    X=Forward_Sampling(T,n,G,F,params)\n",
    "    #X=Z\n",
    "    print(\"Forward_Sampling\",j,\"\\n\",\"\\n\",X)\n",
    "    print(\"Start Gibbs Sampling:\")\n",
    "    mylist=[]\n",
    "    accuracy=[]\n",
    "    for i in range(U):\n",
    "        print(\"************************************************ Iteration\",i,\"************************************************\")\n",
    "        print(\"Current Parameters:\",params)\n",
    "        now = datetime.now()\n",
    "        current_time = now.strftime(\"%H:%M:%S\")\n",
    "        print(\"Current Time is :\", current_time)\n",
    "        X=Calculate_X(Z,K,T,X,G,F,Y,params)\n",
    "        prm=Params(R,G,F,X,n,T,Y,params)\n",
    "        params=prm[0]\n",
    "        R=prm[1]\n",
    "        Xflat = np.hstack(X)\n",
    "    #result = 1 - spatial.distance.cosine(Zflat, Xflat)\n",
    "        result=accuracy_score(Xflat, Zflat,normalize=True)\n",
    "        print(\"Accuracy:\",result)\n",
    "        accuracy.append(result)\n",
    "    XX.append(X)    \n",
    "    myList = list(range(U))\n",
    "    iteration=np.array(myList)\n",
    "    Accuracy=np.array(accuracy)\n",
    "    label=\"Sample:\"+str(j)\n",
    "    plt.figure()\n",
    "    plt.plot(iteration,Accuracy,label=label ) \n",
    "    plt.legend()\n",
    "    now = datetime.now()\n",
    "    current_time = now.strftime(\"%H:%M:%S\")\n",
    "    print(\"Current Time is :\", current_time)\n",
    "winsound.Beep(freq, duration) "
   ]
  },
  {
   "cell_type": "code",
   "execution_count": null,
   "metadata": {},
   "outputs": [],
   "source": [
    "def estimate_Y(Family,X,params):\n",
    "    theta_0=params[4]\n",
    "    theta_1=params[5]\n",
    "    unique_rows = np.unique(Family, axis=0)\n",
    "    nf=unique_rows.shape[0]\n",
    "    YF=np.zeros((nf,T))\n",
    "    for t in range(T):\n",
    "        for i in range(nf):\n",
    "            number_of_members_in_family=np.sum(unique_rows[i])\n",
    "            number_of_infected_members_in_family=unique_rows[i].dot(X.T[t])\n",
    "            number_of_healthy_members_in_family= number_of_members_in_family-number_of_infected_members_in_family\n",
    "            py1=(theta_0_*number_of_healthy_members_in_family+theta_1_*number_of_infected_members_in_family)/ number_of_members_in_family\n",
    "            py0=((1-theta_0_)*number_of_healthy_members_in_family+(1-theta_1_)*number_of_infected_members_in_family)/ number_of_members_in_family\n",
    "            l=py1/(py1+py0)\n",
    "            YF[i,t]=np.random.binomial( 1, l,size=None)\n",
    "    return YF"
   ]
  },
  {
   "cell_type": "code",
   "execution_count": null,
   "metadata": {},
   "outputs": [],
   "source": [
    "YF_=estimate_Y(F,X,params)"
   ]
  },
  {
   "cell_type": "code",
   "execution_count": null,
   "metadata": {},
   "outputs": [],
   "source": [
    "%store -r YF"
   ]
  },
  {
   "cell_type": "code",
   "execution_count": null,
   "metadata": {},
   "outputs": [],
   "source": [
    "Zflat = np.hstack(YF_noisey)\n",
    "Xflat = np.hstack(YF)\n",
    "result = 1 - spatial.distance.cosine(Zflat, Xflat)\n",
    "print(\"Accuracy\",result)\n"
   ]
  },
  {
   "cell_type": "code",
   "execution_count": null,
   "metadata": {},
   "outputs": [],
   "source": [
    "from sklearn.metrics import accuracy_score\n",
    "print(accuracy_score(Xflat, Zflat,normalize=True))"
   ]
  },
  {
   "cell_type": "code",
   "execution_count": null,
   "metadata": {},
   "outputs": [],
   "source": [
    "YF"
   ]
  },
  {
   "cell_type": "code",
   "execution_count": null,
   "metadata": {},
   "outputs": [],
   "source": [
    "YF_noisey"
   ]
  },
  {
   "cell_type": "code",
   "execution_count": null,
   "metadata": {},
   "outputs": [],
   "source": []
  },
  {
   "cell_type": "code",
   "execution_count": null,
   "metadata": {},
   "outputs": [],
   "source": []
  },
  {
   "cell_type": "code",
   "execution_count": null,
   "metadata": {},
   "outputs": [],
   "source": []
  },
  {
   "cell_type": "code",
   "execution_count": null,
   "metadata": {},
   "outputs": [],
   "source": []
  },
  {
   "cell_type": "code",
   "execution_count": null,
   "metadata": {},
   "outputs": [],
   "source": []
  },
  {
   "cell_type": "code",
   "execution_count": null,
   "metadata": {},
   "outputs": [],
   "source": []
  },
  {
   "cell_type": "code",
   "execution_count": null,
   "metadata": {},
   "outputs": [],
   "source": [
    "# synthetized observation vectore:\n",
    "Y_=np.zeros((n,T))\n",
    "for t in range(T):\n",
    "    for i in range(n):\n",
    "        if X[i,t]==0:\n",
    "            Y_[i,t]=np.random.binomial( 1, theta_0_,size=None) \n",
    "        else:\n",
    "            Y_[i,t]=np.random.binomial( 1, theta_1_,size=None) "
   ]
  },
  {
   "cell_type": "code",
   "execution_count": null,
   "metadata": {},
   "outputs": [],
   "source": [
    "print(np.sum(X),np.sum(Z),np.count_nonzero(X-Z))"
   ]
  },
  {
   "cell_type": "code",
   "execution_count": null,
   "metadata": {},
   "outputs": [],
   "source": [
    "# Run Gibbs sampling algorithm to estimate X:\n",
    "now = datetime.now()\n",
    "current_time = now.strftime(\"%H:%M:%S\")\n",
    "print(\"Current Time is:\", current_time)\n",
    "print(\"Current Parameters:\",params)\n",
    "X=Forward_Sampling(T,n,G,F,params)\n",
    "print(\"forward_sampling:\\n\",X)\n",
    "now = datetime.now()\n",
    "current_time = now.strftime(\"%H:%M:%S\")\n",
    "print(\"Start gibbs sampling: \\n Current Time is:\", current_time)\n",
    "Zflat = np.hstack(Z)\n",
    "Xflat = np.hstack(X)\n",
    "result = 1 - spatial.distance.cosine(Zflat, Xflat)\n",
    "print(np.sum(X))\n",
    "print(\"Accuracy:\",result)\n",
    "X=Calculate_X(Z,K,T,X,G+np.identity(n,dtype=int),F,Y,params)\n",
    "now = datetime.now()\n",
    "current_time = now.strftime(\"%H:%M:%S\")\n",
    "print(\"Current Time is :\", current_time)\n",
    "print(\"Gibbs_sampling\\n\",X)\n",
    "winsound.Beep(freq, duration)"
   ]
  },
  {
   "cell_type": "code",
   "execution_count": null,
   "metadata": {},
   "outputs": [],
   "source": [
    "Y=Y_"
   ]
  },
  {
   "cell_type": "markdown",
   "metadata": {},
   "source": [
    "# The following is for family test result problem:"
   ]
  },
  {
   "cell_type": "code",
   "execution_count": null,
   "metadata": {},
   "outputs": [],
   "source": [
    "# Synthetize data for famity test result problem"
   ]
  },
  {
   "cell_type": "code",
   "execution_count": null,
   "metadata": {},
   "outputs": [],
   "source": []
  },
  {
   "cell_type": "code",
   "execution_count": null,
   "metadata": {},
   "outputs": [],
   "source": [
    "def Sample_alpha(a_alpha, b_alpha):\n",
    "    for i in beta.rvs(a_alpha, b_alpha, size=1000):\n",
    "        if (i>0.029)&(i<0.051):\n",
    "            alpha_=round(i,3)\n",
    "            break\n",
    "    return alpha_        \n"
   ]
  },
  {
   "cell_type": "code",
   "execution_count": null,
   "metadata": {},
   "outputs": [],
   "source": [
    "def Sample_beta(a_beta, b_beta):\n",
    "    for i in beta.rvs(a_beta, b_beta, size=10000):\n",
    "        if (i>0.00491)&(i<0.01451):\n",
    "            beta_=round(i,4)\n",
    "            break\n",
    "    return beta_        \n"
   ]
  },
  {
   "cell_type": "code",
   "execution_count": null,
   "metadata": {},
   "outputs": [],
   "source": [
    "def Sample_gama(a_gama,b_gama):\n",
    "    for i in beta.rvs(a_gama, b_gama, size=1000):\n",
    "        if (i>0.291)&(i<0.31):\n",
    "            gama_=round(i,3)\n",
    "            break\n",
    "    return gama_  \n"
   ]
  },
  {
   "cell_type": "code",
   "execution_count": null,
   "metadata": {},
   "outputs": [],
   "source": [
    "def Sample_theta0(a_teta0, b_teta0):\n",
    "    for i in beta.rvs(a_teta0, b_teta0, size=10000):\n",
    "        print(i)\n",
    "        if (i<0.19975):\n",
    "            theta_0_=round(i,3)\n",
    "            break\n",
    "    return theta_0_  \n"
   ]
  },
  {
   "cell_type": "code",
   "execution_count": null,
   "metadata": {},
   "outputs": [],
   "source": [
    "def Sample_theta1(a_teta1, b_teta1):\n",
    "    for i in beta.rvs(a_teta1, b_teta1, size=100000):\n",
    "        if .9901>i>0.8:\n",
    "            theta_1_=round(i,3)\n",
    "            break\n",
    "    return theta_1_  \n"
   ]
  },
  {
   "cell_type": "code",
   "execution_count": null,
   "metadata": {},
   "outputs": [],
   "source": [
    "# initialize parameters for beta distributions:\n",
    "a_alpha=2\n",
    "b_alpha=7\n",
    "a_beta=2\n",
    "b_beta=10\n",
    "a_gama=1\n",
    "b_gama=3\n",
    "a_teta0=.1\n",
    "b_teta0=500\n",
    "a_teta1=4000\n",
    "b_teta1=100"
   ]
  },
  {
   "cell_type": "code",
   "execution_count": null,
   "metadata": {},
   "outputs": [],
   "source": [
    "# Choose some params close to obtimized params:\n",
    "alpha_= 0.05\n",
    "beta_= 0.01\n",
    "gama_= 0.3\n",
    "theta_0_= 0.07\n",
    "theta_1_= 0.8\n",
    "params=[]\n",
    "params.append([alpha_,beta_,gama_,theta_0_,theta_1_,p_])"
   ]
  },
  {
   "cell_type": "code",
   "execution_count": null,
   "metadata": {},
   "outputs": [],
   "source": [
    "#Sample infection and emision parameters(alpha,beta,gama,teta0,teta1)\n",
    "alpha_=Sample_alpha(a_alpha, b_alpha)\n",
    "beta_=Sample_beta(a_beta, b_beta)\n",
    "gama_=Sample_gama(a_gama,b_gama)\n",
    "theta_0_=Sample_theta0(a_teta0, b_teta0)\n",
    "theta_1_=Sample_theta1(a_teta1, b_teta1)"
   ]
  },
  {
   "cell_type": "code",
   "execution_count": null,
   "metadata": {},
   "outputs": [],
   "source": [
    "params=np.array([alpha_,beta_,gama_,theta_0_,theta_1_])\n",
    "params"
   ]
  },
  {
   "cell_type": "code",
   "execution_count": null,
   "metadata": {},
   "outputs": [],
   "source": [
    "#Use uptimized params:\n",
    "number_families=4\n",
    "alpha_=params[0]\n",
    "beta_=params[1]\n",
    "gama_=params[2]\n",
    "theta_0_=params[3]\n",
    "theta_1_=params[4]    \n",
    "p_=0.9"
   ]
  },
  {
   "cell_type": "code",
   "execution_count": null,
   "metadata": {},
   "outputs": [],
   "source": [
    "# Synthetize the \"Family\" matrix, which denotes that each two individuals are in the same family or not:\n",
    "a=list(range(n))\n",
    "Family=np.identity(n,dtype=int)\n",
    "for i in range(1,number_families):\n",
    "    number_family_members=np.random.randint(2, 5)\n",
    "    inx=random.sample(list(a), number_family_members)\n",
    "    a=set(a).difference(inx)\n",
    "    for j in inx:\n",
    "        for k in inx:\n",
    "            Family[j,k]=1\n",
    "F=Family\n",
    "F1=F-np.identity(n, dtype=int)"
   ]
  },
  {
   "cell_type": "code",
   "execution_count": null,
   "metadata": {},
   "outputs": [],
   "source": [
    "# Synthetize G,Y,X:\n",
    "n,T,y=10,10,2\n",
    "synthetic_data=Synthetic_Data(n,T,y,params)\n",
    "G,Y,X =synthetic_data[0],synthetic_data[1],synthetic_data[2]"
   ]
  },
  {
   "cell_type": "markdown",
   "metadata": {},
   "source": [
    "# Simulation data is ready now, YF,G,Family:"
   ]
  },
  {
   "cell_type": "code",
   "execution_count": null,
   "metadata": {},
   "outputs": [],
   "source": [
    "F"
   ]
  },
  {
   "cell_type": "code",
   "execution_count": null,
   "metadata": {},
   "outputs": [],
   "source": [
    "G[1]"
   ]
  },
  {
   "cell_type": "code",
   "execution_count": null,
   "metadata": {},
   "outputs": [],
   "source": []
  },
  {
   "cell_type": "code",
   "execution_count": null,
   "metadata": {},
   "outputs": [],
   "source": []
  },
  {
   "cell_type": "code",
   "execution_count": null,
   "metadata": {},
   "outputs": [],
   "source": []
  },
  {
   "cell_type": "code",
   "execution_count": null,
   "metadata": {},
   "outputs": [],
   "source": []
  },
  {
   "cell_type": "code",
   "execution_count": null,
   "metadata": {},
   "outputs": [],
   "source": []
  },
  {
   "cell_type": "code",
   "execution_count": null,
   "metadata": {},
   "outputs": [],
   "source": [
    "# ایده اول برای مین فیلد و شبه مشاهدات"
   ]
  },
  {
   "cell_type": "code",
   "execution_count": null,
   "metadata": {},
   "outputs": [],
   "source": [
    "y=np.zeros((n,T))\n",
    "for i in range(n):\n",
    "    for j in range(n):\n",
    "         if unique_rows[j,i]==1:\n",
    "                break\n",
    "    for t in range(T):\n",
    "       \n",
    "        y[i,t]=int(YF[j,t]-np.dot(np.multiply(unique_rows[j],X.T[t]),W)+X[i,t]*W[i])\n",
    "        y = np.where(y <0, 0, y)\n",
    "y "
   ]
  },
  {
   "cell_type": "code",
   "execution_count": null,
   "metadata": {},
   "outputs": [],
   "source": [
    "params"
   ]
  },
  {
   "cell_type": "code",
   "execution_count": null,
   "metadata": {},
   "outputs": [],
   "source": [
    "# Run Forward sampling algorithm to estimate X:\n",
    "U=10\n",
    "J=100\n",
    "P=p_\n",
    "X=Forward_Sampling(T,n,G,params)\n",
    "X=Calculate_X(J,T,n,X,G,y,params)\n",
    "winsound.Beep(freq, duration)"
   ]
  },
  {
   "cell_type": "code",
   "execution_count": null,
   "metadata": {},
   "outputs": [],
   "source": [
    "# define auxiliary variable R(n,t):\n",
    "R=np.zeros((n,T))+1\n",
    "infR=np.array(CNbr(G,X,n,T))\n",
    "for i in range(n):\n",
    "    for t in range(T-1):\n",
    "        infr=int(infR[i,t])\n",
    "        pr_a=alpha_/(alpha_+beta_*infr)\n",
    "        pr_b=beta_/(alpha_+beta_*infr)\n",
    "        v=np.random.multinomial(1, [pr_a]+[pr_b]*infr)\n",
    "        if (X[i][t]==0)&(X[i][t+1]==1):\n",
    "                if v[0]==1:\n",
    "                    R[i,t]=0\n",
    "                else: \n",
    "                    R[i,t]=2"
   ]
  },
  {
   "cell_type": "code",
   "execution_count": null,
   "metadata": {},
   "outputs": [],
   "source": [
    "for i in range(U):\n",
    "    print(\"******************* Iteration:\",i,\"*****************************************************************************\")\n",
    "    now = datetime.now()\n",
    "    current_time = now.strftime(\"%H:%M:%S\")\n",
    "    print(\"Current Time is :\", current_time)\n",
    "    prm=Params(R,G,X,n,T,y,params)\n",
    "    params=prm[0]\n",
    "    print(\"updated parameters:\",params)\n",
    "    X=Calculate_X(J,T,n,X,G,y,params)\n",
    "    print(\"Verctor of Health States:\",\"\\n\",X)\n",
    "    R=prm[1]\n",
    "winsound.Beep(freq, duration)"
   ]
  },
  {
   "cell_type": "code",
   "execution_count": null,
   "metadata": {},
   "outputs": [],
   "source": [
    "for i in range(n):\n",
    "    for t in range(T):\n",
    "        if X[i,t]==0:\n",
    "            yy[i,t]=np.random.binomial( 1, theta_0_,size=None) "
   ]
  },
  {
   "cell_type": "code",
   "execution_count": null,
   "metadata": {},
   "outputs": [],
   "source": [
    "print(np.sum(X),np.sum(Z),np.count_nonzero(Z-X))"
   ]
  },
  {
   "cell_type": "code",
   "execution_count": null,
   "metadata": {},
   "outputs": [],
   "source": [
    "# ایده دوم برای مین فیلد و شبه مشاهدات"
   ]
  },
  {
   "cell_type": "code",
   "execution_count": null,
   "metadata": {},
   "outputs": [],
   "source": [
    "# Save true X in Z:\n",
    "Z=X"
   ]
  },
  {
   "cell_type": "code",
   "execution_count": null,
   "metadata": {},
   "outputs": [],
   "source": [
    "#initialize parameters a0,b0,a1,b1:\n",
    "A=np.round(np.random.uniform(0, 10, (4,1)),3)\n",
    "a0,b0,a1,b1=A[0][0],A[1][0],A[2][0],A[3][0]\n",
    "print(a0,b0,a1,b1)"
   ]
  },
  {
   "cell_type": "code",
   "execution_count": null,
   "metadata": {},
   "outputs": [],
   "source": [
    "def Sample_Sudo_theta0(a0, b0):\n",
    "    for i in beta.rvs(a0, b0, size=10000):\n",
    "        if (i>0.001)&(i<0.5):\n",
    "            theta0=round(i,3)\n",
    "            break\n",
    "    return theta0  "
   ]
  },
  {
   "cell_type": "code",
   "execution_count": null,
   "metadata": {},
   "outputs": [],
   "source": [
    "def Sample_Sudo_theta1(a1, b1):\n",
    "    for i in beta.rvs(a1, b1, size=100000):\n",
    "        if .9901>i>0.5:\n",
    "            theta1=round(i,3)\n",
    "            break\n",
    "    return theta1  \n"
   ]
  },
  {
   "cell_type": "code",
   "execution_count": null,
   "metadata": {},
   "outputs": [],
   "source": [
    "theta0=Sample_Sudo_theta0(a0, b0)\n",
    "theta0"
   ]
  },
  {
   "cell_type": "code",
   "execution_count": null,
   "metadata": {},
   "outputs": [],
   "source": [
    "theta1=Sample_Sudo_theta1(a1, b1)\n",
    "theta1"
   ]
  },
  {
   "cell_type": "code",
   "execution_count": null,
   "metadata": {},
   "outputs": [],
   "source": [
    "y=np.zeros((n,T))\n"
   ]
  },
  {
   "cell_type": "code",
   "execution_count": null,
   "metadata": {},
   "outputs": [],
   "source": [
    "def Calculate_Sudo_observations(a0,b0,a1,b1,X):\n",
    "    for i in range(n):\n",
    "        j=family_index(i,unique_rows)\n",
    "        for t in range(T):\n",
    "            if YF[j,t]==1:\n",
    "                theta1=Sample_Sudo_theta1(a1+YF[j,t]*np.sum(unique_rows[j])-np.sum(X[unique_rows[j]==1,t])+X[i,t], b1+np.sum(X[unique_rows[j]==1,t])-X[i,t])\n",
    "                y[i,t]=np.random.binomial( 1, theta1,size=None)\n",
    "            else:\n",
    "                y[i,t]=0\n",
    "    return y"
   ]
  },
  {
   "cell_type": "code",
   "execution_count": null,
   "metadata": {},
   "outputs": [],
   "source": [
    "# Run Forward sampling algorithm to estimate X:\n",
    "U=10\n",
    "J=1000\n",
    "P=p_\n",
    "X=Forward_Sampling(T,n,G,params)\n",
    "y=Calculate_Sudo_observations(a0,b0,a1,b1,X)\n",
    "X=Calculate_X(J,T,n,X,G,y,params)\n",
    "winsound.Beep(freq, duration)"
   ]
  },
  {
   "cell_type": "code",
   "execution_count": null,
   "metadata": {},
   "outputs": [],
   "source": [
    "# define auxiliary variable R(n,t):\n",
    "R=np.zeros((n,T))+1\n",
    "infR=np.array(CNbr(G,X,n,T))\n",
    "for i in range(n):\n",
    "    for t in range(T-1):\n",
    "        infr=int(infR[i,t])\n",
    "        pr_a=alpha_/(alpha_+beta_*infr)\n",
    "        pr_b=beta_/(alpha_+beta_*infr)\n",
    "        v=np.random.multinomial(1, [pr_a]+[pr_b]*infr)\n",
    "        if (X[i][t]==0)&(X[i][t+1]==1):\n",
    "                if v[0]==1:\n",
    "                    R[i,t]=0\n",
    "                else: \n",
    "                    R[i,t]=2"
   ]
  },
  {
   "cell_type": "code",
   "execution_count": null,
   "metadata": {},
   "outputs": [],
   "source": [
    "for i in range(U):\n",
    "    print(\"******************* Iteration:\",i,\"*****************************************************************************\")\n",
    "    now = datetime.now()\n",
    "    current_time = now.strftime(\"%H:%M:%S\")\n",
    "    print(\"Current Time is :\", current_time)\n",
    "    prm=Params(R,G,X,n,T,y,params)\n",
    "    params=prm[0]\n",
    "    print(\"updated parameters:\",params)\n",
    "    y=Calculate_Sudo_observations(a0,b0,a1,b1,X)\n",
    "    X=Calculate_X(J,T,n,X,G,y,params)\n",
    "    print(\"Verctor of Health States:\",\"\\n\",X)\n",
    "    R=prm[1]\n",
    "winsound.Beep(freq, duration)\n",
    "    \n",
    "    "
   ]
  },
  {
   "cell_type": "code",
   "execution_count": null,
   "metadata": {},
   "outputs": [],
   "source": [
    "params"
   ]
  },
  {
   "cell_type": "code",
   "execution_count": null,
   "metadata": {},
   "outputs": [],
   "source": [
    "#y=Calculate_Sudo_observations(a0,b0,a1,b1,X)\n",
    "for i in range(n):\n",
    "    for t in range(T):\n",
    "        j=family_index(i,unique_rows)\n",
    "        if YF[j,t]==1:\n",
    "            if (np.sum(X[unique_rows[j]==1,t]))==0:\n",
    "                print(np.sum(X[unique_rows[j]==1,t]))"
   ]
  },
  {
   "cell_type": "code",
   "execution_count": null,
   "metadata": {},
   "outputs": [],
   "source": [
    "Y=np.zeros((n,T))\n",
    "for i in range(n):\n",
    "    for j in range(unique_rows.shape[0]):\n",
    "        if unique_rows[j,i]==1:\n",
    "            Y[i,:]=YF[j,:]"
   ]
  },
  {
   "cell_type": "code",
   "execution_count": null,
   "metadata": {},
   "outputs": [],
   "source": [
    "np.sum(y)"
   ]
  },
  {
   "cell_type": "code",
   "execution_count": null,
   "metadata": {},
   "outputs": [],
   "source": [
    "print(np.sum(X),np.sum(Z),np.count_nonzero(Z-X))"
   ]
  },
  {
   "cell_type": "code",
   "execution_count": null,
   "metadata": {},
   "outputs": [],
   "source": []
  },
  {
   "cell_type": "code",
   "execution_count": null,
   "metadata": {},
   "outputs": [],
   "source": [
    "# sample parameter of sudo obsarvations:\n",
    "def Sample_theta(a, b):\n",
    "    for i in beta.rvs(a, b, size=10000):\n",
    "        if (i>0.3)&(i<0.6):\n",
    "            theta=round(i,3)\n",
    "            break\n",
    "    return theta "
   ]
  }
 ],
 "metadata": {
  "kernelspec": {
   "display_name": "Python 3",
   "language": "python",
   "name": "python3"
  },
  "language_info": {
   "codemirror_mode": {
    "name": "ipython",
    "version": 3
   },
   "file_extension": ".py",
   "mimetype": "text/x-python",
   "name": "python",
   "nbconvert_exporter": "python",
   "pygments_lexer": "ipython3",
   "version": "3.8.5"
  }
 },
 "nbformat": 4,
 "nbformat_minor": 4
}
