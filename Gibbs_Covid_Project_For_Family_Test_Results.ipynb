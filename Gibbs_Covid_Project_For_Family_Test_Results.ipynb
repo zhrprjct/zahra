{
 "cells": [
  {
   "cell_type": "markdown",
   "metadata": {},
   "source": [
    "# Python code of Gibbs sampling model for family test result Covid problem"
   ]
  },
  {
   "cell_type": "code",
   "execution_count": 1,
   "metadata": {},
   "outputs": [],
   "source": [
    "# import neccessary libraries\n",
    "import numpy as np\n",
    "import random\n",
    "import sympy as sym\n",
    "from joblib import Parallel, delayed\n",
    "from sympy import *\n",
    "from sympy import symbols\n",
    "from sympy.plotting import plot, plot3d\n",
    "from datetime import datetime\n",
    "from scipy.stats import beta\n",
    "import winsound\n",
    "duration = 1000  # milliseconds\n",
    "freq = 440  # Hz"
   ]
  },
  {
   "cell_type": "code",
   "execution_count": 2,
   "metadata": {},
   "outputs": [],
   "source": [
    "# function to count the number of the infected neighbores of i at t:\n",
    "def CNbr(G,X,n,T):\n",
    "    C=np.zeros((T,n))\n",
    "    for t in range(T):\n",
    "        C[t]=G[t].dot(X.T[t])\n",
    "    return C.T"
   ]
  },
  {
   "cell_type": "code",
   "execution_count": 3,
   "metadata": {},
   "outputs": [],
   "source": [
    "# Function to obtain the very initial sample of X, using forwad sampling:\n",
    "def Forward_Sampling(T,n,G,F,param):\n",
    "    \n",
    "    alpha_=param[0]\n",
    "    bata_=param[1]\n",
    "    bataf=param[2]\n",
    "    gama_=param[3]\n",
    "    p0=P\n",
    "    p1=1-P\n",
    "    x=int(np.round(((1-P)*n),0))\n",
    "    X=np.zeros((n,T))  \n",
    "    idx=np.random.choice(range(n), x)\n",
    "    X[idx,0]=1\n",
    "    infR=CNbr(G,X,n,T)\n",
    "    for t in range(T-1):\n",
    "        cf=F.dot(X.T[t])\n",
    "        for i in range(n):\n",
    "            c=infR[i,t]\n",
    "            if X[i,t]==0:\n",
    "                p0=(1-alpha_-beta_*c-betaf*cf[i])\n",
    "                p1=(alpha_+beta_*c+betaf*cf[i])\n",
    "            else:\n",
    "                p0=(gama_)\n",
    "                p1=(1-gama_)\n",
    "            if p0+p1==0:\n",
    "                l=0.5\n",
    "            else:\n",
    "                l=p1/(p0+p1)\n",
    "            X[i,t+1]=np.random.binomial( 1, l,size=None) \n",
    "    return X"
   ]
  },
  {
   "cell_type": "code",
   "execution_count": 44,
   "metadata": {},
   "outputs": [],
   "source": [
    "def Sample_hidden_state(X,G,F,unique_rows,Y,param,t):\n",
    "    \n",
    "    alpha_=param[0]\n",
    "    beta_=param[1]\n",
    "    bataf=param[2]\n",
    "    gama_=param[3]\n",
    "    theta_0_=param[4]\n",
    "    thata_1_=param[5]\n",
    "    \n",
    "       \n",
    "    for i in range(n):\n",
    "        p_0,p_1=0,0\n",
    "        if t==0:\n",
    "            p_0,p_1=P,1-P\n",
    "        else:\n",
    "            p_0,p_1=1,1\n",
    "        pow0=1-Y[i,t]\n",
    "        pow1=Y[i,t]\n",
    "        number_of_members_in_family=np.sum(unique_rows[family_index(i,unique_rows)])\n",
    "        \n",
    "        X[i,t]=0\n",
    "        number_of_infected_members_in_family0=F.dot(X.T[t])[i]\n",
    "        number_of_healthy_members_in_family0=number_of_members_in_family-number_of_infected_members_in_family0\n",
    "        p_0=(1/number_of_members_in_family)*p_0*((1-theta_0_)*number_of_healthy_members_in_family0+(1-theta_1_)*number_of_infected_members_in_family0)**pow0*(theta_1_*number_of_infected_members_in_family0+theta_0_*number_of_healthy_members_in_family0)**pow1\n",
    "        \n",
    "        X[i,t]=1\n",
    "        number_of_infected_members_in_family1=F.dot(X.T[t])[i]\n",
    "        number_of_healthy_members_in_family1=number_of_members_in_family-number_of_infected_members_in_family1\n",
    "        p_1=(1/number_of_members_in_family)*p_1*((1-theta_0_)*number_of_healthy_members_in_family1+(1-theta_1_)*number_of_infected_members_in_family1)**pow0*(theta_1_*number_of_infected_members_in_family1+theta_0_*number_of_healthy_members_in_family1)**pow1\n",
    "        \n",
    "        X[i,t]=0\n",
    "        if (t==0):\n",
    "            c=G[t].dot(X.T[t])[i]\n",
    "        else:    \n",
    "            c=G[t-1].dot(X.T[t-1])[i]\n",
    "        if t!=T-1:\n",
    "            if X[i,t+1]==0:\n",
    "                p_0=p_0*(1-alpha_-beta_*c-betaf*number_of_infected_members_in_family0)\n",
    "                p_1=p_1*gama_\n",
    "            else:\n",
    "                p_0=p_0*(alpha_+beta_*c+betaf*number_of_infected_members_in_family0)\n",
    "                p_1=p_1*(1-gama_)\n",
    "\n",
    "        X[i,t]=1\n",
    "        if (t==0):\n",
    "            c=G[t].dot(X.T[t])[i]\n",
    "        else:    \n",
    "            c=G[t-1].dot(X.T[t-1])[i]\n",
    "        if t!=T-1:\n",
    "            if X[i,t+1]==0:\n",
    "                p_0=p_0*(1-alpha_-beta_*c-betaf*number_of_infected_members_in_family1)\n",
    "                p_1=p_1*gama_\n",
    "            else:\n",
    "                p_0=p_0*(alpha_+beta_*c+betaf*number_of_infected_members_in_family1)\n",
    "                p_1=p_1*(1-gama_)\n",
    "        \n",
    "        family_members=unique_rows[family_index(i,unique_rows)]\n",
    "        if t!=T-1:        \n",
    "            X[i,t]=0\n",
    "            for j in np.where(family_members==1)[0]:\n",
    "                p_0=p_0*transition(X,t,G,F,j,params)\n",
    "            for j in np.where(G[t][i]==1)[0]:\n",
    "                p_0=p_0*transition(X,t,G,F,j,params)\n",
    "            X[i,t]=1\n",
    "            for j in np.where(family_members==1)[0]:\n",
    "                p_1=p_1*transition(X,t,G,F,j,params)\n",
    "            for j in np.where(G[t][i]==1)[0]:\n",
    "                p_1=p_1*transition(X,t,G,F,j,params)\n",
    "               \n",
    "                \n",
    "        if p_0+p_1==0:            \n",
    "            l=0.5\n",
    "        else:\n",
    "            l=p_1/(p_0+p_1)\n",
    "        X[i,t]=np.random.binomial( 1,  l,size=None)    \n",
    "        \n",
    "    return X    "
   ]
  },
  {
   "cell_type": "code",
   "execution_count": 30,
   "metadata": {},
   "outputs": [],
   "source": [
    "def transition(X,t,G,F,j,param):\n",
    "    alpha_=param[0]\n",
    "    bata_=param[1]\n",
    "    bataf=param[2]\n",
    "    gama_=param[3]\n",
    "    c=G[t].dot(X.T[t])[j]\n",
    "    number_of_infected_members_in_family=F.dot(X.T[t])[j]\n",
    "    k=X[j,t]-2*X[j,t+1]\n",
    "    if k==0:\n",
    "        return 1-alpha_-beta_*c-betaf*number_of_infected_members_in_family\n",
    "    elif k==-2:\n",
    "        return alpha_+beta_*c+betaf*number_of_infected_members_in_family\n",
    "    elif k==1:\n",
    "        return gama_\n",
    "    else:\n",
    "        return 1-gama_\n",
    "    "
   ]
  },
  {
   "cell_type": "code",
   "execution_count": null,
   "metadata": {},
   "outputs": [],
   "source": [
    "A=X[np.where(family_members==1),t]-2*X[np.where(family_members==1),t+1]\n",
    "            pow00=np.count_nonzero(A==0)\n",
    "            pow11=np.count_nonzero(A==-1)\n",
    "            pow10=np.count_nonzero(A==1)\n",
    "            pow01=np.count_nonzero(A==-2)\n",
    "            p_0=p_0*stay_healthy0**pow00*become_infected0**pow01*stay_infected**pow11*recovered**pow10\n",
    "            \n",
    "            X[i,t]=1\n",
    "            B=X[np.where(family_members==1),t]-2*X[np.where(family_members==1),t+1]\n",
    "            pow00=np.count_nonzero(B==0)\n",
    "            pow11=np.count_nonzero(B==-1)\n",
    "            pow10=np.count_nonzero(B==1)\n",
    "            pow01=np.count_nonzero(B==-2)\n",
    "            p_1=p_1*stay_healthy1**pow00*become_infected1**pow01*stay_infected**pow11*recovered**pow10            \n",
    "            X[i,t]=0\n",
    "            state_transition=X.T[t]+2*X.T[t+1]+1\n",
    "            key=np.multiply(G[t][i],state_transition)\n",
    "            pow_stay_healthy=pow_stay_healthy+np.count_nonzero(key == 4)\n",
    "            pow_become_infected=pow_become_infected+np.count_nonzero(key == 3)\n",
    "            pow_recovery=pow_recovery+np.count_nonzero(key == 2)\n",
    "            pow_stay_infected=pow_stay_infected+np.count_nonzero(key ==1)\n",
    "            p0=p_0*(stay_healthy_0)**pow_stay_healthy*(become_infected_0)**pow_become_infected*recovered**pow_recovery*stay_infected**pow_stay_infected\n",
    "            X[i,t]=1\n",
    "            state_transition=X.T[t]+2*X.T[t+1]+1\n",
    "            key=np.multiply(G[t][i],state_transition)\n",
    "            pow_stay_healthy=pow_stay_healthy+np.count_nonzero(key == 4)\n",
    "            pow_become_infected=pow_become_infected+np.count_nonzero(key == 3)\n",
    "            pow_recovery=pow_recovery+np.count_nonzero(key == 2)\n",
    "            pow_stay_infected=pow_stay_infected+np.count_nonzero(key ==1)\n",
    "            p1=p_1*(stay_healthy_1)**pow_stay_healthy*(become_infected_1)**pow_become_infected*recovered**pow_recovery*stay_infected**pow_stay_infected\n"
   ]
  },
  {
   "cell_type": "code",
   "execution_count": 6,
   "metadata": {},
   "outputs": [],
   "source": [
    "# Gibbs sampling to obtain X, as new sample of posterior distribution:\n",
    "def Calculate_X(K,T,X,G,F1,Y,param):\n",
    "    for k in range(K):\n",
    "        for t in range(T):\n",
    "            X=Sample_hidden_state(X,G,F1,unique_rows,Y,param,t)\n",
    "    return X                "
   ]
  },
  {
   "cell_type": "markdown",
   "metadata": {},
   "source": [
    "# Functions to sample from beta distribution\n"
   ]
  },
  {
   "cell_type": "code",
   "execution_count": 7,
   "metadata": {},
   "outputs": [],
   "source": [
    "# function to sample new parameters and update parameters:\n",
    "def Params(R,G,F,X,n,T,Y,param):\n",
    "    \n",
    "    alpha_=param[0]\n",
    "    bata_=param[1]\n",
    "    bataf=param[2]\n",
    "    gama_=param[3]\n",
    "    theta_0_=param[4]\n",
    "    thata_1_=param[5]    \n",
    "   \n",
    "    TP=np.sum(np.multiply(unique_rows.dot(X),YF))\n",
    "    FP=np.count_nonzero(unique_rows.dot(X)-YF==-1)\n",
    "    \n",
    "    infR=np.array(CNbr(G,X,n,T))\n",
    "    alpha_=Sample_alpha(a_alpha +  np.count_nonzero(R==0) , b_alpha +np.count_nonzero(X==0)- np.count_nonzero(R==0))\n",
    "    beta_=Sample_beta(a_beta + np.count_nonzero(R==2) , b_beta +np.sum(np.multiply((1-X),infR))-np.count_nonzero(R==2))\n",
    "    betaf=Sample_betaf(a_betaf + np.count_nonzero(R==3) , b_betaf +np.sum(np.multiply((1-X),F.dot(X)))-np.count_nonzero(R==3))\n",
    "    gama_=Sample_gama(a_gama +np.count_nonzero((X[:,:-1]-X[:,1:])==1), b_gama+np.sum(X)-np.count_nonzero((X[:,:-1]-X[:,1:])==1))\n",
    "    theta_0_=Sample_theta0( a_teta0+FP,b_teta0+np.count_nonzero((unique_rows.dot(X))==0)-FP)\n",
    "    theta_1_=Sample_theta1( a_teta1+TP,b_teta1+np.sum(unique_rows.dot(X))-TP)\n",
    "    \n",
    "    R=np.zeros((n,T))+1\n",
    "    for i in range(n):\n",
    "        for t in range(T-1):\n",
    "            infr=int(infR[i,t])\n",
    "            cf=int(F.dot(X.T[t])[i])\n",
    "            pr_a=alpha_/(alpha_+beta_*infr+betaf*cf)\n",
    "            pr_b=beta_/(alpha_+beta_*infr+betaf*cf)\n",
    "            pr_bf=betaf/(alpha_+beta_*infr+betaf*cf)\n",
    "            v=np.random.multinomial(1, [pr_a]+[pr_b]*infr+[pr_bf]*cf)\n",
    "            if (X[i][t]==0)&(X[i][t+1]==1):\n",
    "                if v[0]==1:\n",
    "                    R[i,t]=0\n",
    "                elif (cf!=0):\n",
    "                    if ((np.equal(1,v[-cf:])).any):\n",
    "                        R[i,t]=3\n",
    "                else:    \n",
    "                    R[i,t]=2\n",
    "    param=[alpha_,beta_,betaf,gama_,theta_0_,theta_1_]\n",
    "    return param,R"
   ]
  },
  {
   "cell_type": "code",
   "execution_count": 8,
   "metadata": {},
   "outputs": [],
   "source": [
    "def Sample_alpha(a_alpha, b_alpha):\n",
    "    for i in beta.rvs(a_alpha, b_alpha, size=10000):\n",
    "        if (i>0.001)&(i<0.091):\n",
    "            alpha_=round(i,3)\n",
    "            break\n",
    "    return alpha_        \n"
   ]
  },
  {
   "cell_type": "code",
   "execution_count": 9,
   "metadata": {},
   "outputs": [],
   "source": [
    "def Sample_beta(a_beta, b_beta):\n",
    "    for i in beta.rvs(a_beta, b_beta, size=10000):\n",
    "        if (i>0.001)&(i<0.0451):\n",
    "            beta_=round(i,4)\n",
    "            break\n",
    "    return beta_        "
   ]
  },
  {
   "cell_type": "code",
   "execution_count": 10,
   "metadata": {},
   "outputs": [],
   "source": [
    "def Sample_betaf(a_betaf, b_betaf):\n",
    "    for i in beta.rvs(a_betaf, b_betaf, size=10000):\n",
    "        if (i>0.001)&(i<0.091):\n",
    "            betaf=round(i,4)\n",
    "            break\n",
    "    return betaf        "
   ]
  },
  {
   "cell_type": "code",
   "execution_count": 11,
   "metadata": {},
   "outputs": [],
   "source": [
    "def Sample_gama(a_gama,b_gama):\n",
    "    for i in beta.rvs(a_gama, b_gama, size=10000):\n",
    "        if (i>0.1)&(i<0.7):\n",
    "            gama_=round(i,3)\n",
    "            break\n",
    "    return gama_  "
   ]
  },
  {
   "cell_type": "code",
   "execution_count": 12,
   "metadata": {},
   "outputs": [],
   "source": [
    "def Sample_theta0(a_teta0, b_teta0):\n",
    "    for i in beta.rvs(a_teta0, b_teta0, size=10000):\n",
    "        print(i,a_teta0, b_teta0)\n",
    "        if (i>0.001)&(i<0.51):\n",
    "            theta_0_=round(i,3)\n",
    "            break\n",
    "    return theta_0_  "
   ]
  },
  {
   "cell_type": "code",
   "execution_count": 13,
   "metadata": {},
   "outputs": [],
   "source": [
    "def Sample_theta1(a_teta1, b_teta1):\n",
    "    for i in beta.rvs(a_teta1, b_teta1, size=10000):\n",
    "        print(i,a_teta1, b_teta1)\n",
    "        if i>0.6:\n",
    "            theta_1_=round(i,3)\n",
    "            break\n",
    "    return theta_1_  "
   ]
  },
  {
   "cell_type": "code",
   "execution_count": 14,
   "metadata": {},
   "outputs": [],
   "source": [
    "# initialize parameters for beta distributions:\n",
    "a_alpha=1\n",
    "b_alpha=10\n",
    "a_beta=1\n",
    "b_beta=5\n",
    "a_betaf=1\n",
    "b_betaf=6\n",
    "a_gama=1\n",
    "b_gama=2\n",
    "a_teta0=1\n",
    "b_teta0=1000\n",
    "a_teta1=1000\n",
    "b_teta1=1\n",
    "P=.8"
   ]
  },
  {
   "cell_type": "code",
   "execution_count": 15,
   "metadata": {},
   "outputs": [
    {
     "name": "stdout",
     "output_type": "stream",
     "text": [
      "0.0012593259538197848 1 1000\n",
      "0.999001581119122 1000 1\n"
     ]
    }
   ],
   "source": [
    "#Sample infection and emision parameters(alpha,beta,gama,teta0,teta1)\n",
    "alpha_=Sample_alpha(a_alpha, b_alpha)\n",
    "beta_=Sample_beta(a_beta, b_beta)\n",
    "betaf=Sample_betaf(a_betaf, b_betaf)\n",
    "gama_=Sample_gama(a_gama,b_gama)\n",
    "theta_0_=Sample_theta0(a_teta0, b_teta0)\n",
    "theta_1_=Sample_theta1(a_teta1, b_teta1)"
   ]
  },
  {
   "cell_type": "code",
   "execution_count": 16,
   "metadata": {},
   "outputs": [
    {
     "data": {
      "text/plain": [
       "array([0.009 , 0.0393, 0.0804, 0.541 , 0.001 , 0.999 ])"
      ]
     },
     "execution_count": 16,
     "metadata": {},
     "output_type": "execute_result"
    }
   ],
   "source": [
    "params=np.array([alpha_,beta_,betaf,gama_,theta_0_,theta_1_])\n",
    "params"
   ]
  },
  {
   "cell_type": "code",
   "execution_count": 17,
   "metadata": {},
   "outputs": [],
   "source": [
    "# funtion to retun related family index of individual i:\n",
    "def family_index(i,unique_rows):\n",
    "    for j in range(n):\n",
    "        if unique_rows[j,i]==1:\n",
    "            return j"
   ]
  },
  {
   "cell_type": "code",
   "execution_count": 18,
   "metadata": {},
   "outputs": [],
   "source": [
    "# Function to generates Synthetic dataset\n",
    "def Synthetic_Data(n,T,y,params,number_families):\n",
    "    alpha_,beta_,betaf,gama_,theta_0_,theta_1_=params[0],params[1],params[2],params[3],params[4],params[5]\n",
    "    x=int(np.round(((1-P)*n),0))\n",
    "    X=np.zeros((n,T))\n",
    "    idx=np.random.choice(range(n), x)\n",
    "    X[idx,0]=1\n",
    "    # Random social network\n",
    "    G=[]\n",
    "    for j in range(T):\n",
    "        g=np.identity(n,dtype=int)\n",
    "        for i in range(n):\n",
    "            inx=np.random.choice(range(i,n), y)\n",
    "            g[i,inx]=1  \n",
    "            g[inx,i]=1\n",
    "        G.append(g)\n",
    "    G=np.array(G)\n",
    "    \n",
    "    # Synthetize Family matrix:\n",
    "    a=list(range(n))\n",
    "    Family=np.identity(n,dtype=int)\n",
    "    for i in range(1,number_families):\n",
    "        number_family_members=np.random.randint(2, 5)\n",
    "        inx=random.sample(list(a), number_family_members)\n",
    "        a=set(a).difference(inx)\n",
    "        for j in inx:\n",
    "            for k in inx:\n",
    "                Family[j,k]=1  \n",
    "    G=G-Family\n",
    "    Family=Family-np.identity(n,dtype=int)\n",
    "    G = np.where(G <0, 0, G)\n",
    "    # Synthetize X, using params,G, Family and transition probability:\n",
    "    \n",
    "    for t in range(T-1):\n",
    "        for i in range(n):\n",
    "            infR=CNbr(G,X,n,T)\n",
    "            cf=int(Family.dot(X.T[t])[i])\n",
    "            c=infR[i,t]\n",
    "            if X[i,t]==0:\n",
    "                p0=1-alpha_-beta_*c-betaf*cf\n",
    "                p1=alpha_+beta_*c+betaf*cf\n",
    "            else:\n",
    "                p0=gama_\n",
    "                p1=1-gama_\n",
    "            if p0+p1==0:\n",
    "                l=0.5\n",
    "            else:\n",
    "                l=p1/(p0+p1)\n",
    "            if (l<0)|(l>1):\n",
    "                print(p0,p1,l)\n",
    "            X[i,t+1]=np.random.binomial( 1, l,size=None) \n",
    "\n",
    "    # Synthetize Y, using params,G, X, emission probability:\n",
    "    Family=Family+np.identity(n,dtype=int)\n",
    "    unique_rows = np.unique(Family, axis=0)\n",
    "    nf=unique_rows.shape[0]\n",
    "    YF=np.zeros((nf,T))\n",
    "    for t in range(T):\n",
    "        for i in range(nf):\n",
    "            number_of_members_in_family=np.sum(unique_rows[i])\n",
    "            number_of_infected_members_in_family=unique_rows[i].dot(X.T[t])\n",
    "            number_of_healthy_members_in_family= number_of_members_in_family-number_of_infected_members_in_family\n",
    "            py1=(theta_0_*number_of_healthy_members_in_family+theta_1_*number_of_infected_members_in_family)/ number_of_members_in_family\n",
    "            py0=((1-theta_0_)*number_of_healthy_members_in_family+(1-theta_1_)*number_of_infected_members_in_family)/ number_of_members_in_family\n",
    "            l=py1/(py1+py0)\n",
    "            YF[i,t]=np.random.binomial( 1, l,size=None) \n",
    "    return G,YF,X,Family           "
   ]
  },
  {
   "cell_type": "code",
   "execution_count": 51,
   "metadata": {},
   "outputs": [],
   "source": [
    "# Generate synthetic data,G ,Y:\n",
    "n,T,y=100,100,10\n",
    "number_families=10\n",
    "synthetic_data=Synthetic_Data(n,T,y,params,number_families)\n",
    "G,YF,X,Family =synthetic_data[0],synthetic_data[1],synthetic_data[2],synthetic_data[3]"
   ]
  },
  {
   "cell_type": "code",
   "execution_count": 52,
   "metadata": {},
   "outputs": [
    {
     "data": {
      "text/plain": [
       "2838.0"
      ]
     },
     "execution_count": 52,
     "metadata": {},
     "output_type": "execute_result"
    }
   ],
   "source": [
    "# Save true value of X in Z, as the correct label of data:\n",
    "Z=X\n",
    "np.sum(Z)"
   ]
  },
  {
   "cell_type": "code",
   "execution_count": 53,
   "metadata": {},
   "outputs": [],
   "source": [
    "F=Family"
   ]
  },
  {
   "cell_type": "code",
   "execution_count": 54,
   "metadata": {},
   "outputs": [],
   "source": [
    "unique_rows = np.unique(F.T, axis=0)"
   ]
  },
  {
   "cell_type": "code",
   "execution_count": 55,
   "metadata": {},
   "outputs": [],
   "source": [
    "Y=np.zeros((n,T))\n",
    "for i in range(n):\n",
    "    for j in range(unique_rows.shape[0]):\n",
    "        if unique_rows[j,i]==1:\n",
    "            Y[i,:]=YF[j,:]"
   ]
  },
  {
   "cell_type": "code",
   "execution_count": 56,
   "metadata": {},
   "outputs": [],
   "source": [
    "# define auxiliary variable R(n,t):\n",
    "infR=np.array(CNbr(G,X,n,T))\n",
    "R=np.zeros((n,T))+1\n",
    "for i in range(n):\n",
    "    for t in range(T-1):\n",
    "        infr=int(infR[i,t])\n",
    "        cf=int(F.dot(X.T[t])[i])\n",
    "        pr_a=alpha_/(alpha_+beta_*infr+betaf*cf)\n",
    "        pr_b=beta_/(alpha_+beta_*infr+betaf*cf)\n",
    "        pr_bf=betaf/(alpha_+beta_*infr+betaf*cf)\n",
    "        v=np.random.multinomial(1, [pr_a]+[pr_b]*infr+[pr_bf]*cf)\n",
    "        if (X[i][t]==0)&(X[i][t+1]==1):\n",
    "            if v[0]==1:\n",
    "                R[i,t]=0\n",
    "            elif ((v[-cf:]==1).any())&(cf!=0): \n",
    "                R[i,t]=3\n",
    "            else:    \n",
    "                R[i,t]=2\n"
   ]
  },
  {
   "cell_type": "code",
   "execution_count": 57,
   "metadata": {},
   "outputs": [],
   "source": [
    "# Run Gibbs sampling algorithm to estimate X:\n",
    "U=1\n",
    "K=1\n",
    "X=Forward_Sampling(T,n,G,F,params)\n",
    "X=Calculate_X(K,T,X,G+np.identity(n,dtype=int),F,Y,params)\n",
    "winsound.Beep(freq, duration)"
   ]
  },
  {
   "cell_type": "code",
   "execution_count": 58,
   "metadata": {},
   "outputs": [],
   "source": [
    "# define auxiliary variable R(n,t):\n",
    "infR=np.array(CNbr(G,X,n,T))\n",
    "R=np.zeros((n,T))+1\n",
    "for i in range(n):\n",
    "    for t in range(T-1):\n",
    "        infr=int(infR[i,t])\n",
    "        cf=int(F.dot(X.T[t])[i])\n",
    "        pr_a=alpha_/(alpha_+beta_*infr+betaf*cf)\n",
    "        pr_b=beta_/(alpha_+beta_*infr+betaf*cf)\n",
    "        pr_bf=betaf/(alpha_+beta_*infr+betaf*cf)\n",
    "        v=np.random.multinomial(1, [pr_a]+[pr_b]*infr+[pr_bf]*cf)\n",
    "        if (X[i][t]==0)&(X[i][t+1]==1):\n",
    "            if v[0]==1:\n",
    "                R[i,t]=0\n",
    "            elif (cf!=0):\n",
    "                if ((v[-cf:]==1).any()):\n",
    "                    R[i,t]=3\n",
    "            else:    \n",
    "                R[i,t]=2\n"
   ]
  },
  {
   "cell_type": "code",
   "execution_count": 59,
   "metadata": {},
   "outputs": [
    {
     "data": {
      "text/plain": [
       "array([[0., 0., 0., ..., 1., 0., 0.],\n",
       "       [0., 0., 0., ..., 1., 1., 0.],\n",
       "       [0., 1., 1., ..., 1., 1., 1.],\n",
       "       ...,\n",
       "       [0., 1., 0., ..., 1., 1., 1.],\n",
       "       [0., 0., 0., ..., 0., 0., 1.],\n",
       "       [1., 1., 0., ..., 1., 1., 1.]])"
      ]
     },
     "execution_count": 59,
     "metadata": {},
     "output_type": "execute_result"
    }
   ],
   "source": [
    "X"
   ]
  },
  {
   "cell_type": "code",
   "execution_count": 60,
   "metadata": {},
   "outputs": [
    {
     "data": {
      "text/plain": [
       "2838.0"
      ]
     },
     "execution_count": 60,
     "metadata": {},
     "output_type": "execute_result"
    }
   ],
   "source": [
    "np.sum(Z)"
   ]
  },
  {
   "cell_type": "code",
   "execution_count": 61,
   "metadata": {},
   "outputs": [
    {
     "name": "stdout",
     "output_type": "stream",
     "text": [
      "******************* Iteration: 0 *****************************************************************************\n",
      "Current Time is : 18:23:02\n",
      "Current Parameters: [0.091, 0.0264, 0.004, 0.533, 0.001, 0.987]\n",
      "0.0014988431442750781 10 6469\n",
      "0.8907003928734919 3501.0 449.0\n",
      "Verctor of Health States: \n",
      " [[0. 0. 0. ... 1. 0. 0.]\n",
      " [0. 0. 0. ... 1. 1. 0.]\n",
      " [0. 1. 1. ... 1. 1. 1.]\n",
      " ...\n",
      " [0. 1. 0. ... 1. 1. 1.]\n",
      " [0. 0. 0. ... 0. 0. 1.]\n",
      " [0. 0. 1. ... 0. 1. 0.]]\n",
      "Current Parameters: [0.013, 0.0352, 0.0854, 0.535, 0.001, 0.891]\n"
     ]
    }
   ],
   "source": [
    "# Main code to run entire Gibbs algorithm U times:\n",
    "for i in range(U):\n",
    "    print(\"******************* Iteration:\",i,\"*****************************************************************************\")\n",
    "    now = datetime.now()\n",
    "    current_time = now.strftime(\"%H:%M:%S\")\n",
    "    print(\"Current Time is :\", current_time)\n",
    "    print(\"Current Parameters:\",params)\n",
    "    prm=Params(R,G,F,X,n,T,Y,params)\n",
    "    params=prm[0]\n",
    "    X=Calculate_X(K,T,X,G,F,Y,params)\n",
    "    print(\"Verctor of Health States:\",\"\\n\",X)\n",
    "    R=prm[1]\n",
    "winsound.Beep(freq, duration) \n",
    "print(\"Current Parameters:\",params)"
   ]
  },
  {
   "cell_type": "code",
   "execution_count": 62,
   "metadata": {},
   "outputs": [
    {
     "data": {
      "text/plain": [
       "3229.0"
      ]
     },
     "execution_count": 62,
     "metadata": {},
     "output_type": "execute_result"
    }
   ],
   "source": [
    "np.sum(X)"
   ]
  },
  {
   "cell_type": "code",
   "execution_count": null,
   "metadata": {},
   "outputs": [],
   "source": [
    "# synthetized observation vectore:\n",
    "Y_=np.zeros((n,T))\n",
    "for t in range(T):\n",
    "    for i in range(n):\n",
    "        if X[i,t]==0:\n",
    "            Y_[i,t]=np.random.binomial( 1, theta_0_,size=None) \n",
    "        else:\n",
    "            Y_[i,t]=np.random.binomial( 1, theta_1_,size=None) "
   ]
  },
  {
   "cell_type": "code",
   "execution_count": null,
   "metadata": {},
   "outputs": [],
   "source": []
  },
  {
   "cell_type": "code",
   "execution_count": 63,
   "metadata": {},
   "outputs": [
    {
     "name": "stdout",
     "output_type": "stream",
     "text": [
      "3229.0 2838.0 1259\n"
     ]
    }
   ],
   "source": [
    "print(np.sum(X),np.sum(Z),np.count_nonzero(X-Z))"
   ]
  },
  {
   "cell_type": "code",
   "execution_count": null,
   "metadata": {},
   "outputs": [],
   "source": [
    "Y=Y_"
   ]
  },
  {
   "cell_type": "markdown",
   "metadata": {},
   "source": [
    "# The following is for family test result problem:"
   ]
  },
  {
   "cell_type": "code",
   "execution_count": null,
   "metadata": {},
   "outputs": [],
   "source": [
    "# Synthetize data for famity test result problem"
   ]
  },
  {
   "cell_type": "code",
   "execution_count": null,
   "metadata": {},
   "outputs": [],
   "source": []
  },
  {
   "cell_type": "code",
   "execution_count": null,
   "metadata": {},
   "outputs": [],
   "source": [
    "def Sample_alpha(a_alpha, b_alpha):\n",
    "    for i in beta.rvs(a_alpha, b_alpha, size=1000):\n",
    "        if (i>0.029)&(i<0.051):\n",
    "            alpha_=round(i,3)\n",
    "            break\n",
    "    return alpha_        \n"
   ]
  },
  {
   "cell_type": "code",
   "execution_count": null,
   "metadata": {},
   "outputs": [],
   "source": [
    "def Sample_beta(a_beta, b_beta):\n",
    "    for i in beta.rvs(a_beta, b_beta, size=10000):\n",
    "        if (i>0.00491)&(i<0.01451):\n",
    "            beta_=round(i,4)\n",
    "            break\n",
    "    return beta_        \n"
   ]
  },
  {
   "cell_type": "code",
   "execution_count": null,
   "metadata": {},
   "outputs": [],
   "source": [
    "def Sample_gama(a_gama,b_gama):\n",
    "    for i in beta.rvs(a_gama, b_gama, size=1000):\n",
    "        if (i>0.291)&(i<0.31):\n",
    "            gama_=round(i,3)\n",
    "            break\n",
    "    return gama_  \n"
   ]
  },
  {
   "cell_type": "code",
   "execution_count": null,
   "metadata": {},
   "outputs": [],
   "source": [
    "def Sample_theta0(a_teta0, b_teta0):\n",
    "    for i in beta.rvs(a_teta0, b_teta0, size=10000):\n",
    "        print(i)\n",
    "        if (i<0.19975):\n",
    "            theta_0_=round(i,3)\n",
    "            break\n",
    "    return theta_0_  \n"
   ]
  },
  {
   "cell_type": "code",
   "execution_count": null,
   "metadata": {},
   "outputs": [],
   "source": [
    "def Sample_theta1(a_teta1, b_teta1):\n",
    "    for i in beta.rvs(a_teta1, b_teta1, size=100000):\n",
    "        if .9901>i>0.8:\n",
    "            theta_1_=round(i,3)\n",
    "            break\n",
    "    return theta_1_  \n"
   ]
  },
  {
   "cell_type": "code",
   "execution_count": null,
   "metadata": {},
   "outputs": [],
   "source": [
    "# initialize parameters for beta distributions:\n",
    "a_alpha=2\n",
    "b_alpha=7\n",
    "a_beta=2\n",
    "b_beta=10\n",
    "a_gama=1\n",
    "b_gama=3\n",
    "a_teta0=.1\n",
    "b_teta0=500\n",
    "a_teta1=4000\n",
    "b_teta1=100"
   ]
  },
  {
   "cell_type": "code",
   "execution_count": null,
   "metadata": {},
   "outputs": [],
   "source": [
    "# Choose some params close to obtimized params:\n",
    "alpha_= 0.05\n",
    "beta_= 0.01\n",
    "gama_= 0.3\n",
    "theta_0_= 0.07\n",
    "theta_1_= 0.8\n",
    "params=[]\n",
    "params.append([alpha_,beta_,gama_,theta_0_,theta_1_,p_])"
   ]
  },
  {
   "cell_type": "code",
   "execution_count": null,
   "metadata": {},
   "outputs": [],
   "source": [
    "#Sample infection and emision parameters(alpha,beta,gama,teta0,teta1)\n",
    "alpha_=Sample_alpha(a_alpha, b_alpha)\n",
    "beta_=Sample_beta(a_beta, b_beta)\n",
    "gama_=Sample_gama(a_gama,b_gama)\n",
    "theta_0_=Sample_theta0(a_teta0, b_teta0)\n",
    "theta_1_=Sample_theta1(a_teta1, b_teta1)"
   ]
  },
  {
   "cell_type": "code",
   "execution_count": null,
   "metadata": {},
   "outputs": [],
   "source": [
    "params=np.array([alpha_,beta_,gama_,theta_0_,theta_1_])\n",
    "params"
   ]
  },
  {
   "cell_type": "code",
   "execution_count": null,
   "metadata": {},
   "outputs": [],
   "source": [
    "#Use uptimized params:\n",
    "number_families=4\n",
    "alpha_=params[0]\n",
    "bata_=params[1]\n",
    "gama_=params[2]\n",
    "theta_0_=params[3]\n",
    "thata_1_=params[4]    \n",
    "p_=0.9"
   ]
  },
  {
   "cell_type": "code",
   "execution_count": null,
   "metadata": {},
   "outputs": [],
   "source": [
    "# Synthetize the \"Family\" matrix, which denotes that each two individuals are in the same family or not:\n",
    "a=list(range(n))\n",
    "Family=np.identity(n,dtype=int)\n",
    "for i in range(1,number_families):\n",
    "    number_family_members=np.random.randint(2, 5)\n",
    "    inx=random.sample(list(a), number_family_members)\n",
    "    a=set(a).difference(inx)\n",
    "    for j in inx:\n",
    "        for k in inx:\n",
    "            Family[j,k]=1\n",
    "F=Family\n",
    "F1=F-np.identity(n, dtype=int)"
   ]
  },
  {
   "cell_type": "code",
   "execution_count": null,
   "metadata": {},
   "outputs": [],
   "source": [
    "# Synthetize G,Y,X:\n",
    "n,T,y=10,10,2\n",
    "synthetic_data=Synthetic_Data(n,T,y,params)\n",
    "G,Y,X =synthetic_data[0],synthetic_data[1],synthetic_data[2]"
   ]
  },
  {
   "cell_type": "markdown",
   "metadata": {},
   "source": [
    "# Simulation data is ready now, YF,G,Family:"
   ]
  },
  {
   "cell_type": "code",
   "execution_count": null,
   "metadata": {},
   "outputs": [],
   "source": [
    "F"
   ]
  },
  {
   "cell_type": "code",
   "execution_count": null,
   "metadata": {},
   "outputs": [],
   "source": [
    "G[1]"
   ]
  },
  {
   "cell_type": "code",
   "execution_count": null,
   "metadata": {},
   "outputs": [],
   "source": []
  },
  {
   "cell_type": "code",
   "execution_count": null,
   "metadata": {},
   "outputs": [],
   "source": []
  },
  {
   "cell_type": "code",
   "execution_count": null,
   "metadata": {},
   "outputs": [],
   "source": []
  },
  {
   "cell_type": "code",
   "execution_count": null,
   "metadata": {},
   "outputs": [],
   "source": []
  },
  {
   "cell_type": "code",
   "execution_count": null,
   "metadata": {},
   "outputs": [],
   "source": []
  },
  {
   "cell_type": "code",
   "execution_count": null,
   "metadata": {},
   "outputs": [],
   "source": [
    "# ایده اول برای مین فیلد و شبه مشاهدات"
   ]
  },
  {
   "cell_type": "code",
   "execution_count": null,
   "metadata": {},
   "outputs": [],
   "source": [
    "y=np.zeros((n,T))\n",
    "for i in range(n):\n",
    "    for j in range(n):\n",
    "         if unique_rows[j,i]==1:\n",
    "                break\n",
    "    for t in range(T):\n",
    "       \n",
    "        y[i,t]=int(YF[j,t]-np.dot(np.multiply(unique_rows[j],X.T[t]),W)+X[i,t]*W[i])\n",
    "        y = np.where(y <0, 0, y)\n",
    "y "
   ]
  },
  {
   "cell_type": "code",
   "execution_count": null,
   "metadata": {},
   "outputs": [],
   "source": [
    "params"
   ]
  },
  {
   "cell_type": "code",
   "execution_count": null,
   "metadata": {},
   "outputs": [],
   "source": [
    "# Run Forward sampling algorithm to estimate X:\n",
    "U=10\n",
    "J=100\n",
    "P=p_\n",
    "X=Forward_Sampling(T,n,G,params)\n",
    "X=Calculate_X(J,T,n,X,G,y,params)\n",
    "winsound.Beep(freq, duration)"
   ]
  },
  {
   "cell_type": "code",
   "execution_count": null,
   "metadata": {},
   "outputs": [],
   "source": [
    "# define auxiliary variable R(n,t):\n",
    "R=np.zeros((n,T))+1\n",
    "infR=np.array(CNbr(G,X,n,T))\n",
    "for i in range(n):\n",
    "    for t in range(T-1):\n",
    "        infr=int(infR[i,t])\n",
    "        pr_a=alpha_/(alpha_+beta_*infr)\n",
    "        pr_b=beta_/(alpha_+beta_*infr)\n",
    "        v=np.random.multinomial(1, [pr_a]+[pr_b]*infr)\n",
    "        if (X[i][t]==0)&(X[i][t+1]==1):\n",
    "                if v[0]==1:\n",
    "                    R[i,t]=0\n",
    "                else: \n",
    "                    R[i,t]=2"
   ]
  },
  {
   "cell_type": "code",
   "execution_count": null,
   "metadata": {},
   "outputs": [],
   "source": [
    "for i in range(U):\n",
    "    print(\"******************* Iteration:\",i,\"*****************************************************************************\")\n",
    "    now = datetime.now()\n",
    "    current_time = now.strftime(\"%H:%M:%S\")\n",
    "    print(\"Current Time is :\", current_time)\n",
    "    prm=Params(R,G,X,n,T,y,params)\n",
    "    params=prm[0]\n",
    "    print(\"updated parameters:\",params)\n",
    "    X=Calculate_X(J,T,n,X,G,y,params)\n",
    "    print(\"Verctor of Health States:\",\"\\n\",X)\n",
    "    R=prm[1]\n",
    "winsound.Beep(freq, duration)"
   ]
  },
  {
   "cell_type": "code",
   "execution_count": null,
   "metadata": {},
   "outputs": [],
   "source": [
    "for i in range(n):\n",
    "    for t in range(T):\n",
    "        if X[i,t]==0:\n",
    "            yy[i,t]=np.random.binomial( 1, theta_0_,size=None) "
   ]
  },
  {
   "cell_type": "code",
   "execution_count": null,
   "metadata": {},
   "outputs": [],
   "source": [
    "print(np.sum(X),np.sum(Z),np.count_nonzero(Z-X))"
   ]
  },
  {
   "cell_type": "code",
   "execution_count": null,
   "metadata": {},
   "outputs": [],
   "source": [
    "# ایده دوم برای مین فیلد و شبه مشاهدات"
   ]
  },
  {
   "cell_type": "code",
   "execution_count": null,
   "metadata": {},
   "outputs": [],
   "source": [
    "# Save true X in Z:\n",
    "Z=X"
   ]
  },
  {
   "cell_type": "code",
   "execution_count": null,
   "metadata": {},
   "outputs": [],
   "source": [
    "#initialize parameters a0,b0,a1,b1:\n",
    "A=np.round(np.random.uniform(0, 10, (4,1)),3)\n",
    "a0,b0,a1,b1=A[0][0],A[1][0],A[2][0],A[3][0]\n",
    "print(a0,b0,a1,b1)"
   ]
  },
  {
   "cell_type": "code",
   "execution_count": null,
   "metadata": {},
   "outputs": [],
   "source": [
    "def Sample_Sudo_theta0(a0, b0):\n",
    "    for i in beta.rvs(a0, b0, size=10000):\n",
    "        if (i>0.001)&(i<0.5):\n",
    "            theta0=round(i,3)\n",
    "            break\n",
    "    return theta0  "
   ]
  },
  {
   "cell_type": "code",
   "execution_count": null,
   "metadata": {},
   "outputs": [],
   "source": [
    "def Sample_Sudo_theta1(a1, b1):\n",
    "    for i in beta.rvs(a1, b1, size=100000):\n",
    "        if .9901>i>0.5:\n",
    "            theta1=round(i,3)\n",
    "            break\n",
    "    return theta1  \n"
   ]
  },
  {
   "cell_type": "code",
   "execution_count": null,
   "metadata": {},
   "outputs": [],
   "source": [
    "theta0=Sample_Sudo_theta0(a0, b0)\n",
    "theta0"
   ]
  },
  {
   "cell_type": "code",
   "execution_count": null,
   "metadata": {},
   "outputs": [],
   "source": [
    "theta1=Sample_Sudo_theta1(a1, b1)\n",
    "theta1"
   ]
  },
  {
   "cell_type": "code",
   "execution_count": null,
   "metadata": {},
   "outputs": [],
   "source": [
    "y=np.zeros((n,T))\n"
   ]
  },
  {
   "cell_type": "code",
   "execution_count": null,
   "metadata": {},
   "outputs": [],
   "source": [
    "def Calculate_Sudo_observations(a0,b0,a1,b1,X):\n",
    "    for i in range(n):\n",
    "        j=family_index(i,unique_rows)\n",
    "        for t in range(T):\n",
    "            if YF[j,t]==1:\n",
    "                theta1=Sample_Sudo_theta1(a1+YF[j,t]*np.sum(unique_rows[j])-np.sum(X[unique_rows[j]==1,t])+X[i,t], b1+np.sum(X[unique_rows[j]==1,t])-X[i,t])\n",
    "                y[i,t]=np.random.binomial( 1, theta1,size=None)\n",
    "            else:\n",
    "                y[i,t]=0\n",
    "    return y"
   ]
  },
  {
   "cell_type": "code",
   "execution_count": null,
   "metadata": {},
   "outputs": [],
   "source": [
    "# Run Forward sampling algorithm to estimate X:\n",
    "U=10\n",
    "J=1000\n",
    "P=p_\n",
    "X=Forward_Sampling(T,n,G,params)\n",
    "y=Calculate_Sudo_observations(a0,b0,a1,b1,X)\n",
    "X=Calculate_X(J,T,n,X,G,y,params)\n",
    "winsound.Beep(freq, duration)"
   ]
  },
  {
   "cell_type": "code",
   "execution_count": null,
   "metadata": {},
   "outputs": [],
   "source": [
    "# define auxiliary variable R(n,t):\n",
    "R=np.zeros((n,T))+1\n",
    "infR=np.array(CNbr(G,X,n,T))\n",
    "for i in range(n):\n",
    "    for t in range(T-1):\n",
    "        infr=int(infR[i,t])\n",
    "        pr_a=alpha_/(alpha_+beta_*infr)\n",
    "        pr_b=beta_/(alpha_+beta_*infr)\n",
    "        v=np.random.multinomial(1, [pr_a]+[pr_b]*infr)\n",
    "        if (X[i][t]==0)&(X[i][t+1]==1):\n",
    "                if v[0]==1:\n",
    "                    R[i,t]=0\n",
    "                else: \n",
    "                    R[i,t]=2"
   ]
  },
  {
   "cell_type": "code",
   "execution_count": null,
   "metadata": {},
   "outputs": [],
   "source": [
    "for i in range(U):\n",
    "    print(\"******************* Iteration:\",i,\"*****************************************************************************\")\n",
    "    now = datetime.now()\n",
    "    current_time = now.strftime(\"%H:%M:%S\")\n",
    "    print(\"Current Time is :\", current_time)\n",
    "    prm=Params(R,G,X,n,T,y,params)\n",
    "    params=prm[0]\n",
    "    print(\"updated parameters:\",params)\n",
    "    y=Calculate_Sudo_observations(a0,b0,a1,b1,X)\n",
    "    X=Calculate_X(J,T,n,X,G,y,params)\n",
    "    print(\"Verctor of Health States:\",\"\\n\",X)\n",
    "    R=prm[1]\n",
    "winsound.Beep(freq, duration)\n",
    "    \n",
    "    "
   ]
  },
  {
   "cell_type": "code",
   "execution_count": null,
   "metadata": {},
   "outputs": [],
   "source": [
    "params"
   ]
  },
  {
   "cell_type": "code",
   "execution_count": null,
   "metadata": {},
   "outputs": [],
   "source": [
    "#y=Calculate_Sudo_observations(a0,b0,a1,b1,X)\n",
    "for i in range(n):\n",
    "    for t in range(T):\n",
    "        j=family_index(i,unique_rows)\n",
    "        if YF[j,t]==1:\n",
    "            if (np.sum(X[unique_rows[j]==1,t]))==0:\n",
    "                print(np.sum(X[unique_rows[j]==1,t]))"
   ]
  },
  {
   "cell_type": "code",
   "execution_count": null,
   "metadata": {},
   "outputs": [],
   "source": [
    "Y=np.zeros((n,T))\n",
    "for i in range(n):\n",
    "    for j in range(unique_rows.shape[0]):\n",
    "        if unique_rows[j,i]==1:\n",
    "            Y[i,:]=YF[j,:]"
   ]
  },
  {
   "cell_type": "code",
   "execution_count": null,
   "metadata": {},
   "outputs": [],
   "source": [
    "np.sum(y)"
   ]
  },
  {
   "cell_type": "code",
   "execution_count": null,
   "metadata": {},
   "outputs": [],
   "source": [
    "print(np.sum(X),np.sum(Z),np.count_nonzero(Z-X))"
   ]
  },
  {
   "cell_type": "code",
   "execution_count": null,
   "metadata": {},
   "outputs": [],
   "source": []
  },
  {
   "cell_type": "code",
   "execution_count": null,
   "metadata": {},
   "outputs": [],
   "source": [
    "# sample parameter of sudo obsarvations:\n",
    "def Sample_theta(a, b):\n",
    "    for i in beta.rvs(a, b, size=10000):\n",
    "        if (i>0.3)&(i<0.6):\n",
    "            theta=round(i,3)\n",
    "            break\n",
    "    return theta "
   ]
  }
 ],
 "metadata": {
  "kernelspec": {
   "display_name": "Python 3",
   "language": "python",
   "name": "python3"
  },
  "language_info": {
   "codemirror_mode": {
    "name": "ipython",
    "version": 3
   },
   "file_extension": ".py",
   "mimetype": "text/x-python",
   "name": "python",
   "nbconvert_exporter": "python",
   "pygments_lexer": "ipython3",
   "version": "3.8.5"
  }
 },
 "nbformat": 4,
 "nbformat_minor": 4
}
