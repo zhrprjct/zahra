{
 "cells": [
  {
   "cell_type": "markdown",
   "metadata": {},
   "source": [
    "# Python code of Gibbs sampling model for family test result Covid problem"
   ]
  },
  {
   "cell_type": "code",
   "execution_count": 1,
   "metadata": {},
   "outputs": [],
   "source": [
    "# import neccessary libraries\n",
    "import numpy as np\n",
    "import random\n",
    "import sympy as sym\n",
    "from joblib import Parallel, delayed\n",
    "from sympy import *\n",
    "from sympy import symbols\n",
    "from sympy.plotting import plot, plot3d\n",
    "from datetime import datetime\n",
    "from scipy.stats import beta\n",
    "import winsound\n",
    "duration = 1000  # milliseconds\n",
    "freq = 440  # Hz"
   ]
  },
  {
   "cell_type": "code",
   "execution_count": 2,
   "metadata": {},
   "outputs": [],
   "source": [
    "# function to count the number of the infected neighbores of i at t:\n",
    "def CNbr(G,X,n,T):\n",
    "    C=np.zeros((T,n))\n",
    "    for t in range(T):\n",
    "        C[t]=G[t].dot(X.T[t])\n",
    "    return C.T"
   ]
  },
  {
   "cell_type": "code",
   "execution_count": 3,
   "metadata": {},
   "outputs": [],
   "source": [
    "# Function to obtain the very initial sample of X, using forwad sampling:\n",
    "def Forward_Sampling(T,n,G,F,param):\n",
    "    \n",
    "    alpha_=param[0]\n",
    "    bata_=param[1]\n",
    "    bataf=param[2]\n",
    "    gama_=param[3]\n",
    "    p0=P\n",
    "    p1=1-P\n",
    "    x=int((1-P)*n)\n",
    "    X=np.zeros((n,T))  \n",
    "    idx=np.random.choice(range(n), x)\n",
    "    X[idx,0]=1\n",
    "    infR=CNbr(G,X,n,T)\n",
    "    for t in range(T-1):\n",
    "        cf=F.dot(X.T[t])\n",
    "        for i in range(n):\n",
    "            c=infR[i,t]\n",
    "            if X[i,t]==0:\n",
    "                p0=(1-alpha_-beta_*c-betaf*cf[i])\n",
    "                p1=(alpha_+beta_*c+betaf*cf[i])\n",
    "            else:\n",
    "                p0=(gama_)\n",
    "                p1=(1-gama_)\n",
    "            if p0+p1==0:\n",
    "                l=0.5\n",
    "            else:\n",
    "                l=p1/(p0+p1)\n",
    "            X[i,t+1]=np.random.binomial( 1, l,size=None) \n",
    "    return X"
   ]
  },
  {
   "cell_type": "code",
   "execution_count": 4,
   "metadata": {},
   "outputs": [],
   "source": [
    "def Sample_hidden_state(X,G,F,unique_rows,Y,param,t):\n",
    "    \n",
    "    alpha_=param[0]\n",
    "    beta_=param[1]\n",
    "    bataf=param[2]\n",
    "    gama_=param[3]\n",
    "    theta_0_=param[3]\n",
    "    thata_1_=param[4]\n",
    "    \n",
    "    \n",
    "    number_of_infected_members_in_family=F.dot(X.T[t])\n",
    "    \n",
    "    if (t==0):\n",
    "        c=G[t].dot(X.T[t])\n",
    "    else:    \n",
    "        c=G[t-1].dot(X.T[t-1])\n",
    "        \n",
    "    for i in range(n):\n",
    "        p_0,p_1=0,0\n",
    "        pow_stay_healthy,pow_become_infected,pow_recovery,pow_stay_infected=0,0,0,0\n",
    "        pow0=np.count_nonzero(Y[i,t] == 0)  \n",
    "        pow1=np.count_nonzero(Y[i,t] == 1)\n",
    "        number_of_members_in_family=np.sum(family_index(i,unique_rows))\n",
    "        if (X[i,t]==1):\n",
    "            if t==0:\n",
    "                c0=c[i]-1\n",
    "                c1=c[i]\n",
    "            else:\n",
    "                c0=c[i]\n",
    "                c1=c[i]\n",
    "            number_of_infected_members_in_family0=number_of_infected_members_in_family[i]-1\n",
    "            number_of_infected_members_in_family1=number_of_infected_members_in_family[i]\n",
    "        else:\n",
    "            \n",
    "            c0=c[i]\n",
    "            c1=c[i]+1\n",
    "            number_of_infected_members_in_family0=number_of_infected_members_in_family[i]\n",
    "            number_of_infected_members_in_family1=number_of_infected_members_in_family[i]+1\n",
    "        number_of_healthy_members_in_family0=number_of_members_in_family-number_of_infected_members_in_family0\n",
    "        number_of_healthy_members_in_family1=number_of_members_in_family-number_of_infected_members_in_family1\n",
    "        \n",
    "        p_0=((1-(1-theta_0_)**number_of_healthy_members_in_family0)*theta_1_**number_of_infected_members_in_family0)**pow0*((1-(1-theta_1_)**number_of_infected_members_in_family0)*theta_0_**number_of_healthy_members_in_family0)**pow1\n",
    "        \n",
    "        p_1=((1-(1-theta_0_)**number_of_healthy_members_in_family1)*theta_1_**number_of_infected_members_in_family1)**pow0*((1-(1-theta_1_)**number_of_infected_members_in_family1)*theta_0_**number_of_healthy_members_in_family1)**pow1\n",
    "        \n",
    "        stay_healthy0= 1-alpha_-beta_*c0-betaf*number_of_infected_members_in_family0\n",
    "        become_infected0=alpha_+beta_*c0+betaf*number_of_infected_members_in_family0\n",
    "    \n",
    "        stay_healthy1=1-alpha_-beta_*c1-betaf*number_of_infected_members_in_family1\n",
    "        become_infected1=alpha_+beta_*c1+betaf*number_of_infected_members_in_family1\n",
    "        \n",
    "        if t==T-1:\n",
    "            if X[i,t-1]==0:\n",
    "                p0=p_0*stay_healthy0\n",
    "                p1=p_1*become_infected0\n",
    "            else:\n",
    "                p0=p_0*gama_\n",
    "                p1=p_1*(1-gama_) \n",
    "        else:        \n",
    "            state_transition=X.T[t]+2*X.T[t+1]+1\n",
    "            key=np.multiply(G[0][i],state_transition)\n",
    "    \n",
    "            pow_stay_healthy=pow_stay_healthy+np.count_nonzero(key == 4)\n",
    "            pow_become_infected=pow_become_infected+np.count_nonzero(key == 3)\n",
    "            pow_recovery=pow_recovery+np.count_nonzero(key == 2)\n",
    "            pow_stay_infected=pow_stay_infected+np.count_nonzero(key ==1)\n",
    "    \n",
    "            p0=P*p_0*(stay_healthy0)**pow_stay_healthy*(become_infected0)**pow_become_infected*(gama_)**pow_recovery*(1-gama_)**pow_stay_infected\n",
    "            p1=(1-P)*p_1*(stay_healthy1)**pow_stay_healthy*(become_infected1)**pow_become_infected*(gama_)**pow_recovery*(1-gama_)**pow_stay_infected\n",
    "            \n",
    "        if p0+p1==0:\n",
    "            l=0.5\n",
    "        else:\n",
    "            l=p1/(p0+p1)\n",
    "        \n",
    "        X[i,0]=np.random.binomial( 1,  l,size=None)    \n",
    "        \n",
    "    return X    "
   ]
  },
  {
   "cell_type": "code",
   "execution_count": 5,
   "metadata": {},
   "outputs": [],
   "source": [
    "# Gibbs sampling to obtain X, as new sample of posterior distribution:\n",
    "def Calculate_X(K,T,X,G,F1,Y,param):\n",
    "    for k in range(K):\n",
    "        for t in range(T):\n",
    "            X=Sample_hidden_state(X,G,F1,unique_rows,Y,param,t)\n",
    "    return X                "
   ]
  },
  {
   "cell_type": "code",
   "execution_count": 6,
   "metadata": {},
   "outputs": [],
   "source": [
    "# function to sample new parameters and update parameters:\n",
    "def Params(R,G,F,X,n,T,Y,param):\n",
    "    \n",
    "    alpha_=param[0]\n",
    "    bata_=param[1]\n",
    "    bataf=param[2]\n",
    "    gama_=param[3]\n",
    "    theta_0_=param[4]\n",
    "    thata_1_=param[5]    \n",
    "   \n",
    "    TP=np.sum(np.multiply(X,Y))\n",
    "    FP=n*T-np.count_nonzero(X-Y+1)\n",
    "    \n",
    "    infR=np.array(CNbr(G,X,n,T))\n",
    "    print(a_alpha +  np.count_nonzero(R==0) , b_alpha +np.count_nonzero(X==0)- np.count_nonzero(R==0))\n",
    "    alpha_=Sample_alpha(a_alpha +  np.count_nonzero(R==0) , b_alpha +np.count_nonzero(X==0)- np.count_nonzero(R==0))\n",
    "    beta_=Sample_beta(a_beta + np.count_nonzero(R==2) , b_beta +np.sum(np.multiply((1-X),infR))-np.count_nonzero(R==2))\n",
    "    betaf=Sample_betaf(a_betaf + np.count_nonzero(R==3) , b_betaf +np.sum(np.multiply((1-X),F.dot(X.T)))-np.count_nonzero(R==3))\n",
    "    gama_=Sample_gama(a_gama +(T-1)*n-np.count_nonzero(X[:,:-1]-X[:,1:]-1), b_gama+np.sum(X)-(T-1)*n+np.count_nonzero(X[:,:-1]-X[:,1:]-1))\n",
    "    theta_0_=Sample_theta0( a_teta0+FP,b_teta0+n*T-np.count_nonzero(X)-FP)\n",
    "    theta_1_=Sample_theta1( a_teta1+TP,b_teta1+np.count_nonzero(X)-TP)\n",
    "    \n",
    "    R=np.zeros((n,T))+1\n",
    "    for i in range(n):\n",
    "        for t in range(T-1):\n",
    "            infr=int(infR[i,t])\n",
    "            cf=int(F.dot(X.T[t])[i])\n",
    "            pr_a=alpha_/(alpha_+beta_*infr+betaf*cf)\n",
    "            pr_b=beta_/(alpha_+beta_*infr+betaf*cf)\n",
    "            pr_bf=betaf/(alpha_+beta_*infr+betaf*cf)\n",
    "            v=np.random.multinomial(1, [pr_a]+[pr_b]*infr+[pr_bf]*cf)\n",
    "            if (X[i][t]==0)&(X[i][t+1]==1):\n",
    "                if v[0]==1:\n",
    "                    R[i,t]=0\n",
    "                elif (cf!=0):\n",
    "                    if ((np.equal(1,v[-cf:])).any):\n",
    "                        R[i,t]=3\n",
    "                else:    \n",
    "                    R[i,t]=2\n",
    "    param=[alpha_,beta_,betaf,gama_,theta_0_,theta_1_]\n",
    "    return param,R"
   ]
  },
  {
   "cell_type": "markdown",
   "metadata": {},
   "source": [
    "# Functions to sample from beta distribution\n"
   ]
  },
  {
   "cell_type": "code",
   "execution_count": 7,
   "metadata": {},
   "outputs": [],
   "source": [
    "def Sample_alpha(a_alpha, b_alpha):\n",
    "    for i in beta.rvs(a_alpha, b_alpha, size=10000):\n",
    "        print(\"al\",i)\n",
    "        if (i>0.001)&(i<0.051):\n",
    "            alpha_=round(i,3)\n",
    "            break\n",
    "    return alpha_        \n"
   ]
  },
  {
   "cell_type": "code",
   "execution_count": 8,
   "metadata": {},
   "outputs": [],
   "source": [
    "def Sample_beta(a_beta, b_beta):\n",
    "    for i in beta.rvs(a_beta, b_beta, size=10000):\n",
    "        if (i>0.001)&(i<0.0451):\n",
    "            beta_=round(i,4)\n",
    "            break\n",
    "    return beta_        "
   ]
  },
  {
   "cell_type": "code",
   "execution_count": 9,
   "metadata": {},
   "outputs": [],
   "source": [
    "def Sample_betaf(a_betaf, b_betaf):\n",
    "    for i in beta.rvs(a_betaf, b_betaf, size=10000):\n",
    "        if (i>0.001)&(i<0.091):\n",
    "            betaf=round(i,4)\n",
    "            break\n",
    "    return betaf        "
   ]
  },
  {
   "cell_type": "code",
   "execution_count": 10,
   "metadata": {},
   "outputs": [],
   "source": [
    "def Sample_gama(a_gama,b_gama):\n",
    "    for i in beta.rvs(a_gama, b_gama, size=10000):\n",
    "        if (i>0.1)&(i<0.7):\n",
    "            gama_=round(i,3)\n",
    "            break\n",
    "    return gama_  "
   ]
  },
  {
   "cell_type": "code",
   "execution_count": 11,
   "metadata": {},
   "outputs": [],
   "source": [
    "def Sample_theta0(a_teta0, b_teta0):\n",
    "    for i in beta.rvs(a_teta0, b_teta0, size=10000):\n",
    "        print(\"th\",i)\n",
    "        if (i>0.1)&(i<0.51):\n",
    "            theta_0_=round(i,3)\n",
    "            break\n",
    "    return theta_0_  "
   ]
  },
  {
   "cell_type": "code",
   "execution_count": 12,
   "metadata": {},
   "outputs": [],
   "source": [
    "def Sample_theta1(a_teta1, b_teta1):\n",
    "    for i in beta.rvs(a_teta1, b_teta1, size=100000):\n",
    "        if .9901>i>0.8:\n",
    "            theta_1_=round(i,3)\n",
    "            break\n",
    "    return theta_1_  "
   ]
  },
  {
   "cell_type": "code",
   "execution_count": 13,
   "metadata": {},
   "outputs": [],
   "source": [
    "# initialize parameters for beta distributions:\n",
    "a_alpha=1\n",
    "b_alpha=1\n",
    "a_beta=1\n",
    "b_beta=500\n",
    "a_betaf=1\n",
    "b_betaf=6\n",
    "a_gama=1\n",
    "b_gama=20\n",
    "a_teta0=1\n",
    "b_teta0=3\n",
    "a_teta1=4000\n",
    "b_teta1=100\n",
    "P=.5\n",
    "number_families=30"
   ]
  },
  {
   "cell_type": "code",
   "execution_count": 14,
   "metadata": {},
   "outputs": [
    {
     "name": "stdout",
     "output_type": "stream",
     "text": [
      "al 0.9156656267085476\n",
      "al 0.6694385795910821\n",
      "al 0.012354041725840977\n",
      "th 0.12369256773179022\n"
     ]
    }
   ],
   "source": [
    "#Sample infection and emision parameters(alpha,beta,gama,teta0,teta1)\n",
    "alpha_=Sample_alpha(a_alpha, b_alpha)\n",
    "beta_=Sample_beta(a_beta, b_beta)\n",
    "betaf=Sample_betaf(a_betaf, b_betaf)\n",
    "gama_=Sample_gama(a_gama,b_gama)\n",
    "theta_0_=Sample_theta0(a_teta0, b_teta0)\n",
    "theta_1_=Sample_theta1(a_teta1, b_teta1)"
   ]
  },
  {
   "cell_type": "code",
   "execution_count": 15,
   "metadata": {},
   "outputs": [
    {
     "data": {
      "text/plain": [
       "array([0.012 , 0.0033, 0.0222, 0.238 , 0.124 , 0.977 ])"
      ]
     },
     "execution_count": 15,
     "metadata": {},
     "output_type": "execute_result"
    }
   ],
   "source": [
    "params=np.array([alpha_,beta_,betaf,gama_,theta_0_,theta_1_])\n",
    "params"
   ]
  },
  {
   "cell_type": "code",
   "execution_count": 16,
   "metadata": {},
   "outputs": [],
   "source": [
    "# funtion to retun related family index of individual i:\n",
    "def family_index(i,unique_rows):\n",
    "    for j in range(n):\n",
    "        if unique_rows[j,i]==1:\n",
    "            return j"
   ]
  },
  {
   "cell_type": "code",
   "execution_count": 17,
   "metadata": {},
   "outputs": [],
   "source": [
    "# Function to generates Synthetic dataset\n",
    "def Synthetic_Data(n,T,y,params,number_families):\n",
    "    alpha_,beta_,betaf,gama_,theta_0_,theta_1_=params[0],params[1],params[2],params[3],params[4],params[5]\n",
    "    x=int((1-P)*n)\n",
    "\n",
    "    X=np.zeros((n,T))\n",
    "    idx=np.random.choice(range(n), x)\n",
    "    X[idx,0]=1\n",
    "    # Random social network\n",
    "    G=[]\n",
    "    for j in range(T):\n",
    "        g=np.identity(n,dtype=int)\n",
    "        for i in range(n):\n",
    "            inx=np.random.choice(range(i,n), y)\n",
    "            g[i,inx]=1  \n",
    "            g[inx,i]=1\n",
    "        G.append(g)\n",
    "    G=np.array(G)\n",
    "    infR=CNbr(G,X,n,T)\n",
    "    # Synthetize X, using params,G and transition probability:\n",
    "    for t in range(T-1):\n",
    "        for i in range(n):\n",
    "            c=infR[i,t]\n",
    "            if X[i,t]==0:\n",
    "                p0=1-alpha_-beta_*c\n",
    "                p1=alpha_+beta_*c\n",
    "            else:\n",
    "                p0=gama_\n",
    "                p1=1-gama_\n",
    "            if p0+p1==0:\n",
    "                l=0.5\n",
    "            else:\n",
    "                l=p1/(p0+p1)\n",
    "            if (l<0)|(l>1):\n",
    "                print(p0,p1,l)\n",
    "            X[i,t+1]=np.random.binomial( 1, l,size=None) \n",
    "\n",
    "    # Synthetize Y, using params,G, X, emission probability:\n",
    "    Y=np.zeros((n,T))\n",
    "    for t in range(T):\n",
    "        for i in range(n):\n",
    "            if X[i,t]==0:\n",
    "                Y[i,t]=np.random.binomial( 1, theta_0_,size=None) \n",
    "            else:\n",
    "                Y[i,t]=np.random.binomial( 1, theta_1_,size=None) \n",
    "    a=list(range(n))\n",
    "    Family=np.identity(n,dtype=int)\n",
    "    for i in range(1,number_families):\n",
    "        number_family_members=np.random.randint(2, 5)\n",
    "        inx=random.sample(list(a), number_family_members)\n",
    "        a=set(a).difference(inx)\n",
    "        for j in inx:\n",
    "            for k in inx:\n",
    "                Family[j,k]=1\n",
    "    return G,Y,X,Family            "
   ]
  },
  {
   "cell_type": "code",
   "execution_count": 18,
   "metadata": {},
   "outputs": [],
   "source": [
    "# Generate synthetic data,G ,Y:\n",
    "n,T,y=100,100,10\n",
    "synthetic_data=Synthetic_Data(n,T,y,params,number_families)\n",
    "G,Y,X,Family =synthetic_data[0],synthetic_data[1],synthetic_data[2],synthetic_data[3]"
   ]
  },
  {
   "cell_type": "code",
   "execution_count": 19,
   "metadata": {},
   "outputs": [
    {
     "data": {
      "text/plain": [
       "590.0"
      ]
     },
     "execution_count": 19,
     "metadata": {},
     "output_type": "execute_result"
    }
   ],
   "source": [
    "# Save true value of X in Z, as the correct label of data:\n",
    "Z=X\n",
    "np.sum(Z)"
   ]
  },
  {
   "cell_type": "code",
   "execution_count": 20,
   "metadata": {},
   "outputs": [],
   "source": [
    "F=Family"
   ]
  },
  {
   "cell_type": "code",
   "execution_count": 21,
   "metadata": {},
   "outputs": [
    {
     "data": {
      "text/plain": [
       "(44, 100)"
      ]
     },
     "execution_count": 21,
     "metadata": {},
     "output_type": "execute_result"
    }
   ],
   "source": [
    "# synthetize family test result matrix,YF:\n",
    "unique_rows = np.unique(Family, axis=0)\n",
    "unique_rows.shape\n",
    "YF=np.zeros((n,T))\n",
    "YF=np.dot(unique_rows,Y)\n",
    "YF.shape"
   ]
  },
  {
   "cell_type": "code",
   "execution_count": 22,
   "metadata": {},
   "outputs": [],
   "source": [
    "#W=np.round(np.random.uniform(0.0, .002, (n,1)),3)\n",
    "G=G-Family+np.identity(n,dtype=int)\n",
    "G = np.where(G <0, 0, G)\n",
    "YF = np.where(YF>1, 1, YF)"
   ]
  },
  {
   "cell_type": "code",
   "execution_count": 23,
   "metadata": {},
   "outputs": [],
   "source": [
    "Y1=Y"
   ]
  },
  {
   "cell_type": "code",
   "execution_count": 24,
   "metadata": {},
   "outputs": [],
   "source": [
    "Y=np.zeros((n,T))\n",
    "for i in range(n):\n",
    "    for j in range(unique_rows.shape[0]):\n",
    "        if unique_rows[j,i]==1:\n",
    "            Y[i,:]=YF[j,:]"
   ]
  },
  {
   "cell_type": "code",
   "execution_count": 25,
   "metadata": {},
   "outputs": [],
   "source": [
    "# define auxiliary variable R(n,t):\n",
    "infR=np.array(CNbr(G,X,n,T))\n",
    "R=np.zeros((n,T))+1\n",
    "for i in range(n):\n",
    "    for t in range(T-1):\n",
    "        infr=int(infR[i,t])\n",
    "        cf=int(F.dot(X.T[t])[i])\n",
    "        pr_a=alpha_/(alpha_+beta_*infr+betaf*cf)\n",
    "        pr_b=beta_/(alpha_+beta_*infr+betaf*cf)\n",
    "        pr_bf=betaf/(alpha_+beta_*infr+betaf*cf)\n",
    "        v=np.random.multinomial(1, [pr_a]+[pr_b]*infr+[pr_bf]*cf)\n",
    "        if (X[i][t]==0)&(X[i][t+1]==1):\n",
    "            if v[0]==1:\n",
    "                R[i,t]=0\n",
    "            elif ((v[-cf:]==1).any())&(cf!=0): \n",
    "                R[i,t]=3\n",
    "            else:    \n",
    "                R[i,t]=2\n"
   ]
  },
  {
   "cell_type": "code",
   "execution_count": 26,
   "metadata": {},
   "outputs": [],
   "source": [
    "# Run Gibbs sampling algorithm to estimate X:\n",
    "U=10\n",
    "K=100\n",
    "X=Forward_Sampling(T,n,G,F,params)\n",
    "X=Calculate_X(K,T,X,G,F,Y,params)\n",
    "winsound.Beep(freq, duration)"
   ]
  },
  {
   "cell_type": "code",
   "execution_count": 27,
   "metadata": {},
   "outputs": [
    {
     "data": {
      "text/plain": [
       "669.0"
      ]
     },
     "execution_count": 27,
     "metadata": {},
     "output_type": "execute_result"
    }
   ],
   "source": [
    "np.sum(X)"
   ]
  },
  {
   "cell_type": "code",
   "execution_count": 28,
   "metadata": {},
   "outputs": [],
   "source": [
    "# define auxiliary variable R(n,t):\n",
    "infR=np.array(CNbr(G,X,n,T))\n",
    "R=np.zeros((n,T))+1\n",
    "for i in range(n):\n",
    "    for t in range(T-1):\n",
    "        infr=int(infR[i,t])\n",
    "        cf=int(F.dot(X.T[t])[i])\n",
    "        pr_a=alpha_/(alpha_+beta_*infr+betaf*cf)\n",
    "        pr_b=beta_/(alpha_+beta_*infr+betaf*cf)\n",
    "        pr_bf=betaf/(alpha_+beta_*infr+betaf*cf)\n",
    "        v=np.random.multinomial(1, [pr_a]+[pr_b]*infr+[pr_bf]*cf)\n",
    "        if (X[i][t]==0)&(X[i][t+1]==1):\n",
    "            if v[0]==1:\n",
    "                R[i,t]=0\n",
    "            elif (cf!=0):\n",
    "                if ((v[-cf:]==1).any()):\n",
    "                    R[i,t]=3\n",
    "            else:    \n",
    "                R[i,t]=2\n"
   ]
  },
  {
   "cell_type": "code",
   "execution_count": 29,
   "metadata": {},
   "outputs": [
    {
     "name": "stdout",
     "output_type": "stream",
     "text": [
      "******************* Iteration: 0 *****************************************************************************\n",
      "Current Time is : 16:34:18\n",
      "Current Parameters: [0.012  0.0033 0.0222 0.238  0.124  0.977 ]\n",
      "104 9229\n",
      "al 0.01246695867966337\n",
      "th 0.3996713256001534\n",
      "Verctor of Health States: \n",
      " [[1. 1. 1. ... 0. 0. 0.]\n",
      " [0. 1. 1. ... 0. 0. 0.]\n",
      " [0. 1. 1. ... 0. 0. 0.]\n",
      " ...\n",
      " [0. 0. 0. ... 0. 0. 0.]\n",
      " [0. 0. 0. ... 0. 0. 0.]\n",
      " [0. 0. 0. ... 0. 0. 0.]]\n",
      "******************* Iteration: 1 *****************************************************************************\n",
      "Current Time is : 16:35:22\n",
      "Current Parameters: [0.012, 0.0025, 0.0132, 0.282, 0.4, 0.907]\n",
      "105 9229\n",
      "al 0.01155622023020028\n",
      "th 0.3960729792797397\n",
      "Verctor of Health States: \n",
      " [[1. 1. 1. ... 0. 0. 0.]\n",
      " [0. 1. 1. ... 0. 0. 0.]\n",
      " [0. 1. 1. ... 0. 0. 0.]\n",
      " ...\n",
      " [0. 0. 0. ... 0. 0. 0.]\n",
      " [0. 0. 0. ... 0. 0. 0.]\n",
      " [0. 0. 0. ... 0. 0. 0.]]\n",
      "******************* Iteration: 2 *****************************************************************************\n",
      "Current Time is : 16:36:30\n",
      "Current Parameters: [0.012, 0.0017, 0.0129, 0.259, 0.396, 0.895]\n",
      "109 9221\n",
      "al 0.012687707244207154\n",
      "th 0.39002479705651916\n",
      "Verctor of Health States: \n",
      " [[1. 1. 1. ... 0. 0. 0.]\n",
      " [0. 1. 1. ... 0. 0. 0.]\n",
      " [0. 1. 1. ... 0. 0. 0.]\n",
      " ...\n",
      " [0. 0. 0. ... 0. 0. 0.]\n",
      " [0. 0. 0. ... 0. 0. 0.]\n",
      " [0. 0. 0. ... 0. 0. 0.]]\n",
      "******************* Iteration: 3 *****************************************************************************\n",
      "Current Time is : 16:37:47\n",
      "Current Parameters: [0.013, 0.0014, 0.0207, 0.273, 0.39, 0.907]\n",
      "117 9216\n",
      "al 0.012680432583912684\n",
      "th 0.3937456624339134\n",
      "Verctor of Health States: \n",
      " [[1. 1. 1. ... 0. 0. 0.]\n",
      " [0. 1. 1. ... 0. 0. 0.]\n",
      " [0. 1. 1. ... 0. 0. 0.]\n",
      " ...\n",
      " [0. 0. 0. ... 0. 0. 0.]\n",
      " [0. 0. 0. ... 0. 0. 0.]\n",
      " [0. 0. 0. ... 0. 0. 0.]]\n",
      "******************* Iteration: 4 *****************************************************************************\n",
      "Current Time is : 16:39:02\n",
      "Current Parameters: [0.013, 0.001, 0.0193, 0.276, 0.394, 0.897]\n",
      "118 9214\n",
      "al 0.012663063540647718\n",
      "th 0.39569556626518654\n",
      "Verctor of Health States: \n",
      " [[1. 1. 1. ... 0. 0. 0.]\n",
      " [0. 1. 1. ... 0. 0. 0.]\n",
      " [0. 1. 1. ... 0. 0. 0.]\n",
      " ...\n",
      " [0. 0. 0. ... 0. 0. 0.]\n",
      " [0. 0. 0. ... 0. 0. 0.]\n",
      " [0. 0. 0. ... 0. 0. 0.]]\n",
      "******************* Iteration: 5 *****************************************************************************\n",
      "Current Time is : 16:40:15\n",
      "Current Parameters: [0.013, 0.0017, 0.0173, 0.248, 0.396, 0.902]\n",
      "113 9216\n",
      "al 0.011811850571026324\n",
      "th 0.40346384824514503\n",
      "Verctor of Health States: \n",
      " [[1. 1. 1. ... 0. 0. 0.]\n",
      " [0. 1. 1. ... 0. 0. 0.]\n",
      " [0. 1. 1. ... 0. 0. 0.]\n",
      " ...\n",
      " [0. 0. 0. ... 0. 0. 0.]\n",
      " [0. 0. 0. ... 0. 0. 0.]\n",
      " [0. 0. 0. ... 0. 0. 0.]]\n",
      "******************* Iteration: 6 *****************************************************************************\n",
      "Current Time is : 16:41:25\n",
      "Current Parameters: [0.012, 0.0018, 0.0122, 0.246, 0.403, 0.91]\n",
      "116 9216\n",
      "al 0.012270247667744986\n",
      "th 0.4019761676988544\n",
      "Verctor of Health States: \n",
      " [[1. 1. 1. ... 0. 0. 0.]\n",
      " [0. 1. 1. ... 0. 0. 0.]\n",
      " [0. 1. 1. ... 0. 0. 0.]\n",
      " ...\n",
      " [0. 0. 0. ... 0. 0. 0.]\n",
      " [0. 0. 0. ... 0. 0. 0.]\n",
      " [0. 0. 0. ... 0. 0. 0.]]\n",
      "******************* Iteration: 7 *****************************************************************************\n",
      "Current Time is : 16:42:36\n",
      "Current Parameters: [0.012, 0.0014, 0.0135, 0.249, 0.402, 0.894]\n",
      "115 9219\n",
      "al 0.01268778452195397\n",
      "th 0.39610733892883543\n",
      "Verctor of Health States: \n",
      " [[1. 1. 1. ... 0. 0. 0.]\n",
      " [0. 1. 1. ... 0. 0. 0.]\n",
      " [0. 1. 1. ... 0. 0. 0.]\n",
      " ...\n",
      " [0. 0. 0. ... 0. 0. 0.]\n",
      " [0. 0. 0. ... 0. 0. 0.]\n",
      " [0. 0. 0. ... 0. 0. 0.]]\n",
      "******************* Iteration: 8 *****************************************************************************\n",
      "Current Time is : 16:43:53\n",
      "Current Parameters: [0.013, 0.0013, 0.0104, 0.261, 0.396, 0.903]\n",
      "120 9211\n",
      "al 0.01389469876604582\n",
      "th 0.3893697973628001\n",
      "Verctor of Health States: \n",
      " [[1. 1. 1. ... 0. 0. 0.]\n",
      " [0. 1. 1. ... 0. 0. 0.]\n",
      " [0. 1. 1. ... 0. 0. 0.]\n",
      " ...\n",
      " [0. 0. 0. ... 0. 0. 0.]\n",
      " [0. 0. 0. ... 0. 0. 0.]\n",
      " [0. 0. 0. ... 0. 0. 0.]]\n",
      "******************* Iteration: 9 *****************************************************************************\n",
      "Current Time is : 16:45:03\n",
      "Current Parameters: [0.014, 0.0014, 0.0183, 0.221, 0.389, 0.907]\n",
      "114 9217\n",
      "al 0.011951484793909643\n",
      "th 0.4010968661317409\n",
      "Verctor of Health States: \n",
      " [[1. 1. 1. ... 0. 0. 0.]\n",
      " [0. 1. 1. ... 0. 0. 0.]\n",
      " [0. 1. 1. ... 0. 0. 0.]\n",
      " ...\n",
      " [0. 0. 0. ... 0. 0. 0.]\n",
      " [0. 0. 0. ... 0. 0. 0.]\n",
      " [1. 0. 0. ... 0. 0. 0.]]\n"
     ]
    }
   ],
   "source": [
    "# Main code to run entire Gibbs algorithm U times:\n",
    "for i in range(U):\n",
    "    print(\"******************* Iteration:\",i,\"*****************************************************************************\")\n",
    "    now = datetime.now()\n",
    "    current_time = now.strftime(\"%H:%M:%S\")\n",
    "    print(\"Current Time is :\", current_time)\n",
    "    print(\"Current Parameters:\",params)\n",
    "    prm=Params(R,G,F,X,n,T,Y,params)\n",
    "    params=prm[0]\n",
    "    X=Calculate_X(K,T,X,G,F,Y,params)\n",
    "    print(\"Verctor of Health States:\",\"\\n\",X)\n",
    "    R=prm[1]\n",
    "winsound.Beep(freq, duration)            "
   ]
  },
  {
   "cell_type": "code",
   "execution_count": 30,
   "metadata": {},
   "outputs": [
    {
     "data": {
      "text/plain": [
       "[0.012, 0.0019, 0.0149, 0.251, 0.401, 0.905]"
      ]
     },
     "execution_count": 30,
     "metadata": {},
     "output_type": "execute_result"
    }
   ],
   "source": [
    "params"
   ]
  },
  {
   "cell_type": "code",
   "execution_count": 32,
   "metadata": {},
   "outputs": [],
   "source": [
    "# Compare X, Z and estimate accuracy of the model:"
   ]
  },
  {
   "cell_type": "code",
   "execution_count": 35,
   "metadata": {},
   "outputs": [
    {
     "name": "stdout",
     "output_type": "stream",
     "text": [
      "674.0 4008.0 4072\n"
     ]
    }
   ],
   "source": [
    "print(np.sum(X),np.sum(Y),np.count_nonzero(Y-X))"
   ]
  },
  {
   "cell_type": "code",
   "execution_count": null,
   "metadata": {},
   "outputs": [],
   "source": [
    "# synthetized observation vectore:\n",
    "Y_=np.zeros((n,T))\n",
    "for t in range(T):\n",
    "    for i in range(n):\n",
    "        if X[i,t]==0:\n",
    "            Y_[i,t]=np.random.binomial( 1, theta_0_,size=None) \n",
    "        else:\n",
    "            Y_[i,t]=np.random.binomial( 1, theta_1_,size=None) "
   ]
  },
  {
   "cell_type": "code",
   "execution_count": null,
   "metadata": {},
   "outputs": [],
   "source": [
    "print(np.sum(Y_),np.sum(Y),np.count_nonzero(Y-Y_))"
   ]
  },
  {
   "cell_type": "code",
   "execution_count": null,
   "metadata": {},
   "outputs": [],
   "source": [
    "Y=Y_"
   ]
  },
  {
   "cell_type": "markdown",
   "metadata": {},
   "source": [
    "# The following is for family test result problem:"
   ]
  },
  {
   "cell_type": "code",
   "execution_count": null,
   "metadata": {},
   "outputs": [],
   "source": [
    "# Synthetize data for famity test result problem"
   ]
  },
  {
   "cell_type": "code",
   "execution_count": null,
   "metadata": {},
   "outputs": [],
   "source": []
  },
  {
   "cell_type": "code",
   "execution_count": null,
   "metadata": {},
   "outputs": [],
   "source": [
    "def Sample_alpha(a_alpha, b_alpha):\n",
    "    for i in beta.rvs(a_alpha, b_alpha, size=1000):\n",
    "        if (i>0.029)&(i<0.051):\n",
    "            alpha_=round(i,3)\n",
    "            break\n",
    "    return alpha_        \n"
   ]
  },
  {
   "cell_type": "code",
   "execution_count": null,
   "metadata": {},
   "outputs": [],
   "source": [
    "def Sample_beta(a_beta, b_beta):\n",
    "    for i in beta.rvs(a_beta, b_beta, size=10000):\n",
    "        if (i>0.00491)&(i<0.01451):\n",
    "            beta_=round(i,4)\n",
    "            break\n",
    "    return beta_        \n"
   ]
  },
  {
   "cell_type": "code",
   "execution_count": null,
   "metadata": {},
   "outputs": [],
   "source": [
    "def Sample_gama(a_gama,b_gama):\n",
    "    for i in beta.rvs(a_gama, b_gama, size=1000):\n",
    "        if (i>0.291)&(i<0.31):\n",
    "            gama_=round(i,3)\n",
    "            break\n",
    "    return gama_  \n"
   ]
  },
  {
   "cell_type": "code",
   "execution_count": null,
   "metadata": {},
   "outputs": [],
   "source": [
    "def Sample_theta0(a_teta0, b_teta0):\n",
    "    for i in beta.rvs(a_teta0, b_teta0, size=10000):\n",
    "        print(i)\n",
    "        if (i<0.19975):\n",
    "            theta_0_=round(i,3)\n",
    "            break\n",
    "    return theta_0_  \n"
   ]
  },
  {
   "cell_type": "code",
   "execution_count": null,
   "metadata": {},
   "outputs": [],
   "source": [
    "def Sample_theta1(a_teta1, b_teta1):\n",
    "    for i in beta.rvs(a_teta1, b_teta1, size=100000):\n",
    "        if .9901>i>0.8:\n",
    "            theta_1_=round(i,3)\n",
    "            break\n",
    "    return theta_1_  \n"
   ]
  },
  {
   "cell_type": "code",
   "execution_count": null,
   "metadata": {},
   "outputs": [],
   "source": [
    "# initialize parameters for beta distributions:\n",
    "a_alpha=2\n",
    "b_alpha=7\n",
    "a_beta=2\n",
    "b_beta=10\n",
    "a_gama=1\n",
    "b_gama=3\n",
    "a_teta0=.1\n",
    "b_teta0=500\n",
    "a_teta1=4000\n",
    "b_teta1=100"
   ]
  },
  {
   "cell_type": "code",
   "execution_count": null,
   "metadata": {},
   "outputs": [],
   "source": [
    "# Choose some params close to obtimized params:\n",
    "alpha_= 0.05\n",
    "beta_= 0.01\n",
    "gama_= 0.3\n",
    "theta_0_= 0.07\n",
    "theta_1_= 0.8\n",
    "params=[]\n",
    "params.append([alpha_,beta_,gama_,theta_0_,theta_1_,p_])"
   ]
  },
  {
   "cell_type": "code",
   "execution_count": null,
   "metadata": {},
   "outputs": [],
   "source": [
    "#Sample infection and emision parameters(alpha,beta,gama,teta0,teta1)\n",
    "alpha_=Sample_alpha(a_alpha, b_alpha)\n",
    "beta_=Sample_beta(a_beta, b_beta)\n",
    "gama_=Sample_gama(a_gama,b_gama)\n",
    "theta_0_=Sample_theta0(a_teta0, b_teta0)\n",
    "theta_1_=Sample_theta1(a_teta1, b_teta1)"
   ]
  },
  {
   "cell_type": "code",
   "execution_count": null,
   "metadata": {},
   "outputs": [],
   "source": [
    "params=np.array([alpha_,beta_,gama_,theta_0_,theta_1_])\n",
    "params"
   ]
  },
  {
   "cell_type": "code",
   "execution_count": null,
   "metadata": {},
   "outputs": [],
   "source": [
    "#Use uptimized params:\n",
    "number_families=4\n",
    "alpha_=params[0]\n",
    "bata_=params[1]\n",
    "gama_=params[2]\n",
    "theta_0_=params[3]\n",
    "thata_1_=params[4]    \n",
    "p_=0.9"
   ]
  },
  {
   "cell_type": "code",
   "execution_count": null,
   "metadata": {},
   "outputs": [],
   "source": [
    "# Synthetize the \"Family\" matrix, which denotes that each two individuals are in the same family or not:\n",
    "a=list(range(n))\n",
    "Family=np.identity(n,dtype=int)\n",
    "for i in range(1,number_families):\n",
    "    number_family_members=np.random.randint(2, 5)\n",
    "    inx=random.sample(list(a), number_family_members)\n",
    "    a=set(a).difference(inx)\n",
    "    for j in inx:\n",
    "        for k in inx:\n",
    "            Family[j,k]=1\n",
    "F=Family\n",
    "F1=F-np.identity(n, dtype=int)"
   ]
  },
  {
   "cell_type": "code",
   "execution_count": null,
   "metadata": {},
   "outputs": [],
   "source": [
    "# Synthetize G,Y,X:\n",
    "n,T,y=10,10,2\n",
    "synthetic_data=Synthetic_Data(n,T,y,params)\n",
    "G,Y,X =synthetic_data[0],synthetic_data[1],synthetic_data[2]"
   ]
  },
  {
   "cell_type": "markdown",
   "metadata": {},
   "source": [
    "# Simulation data is ready now, YF,G,Family:"
   ]
  },
  {
   "cell_type": "code",
   "execution_count": null,
   "metadata": {},
   "outputs": [],
   "source": [
    "F"
   ]
  },
  {
   "cell_type": "code",
   "execution_count": null,
   "metadata": {},
   "outputs": [],
   "source": [
    "G[1]"
   ]
  },
  {
   "cell_type": "code",
   "execution_count": null,
   "metadata": {},
   "outputs": [],
   "source": []
  },
  {
   "cell_type": "code",
   "execution_count": null,
   "metadata": {},
   "outputs": [],
   "source": []
  },
  {
   "cell_type": "code",
   "execution_count": null,
   "metadata": {},
   "outputs": [],
   "source": []
  },
  {
   "cell_type": "code",
   "execution_count": null,
   "metadata": {},
   "outputs": [],
   "source": []
  },
  {
   "cell_type": "code",
   "execution_count": null,
   "metadata": {},
   "outputs": [],
   "source": []
  },
  {
   "cell_type": "code",
   "execution_count": null,
   "metadata": {},
   "outputs": [],
   "source": [
    "# ایده اول برای مین فیلد و شبه مشاهدات"
   ]
  },
  {
   "cell_type": "code",
   "execution_count": null,
   "metadata": {},
   "outputs": [],
   "source": [
    "y=np.zeros((n,T))\n",
    "for i in range(n):\n",
    "    for j in range(n):\n",
    "         if unique_rows[j,i]==1:\n",
    "                break\n",
    "    for t in range(T):\n",
    "       \n",
    "        y[i,t]=int(YF[j,t]-np.dot(np.multiply(unique_rows[j],X.T[t]),W)+X[i,t]*W[i])\n",
    "        y = np.where(y <0, 0, y)\n",
    "y "
   ]
  },
  {
   "cell_type": "code",
   "execution_count": null,
   "metadata": {},
   "outputs": [],
   "source": [
    "params"
   ]
  },
  {
   "cell_type": "code",
   "execution_count": null,
   "metadata": {},
   "outputs": [],
   "source": [
    "# Run Forward sampling algorithm to estimate X:\n",
    "U=10\n",
    "J=100\n",
    "P=p_\n",
    "X=Forward_Sampling(T,n,G,params)\n",
    "X=Calculate_X(J,T,n,X,G,y,params)\n",
    "winsound.Beep(freq, duration)"
   ]
  },
  {
   "cell_type": "code",
   "execution_count": null,
   "metadata": {},
   "outputs": [],
   "source": [
    "# define auxiliary variable R(n,t):\n",
    "R=np.zeros((n,T))+1\n",
    "infR=np.array(CNbr(G,X,n,T))\n",
    "for i in range(n):\n",
    "    for t in range(T-1):\n",
    "        infr=int(infR[i,t])\n",
    "        pr_a=alpha_/(alpha_+beta_*infr)\n",
    "        pr_b=beta_/(alpha_+beta_*infr)\n",
    "        v=np.random.multinomial(1, [pr_a]+[pr_b]*infr)\n",
    "        if (X[i][t]==0)&(X[i][t+1]==1):\n",
    "                if v[0]==1:\n",
    "                    R[i,t]=0\n",
    "                else: \n",
    "                    R[i,t]=2"
   ]
  },
  {
   "cell_type": "code",
   "execution_count": null,
   "metadata": {},
   "outputs": [],
   "source": [
    "for i in range(U):\n",
    "    print(\"******************* Iteration:\",i,\"*****************************************************************************\")\n",
    "    now = datetime.now()\n",
    "    current_time = now.strftime(\"%H:%M:%S\")\n",
    "    print(\"Current Time is :\", current_time)\n",
    "    prm=Params(R,G,X,n,T,y,params)\n",
    "    params=prm[0]\n",
    "    print(\"updated parameters:\",params)\n",
    "    X=Calculate_X(J,T,n,X,G,y,params)\n",
    "    print(\"Verctor of Health States:\",\"\\n\",X)\n",
    "    R=prm[1]\n",
    "winsound.Beep(freq, duration)"
   ]
  },
  {
   "cell_type": "code",
   "execution_count": null,
   "metadata": {},
   "outputs": [],
   "source": [
    "for i in range(n):\n",
    "    for t in range(T):\n",
    "        if X[i,t]==0:\n",
    "            yy[i,t]=np.random.binomial( 1, theta_0_,size=None) "
   ]
  },
  {
   "cell_type": "code",
   "execution_count": null,
   "metadata": {},
   "outputs": [],
   "source": [
    "print(np.sum(X),np.sum(Z),np.count_nonzero(Z-X))"
   ]
  },
  {
   "cell_type": "code",
   "execution_count": null,
   "metadata": {},
   "outputs": [],
   "source": [
    "# ایده دوم برای مین فیلد و شبه مشاهدات"
   ]
  },
  {
   "cell_type": "code",
   "execution_count": null,
   "metadata": {},
   "outputs": [],
   "source": [
    "# Save true X in Z:\n",
    "Z=X"
   ]
  },
  {
   "cell_type": "code",
   "execution_count": null,
   "metadata": {},
   "outputs": [],
   "source": [
    "#initialize parameters a0,b0,a1,b1:\n",
    "A=np.round(np.random.uniform(0, 10, (4,1)),3)\n",
    "a0,b0,a1,b1=A[0][0],A[1][0],A[2][0],A[3][0]\n",
    "print(a0,b0,a1,b1)"
   ]
  },
  {
   "cell_type": "code",
   "execution_count": null,
   "metadata": {},
   "outputs": [],
   "source": [
    "def Sample_Sudo_theta0(a0, b0):\n",
    "    for i in beta.rvs(a0, b0, size=10000):\n",
    "        if (i>0.001)&(i<0.5):\n",
    "            theta0=round(i,3)\n",
    "            break\n",
    "    return theta0  "
   ]
  },
  {
   "cell_type": "code",
   "execution_count": null,
   "metadata": {},
   "outputs": [],
   "source": [
    "def Sample_Sudo_theta1(a1, b1):\n",
    "    for i in beta.rvs(a1, b1, size=100000):\n",
    "        if .9901>i>0.5:\n",
    "            theta1=round(i,3)\n",
    "            break\n",
    "    return theta1  \n"
   ]
  },
  {
   "cell_type": "code",
   "execution_count": null,
   "metadata": {},
   "outputs": [],
   "source": [
    "theta0=Sample_Sudo_theta0(a0, b0)\n",
    "theta0"
   ]
  },
  {
   "cell_type": "code",
   "execution_count": null,
   "metadata": {},
   "outputs": [],
   "source": [
    "theta1=Sample_Sudo_theta1(a1, b1)\n",
    "theta1"
   ]
  },
  {
   "cell_type": "code",
   "execution_count": null,
   "metadata": {},
   "outputs": [],
   "source": [
    "y=np.zeros((n,T))\n"
   ]
  },
  {
   "cell_type": "code",
   "execution_count": null,
   "metadata": {},
   "outputs": [],
   "source": [
    "def Calculate_Sudo_observations(a0,b0,a1,b1,X):\n",
    "    for i in range(n):\n",
    "        j=family_index(i,unique_rows)\n",
    "        for t in range(T):\n",
    "            if YF[j,t]==1:\n",
    "                theta1=Sample_Sudo_theta1(a1+YF[j,t]*np.sum(unique_rows[j])-np.sum(X[unique_rows[j]==1,t])+X[i,t], b1+np.sum(X[unique_rows[j]==1,t])-X[i,t])\n",
    "                y[i,t]=np.random.binomial( 1, theta1,size=None)\n",
    "            else:\n",
    "                y[i,t]=0\n",
    "    return y"
   ]
  },
  {
   "cell_type": "code",
   "execution_count": null,
   "metadata": {},
   "outputs": [],
   "source": [
    "# Run Forward sampling algorithm to estimate X:\n",
    "U=10\n",
    "J=1000\n",
    "P=p_\n",
    "X=Forward_Sampling(T,n,G,params)\n",
    "y=Calculate_Sudo_observations(a0,b0,a1,b1,X)\n",
    "X=Calculate_X(J,T,n,X,G,y,params)\n",
    "winsound.Beep(freq, duration)"
   ]
  },
  {
   "cell_type": "code",
   "execution_count": null,
   "metadata": {},
   "outputs": [],
   "source": [
    "# define auxiliary variable R(n,t):\n",
    "R=np.zeros((n,T))+1\n",
    "infR=np.array(CNbr(G,X,n,T))\n",
    "for i in range(n):\n",
    "    for t in range(T-1):\n",
    "        infr=int(infR[i,t])\n",
    "        pr_a=alpha_/(alpha_+beta_*infr)\n",
    "        pr_b=beta_/(alpha_+beta_*infr)\n",
    "        v=np.random.multinomial(1, [pr_a]+[pr_b]*infr)\n",
    "        if (X[i][t]==0)&(X[i][t+1]==1):\n",
    "                if v[0]==1:\n",
    "                    R[i,t]=0\n",
    "                else: \n",
    "                    R[i,t]=2"
   ]
  },
  {
   "cell_type": "code",
   "execution_count": null,
   "metadata": {},
   "outputs": [],
   "source": [
    "for i in range(U):\n",
    "    print(\"******************* Iteration:\",i,\"*****************************************************************************\")\n",
    "    now = datetime.now()\n",
    "    current_time = now.strftime(\"%H:%M:%S\")\n",
    "    print(\"Current Time is :\", current_time)\n",
    "    prm=Params(R,G,X,n,T,y,params)\n",
    "    params=prm[0]\n",
    "    print(\"updated parameters:\",params)\n",
    "    y=Calculate_Sudo_observations(a0,b0,a1,b1,X)\n",
    "    X=Calculate_X(J,T,n,X,G,y,params)\n",
    "    print(\"Verctor of Health States:\",\"\\n\",X)\n",
    "    R=prm[1]\n",
    "winsound.Beep(freq, duration)\n",
    "    \n",
    "    "
   ]
  },
  {
   "cell_type": "code",
   "execution_count": null,
   "metadata": {},
   "outputs": [],
   "source": [
    "params"
   ]
  },
  {
   "cell_type": "code",
   "execution_count": null,
   "metadata": {},
   "outputs": [],
   "source": [
    "#y=Calculate_Sudo_observations(a0,b0,a1,b1,X)\n",
    "for i in range(n):\n",
    "    for t in range(T):\n",
    "        j=family_index(i,unique_rows)\n",
    "        if YF[j,t]==1:\n",
    "            if (np.sum(X[unique_rows[j]==1,t]))==0:\n",
    "                print(np.sum(X[unique_rows[j]==1,t]))"
   ]
  },
  {
   "cell_type": "code",
   "execution_count": null,
   "metadata": {},
   "outputs": [],
   "source": [
    "Y=np.zeros((n,T))\n",
    "for i in range(n):\n",
    "    for j in range(unique_rows.shape[0]):\n",
    "        if unique_rows[j,i]==1:\n",
    "            Y[i,:]=YF[j,:]"
   ]
  },
  {
   "cell_type": "code",
   "execution_count": null,
   "metadata": {},
   "outputs": [],
   "source": [
    "np.sum(y)"
   ]
  },
  {
   "cell_type": "code",
   "execution_count": null,
   "metadata": {},
   "outputs": [],
   "source": [
    "print(np.sum(X),np.sum(Z),np.count_nonzero(Z-X))"
   ]
  },
  {
   "cell_type": "code",
   "execution_count": null,
   "metadata": {},
   "outputs": [],
   "source": []
  },
  {
   "cell_type": "code",
   "execution_count": null,
   "metadata": {},
   "outputs": [],
   "source": [
    "# sample parameter of sudo obsarvations:\n",
    "def Sample_theta(a, b):\n",
    "    for i in beta.rvs(a, b, size=10000):\n",
    "        if (i>0.3)&(i<0.6):\n",
    "            theta=round(i,3)\n",
    "            break\n",
    "    return theta "
   ]
  }
 ],
 "metadata": {
  "kernelspec": {
   "display_name": "Python 3",
   "language": "python",
   "name": "python3"
  },
  "language_info": {
   "codemirror_mode": {
    "name": "ipython",
    "version": 3
   },
   "file_extension": ".py",
   "mimetype": "text/x-python",
   "name": "python",
   "nbconvert_exporter": "python",
   "pygments_lexer": "ipython3",
   "version": "3.8.5"
  }
 },
 "nbformat": 4,
 "nbformat_minor": 4
}
