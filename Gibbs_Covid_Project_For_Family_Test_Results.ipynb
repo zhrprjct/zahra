{
 "cells": [
  {
   "cell_type": "code",
   "execution_count": 1,
   "metadata": {},
   "outputs": [],
   "source": [
    "# import neccessary libraries\n",
    "import numpy as np\n",
    "import random\n",
    "import sympy as sym\n",
    "from joblib import Parallel, delayed\n",
    "from sympy import *\n",
    "from sympy import symbols\n",
    "from sympy.plotting import plot, plot3d\n",
    "from datetime import datetime\n",
    "from scipy.stats import beta\n",
    "import winsound\n",
    "duration = 1000  # milliseconds\n",
    "freq = 440  # Hz"
   ]
  },
  {
   "cell_type": "code",
   "execution_count": 2,
   "metadata": {},
   "outputs": [],
   "source": [
    "# function to count the number of the infected neighbores of i at t:\n",
    "def CNbr(G,X,n,T):\n",
    "    C=np.zeros((T,n))\n",
    "    for t in range(T):\n",
    "        C[t]=G[t].dot(X.T[t])\n",
    "    return C.T"
   ]
  },
  {
   "cell_type": "code",
   "execution_count": 3,
   "metadata": {},
   "outputs": [],
   "source": [
    "# Function to obtain the very initial sample of X, using forwad sampling:\n",
    "def Forward_Sampling(T,n,G,Y,param):\n",
    "    \n",
    "    alpha_=param[0]\n",
    "    bata_=param[1]\n",
    "    gama_=param[2]\n",
    "    theta_0_=param[3]\n",
    "    thata_1_=param[4] \n",
    "    x=int((1-P)*n)\n",
    "    X=np.zeros((n,T))  \n",
    "    idx=np.random.choice(range(n), x)\n",
    "    X[idx,0]=1\n",
    "    infR=CNbr(G,X,n,T)\n",
    "    for t in range(T-1):\n",
    "        for i in range(n):\n",
    "            c=infR[i,t]\n",
    "            if X[i,t]==0:\n",
    "                p0=1-alpha_-beta_*c\n",
    "                p1=alpha_+beta_*c\n",
    "            else:\n",
    "                p0=gama_\n",
    "                p1=1-gama_\n",
    "            if p0+p1==0:\n",
    "                l=0.5\n",
    "            else:\n",
    "                l=p1/(p0+p1)\n",
    "            X[i,t+1]=np.random.binomial( 1, l,size=None) \n",
    "    return X"
   ]
  },
  {
   "cell_type": "code",
   "execution_count": 69,
   "metadata": {},
   "outputs": [],
   "source": [
    "def Sample_hidden_state(T,n,X,G,Y,param,t):\n",
    "    \n",
    "    alpha_=param[0]\n",
    "    beta_=param[1]\n",
    "    gama_=param[2]\n",
    "    theta_0_=param[3]\n",
    "    thata_1_=param[4]\n",
    "    \n",
    "    pow_stay_healthy,pow_become_infected,pow_recovery,pow_stay_infected=0,0,0,0\n",
    "    \n",
    "    if (t==0):\n",
    "        c=G[t].dot(X.T[t])\n",
    "    else:    \n",
    "        c=G[t-1].dot(X.T[t-1])\n",
    "        \n",
    "    for i in range(n):\n",
    "        \n",
    "        alpha_=param[0]\n",
    "        beta_=param[1]\n",
    "        gama_=param[2]\n",
    "        theta_0_=param[3]\n",
    "        thata_1_=param[4] \n",
    "    \n",
    "        pow0=np.count_nonzero(Y[i,t] == 0)  \n",
    "        pow1=np.count_nonzero(Y[i,t] == 1)\n",
    "    \n",
    "        p0=(1-theta_0_)**pow0\n",
    "        p1=(1-theta_1_)**pow0\n",
    "    \n",
    "        p0=(theta_0_)**pow1\n",
    "        p1=theta_1_**pow1\n",
    "        \n",
    "        if (X[i,t]==1)&(t==0):\n",
    "            c0=c[i]-1\n",
    "            c1=c[i]\n",
    "        else:\n",
    "            c0=c[i]\n",
    "            c1=c[i]+1\n",
    "        \n",
    "                \n",
    "        stay_healthy0= 1-alpha_-beta_*c0\n",
    "        become_infected0=alpha_+beta_*c0\n",
    "    \n",
    "        stay_healthy1=1-alpha_-beta_*c1\n",
    "        become_infected1=alpha_+beta_*c1\n",
    "        \n",
    "        if t==T-1:\n",
    "            if X[i,t-1]==0:\n",
    "                p0=p0*stay_healthy0\n",
    "                p1=p1*become_infected0\n",
    "            else:\n",
    "                p0=p0*gama_\n",
    "                p1=p1*(1-gama_) \n",
    "        else:        \n",
    "            state_transition=X.T[t]+2*X.T[t+1]+1\n",
    "            key=np.multiply(G[0][i],state_transition)\n",
    "    \n",
    "            pow_stay_healthy=pow_stay_healthy+np.count_nonzero(key == 4)\n",
    "            pow_become_infected=pow_become_infected+np.count_nonzero(key == 3)\n",
    "            pow_recovery=pow_recovery+np.count_nonzero(key == 2)\n",
    "            pow_stay_infected=pow_stay_infected+np.count_nonzero(key ==1)\n",
    "    \n",
    "            p0=P*p0*(stay_healthy0)**pow_stay_healthy*(become_infected0)**pow_become_infected*(gama_)**pow_recovery*(1-gama_)**pow_stay_infected\n",
    "            p1=(1-P)*p1*(stay_healthy1)**pow_stay_healthy*(become_infected1)**pow_become_infected*(gama_)**pow_recovery*(1-gama_)**pow_stay_infected\n",
    "            \n",
    "        if p0+p1==0:\n",
    "            l=0.5\n",
    "        else:\n",
    "            l=p1/(p0+p1)\n",
    "        if (l>1 )| (l==0) | (l<0 ):\n",
    "            print(i,t,p0,p1,stay_healthy0,become_infected0,c0)\n",
    "        X[i,0]=np.random.binomial( 1,  l,size=None)    \n",
    "        \n",
    "    return X    \n",
    "    "
   ]
  },
  {
   "cell_type": "code",
   "execution_count": 5,
   "metadata": {},
   "outputs": [],
   "source": [
    "# Gibbs sampling to obtain X, as new sample of posterior distribution:\n",
    "def Calculate_X(K,T,n,X,G,Y,param):\n",
    "\n",
    "    alpha_=param[0]\n",
    "    beta_=param[1]\n",
    "    gama_=param[2]\n",
    "    theta_0_=param[3]\n",
    "    thata_1_=param[4]\n",
    "    \n",
    "    for k in range(K):\n",
    "        for t in range(T):\n",
    "            X=Sample_hidden_state(T,n,X,G,Y,param,t)\n",
    "    return X                "
   ]
  },
  {
   "cell_type": "code",
   "execution_count": 6,
   "metadata": {},
   "outputs": [],
   "source": [
    "# function to sample new parameters and update parameters:\n",
    "def Params(R,G,X,n,T,Y,param):\n",
    "    \n",
    "    alpha_=param[0]\n",
    "    bata_=param[1]\n",
    "    gama_=param[2]\n",
    "    theta_0_=param[3]\n",
    "    thata_1_=param[4]    \n",
    "   \n",
    "    TP=np.sum(np.multiply(X,Y))\n",
    "    FP=n*T-np.count_nonzero(X-Y+1)\n",
    "    \n",
    "    infR=np.array(CNbr(G,X,n,T))\n",
    "    \n",
    "    alpha_=Sample_alpha(a_alpha + n*T- np.count_nonzero(R) , b_alpha - np.count_nonzero(X)+ np.count_nonzero(R))\n",
    "    beta_=Sample_beta(a_beta + n*T-np.count_nonzero(R-2) , b_beta +np.sum(np.multiply((1-X),infR))-n*T+np.count_nonzero(R-2))\n",
    "    gama_=Sample_gama(a_gama +(T-1)*n-np.count_nonzero(X[:,:-1]-X[:,1:]-1), b_gama+np.sum(X)-(T-1)*n+np.count_nonzero(X[:,:-1]-X[:,1:]-1))\n",
    "    theta_0_=Sample_theta0( a_teta0+FP,b_teta0+n*T-np.count_nonzero(X)-FP)\n",
    "    theta_1_=Sample_theta1( a_teta1+TP,b_teta1+np.count_nonzero(X)-TP)\n",
    "    \n",
    "    R=np.zeros((n,T))+1\n",
    "    for i in range(n):\n",
    "        for t in range(T-1):\n",
    "            infr=int(infR[i,t])\n",
    "            pr_a=alpha_/(alpha_+beta_*infr)\n",
    "            pr_b=beta_/(alpha_+beta_*infr)\n",
    "            v=np.random.multinomial(1, [pr_a]+[pr_b]*infr)\n",
    "            if (X[i][t]==0)&(X[i][t+1]==1):\n",
    "                if v[0]==1:\n",
    "                    R[i,t]=0\n",
    "                else: \n",
    "                    R[i,t]=2\n",
    "\n",
    "    return alpha_,beta_,gama_,theta_0_,theta_1_,R"
   ]
  },
  {
   "cell_type": "markdown",
   "metadata": {},
   "source": [
    "# function to sample from beta distribution\n"
   ]
  },
  {
   "cell_type": "code",
   "execution_count": 7,
   "metadata": {},
   "outputs": [],
   "source": [
    "def Sample_alpha(a_alpha, b_alpha):\n",
    "    for i in beta.rvs(a_alpha, b_alpha, size=1000):\n",
    "        if (i>0.001)&(i<0.051):\n",
    "            alpha_=round(i,3)\n",
    "            break\n",
    "    return alpha_        \n"
   ]
  },
  {
   "cell_type": "code",
   "execution_count": 8,
   "metadata": {},
   "outputs": [],
   "source": [
    "def Sample_beta(a_beta, b_beta):\n",
    "    for i in beta.rvs(a_beta, b_beta, size=1000):\n",
    "        if (i>0.0001)&(i<0.051):\n",
    "            beta_=round(i,4)\n",
    "            break\n",
    "    return beta_        \n"
   ]
  },
  {
   "cell_type": "code",
   "execution_count": 9,
   "metadata": {},
   "outputs": [],
   "source": [
    "def Sample_gama(a_gama,b_gama):\n",
    "    for i in beta.rvs(a_gama, b_gama, size=1000):\n",
    "        if (i>0.1)&(i<0.7):\n",
    "            gama_=round(i,3)\n",
    "            break\n",
    "    return gama_  \n"
   ]
  },
  {
   "cell_type": "code",
   "execution_count": 10,
   "metadata": {},
   "outputs": [],
   "source": [
    "def Sample_theta0(a_teta0, b_teta0):\n",
    "    for i in beta.rvs(a_teta0, b_teta0, size=10000):\n",
    "        if (i>0.001)&(i<0.3):\n",
    "            theta_0_=round(i,3)\n",
    "            break\n",
    "    return theta_0_  \n"
   ]
  },
  {
   "cell_type": "code",
   "execution_count": 11,
   "metadata": {},
   "outputs": [],
   "source": [
    "def Sample_theta1(a_teta1, b_teta1):\n",
    "    for i in beta.rvs(a_teta1, b_teta1, size=10000):\n",
    "        if i>0.8:\n",
    "            theta_1_=round(i,3)\n",
    "            break\n",
    "    return theta_1_  \n"
   ]
  },
  {
   "cell_type": "code",
   "execution_count": 45,
   "metadata": {},
   "outputs": [],
   "source": [
    "# initialize parameters for beta distributions:\n",
    "a_alpha=1\n",
    "b_alpha=10\n",
    "a_beta=0.1\n",
    "b_beta=1\n",
    "a_gama=7\n",
    "b_gama=7\n",
    "a_teta0=1\n",
    "b_teta0=5\n",
    "a_teta1=5\n",
    "b_teta1=.1"
   ]
  },
  {
   "cell_type": "code",
   "execution_count": 46,
   "metadata": {},
   "outputs": [],
   "source": [
    "#Sample infection and emision parameters(alpha,beta,gama,teta0,teta1)\n",
    "alpha_=Sample_alpha(a_alpha, b_alpha)\n",
    "beta_=Sample_beta(a_beta, b_beta)\n",
    "gama_=Sample_gama(a_gama,b_gama)\n",
    "theta_0_=Sample_theta0(a_teta0, b_teta0)\n",
    "theta_1_=Sample_theta1(a_teta1, b_teta1)\n",
    "p_=.8"
   ]
  },
  {
   "cell_type": "code",
   "execution_count": 60,
   "metadata": {},
   "outputs": [],
   "source": [
    "params=[]\n",
    "params.append([alpha_,beta_,gama_,theta_0_,theta_1_,p_])\n"
   ]
  },
  {
   "cell_type": "code",
   "execution_count": 61,
   "metadata": {},
   "outputs": [],
   "source": [
    "# Function to generates Synthetic dataset\n",
    "def Synthetic_Data(n,T,y,params):\n",
    "    alpha_,beta_,gama_,theta_0_,theta_1_,p_=params[0],params[1],params[2],params[3],params[4],params[5]\n",
    "    x=int((1-p_)*n)\n",
    "\n",
    "    X=np.zeros((n,T))\n",
    "    idx=np.random.choice(range(n), x)\n",
    "    X[idx,0]=1\n",
    "    # Random social network\n",
    "    G=[]\n",
    "    for j in range(T):\n",
    "        g=np.identity(n)\n",
    "        for i in range(n):\n",
    "            inx=np.random.choice(range(i,n), y)\n",
    "            g[i,inx]=1  \n",
    "            g[inx,i]=1\n",
    "        G.append(g)\n",
    "    G=np.array(G)\n",
    "    infR=CNbr(G,X,n,T)\n",
    "    # Synthetize X, using params,G and transition probability:\n",
    "    for t in range(T-1):\n",
    "        for i in range(n):\n",
    "            c=infR[i,t]\n",
    "            if X[i,t]==0:\n",
    "                p0=1-alpha_-beta_*c\n",
    "                p1=alpha_+beta_*c\n",
    "            else:\n",
    "                p0=gama_\n",
    "                p1=1-gama_\n",
    "            if p0+p1==0:\n",
    "                l=0.5\n",
    "            else:\n",
    "                l=p1/(p0+p1)\n",
    "            X[i,t+1]=np.random.binomial( 1, l,size=None) \n",
    "\n",
    "    # Synthetize Y, using params,G, X, emission probability:\n",
    "    Y=np.zeros((n,T))\n",
    "    for t in range(T):\n",
    "        for i in range(n):\n",
    "            if X[i,t]==0:\n",
    "                Y[i,t]=np.random.binomial( 1, theta_0_,size=None) \n",
    "            else:\n",
    "                Y[i,t]=np.random.binomial( 1, theta_1_,size=None) \n",
    "    return G,Y,X            "
   ]
  },
  {
   "cell_type": "code",
   "execution_count": 62,
   "metadata": {},
   "outputs": [],
   "source": [
    "n,T,y=100,100,10\n",
    "synthetic_data=Synthetic_Data(n,T,y,params[-1])\n",
    "G,Y,X =synthetic_data[0],synthetic_data[1],synthetic_data[2]"
   ]
  },
  {
   "cell_type": "code",
   "execution_count": 63,
   "metadata": {},
   "outputs": [
    {
     "data": {
      "text/plain": [
       "895.0"
      ]
     },
     "execution_count": 63,
     "metadata": {},
     "output_type": "execute_result"
    }
   ],
   "source": [
    "# Save true value of X in Z, as the correct label of data:\n",
    "Z=X\n",
    "np.sum(Z)"
   ]
  },
  {
   "cell_type": "code",
   "execution_count": 64,
   "metadata": {},
   "outputs": [
    {
     "data": {
      "text/plain": [
       "895.0"
      ]
     },
     "execution_count": 64,
     "metadata": {},
     "output_type": "execute_result"
    }
   ],
   "source": [
    "np.sum(X)"
   ]
  },
  {
   "cell_type": "code",
   "execution_count": 65,
   "metadata": {},
   "outputs": [
    {
     "data": {
      "text/plain": [
       "[[0.051, 0.0191, 0.538, 0.019, 0.999, 0.8]]"
      ]
     },
     "execution_count": 65,
     "metadata": {},
     "output_type": "execute_result"
    }
   ],
   "source": [
    "params"
   ]
  },
  {
   "cell_type": "code",
   "execution_count": 66,
   "metadata": {},
   "outputs": [
    {
     "data": {
      "text/plain": [
       "1075.0"
      ]
     },
     "execution_count": 66,
     "metadata": {},
     "output_type": "execute_result"
    }
   ],
   "source": [
    "np.sum(Y)"
   ]
  },
  {
   "cell_type": "code",
   "execution_count": 70,
   "metadata": {},
   "outputs": [
    {
     "name": "stdout",
     "output_type": "stream",
     "text": [
      "73 3 5e-324 0.0 0.9905 0.009500000000000001 1.0\n",
      "73 4 5e-324 0.0 0.999 0.001 0.0\n",
      "73 3 5e-324 0.0 0.9905 0.009500000000000001 1.0\n",
      "73 4 5e-324 0.0 0.999 0.001 0.0\n",
      "73 3 5e-324 0.0 0.9905 0.009500000000000001 1.0\n",
      "73 4 5e-324 0.0 0.999 0.001 0.0\n",
      "73 3 5e-324 0.0 0.9905 0.009500000000000001 1.0\n",
      "73 4 5e-324 0.0 0.999 0.001 0.0\n",
      "73 3 5e-324 0.0 0.9905 0.009500000000000001 1.0\n",
      "73 4 5e-324 0.0 0.999 0.001 0.0\n",
      "73 3 5e-324 0.0 0.9905 0.009500000000000001 1.0\n",
      "73 4 5e-324 0.0 0.999 0.001 0.0\n",
      "73 3 5e-324 0.0 0.9905 0.009500000000000001 1.0\n",
      "73 4 5e-324 0.0 0.999 0.001 0.0\n",
      "73 3 5e-324 0.0 0.9905 0.009500000000000001 1.0\n",
      "73 4 5e-324 0.0 0.999 0.001 0.0\n",
      "73 3 5e-324 0.0 0.9905 0.009500000000000001 1.0\n",
      "73 4 5e-324 0.0 0.999 0.001 0.0\n",
      "73 3 5e-324 0.0 0.9905 0.009500000000000001 1.0\n",
      "73 4 5e-324 0.0 0.999 0.001 0.0\n"
     ]
    }
   ],
   "source": [
    "# Run our MCEM algorithm to estimate X:\n",
    "U=1\n",
    "J=10\n",
    "P=p_\n",
    "X=Forward_Sampling(T,n,G,Y,param[-1])\n",
    "X=Calculate_X(J,T,n,X,G,Y,param[-1])\n",
    "winsound.Beep(freq, duration)"
   ]
  },
  {
   "cell_type": "code",
   "execution_count": 71,
   "metadata": {},
   "outputs": [
    {
     "data": {
      "text/plain": [
       "42.0"
      ]
     },
     "execution_count": 71,
     "metadata": {},
     "output_type": "execute_result"
    }
   ],
   "source": [
    "np.sum(X)"
   ]
  },
  {
   "cell_type": "code",
   "execution_count": 55,
   "metadata": {},
   "outputs": [],
   "source": [
    "# define auxiliary variable R(n,t):\n",
    "R=np.zeros((n,T))+1\n",
    "infR=np.array(CNbr(G,X,n,T))\n",
    "for i in range(n):\n",
    "    for t in range(T-1):\n",
    "        infr=int(infR[i,t])\n",
    "        pr_a=alpha_/(alpha_+beta_*infr)\n",
    "        pr_b=beta_/(alpha_+beta_*infr)\n",
    "        v=np.random.multinomial(1, [pr_a]+[pr_b]*infr)\n",
    "        if (X[i][t]==0)&(X[i][t+1]==1):\n",
    "                if v[0]==1:\n",
    "                    R[i,t]=0\n",
    "                else: \n",
    "                    R[i,t]=2"
   ]
  },
  {
   "cell_type": "code",
   "execution_count": 56,
   "metadata": {},
   "outputs": [
    {
     "name": "stdout",
     "output_type": "stream",
     "text": [
      "******************* Iteration: 0 *****************************************************************************\n",
      "Current Time is : 15:38:53\n"
     ]
    },
    {
     "ename": "UnboundLocalError",
     "evalue": "local variable 'theta_1_' referenced before assignment",
     "output_type": "error",
     "traceback": [
      "\u001b[1;31m---------------------------------------------------------------------------\u001b[0m",
      "\u001b[1;31mUnboundLocalError\u001b[0m                         Traceback (most recent call last)",
      "\u001b[1;32m<ipython-input-56-a49e4fba97ed>\u001b[0m in \u001b[0;36m<module>\u001b[1;34m\u001b[0m\n\u001b[0;32m      5\u001b[0m     \u001b[0mcurrent_time\u001b[0m \u001b[1;33m=\u001b[0m \u001b[0mnow\u001b[0m\u001b[1;33m.\u001b[0m\u001b[0mstrftime\u001b[0m\u001b[1;33m(\u001b[0m\u001b[1;34m\"%H:%M:%S\"\u001b[0m\u001b[1;33m)\u001b[0m\u001b[1;33m\u001b[0m\u001b[1;33m\u001b[0m\u001b[0m\n\u001b[0;32m      6\u001b[0m     \u001b[0mprint\u001b[0m\u001b[1;33m(\u001b[0m\u001b[1;34m\"Current Time is :\"\u001b[0m\u001b[1;33m,\u001b[0m \u001b[0mcurrent_time\u001b[0m\u001b[1;33m)\u001b[0m\u001b[1;33m\u001b[0m\u001b[1;33m\u001b[0m\u001b[0m\n\u001b[1;32m----> 7\u001b[1;33m     \u001b[0mprm\u001b[0m\u001b[1;33m=\u001b[0m\u001b[0mParams\u001b[0m\u001b[1;33m(\u001b[0m\u001b[0mR\u001b[0m\u001b[1;33m,\u001b[0m\u001b[0mG\u001b[0m\u001b[1;33m,\u001b[0m\u001b[0mX\u001b[0m\u001b[1;33m,\u001b[0m\u001b[0mn\u001b[0m\u001b[1;33m,\u001b[0m\u001b[0mT\u001b[0m\u001b[1;33m,\u001b[0m\u001b[0mY\u001b[0m\u001b[1;33m,\u001b[0m\u001b[0mparam\u001b[0m\u001b[1;33m[\u001b[0m\u001b[1;33m-\u001b[0m\u001b[1;36m1\u001b[0m\u001b[1;33m]\u001b[0m\u001b[1;33m)\u001b[0m\u001b[1;33m\u001b[0m\u001b[1;33m\u001b[0m\u001b[0m\n\u001b[0m\u001b[0;32m      8\u001b[0m     \u001b[0mparam\u001b[0m\u001b[1;33m=\u001b[0m\u001b[1;33m[\u001b[0m\u001b[0mprm\u001b[0m\u001b[1;33m[\u001b[0m\u001b[1;36m0\u001b[0m\u001b[1;33m]\u001b[0m\u001b[1;33m]\u001b[0m\u001b[1;33m\u001b[0m\u001b[1;33m\u001b[0m\u001b[0m\n\u001b[0;32m      9\u001b[0m     \u001b[0mX\u001b[0m\u001b[1;33m=\u001b[0m\u001b[0mCalculate_X\u001b[0m\u001b[1;33m(\u001b[0m\u001b[0mJ\u001b[0m\u001b[1;33m,\u001b[0m\u001b[0mT\u001b[0m\u001b[1;33m,\u001b[0m\u001b[0mn\u001b[0m\u001b[1;33m,\u001b[0m\u001b[0mX\u001b[0m\u001b[1;33m,\u001b[0m\u001b[0mG\u001b[0m\u001b[1;33m,\u001b[0m\u001b[0mY\u001b[0m\u001b[1;33m,\u001b[0m\u001b[0mparam\u001b[0m\u001b[1;33m[\u001b[0m\u001b[1;33m-\u001b[0m\u001b[1;36m1\u001b[0m\u001b[1;33m]\u001b[0m\u001b[1;33m)\u001b[0m\u001b[1;33m\u001b[0m\u001b[1;33m\u001b[0m\u001b[0m\n",
      "\u001b[1;32m<ipython-input-6-43db02525bb4>\u001b[0m in \u001b[0;36mParams\u001b[1;34m(R, G, X, n, T, Y, param)\u001b[0m\n\u001b[0;32m     17\u001b[0m     \u001b[0mgama_\u001b[0m\u001b[1;33m=\u001b[0m\u001b[0mSample_gama\u001b[0m\u001b[1;33m(\u001b[0m\u001b[0ma_gama\u001b[0m \u001b[1;33m+\u001b[0m\u001b[1;33m(\u001b[0m\u001b[0mT\u001b[0m\u001b[1;33m-\u001b[0m\u001b[1;36m1\u001b[0m\u001b[1;33m)\u001b[0m\u001b[1;33m*\u001b[0m\u001b[0mn\u001b[0m\u001b[1;33m-\u001b[0m\u001b[0mnp\u001b[0m\u001b[1;33m.\u001b[0m\u001b[0mcount_nonzero\u001b[0m\u001b[1;33m(\u001b[0m\u001b[0mX\u001b[0m\u001b[1;33m[\u001b[0m\u001b[1;33m:\u001b[0m\u001b[1;33m,\u001b[0m\u001b[1;33m:\u001b[0m\u001b[1;33m-\u001b[0m\u001b[1;36m1\u001b[0m\u001b[1;33m]\u001b[0m\u001b[1;33m-\u001b[0m\u001b[0mX\u001b[0m\u001b[1;33m[\u001b[0m\u001b[1;33m:\u001b[0m\u001b[1;33m,\u001b[0m\u001b[1;36m1\u001b[0m\u001b[1;33m:\u001b[0m\u001b[1;33m]\u001b[0m\u001b[1;33m-\u001b[0m\u001b[1;36m1\u001b[0m\u001b[1;33m)\u001b[0m\u001b[1;33m,\u001b[0m \u001b[0mb_gama\u001b[0m\u001b[1;33m+\u001b[0m\u001b[0mnp\u001b[0m\u001b[1;33m.\u001b[0m\u001b[0msum\u001b[0m\u001b[1;33m(\u001b[0m\u001b[0mX\u001b[0m\u001b[1;33m)\u001b[0m\u001b[1;33m-\u001b[0m\u001b[1;33m(\u001b[0m\u001b[0mT\u001b[0m\u001b[1;33m-\u001b[0m\u001b[1;36m1\u001b[0m\u001b[1;33m)\u001b[0m\u001b[1;33m*\u001b[0m\u001b[0mn\u001b[0m\u001b[1;33m+\u001b[0m\u001b[0mnp\u001b[0m\u001b[1;33m.\u001b[0m\u001b[0mcount_nonzero\u001b[0m\u001b[1;33m(\u001b[0m\u001b[0mX\u001b[0m\u001b[1;33m[\u001b[0m\u001b[1;33m:\u001b[0m\u001b[1;33m,\u001b[0m\u001b[1;33m:\u001b[0m\u001b[1;33m-\u001b[0m\u001b[1;36m1\u001b[0m\u001b[1;33m]\u001b[0m\u001b[1;33m-\u001b[0m\u001b[0mX\u001b[0m\u001b[1;33m[\u001b[0m\u001b[1;33m:\u001b[0m\u001b[1;33m,\u001b[0m\u001b[1;36m1\u001b[0m\u001b[1;33m:\u001b[0m\u001b[1;33m]\u001b[0m\u001b[1;33m-\u001b[0m\u001b[1;36m1\u001b[0m\u001b[1;33m)\u001b[0m\u001b[1;33m)\u001b[0m\u001b[1;33m\u001b[0m\u001b[1;33m\u001b[0m\u001b[0m\n\u001b[0;32m     18\u001b[0m     \u001b[0mtheta_0_\u001b[0m\u001b[1;33m=\u001b[0m\u001b[0mSample_theta0\u001b[0m\u001b[1;33m(\u001b[0m \u001b[0ma_teta0\u001b[0m\u001b[1;33m+\u001b[0m\u001b[0mFP\u001b[0m\u001b[1;33m,\u001b[0m\u001b[0mb_teta0\u001b[0m\u001b[1;33m+\u001b[0m\u001b[0mn\u001b[0m\u001b[1;33m*\u001b[0m\u001b[0mT\u001b[0m\u001b[1;33m-\u001b[0m\u001b[0mnp\u001b[0m\u001b[1;33m.\u001b[0m\u001b[0mcount_nonzero\u001b[0m\u001b[1;33m(\u001b[0m\u001b[0mX\u001b[0m\u001b[1;33m)\u001b[0m\u001b[1;33m-\u001b[0m\u001b[0mFP\u001b[0m\u001b[1;33m)\u001b[0m\u001b[1;33m\u001b[0m\u001b[1;33m\u001b[0m\u001b[0m\n\u001b[1;32m---> 19\u001b[1;33m     \u001b[0mtheta_1_\u001b[0m\u001b[1;33m=\u001b[0m\u001b[0mSample_theta1\u001b[0m\u001b[1;33m(\u001b[0m \u001b[0ma_teta1\u001b[0m\u001b[1;33m+\u001b[0m\u001b[0mTP\u001b[0m\u001b[1;33m,\u001b[0m\u001b[0mb_teta1\u001b[0m\u001b[1;33m+\u001b[0m\u001b[0mnp\u001b[0m\u001b[1;33m.\u001b[0m\u001b[0mcount_nonzero\u001b[0m\u001b[1;33m(\u001b[0m\u001b[0mX\u001b[0m\u001b[1;33m)\u001b[0m\u001b[1;33m-\u001b[0m\u001b[0mTP\u001b[0m\u001b[1;33m)\u001b[0m\u001b[1;33m\u001b[0m\u001b[1;33m\u001b[0m\u001b[0m\n\u001b[0m\u001b[0;32m     20\u001b[0m \u001b[1;33m\u001b[0m\u001b[0m\n\u001b[0;32m     21\u001b[0m     \u001b[0mR\u001b[0m\u001b[1;33m=\u001b[0m\u001b[0mnp\u001b[0m\u001b[1;33m.\u001b[0m\u001b[0mzeros\u001b[0m\u001b[1;33m(\u001b[0m\u001b[1;33m(\u001b[0m\u001b[0mn\u001b[0m\u001b[1;33m,\u001b[0m\u001b[0mT\u001b[0m\u001b[1;33m)\u001b[0m\u001b[1;33m)\u001b[0m\u001b[1;33m+\u001b[0m\u001b[1;36m1\u001b[0m\u001b[1;33m\u001b[0m\u001b[1;33m\u001b[0m\u001b[0m\n",
      "\u001b[1;32m<ipython-input-11-ef4d1eff19e7>\u001b[0m in \u001b[0;36mSample_theta1\u001b[1;34m(a_teta1, b_teta1)\u001b[0m\n\u001b[0;32m      4\u001b[0m             \u001b[0mtheta_1_\u001b[0m\u001b[1;33m=\u001b[0m\u001b[0mround\u001b[0m\u001b[1;33m(\u001b[0m\u001b[0mi\u001b[0m\u001b[1;33m,\u001b[0m\u001b[1;36m3\u001b[0m\u001b[1;33m)\u001b[0m\u001b[1;33m\u001b[0m\u001b[1;33m\u001b[0m\u001b[0m\n\u001b[0;32m      5\u001b[0m             \u001b[1;32mbreak\u001b[0m\u001b[1;33m\u001b[0m\u001b[1;33m\u001b[0m\u001b[0m\n\u001b[1;32m----> 6\u001b[1;33m     \u001b[1;32mreturn\u001b[0m \u001b[0mtheta_1_\u001b[0m\u001b[1;33m\u001b[0m\u001b[1;33m\u001b[0m\u001b[0m\n\u001b[0m",
      "\u001b[1;31mUnboundLocalError\u001b[0m: local variable 'theta_1_' referenced before assignment"
     ]
    }
   ],
   "source": [
    "# Main code to run entire Gibbs algorithm U times:\n",
    "for i in range(U):\n",
    "    print(\"******************* Iteration:\",i,\"*****************************************************************************\")\n",
    "    now = datetime.now()\n",
    "    current_time = now.strftime(\"%H:%M:%S\")\n",
    "    print(\"Current Time is :\", current_time)\n",
    "    prm=Params(R,G,X,n,T,Y,param[-1])\n",
    "    param=[prm[0]]\n",
    "    X=Calculate_X(J,T,n,X,G,Y,param[-1])\n",
    "    print(\"Verctor of Health States:\",\"\\n\",X)\n",
    "    R=prm[1]\n",
    "winsound.Beep(freq, duration)            "
   ]
  },
  {
   "cell_type": "code",
   "execution_count": null,
   "metadata": {},
   "outputs": [],
   "source": [
    "# Compare X, Z and estimate accuracy of the model:"
   ]
  },
  {
   "cell_type": "code",
   "execution_count": null,
   "metadata": {},
   "outputs": [],
   "source": [
    "# synthetized observation vectore:\n",
    "Y_=np.zeros((n,T))\n",
    "for t in range(T):\n",
    "    for i in range(n):\n",
    "        if X[i,t]==0:\n",
    "            Y_[i,t]=np.random.binomial( 1, theta_0_,size=None) \n",
    "        else:\n",
    "            Y_[i,t]=np.random.binomial( 1, theta_1_,size=None) "
   ]
  },
  {
   "cell_type": "code",
   "execution_count": null,
   "metadata": {},
   "outputs": [],
   "source": [
    "r=10\n",
    "K=1000\n",
    "J=10\n",
    "\n",
    "# test the model with synthetized data, Y_,G:\n",
    "for i in range(r):\n",
    "    print(\"MCEM #iteration:\",i)\n",
    "    X=Forward_Sampling(T,n,G,Y_,params[-1])\n",
    "    Q=0\n",
    "    for j in range(J):\n",
    "        print(\" #Samples Generated in GibbsSampling:\",j)\n",
    "        X=Calculate_X(K,T,n,X,G,Y_,params[-1])\n",
    "        now = datetime.now()\n",
    "        current_time = now.strftime(\"%H:%M:%S\")\n",
    "        print(\"Current Time is :\", current_time)\n",
    "        print(\"Verctor of Health States:\",\"\\n\",X)\n",
    "        print(np.sum(X))\n",
    "        Q=np.sum(np.array(transition(X,CNbr(G,X,n,T),n,T))+emission(X,Y_,n,T),axis=0)+Q    \n",
    "    a=round(float(solve(simplify(Q.diff(theta_0)))[0]),3)\n",
    "    b=round(float(solve(simplify(Q.diff(theta_1)))[0]),3)\n",
    "    ga=round(float(solve(simplify(factor(Q.diff(gamma))))[0]),3)\n",
    "    o=Q.subs(theta_0,a).subs(theta_1,b).subs(gamma,ga)\n",
    "    o=expand_log(o, force=True)\n",
    "    p_=round(float(solve(o.diff(pi))[0]),3)\n",
    "    o=o.subs(pi,p_)\n",
    "    alta=nsolve((o.diff(alpha),o.diff(beta)),(alpha,beta),(alpha_,beta_))\n",
    "#******************************update parameters\n",
    "    alpha_=round(alta[0],3)\n",
    "    beta_=round(alta[1],3)\n",
    "    gama_=ga\n",
    "    theta_0_=a\n",
    "    theta_1_=b\n",
    "    params.append([alpha_,beta_,gama_,theta_0_,theta_1_,p_])\n",
    "    now = datetime.now()\n",
    "    current_time = now.strftime(\"%H:%M:%S\")\n",
    "    print(\"Current Time is :\", current_time)\n",
    "    print(\"New parameters:\",alpha_,beta_,gama_,theta_0_,theta_1_,p_)\n",
    "    print(\"Verctor of Health States:\",\"\\n\",X)\n",
    "\n",
    "np.sum(X)"
   ]
  },
  {
   "cell_type": "code",
   "execution_count": null,
   "metadata": {},
   "outputs": [],
   "source": [
    "np.size(X)"
   ]
  },
  {
   "cell_type": "code",
   "execution_count": null,
   "metadata": {},
   "outputs": [],
   "source": [
    "np.sum(Y1)"
   ]
  },
  {
   "cell_type": "code",
   "execution_count": null,
   "metadata": {},
   "outputs": [],
   "source": [
    "plot3d(o,(alpha,.061,.08),(beta,0.001999,0.04009))"
   ]
  },
  {
   "cell_type": "code",
   "execution_count": null,
   "metadata": {},
   "outputs": [],
   "source": [
    "# Choose some params close to obtimized params:\n",
    "alpha_= 0.05\n",
    "beta_= 0.01\n",
    "gama_= 0.3\n",
    "theta_0_= 0.07\n",
    "theta_1_= 0.8\n",
    "p_= 0.8\n",
    "params=[]\n",
    "params.append([alpha_,beta_,gama_,theta_0_,theta_1_,p_])"
   ]
  },
  {
   "cell_type": "code",
   "execution_count": null,
   "metadata": {},
   "outputs": [],
   "source": [
    "plot3d(o,(beta,0.001999,0.04009),(alpha,.061,.08))"
   ]
  },
  {
   "cell_type": "code",
   "execution_count": null,
   "metadata": {},
   "outputs": [],
   "source": [
    "plot3d(o.diff(alpha),(beta,0.001999,0.04009),(alpha,.061,.08))"
   ]
  },
  {
   "cell_type": "code",
   "execution_count": null,
   "metadata": {},
   "outputs": [],
   "source": [
    "plot3d(o.diff(beta),(beta,0.001999,0.04009),(alpha,.061,.08))"
   ]
  },
  {
   "cell_type": "code",
   "execution_count": null,
   "metadata": {},
   "outputs": [],
   "source": [
    "plot3d(o,(beta,.00161,.01999908),(alpha,.06961,.079949799908))"
   ]
  },
  {
   "cell_type": "code",
   "execution_count": null,
   "metadata": {},
   "outputs": [],
   "source": [
    "plot3d(o,(beta,0.0041999,0.04009),(alpha,.061,.08))"
   ]
  },
  {
   "cell_type": "code",
   "execution_count": null,
   "metadata": {},
   "outputs": [],
   "source": [
    "plot3d(o,(alpha,-.000061,.18),(beta,-0.00000041999,0.0019))"
   ]
  },
  {
   "cell_type": "code",
   "execution_count": null,
   "metadata": {},
   "outputs": [],
   "source": [
    "plot3d(o,(beta,-0.00000041999,0.0019),(alpha,-.000061,.18))"
   ]
  },
  {
   "cell_type": "markdown",
   "metadata": {},
   "source": [
    "# ##############################################################################################################################"
   ]
  },
  {
   "cell_type": "code",
   "execution_count": null,
   "metadata": {},
   "outputs": [],
   "source": [
    "# The following is for family test result problem:"
   ]
  },
  {
   "cell_type": "code",
   "execution_count": null,
   "metadata": {},
   "outputs": [],
   "source": [
    "# Randomly initialize params:\n",
    "number_families=30\n",
    "alpha_=0.005\n",
    "beta_=0.045 \n",
    "gama_=0.3\n",
    "theta_0_=0.01\n",
    "theta_1_=0.9\n",
    "p_=0.9\n",
    "\n",
    "params=[]\n",
    "params.append([alpha_,beta_,gama_,theta_0_,theta_1_,p_])"
   ]
  },
  {
   "cell_type": "markdown",
   "metadata": {},
   "source": [
    "# Synthetize data for famity test result problem"
   ]
  },
  {
   "cell_type": "code",
   "execution_count": null,
   "metadata": {},
   "outputs": [],
   "source": [
    "# Synthetize the \"Family\" matrix, which denotes that each two individuals are in the same family or not:\n",
    "a=list(range(n))\n",
    "Family=np.identity(n)\n",
    "for i in range(1,number_families):\n",
    "    number_family_members=np.random.randint(2, 5)\n",
    "    inx=random.sample(list(a), number_family_members)\n",
    "    a=set(a).difference(inx)\n",
    "    for j in inx:\n",
    "        for k in inx:\n",
    "            Family[j,k]=1\n",
    "Family"
   ]
  },
  {
   "cell_type": "code",
   "execution_count": null,
   "metadata": {},
   "outputs": [],
   "source": [
    "# Synthetize G,Y,X:\n",
    "n,T,y=100,100,10\n",
    "synthetic_data=Synthetic_Data(n,T,y,params[-1])\n",
    "G,Y,X =synthetic_data[0],synthetic_data[1],synthetic_data[2]"
   ]
  },
  {
   "cell_type": "code",
   "execution_count": null,
   "metadata": {},
   "outputs": [],
   "source": [
    "# synthetize family test result matrix,YF:\n",
    "unique_rows = np.unique(Family, axis=0)\n",
    "unique_rows.shape\n",
    "YF=np.zeros((n,T))\n",
    "YF=np.dot(unique_rows,Y)\n",
    "YF.shape"
   ]
  },
  {
   "cell_type": "markdown",
   "metadata": {},
   "source": [
    "# Simulation data is ready now, YF,G,Family:"
   ]
  },
  {
   "cell_type": "code",
   "execution_count": null,
   "metadata": {},
   "outputs": [],
   "source": [
    "# number of neighbore in family\n",
    "neighbore_family=[]\n",
    "for t in range(T):\n",
    "    neighbore_family.append(np.dot(unique_rows,G[t]))\n",
    "neighbore_family=np.array(neighbore_family)\n",
    "\n",
    "neighbore_family.shape"
   ]
  },
  {
   "cell_type": "code",
   "execution_count": null,
   "metadata": {},
   "outputs": [],
   "source": [
    "#number_infected_neighbores for each individual i at each time t:\n",
    "number_infected_neighbore=[]\n",
    "for t in range(T):\n",
    "    number_infected_neighbore.append(np.dot(neighbore_family[t].T,YF.T[t].T))\n",
    "\n",
    "number_infected_neighbore=np.array(number_infected_neighbore)\n",
    "number_infected_neighbore.shape"
   ]
  },
  {
   "cell_type": "code",
   "execution_count": null,
   "metadata": {},
   "outputs": [],
   "source": [
    "# number_infected_neighbores for each member of each family at each time::\n",
    "infected_neighbore_of_family_members=[]\n",
    "for t in range(T):\n",
    "    infected_neighbore_of_family_members.append(np.multiply(unique_rows,number_infected_neighbore[t]))\n",
    "infected_neighbore_of_family_members=np.array(infected_neighbore_of_family_members)  \n",
    "\n",
    "infected_neighbore_of_family_members.shape"
   ]
  },
  {
   "cell_type": "code",
   "execution_count": null,
   "metadata": {},
   "outputs": [],
   "source": [
    "# generate synthetized Y_, which is our sudo observation matrix:\n",
    "Y_=np.zeros((n,T))\n",
    "for i in range(number_families):\n",
    "    for t in range(T):\n",
    "        an_array=infected_neighbore_of_family_members[t][i]\n",
    "        indx = np.argsort(an_array)[-2:]\n",
    "        if len(indx)>0:\n",
    "            Y_[indx,t]=1\n",
    "Y_\n",
    "\n",
    "\n",
    "np.sum(Y_)"
   ]
  },
  {
   "cell_type": "markdown",
   "metadata": {},
   "source": [
    "#  Now we have sudo observation matrix Y_ and social network G, so  we do estimate X and parameters for these synthetic dataset:\n"
   ]
  },
  {
   "cell_type": "code",
   "execution_count": null,
   "metadata": {},
   "outputs": [],
   "source": [
    "r=10\n",
    "K=1000\n",
    "J=1\n",
    "\n",
    "# test the model with synthetized data, Y_,G:\n",
    "for i in range(r):\n",
    "    print(\"MCEM #iteration:\",i)\n",
    "    X=Forward_Sampling(T,n,G,Y_,params[-1])\n",
    "    Q=0\n",
    "    for j in range(J):\n",
    "        print(\" #Samples Generated in GibbsSampling:\",j)\n",
    "        X=Calculate_X(K,T,n,X,G,Y_,params[-1])\n",
    "        now = datetime.now()\n",
    "        current_time = now.strftime(\"%H:%M:%S\")\n",
    "        print(\"Current Time is :\", current_time)\n",
    "        print(\"Verctor of Health States:\",\"\\n\",X)\n",
    "        print(np.sum(X))\n",
    "        Q=np.sum(np.array(transition(X,CNbr(G,X,n,T),n,T))+emission(X,Y_,n,T),axis=0)+Q    \n",
    "    a=round(float(solve(simplify(Q.diff(theta_0)))[0]),3)\n",
    "    b=round(float(solve(simplify(Q.diff(theta_1)))[0]),3)\n",
    "    ga=round(float(solve(simplify(factor(Q.diff(gamma))))[0]),3)\n",
    "    o=Q.subs(theta_0,a).subs(theta_1,b).subs(gamma,ga)\n",
    "    o=expand_log(o, force=True)\n",
    "    p_=round(float(solve(o.diff(pi))[0]),3)\n",
    "    o=o.subs(pi,p_)\n",
    "    alta=nsolve((o.diff(alpha),o.diff(beta)),(alpha,beta),(alpha_,beta_))\n",
    "#******************************update parameters\n",
    "    alpha_=round(alta[0],3)\n",
    "    beta_=round(alta[1],3)\n",
    "    gama_=ga\n",
    "    theta_0_=a\n",
    "    theta_1_=b\n",
    "    params.append([alpha_,beta_,gama_,theta_0_,theta_1_,p_])\n",
    "    now = datetime.now()\n",
    "    current_time = now.strftime(\"%H:%M:%S\")\n",
    "    print(\"Current Time is :\", current_time)\n",
    "    print(\"New parameters:\",alpha_,beta_,gama_,theta_0_,theta_1_,p_)\n",
    "    print(\"Verctor of Health States:\",\"\\n\",X)\n",
    "\n",
    "np.sum(X)"
   ]
  },
  {
   "cell_type": "code",
   "execution_count": null,
   "metadata": {},
   "outputs": [],
   "source": [
    "params[-1]"
   ]
  },
  {
   "cell_type": "code",
   "execution_count": null,
   "metadata": {},
   "outputs": [],
   "source": []
  }
 ],
 "metadata": {
  "kernelspec": {
   "display_name": "Python 3",
   "language": "python",
   "name": "python3"
  },
  "language_info": {
   "codemirror_mode": {
    "name": "ipython",
    "version": 3
   },
   "file_extension": ".py",
   "mimetype": "text/x-python",
   "name": "python",
   "nbconvert_exporter": "python",
   "pygments_lexer": "ipython3",
   "version": "3.8.5"
  }
 },
 "nbformat": 4,
 "nbformat_minor": 4
}
