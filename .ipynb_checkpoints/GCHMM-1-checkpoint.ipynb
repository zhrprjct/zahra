{
 "cells": [
  {
   "cell_type": "code",
   "execution_count": 1,
   "metadata": {},
   "outputs": [],
   "source": [
    "import numpy as np\n",
    "import random\n",
    "import sympy as sym\n",
    "import winsound\n",
    "from joblib import Parallel, delayed\n",
    "from sympy import *\n",
    "from sympy import symbols\n",
    "from sympy.plotting import plot, plot3d\n",
    "from scipy.stats import beta\n",
    "from datetime import datetime\n",
    "import winsound\n",
    "duration = 1000  # milliseconds\n",
    "freq = 440  # Hz"
   ]
  },
  {
   "cell_type": "code",
   "execution_count": 3,
   "metadata": {},
   "outputs": [],
   "source": [
    "# function to count the number of the infected neighbores of i at t:\n",
    "def CNbr(G,X,n,T):\n",
    "    C=np.zeros((T,n))\n",
    "    for t in range(T):\n",
    "        C[t]=G[t].dot(X.T[t])\n",
    "    return C.T"
   ]
  },
  {
   "cell_type": "code",
   "execution_count": 4,
   "metadata": {},
   "outputs": [],
   "source": [
    "def Forward_Sampling(T,n,G,Y,param):\n",
    "    x=int((1-P)*n)\n",
    "    X=np.zeros((n,T))  \n",
    "    idx=np.random.choice(range(n), x)\n",
    "    X[idx,0]=1\n",
    "    infR=CNbr(G,X,n,T)\n",
    "    for t in range(T-1):\n",
    "        for i in range(n):\n",
    "            c=infR[i,t]\n",
    "            if X[i,t]==0:\n",
    "                p0=1-alpha_-beta_*c\n",
    "                p1=alpha_+beta_*c\n",
    "            else:\n",
    "                p0=gama_\n",
    "                p1=1-gama_\n",
    "            if p0+p1==0:\n",
    "                l=0.5\n",
    "            else:\n",
    "                l=p1/(p0+p1)\n",
    "            X[i,t+1]=np.random.binomial( 1, l,size=None) \n",
    "    return X"
   ]
  },
  {
   "cell_type": "code",
   "execution_count": 5,
   "metadata": {},
   "outputs": [],
   "source": [
    "def Sample_hidden_state(T,n,X,G,Y,param,t):\n",
    "    \n",
    "    alpha_=param[0]\n",
    "    beta_=param[1]\n",
    "    gama_=param[2]\n",
    "    \n",
    "    theta_0_0=param[3]\n",
    "    thata_1_0=param[4] \n",
    "    theta_0_1=param[5]\n",
    "    thata_1_1=param[6] \n",
    "    theta_0_2=param[7]\n",
    "    thata_1_2=param[8]\n",
    "    theta_0_3=param[9]\n",
    "    thata_1_3=param[10] \n",
    "    theta_0_4=param[11]\n",
    "    thata_1_4=param[12] \n",
    "    theta_0_5=param[13]\n",
    "    thata_1_5=param[14]\n",
    "    \n",
    "    pow_stay_healthy,pow_become_infected,pow_recovery,pow_stay_infected=0,0,0,0\n",
    "    \n",
    "    if (t==0):\n",
    "        c=G[t].dot(X.T[t])\n",
    "    else:    \n",
    "        c=G[t-1].dot(X.T[t-1])\n",
    "        \n",
    "    for i in range(n):       \n",
    "        pow00=int(Y[0,i,t] == 0)   \n",
    "        pow10=int(Y[0,i,t] == 1)\n",
    "        pow01=int(Y[1,i,t] == 0)  \n",
    "        pow11=int(Y[1,i,t] == 1)    \n",
    "        pow02=int(Y[2,i,t] == 0)      \n",
    "        pow12=int(Y[2,i,t] == 1)\n",
    "        pow03=int(Y[3,i,t] == 0)  \n",
    "        pow13=int(Y[3,i,t] == 1)\n",
    "        pow04=int(Y[4,i,t] == 0)  \n",
    "        pow14=int(Y[4,i,t] == 1)    \n",
    "        pow05=int(Y[5,i,t] == 0)      \n",
    "        pow15=int(Y[5,i,t] == 1)     \n",
    "        p0=(1-theta_0_0)**pow00\n",
    "        p1=(1-theta_1_0)**pow00\n",
    "        p0=p0*(1-theta_0_1)**pow01\n",
    "        p1=p1*(1-theta_1_1)**pow01\n",
    "        p0=p0*(1-theta_0_2)**pow02\n",
    "        p1=p1*(1-theta_1_2)**pow02\n",
    "        p0=p0*(1-theta_0_3)**pow03\n",
    "        p1=p1*(1-theta_1_3)**pow03\n",
    "        p0=p0*(1-theta_0_4)**pow04\n",
    "        p1=p1*(1-theta_1_4)**pow04\n",
    "        p0=p0*(1-theta_0_5)**pow05\n",
    "        p1=p1*(1-theta_1_5)**pow05\n",
    "    \n",
    "        p0=p0*(theta_0_0)**pow10\n",
    "        p1=p1*theta_1_0**pow10\n",
    "        p0=p0*(theta_0_1)**pow11\n",
    "        p1=p1*theta_1_1**pow11\n",
    "        p0=p0*(theta_0_2)**pow12\n",
    "        p1=p1*theta_1_2**pow12\n",
    "        p0=p0*(theta_0_3)**pow13\n",
    "        p1=p1*theta_1_3**pow13\n",
    "        p0=p0*(theta_0_4)**pow14\n",
    "        p1=p1*theta_1_4**pow14\n",
    "        p0=p0*(theta_0_5)**pow15\n",
    "        p1=p1*theta_1_5**pow15\n",
    "        \n",
    "        if (X[i,t]==1)&(t==0):\n",
    "            c0=c[i]-1\n",
    "            c1=c[i]\n",
    "        else:\n",
    "            c0=c[i]\n",
    "            c1=c[i]+1\n",
    "        \n",
    "                \n",
    "        stay_healthy0= 1-alpha_-beta_*c0\n",
    "        become_infected0=alpha_+beta_*c0\n",
    "    \n",
    "        stay_healthy1=1-alpha_-beta_*c1\n",
    "        become_infected1=alpha_+beta_*c1\n",
    "        \n",
    "        if t==T-1:\n",
    "            if X[i,t-1]==0:\n",
    "                p0=p0*stay_healthy0\n",
    "                p1=p1*become_infected0\n",
    "            else:\n",
    "                p0=p0*gama_\n",
    "                p1=p1*(1-gama_) \n",
    "        else:        \n",
    "            state_transition=X.T[t]+2*X.T[t+1]+1\n",
    "            key=np.multiply(G[0][i],state_transition)\n",
    "    \n",
    "            pow_stay_healthy=pow_stay_healthy+np.count_nonzero(key == 4)\n",
    "            pow_become_infected=pow_become_infected+np.count_nonzero(key == 3)\n",
    "            pow_recovery=pow_recovery+np.count_nonzero(key == 2)\n",
    "            pow_stay_infected=pow_stay_infected+np.count_nonzero(key ==1)\n",
    "    \n",
    "            p0=p0*(stay_healthy0)**pow_stay_healthy*(become_infected0)**pow_become_infected*(gama_)**pow_recovery*(1-gama_)**pow_stay_infected\n",
    "            p1=p1*(stay_healthy1)**pow_stay_healthy*(become_infected1)**pow_become_infected*(gama_)**pow_recovery*(1-gama_)**pow_stay_infected\n",
    "        if p0+p1==0:\n",
    "            l=0.5\n",
    "        else:\n",
    "            l=p1/(p0+p1)\n",
    "        if (l>1 )| (l==0) | (l<0 ):\n",
    "            print(i,t,p0,p1,stay_healthy0,become_infected0,c0)\n",
    "        X[i,0]=np.random.binomial( 1,  l,size=None)    \n",
    "    return X    \n",
    "    "
   ]
  },
  {
   "cell_type": "code",
   "execution_count": 6,
   "metadata": {},
   "outputs": [],
   "source": [
    "# Gibbs sampling to generate J samples of X:\n",
    "def Calculate_X(J,T,n,X,G,Y,param):\n",
    "    for j in range(J):\n",
    "        for t in range(T):\n",
    "            X=Sample_hidden_state(T,n,X,G,Y,param,t)\n",
    "    return X                "
   ]
  },
  {
   "cell_type": "code",
   "execution_count": 7,
   "metadata": {},
   "outputs": [],
   "source": [
    "# function to sample new parameters and update parameters:\n",
    "def Params(R,G,X,n,T,Y,param):\n",
    "    \n",
    "    alpha_=param[0]\n",
    "    bata_=param[1]\n",
    "    gama_=param[2]\n",
    "    theta_0_0=param[3]\n",
    "    thata_1_0=param[4] \n",
    "    theta_0_1=param[5]\n",
    "    thata_1_1=param[6] \n",
    "    theta_0_2=param[7]\n",
    "    thata_1_2=param[8]\n",
    "    theta_0_3=param[9]\n",
    "    thata_1_3=param[10] \n",
    "    theta_0_4=param[11]\n",
    "    thata_1_4=param[12] \n",
    "    theta_0_5=param[13]\n",
    "    thata_1_5=param[14]   \n",
    "    TP0=np.sum(np.multiply(X,Y[0]))\n",
    "    FP0=n*T-np.count_nonzero(X-Y[0]+1)\n",
    "    TP1=np.sum(np.multiply(X,Y[1]))\n",
    "    FP1=n*T-np.count_nonzero(X-Y[1]+1)\n",
    "    TP2=np.sum(np.multiply(X,Y[2]))\n",
    "    FP2=n*T-np.count_nonzero(X-Y[2]+1)\n",
    "    TP3=np.sum(np.multiply(X,Y[3]))\n",
    "    FP3=n*T-np.count_nonzero(X-Y[3]+1)\n",
    "    TP4=np.sum(np.multiply(X,Y[4]))\n",
    "    FP4=n*T-np.count_nonzero(X-Y[4]+1)\n",
    "    TP5=np.sum(np.multiply(X,Y[5]))\n",
    "    FP5=n*T-np.count_nonzero(X-Y[5]+1)\n",
    "    \n",
    "    infR=np.array(CNbr(G,X,n,T))\n",
    "    \n",
    "    alpha_=Sample_alpha(a_alpha + n*T- np.count_nonzero(R) , b_alpha - np.count_nonzero(X)+ np.count_nonzero(R))\n",
    "    beta_=Sample_beta(a_beta + n*T-np.count_nonzero(R-2) , b_beta +np.sum(np.multiply((1-X),infR))-n*T+np.count_nonzero(R-2))\n",
    "    gama_=Sample_gama(a_gama +(T-1)*n-np.count_nonzero(X[:,:-1]-X[:,1:]-1), b_gama+np.sum(X)-(T-1)*n+np.count_nonzero(X[:,:-1]-X[:,1:]-1))\n",
    "    theta_0_0=Sample_theta00( a_teta00+FP0,b_teta00+n*T-np.count_nonzero(X)-FP0)\n",
    "    theta_1_0=Sample_theta10( a_teta10+TP0,b_teta10+np.count_nonzero(X)-TP0)\n",
    "    theta_0_1=Sample_theta01( a_teta01+FP1,b_teta01+n*T-np.count_nonzero(X)-FP1)\n",
    "    theta_1_1=Sample_theta11( a_teta11+TP1,b_teta11+np.count_nonzero(X)-TP1)\n",
    "    theta_0_2=Sample_theta02( a_teta02+FP2,b_teta02+n*T-np.count_nonzero(X)-FP2)\n",
    "    theta_1_2=Sample_theta12( a_teta12+TP2,b_teta12+np.count_nonzero(X)-TP2)\n",
    "    theta_0_3=Sample_theta03( a_teta03+FP3,b_teta03+n*T-np.count_nonzero(X)-FP3)\n",
    "    theta_1_3=Sample_theta13( a_teta13+TP3,b_teta13+np.count_nonzero(X)-TP3)\n",
    "    theta_0_4=Sample_theta04( a_teta04+FP4,b_teta04+n*T-np.count_nonzero(X)-FP4)\n",
    "    theta_1_4=Sample_theta14( a_teta14+TP4,b_teta14+np.count_nonzero(X)-TP4)\n",
    "    theta_0_5=Sample_theta05( a_teta05+FP5,b_teta05+n*T-np.count_nonzero(X)-FP5)\n",
    "    theta_1_5=Sample_theta15( a_teta15+TP5,b_teta15+np.count_nonzero(X)-TP5)\n",
    "    \n",
    "    theta_0_0=Sample_theta00(a_teta00, b_teta00)\n",
    "    theta_1_0=Sample_theta10(a_teta10, b_teta10)\n",
    "\n",
    "    theta_0_1=Sample_theta01(a_teta01, b_teta01)\n",
    "    theta_1_1=Sample_theta11(a_teta11, b_teta11)\n",
    "\n",
    "    theta_0_2=Sample_theta02(a_teta02, b_teta02)\n",
    "    theta_1_2=Sample_theta12(a_teta12, b_teta12)\n",
    "\n",
    "    theta_0_3=Sample_theta03(a_teta03, b_teta03)\n",
    "    theta_1_3=Sample_theta13(a_teta13, b_teta13)\n",
    "\n",
    "    theta_0_4=Sample_theta04(a_teta04, b_teta04)\n",
    "    theta_1_4=Sample_theta14(a_teta14, b_teta14)\n",
    "\n",
    "    theta_0_5=Sample_theta05(a_teta05, b_teta05)\n",
    "    theta_1_5=Sample_theta15(a_teta15, b_teta15)\n",
    "    \n",
    "    R=np.zeros((n,T))+1\n",
    "    for i in range(n):\n",
    "        for t in range(T-1):\n",
    "            infr=int(infR[i,t])\n",
    "            pr_a=alpha_/(alpha_+beta_*infr)\n",
    "            pr_b=beta_/(alpha_+beta_*infr)\n",
    "            v=np.random.multinomial(1, [pr_a]+[pr_b]*infr)\n",
    "            if (X[i][t]==0)&(X[i][t+1]==1):\n",
    "                if v[0]==1:\n",
    "                    R[i,t]=0\n",
    "                else: \n",
    "                    R[i,t]=2\n",
    "    param.append([alpha_,beta_,gama_,theta_0_0,theta_1_0,theta_0_1,theta_1_1,theta_0_2,theta_1_2,theta_0_3,theta_1_3,theta_0_4,theta_1_4,theta_0_5,theta_1_5])\n",
    "    return param,R"
   ]
  },
  {
   "cell_type": "code",
   "execution_count": 8,
   "metadata": {},
   "outputs": [],
   "source": [
    "# function to sample from beta distribution"
   ]
  },
  {
   "cell_type": "code",
   "execution_count": 9,
   "metadata": {},
   "outputs": [],
   "source": [
    "def Sample_alpha(a_alpha, b_alpha):\n",
    "    for i in beta.rvs(a_alpha, b_alpha, size=10000):\n",
    "        if (i>0.001)&(i<0.051):\n",
    "            alpha_=round(i,3)\n",
    "            break\n",
    "    return alpha_        "
   ]
  },
  {
   "cell_type": "code",
   "execution_count": 10,
   "metadata": {},
   "outputs": [],
   "source": [
    "def Sample_beta(a_beta, b_beta):\n",
    "    for i in beta.rvs(a_beta, b_beta, size=10000):\n",
    "        if (i>0.0001)&(i<0.051):\n",
    "            beta_=round(i,4)\n",
    "            break\n",
    "    return beta_        "
   ]
  },
  {
   "cell_type": "code",
   "execution_count": 11,
   "metadata": {},
   "outputs": [],
   "source": [
    "def Sample_gama(a_gama,b_gama):\n",
    "    for i in beta.rvs(a_gama, b_gama, size=10000):\n",
    "        if (i>0.1)&(i<0.7):\n",
    "            gama_=round(i,3)\n",
    "            break\n",
    "    return gama_  "
   ]
  },
  {
   "cell_type": "code",
   "execution_count": 12,
   "metadata": {},
   "outputs": [],
   "source": [
    "def Sample_theta00(a_teta00, b_teta00):\n",
    "    for i in beta.rvs(a_teta00, b_teta00, size=10000):\n",
    "        if (i>0.01)&(i<0.3):\n",
    "            theta_0_0=round(i,3)\n",
    "            break\n",
    "    return theta_0_0  "
   ]
  },
  {
   "cell_type": "code",
   "execution_count": 13,
   "metadata": {},
   "outputs": [],
   "source": [
    "def Sample_theta10(a_teta10, b_teta10):\n",
    "    for i in beta.rvs(a_teta10, b_teta10, size=10000):\n",
    "        if 1>round(i,3)>0.8:\n",
    "            theta_1_0=round(i,3)\n",
    "            break\n",
    "    return theta_1_0  "
   ]
  },
  {
   "cell_type": "code",
   "execution_count": 14,
   "metadata": {},
   "outputs": [],
   "source": [
    "def Sample_theta01(a_teta01, b_teta01):\n",
    "    for i in beta.rvs(a_teta01, b_teta01, size=10000):\n",
    "        if (i>0.01)&(i<0.3):\n",
    "            theta_0_1=round(i,3)\n",
    "            break\n",
    "    return theta_0_1  "
   ]
  },
  {
   "cell_type": "code",
   "execution_count": 15,
   "metadata": {},
   "outputs": [],
   "source": [
    "def Sample_theta11(a_teta11, b_teta11):\n",
    "    for i in beta.rvs(a_teta11, b_teta11, size=10000):\n",
    "        if 1>round(i,3)>0.8:\n",
    "            theta_1_1=round(i,3)\n",
    "            break\n",
    "    return theta_1_1  "
   ]
  },
  {
   "cell_type": "code",
   "execution_count": 16,
   "metadata": {},
   "outputs": [],
   "source": [
    "def Sample_theta02(a_teta02, b_teta02):\n",
    "    for i in beta.rvs(a_teta02, b_teta02, size=10000):\n",
    "        if (i>0.01)&(i<0.3):\n",
    "            theta_0_2=round(i,3)\n",
    "            break\n",
    "    return theta_0_2  "
   ]
  },
  {
   "cell_type": "code",
   "execution_count": 17,
   "metadata": {},
   "outputs": [],
   "source": [
    "def Sample_theta12(a_teta12, b_teta12):\n",
    "    for i in beta.rvs(a_teta12, b_teta12, size=10000):\n",
    "        if 1>round(i,3)>0.8:\n",
    "            theta_1_2=round(i,3)\n",
    "            break\n",
    "    return theta_1_2  "
   ]
  },
  {
   "cell_type": "code",
   "execution_count": 18,
   "metadata": {},
   "outputs": [],
   "source": [
    "def Sample_theta03(a_teta03, b_teta03):\n",
    "    for i in beta.rvs(a_teta03, b_teta03, size=10000):\n",
    "        if (i>0.01)&(i<0.3):\n",
    "            theta_0_3=round(i,3)\n",
    "            break\n",
    "    return theta_0_3  "
   ]
  },
  {
   "cell_type": "code",
   "execution_count": 19,
   "metadata": {},
   "outputs": [],
   "source": [
    "def Sample_theta13(a_teta13, b_teta13):\n",
    "    for i in beta.rvs(a_teta13, b_teta13, size=10000):\n",
    "        if 1>round(i,3)>0.8:\n",
    "            theta_1_3=round(i,3)\n",
    "            break\n",
    "    return theta_1_3 "
   ]
  },
  {
   "cell_type": "code",
   "execution_count": 20,
   "metadata": {},
   "outputs": [],
   "source": [
    "def Sample_theta04(a_teta04, b_teta04):\n",
    "    for i in beta.rvs(a_teta04, b_teta04, size=10000):\n",
    "        if (i>0.01)&(i<0.3):\n",
    "            theta_0_4=round(i,3)\n",
    "            break\n",
    "    return theta_0_4  "
   ]
  },
  {
   "cell_type": "code",
   "execution_count": 21,
   "metadata": {},
   "outputs": [],
   "source": [
    "def Sample_theta14(a_teta14, b_teta14):\n",
    "    for i in beta.rvs(a_teta14, b_teta14, size=10000):\n",
    "        if 1>round(i,3)>0.8:\n",
    "            theta_1_4=round(i,3)\n",
    "            break\n",
    "    return theta_1_4  "
   ]
  },
  {
   "cell_type": "code",
   "execution_count": 22,
   "metadata": {},
   "outputs": [],
   "source": [
    "def Sample_theta05(a_teta05, b_teta05):\n",
    "    for i in beta.rvs(a_teta05, b_teta05, size=10000):\n",
    "        if (i>0.01)&(i<0.3):\n",
    "            theta_0_5=round(i,3)\n",
    "            break\n",
    "    return theta_0_5  "
   ]
  },
  {
   "cell_type": "code",
   "execution_count": 23,
   "metadata": {},
   "outputs": [],
   "source": [
    "def Sample_theta15(a_teta15, b_teta15):\n",
    "    for i in beta.rvs(a_teta15, b_teta15, size=10000):\n",
    "        if 1>round(i,3)>0.8:\n",
    "            theta_1_5=round(i,3)\n",
    "            break\n",
    "    return theta_1_5  "
   ]
  },
  {
   "cell_type": "code",
   "execution_count": 24,
   "metadata": {},
   "outputs": [],
   "source": [
    "# initialize parameters for beta distributions:\n",
    "a_alpha=.1\n",
    "b_alpha=5\n",
    "a_beta=0.1\n",
    "b_beta=1\n",
    "a_gama=1\n",
    "b_gama=10\n",
    "\n",
    "a_teta00=1\n",
    "b_teta00=5\n",
    "a_teta10=5000\n",
    "b_teta10=.1\n",
    "a_teta01=1\n",
    "b_teta01=5\n",
    "a_teta11=5000\n",
    "b_teta11=.1\n",
    "a_teta02=1\n",
    "b_teta02=5\n",
    "a_teta12=5000\n",
    "b_teta12=.1\n",
    "a_teta03=1\n",
    "b_teta03=5\n",
    "a_teta13=5000\n",
    "b_teta13=.1\n",
    "a_teta04=1\n",
    "b_teta04=5\n",
    "a_teta14=5000\n",
    "b_teta14=.1\n",
    "a_teta05=1\n",
    "b_teta05=5\n",
    "a_teta15=5000\n",
    "b_teta15=.1"
   ]
  },
  {
   "cell_type": "code",
   "execution_count": 25,
   "metadata": {},
   "outputs": [],
   "source": [
    "#Sample infection and emision parameters(alpha,beta,gama,teta0,teta1)\n",
    "alpha_=Sample_alpha(a_alpha, b_alpha)\n",
    "beta_=Sample_beta(a_beta, b_beta)\n",
    "gama_=Sample_gama(a_gama,b_gama)"
   ]
  },
  {
   "cell_type": "code",
   "execution_count": 26,
   "metadata": {},
   "outputs": [],
   "source": [
    "theta_0_0=Sample_theta00(a_teta00, b_teta00)\n",
    "theta_1_0=Sample_theta10(a_teta10, b_teta10)"
   ]
  },
  {
   "cell_type": "code",
   "execution_count": 27,
   "metadata": {},
   "outputs": [],
   "source": [
    "theta_0_1=Sample_theta01(a_teta01, b_teta01)\n",
    "theta_1_1=Sample_theta11(a_teta11, b_teta11)"
   ]
  },
  {
   "cell_type": "code",
   "execution_count": 28,
   "metadata": {},
   "outputs": [],
   "source": [
    "theta_0_2=Sample_theta02(a_teta02, b_teta02)\n",
    "theta_1_2=Sample_theta12(a_teta12, b_teta12)"
   ]
  },
  {
   "cell_type": "code",
   "execution_count": 29,
   "metadata": {},
   "outputs": [],
   "source": [
    "theta_0_3=Sample_theta03(a_teta03, b_teta03)\n",
    "theta_1_3=Sample_theta13(a_teta13, b_teta13)"
   ]
  },
  {
   "cell_type": "code",
   "execution_count": 30,
   "metadata": {},
   "outputs": [],
   "source": [
    "theta_0_4=Sample_theta04(a_teta04, b_teta04)\n",
    "theta_1_4=Sample_theta14(a_teta14, b_teta14)"
   ]
  },
  {
   "cell_type": "code",
   "execution_count": 31,
   "metadata": {},
   "outputs": [],
   "source": [
    "theta_0_5=Sample_theta05(a_teta05, b_teta05)\n",
    "theta_1_5=Sample_theta15(a_teta15, b_teta15)"
   ]
  },
  {
   "cell_type": "code",
   "execution_count": 41,
   "metadata": {},
   "outputs": [],
   "source": [
    "param=[]\n",
    "param.append([alpha_,beta_,gama_,theta_0_0,theta_1_0,theta_0_1,theta_1_1,theta_0_2,theta_1_2,theta_0_3,theta_1_3,theta_0_4,theta_1_4,theta_0_5,theta_1_5])\n"
   ]
  },
  {
   "cell_type": "code",
   "execution_count": 42,
   "metadata": {},
   "outputs": [
    {
     "name": "stdout",
     "output_type": "stream",
     "text": [
      "alpha: 0.004\n",
      "beta: 0.0123\n",
      "gama: 0.201\n",
      "theta00: 0.245\n",
      "theta10: 0.999\n",
      "theta01: 0.097\n",
      "theta11: 0.999\n",
      "theta02: 0.204\n",
      "theta12: 0.999\n",
      "theta03: 0.191\n",
      "theta13: 0.999\n",
      "theta04: 0.161\n",
      "theta14: 0.999\n",
      "theta05: 0.034\n",
      "theta15: 0.999\n"
     ]
    }
   ],
   "source": [
    "print(\"alpha:\",param[0][0])\n",
    "print(\"beta:\",param[0][1])\n",
    "print(\"gama:\",param[0][2])\n",
    "print(\"theta00:\",param[0][3])\n",
    "print(\"theta10:\",param[0][4])\n",
    "print(\"theta01:\",param[0][5])\n",
    "print(\"theta11:\",param[0][6])\n",
    "print(\"theta02:\",param[0][7])\n",
    "print(\"theta12:\",param[0][8])\n",
    "print(\"theta03:\",param[0][9])\n",
    "print(\"theta13:\",param[0][10])\n",
    "print(\"theta04:\",param[0][11])\n",
    "print(\"theta14:\",param[0][12])\n",
    "print(\"theta05:\",param[0][13])\n",
    "print(\"theta15:\",param[0][14])"
   ]
  },
  {
   "cell_type": "code",
   "execution_count": 46,
   "metadata": {},
   "outputs": [],
   "source": [
    "# load data sets for Y,G and generate first J samples of X:\n",
    "%store -r Y\n",
    "%store -r G\n",
    "\n",
    "U=10\n",
    "T=G.shape[0]\n",
    "n=G.shape[1]\n",
    "J=1000\n",
    "P=1\n",
    "X=Forward_Sampling(T,n,G,Y,param[-1])\n",
    "X=Calculate_X(J,T,n,X,G,Y,param[-1])\n",
    "winsound.Beep(freq, duration)   "
   ]
  },
  {
   "cell_type": "code",
   "execution_count": 47,
   "metadata": {},
   "outputs": [],
   "source": [
    "# define auxiliary variable R(n,t):\n",
    "R=np.zeros((n,T))+1\n",
    "infR=np.array(CNbr(G,X,n,T))\n",
    "for i in range(n):\n",
    "    for t in range(T-1):\n",
    "        infr=int(infR[i,t])\n",
    "        pr_a=alpha_/(alpha_+beta_*infr)\n",
    "        pr_b=beta_/(alpha_+beta_*infr)\n",
    "        v=np.random.multinomial(1, [pr_a]+[pr_b]*infr)\n",
    "        if (X[i][t]==0)&(X[i][t+1]==1):\n",
    "                if v[0]==1:\n",
    "                    R[i,t]=0\n",
    "                else: \n",
    "                    R[i,t]=2"
   ]
  },
  {
   "cell_type": "code",
   "execution_count": 48,
   "metadata": {
    "scrolled": false
   },
   "outputs": [
    {
     "name": "stdout",
     "output_type": "stream",
     "text": [
      "******************* Iteration: 0 *****************************************************************************\n",
      "Current Time is : 15:36:17\n",
      "Verctor of Health States: \n",
      " [[0. 0. 0. ... 0. 0. 0.]\n",
      " [0. 0. 0. ... 0. 0. 0.]\n",
      " [0. 0. 0. ... 0. 0. 0.]\n",
      " ...\n",
      " [0. 0. 0. ... 0. 0. 0.]\n",
      " [0. 0. 0. ... 0. 0. 0.]\n",
      " [0. 0. 0. ... 0. 0. 0.]]\n",
      "******************* Iteration: 1 *****************************************************************************\n",
      "Current Time is : 15:40:48\n",
      "Verctor of Health States: \n",
      " [[0. 0. 0. ... 0. 0. 0.]\n",
      " [0. 0. 0. ... 0. 0. 0.]\n",
      " [0. 0. 0. ... 0. 0. 0.]\n",
      " ...\n",
      " [0. 0. 0. ... 0. 0. 0.]\n",
      " [0. 0. 0. ... 0. 0. 0.]\n",
      " [0. 0. 0. ... 0. 0. 0.]]\n",
      "******************* Iteration: 2 *****************************************************************************\n",
      "Current Time is : 15:45:21\n",
      "Verctor of Health States: \n",
      " [[0. 0. 0. ... 0. 0. 0.]\n",
      " [0. 0. 0. ... 0. 0. 0.]\n",
      " [0. 0. 0. ... 0. 0. 0.]\n",
      " ...\n",
      " [0. 0. 0. ... 0. 0. 0.]\n",
      " [0. 0. 0. ... 0. 0. 0.]\n",
      " [0. 0. 0. ... 0. 0. 0.]]\n",
      "******************* Iteration: 3 *****************************************************************************\n",
      "Current Time is : 15:49:33\n",
      "Verctor of Health States: \n",
      " [[0. 0. 0. ... 0. 0. 0.]\n",
      " [0. 0. 0. ... 0. 0. 0.]\n",
      " [0. 0. 0. ... 0. 0. 0.]\n",
      " ...\n",
      " [0. 0. 0. ... 0. 0. 0.]\n",
      " [0. 0. 0. ... 0. 0. 0.]\n",
      " [0. 0. 0. ... 0. 0. 0.]]\n",
      "******************* Iteration: 4 *****************************************************************************\n",
      "Current Time is : 15:53:50\n",
      "Verctor of Health States: \n",
      " [[0. 0. 0. ... 0. 0. 0.]\n",
      " [0. 0. 0. ... 0. 0. 0.]\n",
      " [0. 0. 0. ... 0. 0. 0.]\n",
      " ...\n",
      " [0. 0. 0. ... 0. 0. 0.]\n",
      " [0. 0. 0. ... 0. 0. 0.]\n",
      " [0. 0. 0. ... 0. 0. 0.]]\n",
      "******************* Iteration: 5 *****************************************************************************\n",
      "Current Time is : 15:58:29\n",
      "Verctor of Health States: \n",
      " [[0. 0. 0. ... 0. 0. 0.]\n",
      " [0. 0. 0. ... 0. 0. 0.]\n",
      " [0. 0. 0. ... 0. 0. 0.]\n",
      " ...\n",
      " [0. 0. 0. ... 0. 0. 0.]\n",
      " [0. 0. 0. ... 0. 0. 0.]\n",
      " [0. 0. 0. ... 0. 0. 0.]]\n",
      "******************* Iteration: 6 *****************************************************************************\n",
      "Current Time is : 16:03:04\n",
      "Verctor of Health States: \n",
      " [[0. 0. 0. ... 0. 0. 0.]\n",
      " [0. 0. 0. ... 0. 0. 0.]\n",
      " [0. 0. 0. ... 0. 0. 0.]\n",
      " ...\n",
      " [0. 0. 0. ... 0. 0. 0.]\n",
      " [0. 0. 0. ... 0. 0. 0.]\n",
      " [0. 0. 0. ... 0. 0. 0.]]\n",
      "******************* Iteration: 7 *****************************************************************************\n",
      "Current Time is : 16:07:56\n",
      "Verctor of Health States: \n",
      " [[0. 0. 0. ... 0. 0. 0.]\n",
      " [0. 0. 0. ... 0. 0. 0.]\n",
      " [0. 0. 0. ... 0. 0. 0.]\n",
      " ...\n",
      " [0. 0. 0. ... 0. 0. 0.]\n",
      " [0. 0. 0. ... 0. 0. 0.]\n",
      " [0. 0. 0. ... 0. 0. 0.]]\n",
      "******************* Iteration: 8 *****************************************************************************\n",
      "Current Time is : 16:12:56\n",
      "Verctor of Health States: \n",
      " [[0. 0. 0. ... 0. 0. 0.]\n",
      " [0. 0. 0. ... 0. 0. 0.]\n",
      " [0. 0. 0. ... 0. 0. 0.]\n",
      " ...\n",
      " [0. 0. 0. ... 0. 0. 0.]\n",
      " [0. 0. 0. ... 0. 0. 0.]\n",
      " [0. 0. 0. ... 0. 0. 0.]]\n",
      "******************* Iteration: 9 *****************************************************************************\n",
      "Current Time is : 16:17:37\n",
      "Verctor of Health States: \n",
      " [[0. 0. 0. ... 0. 0. 0.]\n",
      " [0. 0. 0. ... 0. 0. 0.]\n",
      " [0. 0. 0. ... 0. 0. 0.]\n",
      " ...\n",
      " [0. 0. 0. ... 0. 0. 0.]\n",
      " [0. 0. 0. ... 0. 0. 0.]\n",
      " [0. 0. 0. ... 0. 0. 0.]]\n"
     ]
    }
   ],
   "source": [
    "# Main code to run entire Gibbs algorithm U times:\n",
    "for i in range(U):\n",
    "    print(\"******************* Iteration:\",i,\"*****************************************************************************\")\n",
    "    now = datetime.now()\n",
    "    current_time = now.strftime(\"%H:%M:%S\")\n",
    "    print(\"Current Time is :\", current_time)\n",
    "    prm=Params(R,G,X,n,T,Y,param[-1])\n",
    "    param=prm[0]\n",
    "    X=Calculate_X(J,T,n,X,G,Y,param[-1])\n",
    "    print(\"Verctor of Health States:\",\"\\n\",X)\n",
    "    R=prm[1]\n",
    "winsound.Beep(freq, duration)            "
   ]
  },
  {
   "cell_type": "code",
   "execution_count": null,
   "metadata": {},
   "outputs": [],
   "source": [
    "np.sum(X)"
   ]
  },
  {
   "cell_type": "code",
   "execution_count": 40,
   "metadata": {},
   "outputs": [
    {
     "data": {
      "text/plain": [
       "[0.005,\n",
       " 0.0019,\n",
       " 0.193,\n",
       " 0.239,\n",
       " 0.999,\n",
       " 0.02,\n",
       " 0.999,\n",
       " 0.136,\n",
       " 0.999,\n",
       " 0.266,\n",
       " 0.999,\n",
       " 0.041,\n",
       " 0.999,\n",
       " 0.028,\n",
       " 0.999,\n",
       " [0.004,\n",
       "  0.0002,\n",
       "  0.363,\n",
       "  0.164,\n",
       "  0.999,\n",
       "  0.136,\n",
       "  0.999,\n",
       "  0.212,\n",
       "  0.999,\n",
       "  0.107,\n",
       "  0.999,\n",
       "  0.016,\n",
       "  0.999,\n",
       "  0.197,\n",
       "  0.999]]"
      ]
     },
     "execution_count": 40,
     "metadata": {},
     "output_type": "execute_result"
    }
   ],
   "source": [
    "param"
   ]
  },
  {
   "cell_type": "code",
   "execution_count": null,
   "metadata": {},
   "outputs": [],
   "source": [
    "#data simulation"
   ]
  },
  {
   "cell_type": "code",
   "execution_count": null,
   "metadata": {},
   "outputs": [],
   "source": [
    "prm=param\n",
    "alpha_,beta_,gama_,theta_0_,theta_1_=prm[0]+0.003,prm[1]+0.0007,prm[2]-.068,np.round(prm[3]-.003,2),prm[4]-.076\n",
    "print(\"alpha:\",alpha_)\n",
    "print(\"beta:\",beta_)\n",
    "print(\"gama:\",gama_)\n",
    "print(\"theta0:\",theta_0_)\n",
    "print(\"theta1:\",theta_1_)"
   ]
  },
  {
   "cell_type": "code",
   "execution_count": null,
   "metadata": {},
   "outputs": [],
   "source": [
    "# generate synthetized G\n",
    "n,T=100,100\n",
    "x=int((1-P)*n)\n",
    "y=10\n",
    "X=np.zeros((n,T))\n",
    "idx=np.random.choice(range(n), x)\n",
    "X[idx,0]=1\n",
    "G=[]\n",
    "for j in range(T):\n",
    "    g=np.identity(n)\n",
    "    for i in range(n):\n",
    "        inx=np.random.choice(range(i,n), y)\n",
    "        g[i,inx]=1  \n",
    "        g[inx,i]=1\n",
    "    G.append(g)"
   ]
  },
  {
   "cell_type": "code",
   "execution_count": null,
   "metadata": {},
   "outputs": [],
   "source": [
    "np.sum(G[0])"
   ]
  },
  {
   "cell_type": "code",
   "execution_count": null,
   "metadata": {},
   "outputs": [],
   "source": [
    "np.sum(X.T[0])"
   ]
  },
  {
   "cell_type": "code",
   "execution_count": null,
   "metadata": {},
   "outputs": [],
   "source": [
    "infR=CNbr(G,X,n,T)"
   ]
  },
  {
   "cell_type": "code",
   "execution_count": null,
   "metadata": {},
   "outputs": [],
   "source": [
    "infR"
   ]
  },
  {
   "cell_type": "code",
   "execution_count": null,
   "metadata": {},
   "outputs": [],
   "source": [
    "infR[i,0]"
   ]
  },
  {
   "cell_type": "code",
   "execution_count": null,
   "metadata": {},
   "outputs": [],
   "source": [
    "# Calculate X from G and params\n",
    "for t in range(T-1):\n",
    "    for i in range(n):\n",
    "        c=infR[i,t]\n",
    "        if X[i,t]==0:\n",
    "            p0=(1-alpha_-beta_*c)\n",
    "            p1=alpha_+beta_*c\n",
    "        else:\n",
    "            p0=gama_\n",
    "            p1=1-gama_\n",
    "        if p0+p1==0:\n",
    "            l=0.5\n",
    "        else:\n",
    "            l=p1/(p0+p1)\n",
    "        X[i,t+1]=np.random.binomial( 1, l,size=None) \n"
   ]
  },
  {
   "cell_type": "code",
   "execution_count": null,
   "metadata": {},
   "outputs": [],
   "source": [
    "X"
   ]
  },
  {
   "cell_type": "code",
   "execution_count": null,
   "metadata": {},
   "outputs": [],
   "source": [
    "np.sum(X)"
   ]
  },
  {
   "cell_type": "code",
   "execution_count": null,
   "metadata": {},
   "outputs": [],
   "source": [
    "x"
   ]
  },
  {
   "cell_type": "code",
   "execution_count": null,
   "metadata": {},
   "outputs": [],
   "source": [
    "# Generate synthetized Y\n",
    "Y1=np.zeros((n,T))\n",
    "for t in range(T):\n",
    "    for i in range(n):\n",
    "        if X[i,t]==0:\n",
    "            Y1[i,t]=np.random.binomial( 1, theta_0_,size=None) \n",
    "        else:\n",
    "            Y1[i,t]=np.random.binomial( 1, theta_1_,size=None) "
   ]
  },
  {
   "cell_type": "code",
   "execution_count": null,
   "metadata": {},
   "outputs": [],
   "source": [
    "np.sum(Y1)"
   ]
  },
  {
   "cell_type": "code",
   "execution_count": null,
   "metadata": {},
   "outputs": [],
   "source": [
    "np.sum(Y1-Y)"
   ]
  },
  {
   "cell_type": "code",
   "execution_count": null,
   "metadata": {},
   "outputs": [],
   "source": [
    "Y.shape"
   ]
  },
  {
   "cell_type": "code",
   "execution_count": null,
   "metadata": {},
   "outputs": [],
   "source": [
    "################################################################################################################################"
   ]
  },
  {
   "cell_type": "code",
   "execution_count": null,
   "metadata": {},
   "outputs": [],
   "source": [
    "# test the code with simulation data"
   ]
  },
  {
   "cell_type": "code",
   "execution_count": null,
   "metadata": {},
   "outputs": [],
   "source": [
    "from datetime import datetime"
   ]
  },
  {
   "cell_type": "code",
   "execution_count": null,
   "metadata": {},
   "outputs": [],
   "source": [
    "# initialize parameters for beta distributions:\n",
    "a_alpha=0.1\n",
    "b_alpha=3000\n",
    "a_beta=0.1\n",
    "b_beta=1\n",
    "a_gama=7\n",
    "b_gama=7\n",
    "a_teta0=1\n",
    "b_teta0=5\n",
    "a_teta1=5000\n",
    "b_teta1=.1"
   ]
  },
  {
   "cell_type": "code",
   "execution_count": null,
   "metadata": {},
   "outputs": [],
   "source": [
    "#Sample infection and emision parameters(alpha,beta,gama,teta0,teta1)\n",
    "alpha_=0\n",
    "alpha_=Sample_alpha(a_alpha, b_alpha)\n",
    "beta_=Sample_beta(a_beta, b_beta)\n",
    "gama_=Sample_gama(a_gama,b_gama)\n",
    "theta_0_=Sample_theta0(a_teta0, b_teta0)\n",
    "theta_1_=Sample_theta1(a_teta1, b_teta1)"
   ]
  },
  {
   "cell_type": "code",
   "execution_count": null,
   "metadata": {},
   "outputs": [],
   "source": [
    "param=[alpha_,beta_,gama_,theta_0_,theta_1_]\n",
    "param"
   ]
  },
  {
   "cell_type": "code",
   "execution_count": null,
   "metadata": {},
   "outputs": [],
   "source": [
    "now = datetime.now()\n",
    "current_time = now.strftime(\"%H:%M:%S\")\n",
    "print(\"Current Time is :\", current_time)"
   ]
  },
  {
   "cell_type": "code",
   "execution_count": null,
   "metadata": {},
   "outputs": [],
   "source": [
    "# define auxiliary variable R(n,t):\n",
    "R=np.zeros((n,T))+1\n",
    "infR=np.array(CNbr(G,X,n,T))\n",
    "for i in range(n):\n",
    "    for t in range(T-1):\n",
    "        infr=int(infR[i,t])\n",
    "        pr_a=alpha_/(alpha_+beta_*infr)\n",
    "        pr_b=beta_/(alpha_+beta_*infr)\n",
    "        v=np.random.multinomial(1, [pr_a]+[pr_b]*infr)\n",
    "        if (X[i][t]==0)&(X[i][t+1]==1):\n",
    "                if v[0]==1:\n",
    "                    R[i,t]=0\n",
    "                else: \n",
    "                    R[i,t]=2"
   ]
  },
  {
   "cell_type": "code",
   "execution_count": null,
   "metadata": {
    "scrolled": false
   },
   "outputs": [],
   "source": [
    "# Main code to run entire Gibbs algorithm U times:\n",
    "for i in range(U):\n",
    "    print(\"******************* Iteration:\",i,\"*****************************************************************************\")\n",
    "    now = datetime.now()\n",
    "    current_time = now.strftime(\"%H:%M:%S\")\n",
    "    print(\"Current Time is :\", current_time)    \n",
    "    prm=Params(R,G,X,n,T,Y,param)\n",
    "    param=[prm[0],prm[1],prm[2],prm[3],prm[4]]\n",
    "    X=Calculate_X(J,T,n,X,G,Y,param)\n",
    "    print(\"Verctor of Health States:\",\"\\n\",X)\n",
    "    R=prm[5]\n",
    "    print(\"params:\",param)\n",
    "winsound.Beep(freq, duration)            "
   ]
  },
  {
   "cell_type": "code",
   "execution_count": null,
   "metadata": {},
   "outputs": [],
   "source": [
    "print(\"hidden states:\",X)"
   ]
  },
  {
   "cell_type": "code",
   "execution_count": null,
   "metadata": {},
   "outputs": [],
   "source": [
    "prm=param\n",
    "alpha_,beta_,gama_,theta_0_,theta_1_=prm[0]+0.003,prm[1]+0.0007,prm[2]-.068,np.round(prm[3]-.003,2),prm[4]-.076\n",
    "print(\"alpha:\",alpha_)\n",
    "print(\"beta:\",beta_)\n",
    "print(\"gama:\",gama_)\n",
    "print(\"theta0:\",theta_0_)\n",
    "print(\"theta1:\",theta_1_)"
   ]
  },
  {
   "cell_type": "code",
   "execution_count": null,
   "metadata": {},
   "outputs": [],
   "source": [
    "#add noise to data"
   ]
  },
  {
   "cell_type": "code",
   "execution_count": null,
   "metadata": {},
   "outputs": [],
   "source": [
    "mask = np.random.binomial(1, 0.05,X.shape[1]).astype(bool)\n",
    "indx=np.random.choice(range(n), 30)\n",
    "for i in indx:\n",
    "    x=X[i]\n",
    "    x[mask] = 1 - x[mask]\n",
    "    X[i]=x"
   ]
  }
 ],
 "metadata": {
  "kernelspec": {
   "display_name": "Python 3",
   "language": "python",
   "name": "python3"
  },
  "language_info": {
   "codemirror_mode": {
    "name": "ipython",
    "version": 3
   },
   "file_extension": ".py",
   "mimetype": "text/x-python",
   "name": "python",
   "nbconvert_exporter": "python",
   "pygments_lexer": "ipython3",
   "version": "3.8.5"
  }
 },
 "nbformat": 4,
 "nbformat_minor": 4
}
