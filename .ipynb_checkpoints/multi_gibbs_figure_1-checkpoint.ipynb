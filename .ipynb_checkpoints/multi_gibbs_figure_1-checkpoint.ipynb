{
 "cells": [
  {
   "cell_type": "code",
   "execution_count": 2,
   "metadata": {},
   "outputs": [],
   "source": [
    "import multiprocessing\n",
    "from multiprocessing import Pool\n",
    "from functools import partial\n",
    "from tqdm import tqdm\n",
    "import numpy as np\n",
    "import matplotlib.pyplot as plt\n",
    "import os"
   ]
  },
  {
   "cell_type": "code",
   "execution_count": 29,
   "metadata": {},
   "outputs": [
    {
     "name": "stdout",
     "output_type": "stream",
     "text": [
      "hi im executing\n"
     ]
    }
   ],
   "source": [
    "from sklearn.metrics import accuracy_score\n",
    "import winsound\n",
    "import matplotlib.pyplot as plt\n",
    "from scipy import spatial\n",
    "from sklearn import svm, datasets\n",
    "from sklearn.metrics import roc_curve, auc\n",
    "from sklearn.metrics import roc_auc_score\n",
    "import workers_1"
   ]
  },
  {
   "cell_type": "code",
   "execution_count": 23,
   "metadata": {},
   "outputs": [],
   "source": [
    "# stored best initializations for X:\n",
    "%store -r pool_list"
   ]
  },
  {
   "cell_type": "code",
   "execution_count": 24,
   "metadata": {},
   "outputs": [
    {
     "name": "stderr",
     "output_type": "stream",
     "text": [
      "<ipython-input-24-0d12b247fbd6>:1: VisibleDeprecationWarning: Creating an ndarray from ragged nested sequences (which is a list-or-tuple of lists-or-tuples-or ndarrays with different lengths or shapes) is deprecated. If you meant to do this, you must specify 'dtype=object' when creating the ndarray.\n",
      "  plist=np.array(pool_list)[:,1]\n"
     ]
    }
   ],
   "source": [
    "plist=np.array(pool_list)[:,1]"
   ]
  },
  {
   "cell_type": "code",
   "execution_count": 9,
   "metadata": {},
   "outputs": [],
   "source": [
    "#function for spliting X,Y,G into desired timesteps, the output of this function is the result of Gibbs sampling algorithm:\n",
    "# returns probability which is the model estimate of X:\n",
    "# this code is parallelized on different timesteps:\n",
    "def Step_Gibbs_parallel(X):\n",
    "    arg=[]\n",
    "    pool_list=[]\n",
    "    for i in range(1,5):\n",
    "        time_step=i*90\n",
    "        G_=G[:time_step]\n",
    "        Y_=Y[:,:time_step]\n",
    "        X_=X[:,:time_step]\n",
    "        pool_list.append([X_,G_,Y_])\n",
    "        \n",
    "    if __name__ ==  '__main__': \n",
    "        with Pool(processes =4) as pool:\n",
    "\n",
    "            parallel_output = pool.starmap(workers_1.Step_Gibbs,pool_list )# use tqdm to show the progress\n",
    "            pool.close()\n",
    "            pool.join()\n",
    "    return parallel_output"
   ]
  },
  {
   "cell_type": "code",
   "execution_count": 10,
   "metadata": {},
   "outputs": [],
   "source": [
    "# function for plotting figure 1\n",
    "def plot_figure_1(Trained):\n",
    "    roc_=[]\n",
    "    for i in range(len(Trained)):\n",
    "        Train=np.array(Trained)[i][2][0]\n",
    "        y_score=np.hstack(Train)\n",
    "        y_test=np.hstack(X_true[:,:Train.shape[1]])\n",
    "        roc_.append(plot_ROC(y_score,y_test))\n",
    "    plt.plot(range(30,360,10),roc_) \n",
    "    return"
   ]
  },
  {
   "cell_type": "code",
   "execution_count": 11,
   "metadata": {},
   "outputs": [],
   "source": [
    "if os.path.exists('Xreal.npy'):\n",
    "    X_true = np.load('Xreal.npy')"
   ]
  },
  {
   "cell_type": "code",
   "execution_count": 27,
   "metadata": {},
   "outputs": [],
   "source": [
    "duration = 1000  # milliseconds\n",
    "freq = 440  # Hz \n",
    "# initialize parameters for beta distributions:\n",
    "a_alpha=1\n",
    "b_alpha=400\n",
    "a_beta=1\n",
    "b_beta=800\n",
    "a_betaf=8\n",
    "b_betaf=800\n",
    "a_gama=50\n",
    "b_gama=200\n",
    "a_teta0=10\n",
    "b_teta0=1000\n",
    "a_teta1=9000\n",
    "b_teta1=300\n",
    "P=1\n",
    "U=1\n",
    "K=1\n",
    "J=1\n",
    "n,T=100,365\n",
    "epsln=0.001\n",
    "hyper_params=np.array([a_alpha,b_alpha,a_beta,b_beta,a_betaf,b_betaf,a_gama,b_gama,a_teta0,b_teta0,a_teta1,b_teta1])\n",
    "\n",
    "if os.path.exists('Greal.npy'):\n",
    "    G = np.load('Greal.npy')\n",
    "if os.path.exists('YFreal.npy'):\n",
    "    YF = np.load('YFreal.npy')\n",
    "if os.path.exists('Freal.npy'):\n",
    "    F = np.load('Freal.npy')\n",
    "if os.path.exists('YF_missingreal.npy'):\n",
    "    YF_missing = np.load('YF_missingreal.npy')\n",
    "if os.path.exists('YF_missing_1real.npy'):\n",
    "    YF_missing1 = np.load('YF_missing_1real.npy')\n",
    "if os.path.exists('Xreal.npy'):\n",
    "    X_True = np.load('Xreal.npy')\n",
    "n,T=X_True.shape[0],X_True.shape[1]\n",
    "if os.path.exists('params.npy'):\n",
    "    params = np.load('params.npy')\n",
    "\n",
    "unique_rows = np.unique(F, axis=0)\n",
    "#calculate y_missing:\n",
    "Y=np.zeros((n,T))\n",
    "for i in range(n):\n",
    "    for j in range(unique_rows.shape[0]):\n",
    "        if unique_rows[j,i]==1:\n",
    "            Y[i,:]=YF[j,:]\n"
   ]
  },
  {
   "cell_type": "code",
   "execution_count": null,
   "metadata": {},
   "outputs": [],
   "source": [
    "#for is just because of different initializations for X:\n",
    "for i in range(len(plist)):\n",
    "    X=plist[i]\n",
    "    Trained=Step_Gibbs_parallel(X)\n",
    "    plot_figure_1(Trained)"
   ]
  },
  {
   "cell_type": "code",
   "execution_count": null,
   "metadata": {},
   "outputs": [],
   "source": [
    "lw = 2\n",
    "for j in range(4):\n",
    "    y_score=np.hstack(Trained[j][1][0])\n",
    "    y_test=np.hstack(X_true)\n",
    "    fpr, tpr, thresholds = roc_curve(y_test, y_score,pos_label=1)\n",
    "    roc_auc = auc(fpr, tpr)\n",
    "    plt.plot(\n",
    "        fpr,\n",
    "        tpr,\n",
    "        color=\"darkorange\",\n",
    "        lw=lw,\n",
    "        label=\"ROC curve (area = %0.2f)\" % roc_auc,\n",
    "    )\n",
    "    plt.plot([0, 1], [0, 1], color=\"navy\", lw=lw, linestyle=\"--\")\n",
    "    plt.xlim([0.0, 1.0])\n",
    "    plt.ylim([0.0, 1.05])\n",
    "    plt.xlabel(\"False Positive Rate\")\n",
    "    plt.ylabel(\"True Positive Rate\")\n",
    "    plt.title(\"ROC for family test result problem\")\n",
    "    plt.legend(loc=\"lower right\")\n",
    "    plt.show()"
   ]
  },
  {
   "cell_type": "code",
   "execution_count": null,
   "metadata": {},
   "outputs": [],
   "source": []
  },
  {
   "cell_type": "code",
   "execution_count": null,
   "metadata": {},
   "outputs": [
    {
     "name": "stdout",
     "output_type": "stream",
     "text": [
      "hi im executing\n"
     ]
    }
   ],
   "source": [
    "import multiprocessing\n",
    "from multiprocessing import Pool\n",
    "from functools import partial\n",
    "from tqdm import tqdm\n",
    "import numpy as np\n",
    "import workers_1\n",
    "if __name__ ==  '__main__': \n",
    "    with Pool(processes =4) as pool:\n",
    "\n",
    "        parallel_output = pool.map(workers_1.Step_Gibbs_paralel,list(plist) )# use tqdm to show the progress\n",
    "        pool.close()\n",
    "        pool.join()\n",
    "    \n",
    "   "
   ]
  }
 ],
 "metadata": {
  "kernelspec": {
   "display_name": "Python 3",
   "language": "python",
   "name": "python3"
  },
  "language_info": {
   "codemirror_mode": {
    "name": "ipython",
    "version": 3
   },
   "file_extension": ".py",
   "mimetype": "text/x-python",
   "name": "python",
   "nbconvert_exporter": "python",
   "pygments_lexer": "ipython3",
   "version": "3.8.5"
  }
 },
 "nbformat": 4,
 "nbformat_minor": 4
}
