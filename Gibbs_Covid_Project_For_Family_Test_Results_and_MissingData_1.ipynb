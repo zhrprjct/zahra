{
 "cells": [
  {
   "cell_type": "markdown",
   "metadata": {},
   "source": [
    "# Python code of Gibbs sampling model for sparse family test result Covid problem"
   ]
  },
  {
   "cell_type": "code",
   "execution_count": 2,
   "metadata": {},
   "outputs": [],
   "source": [
    "# import neccessary libraries\n",
    "import numpy as np\n",
    "import random\n",
    "import sympy as sym\n",
    "from datetime import datetime\n",
    "from scipy.stats import beta\n",
    "from sklearn.metrics import accuracy_score\n",
    "import winsound\n",
    "import matplotlib.pyplot as plt\n",
    "from scipy import spatial\n",
    "from sklearn import svm, datasets\n",
    "from sklearn.metrics import roc_curve, auc\n",
    "from sklearn.metrics import roc_auc_score\n",
    "\n",
    "duration = 1000  # milliseconds\n",
    "freq = 440  # Hz\n"
   ]
  },
  {
   "cell_type": "code",
   "execution_count": 3,
   "metadata": {},
   "outputs": [],
   "source": [
    "# function to count the number of the infected neighbores of i at t:\n",
    "def CNbr(G,X,n,T):\n",
    "    C=np.zeros((T,n))\n",
    "    for t in range(T):\n",
    "        C[t]=G[t].dot(X.T[t])\n",
    "    return C.T"
   ]
  },
  {
   "cell_type": "code",
   "execution_count": 4,
   "metadata": {},
   "outputs": [],
   "source": [
    "def transition(X,t,G,F,j,param):\n",
    "    alpha_=param[0]\n",
    "    beta_=param[1]\n",
    "    betaf=param[2]\n",
    "    gama_=param[3]\n",
    "    c=CNbr(G,X,n,T)[j][t]\n",
    "    number_of_infected_members_in_family=F.dot(X.T[t])[j]\n",
    "    k=X[j,t]-2*X[j,t+1]\n",
    "    if k==0:\n",
    "        return 1-alpha_-beta_*c-betaf*number_of_infected_members_in_family\n",
    "    elif k==-2:\n",
    "        return alpha_+beta_*c+betaf*number_of_infected_members_in_family\n",
    "    elif k==1:\n",
    "        return gama_\n",
    "    else:\n",
    "        return 1-gama_\n",
    "    "
   ]
  },
  {
   "cell_type": "code",
   "execution_count": 5,
   "metadata": {},
   "outputs": [],
   "source": [
    "# Function to obtain the very initial sample of X, using forwad sampling:\n",
    "def Forward_Sampling(T,n,G,F,param):\n",
    "    alpha_=param[0]\n",
    "    beta_=param[1]\n",
    "    betaf=param[2]\n",
    "    gama_=param[3]\n",
    "    p0=P\n",
    "    p1=1-P\n",
    "    x=int(np.round(((1-P)*n),0))\n",
    "    X=np.zeros((n,T))  \n",
    "    idx=np.random.choice(range(n), x)\n",
    "    X[idx,0]=1\n",
    "    for t in range(T-1):\n",
    "        cf=F.dot(X.T[t])\n",
    "        for i in range(n):\n",
    "            c=CNbr(G,X,n,T)[i,t]\n",
    "            if X[i,t]==0:\n",
    "                p1=(alpha_+beta_*c+betaf*cf[i])\n",
    "            else:\n",
    "                p1=(1-gama_)\n",
    "            X[i,t+1]=np.random.binomial( 1, p1,size=None) \n",
    "    return X"
   ]
  },
  {
   "cell_type": "code",
   "execution_count": 6,
   "metadata": {},
   "outputs": [],
   "source": [
    "def Sample_hidden_state(pos_probs,X,G,F,Y,param,t):\n",
    "    unique_rows = np.unique(F, axis=0)\n",
    "    alpha_=param[0]\n",
    "    beta_=param[1]\n",
    "    betaf=param[2]\n",
    "    gama_=param[3]\n",
    "    theta_0_=param[4]\n",
    "    theta_1_=param[5]\n",
    "    \n",
    "    for i in range(n):\n",
    "        if t==0:\n",
    "            p_0,p_1=P,1-P\n",
    "        else:\n",
    "            p_0,p_1=1,1\n",
    "        pow0=np.count_nonzero(Y[i,t]==0)\n",
    "        pow1=np.count_nonzero(Y[i,t]==1)\n",
    "        #pow1_=np.count_nonzero(Y[i,t]==-1)\n",
    "        number_of_members_in_family=np.sum(unique_rows[family_index(i,unique_rows)])\n",
    "        \n",
    "        X[i,t]=0\n",
    "        number_of_infected_members_in_family0=F.dot(X.T[t])[i]\n",
    "        number_of_healthy_members_in_family0=number_of_members_in_family-number_of_infected_members_in_family0\n",
    "        p_0=(1/number_of_members_in_family)*p_0*((1-theta_0_)*number_of_healthy_members_in_family0+(1-theta_1_)*number_of_infected_members_in_family0)**pow0*(theta_1_*number_of_infected_members_in_family0+theta_0_*number_of_healthy_members_in_family0)**pow1\n",
    "        if (t==0):\n",
    "            c=G[t].dot(X.T[t])[i]\n",
    "        else:    \n",
    "            c=G[t-1].dot(X.T[t-1])[i]\n",
    "    \n",
    "        if t!=0:\n",
    "            if X[i,t-1]==0:\n",
    "                p_0=p_0*(1-alpha_-beta_*c-betaf*number_of_infected_members_in_family0)\n",
    "            else:\n",
    "                p_0=p_0*gama_\n",
    "        \n",
    "        X[i,t]=1\n",
    "        number_of_infected_members_in_family1=F.dot(X.T[t])[i]\n",
    "        number_of_healthy_members_in_family1=number_of_members_in_family-number_of_infected_members_in_family1\n",
    "        p_1=(1/number_of_members_in_family)*p_1*((1-theta_0_)*number_of_healthy_members_in_family1+(1-theta_1_)*number_of_infected_members_in_family1)**pow0*(theta_1_*number_of_infected_members_in_family1+theta_0_*number_of_healthy_members_in_family1)**pow1\n",
    "\n",
    "        if (t==0):\n",
    "            c=G[t].dot(X.T[t])[i]\n",
    "        else:    \n",
    "            c=G[t-1].dot(X.T[t-1])[i]\n",
    "        if t!=0:\n",
    "            if X[i,t-1]==0:\n",
    "                p_1=p_1*(alpha_+beta_*c+betaf*number_of_infected_members_in_family1)\n",
    "            else:\n",
    "                p_1=p_1*(1-gama_)\n",
    "        family_members=unique_rows[family_index(i,unique_rows)]\n",
    "        \n",
    "        if t!=T-1:        \n",
    "            X[i,t]=0\n",
    "            for j in np.where(family_members==1)[0]:\n",
    "                if j!=i:\n",
    "                    p_0=p_0*transition(X,t,G,F,j,param)\n",
    "            for j in np.where(G[t][i]==1)[0]:\n",
    "                p_0=p_0*transition(X,t,G,F,j,param)\n",
    "            X[i,t]=1\n",
    "            for j in np.where(family_members==1)[0]:\n",
    "                if j!=i:\n",
    "                    p_1=p_1*transition(X,t,G,F,j,param)\n",
    "            for j in np.where(G[t][i]==1)[0]:\n",
    "                p_1=p_1*transition(X,t,G,F,j,param)\n",
    "        if t==T-1:\n",
    "            if X[i,t-1]==0:\n",
    "                X[i,t]=0\n",
    "                c=G[t].dot(X.T[t])[i]\n",
    "                number_of_infected_members_in_family=F.dot(X.T[t])[i]\n",
    "                p_0=p_0*(1-alpha_-beta_*c-betaf*number_of_infected_members_in_family)\n",
    "                X[i,t]=1\n",
    "                c=G[t].dot(X.T[t])[i]\n",
    "                number_of_infected_members_in_family=F.dot(X.T[t])[i]\n",
    "                p_1=p_1*(alpha_+beta_*c+betaf*number_of_infected_members_in_family)\n",
    "            else:\n",
    "                p_0=p_0*gama_\n",
    "                p_1=p_1*(1-gama_)\n",
    "        if p_0+p_1==0:            \n",
    "            l=0.5\n",
    "        else:\n",
    "            l=p_1/(p_0+p_1)\n",
    "        if (l<0)|(l>1): \n",
    "            print(p_0,p_1)\n",
    "        X[i,t]=np.random.binomial( 1,  l,size=None)    \n",
    "        pos_probs[i,t]=l\n",
    "    return X ,pos_probs   "
   ]
  },
  {
   "cell_type": "code",
   "execution_count": 33,
   "metadata": {},
   "outputs": [],
   "source": [
    "# Gibbs sampling to obtain X, as new sample of posterior distribution:\n",
    "def Calculate_X(K,T,X,G,F1,Y,param):\n",
    "    pos_probs=np.zeros((n,T))\n",
    "    for k in range(K):\n",
    "        for t in range(T):\n",
    "            hidden_states=Sample_hidden_state(pos_probs,X,G,F1,Y,param,t)\n",
    "            X=hidden_states[0]\n",
    "            pos_probs=hidden_states[1]\n",
    "    return X  ,pos_probs              "
   ]
  },
  {
   "cell_type": "code",
   "execution_count": 8,
   "metadata": {},
   "outputs": [],
   "source": [
    "def Accuracy_(X,X_):\n",
    "    Xflat = np.hstack(np.hstack(X))\n",
    "    X_flat = np.hstack(np.hstack(X_))\n",
    "    result=accuracy_score(Xflat, X_flat,normalize=True)\n",
    "    return result"
   ]
  },
  {
   "cell_type": "markdown",
   "metadata": {},
   "source": [
    "# Functions to sample from beta distribution\n"
   ]
  },
  {
   "cell_type": "code",
   "execution_count": 9,
   "metadata": {},
   "outputs": [],
   "source": [
    "# function to define auxiliary variable R_(n,t):\n",
    "def R_(G,X,params):\n",
    "    alpha_,beta_,betaf,gama_,theta_0_,theta_1_=params[0],params[1],params[2],params[3],params[4],params[5]\n",
    "    infected_neighbore=np.array(CNbr(G,X,n,T))\n",
    "    R=np.zeros((n,T))+1\n",
    "    for i in range(n):\n",
    "        for t in range(T-1):\n",
    "            c=int(infected_neighbore[i,t])\n",
    "            cf=int(F.dot(X.T[t])[i])\n",
    "            pr_a=alpha_/(alpha_+beta_*c+betaf*cf)\n",
    "            pr_b=beta_/(alpha_+beta_*c+betaf*cf)\n",
    "            pr_bf=betaf/(alpha_+beta_*c+betaf*cf)\n",
    "            v=np.random.multinomial(1, [pr_a]+[pr_b]*c+[pr_bf]*cf)\n",
    "            if (X[i][t]==0)&(X[i][t+1]==1):\n",
    "                if v[0]==1:\n",
    "                    R[i,t]=0\n",
    "                elif (cf!=0):\n",
    "                    if ((v[-cf:]==1).any()):\n",
    "                        R[i,t]=3\n",
    "                else:    \n",
    "                    R[i,t]=2\n",
    "    return R"
   ]
  },
  {
   "cell_type": "code",
   "execution_count": 10,
   "metadata": {},
   "outputs": [],
   "source": [
    "# function to sample new parameters and update parameters:\n",
    "def Params(R,G,F,X,n,T,Y,hyper_param):\n",
    "    \n",
    "    a_alpha=hyper_params[0]\n",
    "    b_alpha=hyper_params[1]\n",
    "    a_beta=hyper_params[2]\n",
    "    b_beta=hyper_params[3]\n",
    "    a_betaf=hyper_params[4]\n",
    "    b_betaf=hyper_params[5]\n",
    "    a_gama=hyper_params[6]\n",
    "    b_gama=hyper_params[7]\n",
    "    a_teta0=hyper_params[8]\n",
    "    b_teta0=hyper_params[9]\n",
    "    a_teta1=hyper_params[10]\n",
    "    b_teta1=hyper_params[11]\n",
    "      \n",
    "    TP=np.sum(np.multiply(unique_rows.dot(X),YF))\n",
    "    FP=np.count_nonzero(unique_rows.dot(X)-YF==-1)\n",
    "    \n",
    "    infected_neighbore=np.array(CNbr(G,X,n,T))\n",
    "    a_alpha, b_alpha=a_alpha +  np.count_nonzero(R==0) , b_alpha +np.count_nonzero(X==0)- np.count_nonzero(R==0)\n",
    "    alpha_=Sample_alpha(a_alpha, b_alpha)\n",
    "    a_beta,b_beta=a_beta + np.count_nonzero(R==2) , b_beta +np.sum(np.multiply((1-X),infected_neighbore))-np.count_nonzero(R==2)\n",
    "    beta_=Sample_beta(a_beta,b_beta)\n",
    "    a_betaf ,b_betaf=a_betaf + np.count_nonzero(R==3) , b_betaf +np.sum(np.multiply((1-X),F.dot(X)))-np.count_nonzero(R==3)\n",
    "    betaf=Sample_betaf(a_betaf ,b_betaf)\n",
    "    while alpha_>beta_:\n",
    "        print(\"Loop\",alpha_,beta_)\n",
    "        alpha_=Sample_alpha(a_alpha, b_alpha)\n",
    "        beta_=Sample_beta(a_beta, b_beta)\n",
    "    while beta_>betaf:\n",
    "        print(\"Looop\",betaf)\n",
    "        betaf=Sample_betaf(a_betaf, b_betaf)\n",
    "    gama_=Sample_gama(a_gama +np.count_nonzero((X[:,:-1]-X[:,1:])==1), b_gama+np.sum(X)-np.count_nonzero((X[:,:-1]-X[:,1:])==1))\n",
    "    theta_0_=Sample_theta0( a_teta0+FP,b_teta0+np.count_nonzero((unique_rows.dot(X))==0)-FP)\n",
    "    theta_1_=Sample_theta1( a_teta1+TP,b_teta1+np.sum(unique_rows.dot(X))-TP)\n",
    "    \n",
    "    R=R_(G,X,params)\n",
    "    param=[alpha_,beta_,betaf,gama_,theta_0_,theta_1_]\n",
    "    return param,R"
   ]
  },
  {
   "cell_type": "code",
   "execution_count": 11,
   "metadata": {},
   "outputs": [],
   "source": [
    "def Sample_alpha(a_alpha, b_alpha):\n",
    "    for i in beta.rvs(a_alpha, b_alpha, size=10000):\n",
    "        if (i>0.001)&(i<0.2):\n",
    "            alpha_=round(i,3)\n",
    "            break\n",
    "    return alpha_        \n"
   ]
  },
  {
   "cell_type": "code",
   "execution_count": 12,
   "metadata": {},
   "outputs": [],
   "source": [
    "def Sample_beta(a_beta, b_beta):\n",
    "    for i in beta.rvs(a_beta, b_beta, size=10000):\n",
    "        if (i>0.001)&(i<0.0451):\n",
    "            beta_=round(i,4)\n",
    "            break\n",
    "    return beta_        "
   ]
  },
  {
   "cell_type": "code",
   "execution_count": 13,
   "metadata": {},
   "outputs": [],
   "source": [
    "def Sample_betaf(a_betaf, b_betaf):\n",
    "    for i in beta.rvs(a_betaf, b_betaf, size=1000):\n",
    "        if (i>0.002)&(i<0.5):\n",
    "            betaf=round(i,4)\n",
    "            break\n",
    "    return betaf        "
   ]
  },
  {
   "cell_type": "code",
   "execution_count": 14,
   "metadata": {},
   "outputs": [],
   "source": [
    "def Sample_gama(a_gama,b_gama):\n",
    "    for i in beta.rvs(a_gama, b_gama, size=10000):\n",
    "        if (i>0.1)&(i<0.5):\n",
    "            gama_=round(i,3)\n",
    "            break\n",
    "    return gama_  "
   ]
  },
  {
   "cell_type": "code",
   "execution_count": 15,
   "metadata": {},
   "outputs": [],
   "source": [
    "def Sample_theta0(a_teta0, b_teta0):\n",
    "    for i in beta.rvs(a_teta0, b_teta0, size=10000):\n",
    "        if (i>0.01)&(i<0.51):\n",
    "            theta_0_=round(i,3)\n",
    "            break\n",
    "    return theta_0_  "
   ]
  },
  {
   "cell_type": "code",
   "execution_count": 16,
   "metadata": {},
   "outputs": [],
   "source": [
    "def Sample_theta1(a_teta1, b_teta1):\n",
    "    for i in beta.rvs(a_teta1, b_teta1, size=10000):\n",
    "        if 0.990>i>0.78:\n",
    "            theta_1_=round(i,3)\n",
    "            break\n",
    "    return theta_1_  "
   ]
  },
  {
   "cell_type": "code",
   "execution_count": 17,
   "metadata": {},
   "outputs": [],
   "source": [
    "def add_noise(YF,noise_percent,unique_rows):\n",
    "    \n",
    "    number_of_families=unique_rows.shape[0]\n",
    "    indx=random.sample(range(number_of_families), number_of_families)\n",
    "    tndx=random.sample(range(T), int(noise_percent*T))\n",
    "    for i in indx:\n",
    "        for t in tndx:\n",
    "            YF[i,t]=(YF[i,t]+1)*(1-YF[i,t])\n",
    "    return YF        "
   ]
  },
  {
   "cell_type": "code",
   "execution_count": 18,
   "metadata": {},
   "outputs": [],
   "source": [
    "# funtion to retun related family index of individual i:\n",
    "def family_index(i,unique_rows):\n",
    "    for j in range(n):\n",
    "        if unique_rows[j,i]==1:\n",
    "            return j"
   ]
  },
  {
   "cell_type": "code",
   "execution_count": 19,
   "metadata": {},
   "outputs": [],
   "source": [
    "# Function to generates Synthetic dataset\n",
    "def Synthetic_Data(n,T,y,params,number_families):\n",
    "    alpha_,beta_,betaf,gama_,theta_0_,theta_1_=params[0],params[1],params[2],params[3],params[4],params[5]\n",
    "    x=int(np.round(((1-P)*n),0))\n",
    "    X=np.zeros((n,T))\n",
    "    idx=np.random.choice(range(n), x)\n",
    "    X[idx,0]=1\n",
    "    # Random social network\n",
    "    G=[]\n",
    "    for j in range(T):\n",
    "        g=np.identity(n,dtype=int)\n",
    "        for i in range(n):\n",
    "            indx=np.random.choice(range(i,n), y)\n",
    "            for inx in indx:\n",
    "                g[i,inx]=1  \n",
    "                g[inx,i]=1\n",
    "        G.append(g)\n",
    "    G=np.array(G)\n",
    "    # Synthetize Family matrix:\n",
    "    a=list(range(n))\n",
    "    Family=np.identity(n,dtype=int)\n",
    "    for i in range(1,number_families):\n",
    "        number_family_members=np.random.randint(2, 5)\n",
    "        inx=random.sample(list(a), number_family_members)\n",
    "        a=set(a).difference(inx)\n",
    "        for j in inx:\n",
    "            for k in inx:\n",
    "                Family[j,k]=1  \n",
    "    G=G-Family\n",
    "    G=G+np.identity(n,dtype=int)\n",
    "    #Family=Family-np.identity(n,dtype=int)\n",
    "    G = np.where(G <0, 0, G)\n",
    "    # Synthetize X, using params,G, Family and transition probability:\n",
    "    #Family=Family+np.identity(n,dtype=int)\n",
    "    for t in range(T-1):\n",
    "        for i in range(n):\n",
    "            infR=CNbr(G,X,n,T)\n",
    "            cf=int(Family.dot(X.T[t])[i])\n",
    "            c=infR[i,t]\n",
    "            if X[i,t]==0:\n",
    "                p0=1-alpha_-beta_*c-betaf*cf\n",
    "                p1=alpha_+beta_*c+betaf*cf\n",
    "            else:\n",
    "                p0=gama_\n",
    "                p1=1-gama_\n",
    "            if p0+p1==0:\n",
    "                l=0.5\n",
    "            else:\n",
    "                l=p1/(p0+p1)\n",
    "            X[i,t+1]=np.random.binomial( 1, l,size=None) \n",
    "\n",
    "    # Synthetize Y, using params,G, X, emission probability:\n",
    "    unique_rows = np.unique(Family, axis=0)\n",
    "    nf=unique_rows.shape[0]\n",
    "    YF=np.zeros((nf,T))\n",
    "    for t in range(T):\n",
    "        for i in range(nf):\n",
    "            number_of_members_in_family=np.sum(unique_rows[i])\n",
    "            number_of_infected_members_in_family=unique_rows[i].dot(X.T[t])\n",
    "            number_of_healthy_members_in_family= number_of_members_in_family-number_of_infected_members_in_family\n",
    "            py1=(theta_0_*number_of_healthy_members_in_family+theta_1_*number_of_infected_members_in_family)/ number_of_members_in_family\n",
    "            py0=((1-theta_0_)*number_of_healthy_members_in_family+(1-theta_1_)*number_of_infected_members_in_family)/ number_of_members_in_family\n",
    "            l=py1/(py1+py0)\n",
    "            YF[i,t]=np.random.binomial( 1, l,size=None) \n",
    "    # generate missing_data:\n",
    "    number_of_families=YF.shape[0]\n",
    "    time=list(range(T))\n",
    "    random.shuffle(time)\n",
    "    for f in range(number_of_families):\n",
    "        t=time[f]\n",
    "        YF_missing_1[f,t]=YF[f,t]+1\n",
    "        t=time[-f]\n",
    "        YF_missing_1[f,t]=YF[f,t]+1\n",
    " \n",
    "    YF_missing=np.zeros((number_of_families,T))-1\n",
    "    #YF_missing[:] = np.NaN\n",
    "    time=list(range(T))\n",
    "    random.shuffle(time)\n",
    "    for f in range(number_of_families):\n",
    "        t=time[f]\n",
    "        YF_missing[f,t]=YF[f,t]+1\n",
    "    return G,YF,X,Family,YF_missing,YF_missing_1    "
   ]
  },
  {
   "cell_type": "code",
   "execution_count": 20,
   "metadata": {},
   "outputs": [],
   "source": [
    "# initialize parameters for beta distributions:\n",
    "import numpy as np\n",
    "a_alpha=1\n",
    "b_alpha=400\n",
    "a_beta=1\n",
    "b_beta=800\n",
    "a_betaf=8\n",
    "b_betaf=800\n",
    "a_gama=50\n",
    "b_gama=200\n",
    "a_teta0=10\n",
    "b_teta0=1000\n",
    "a_teta1=9000\n",
    "b_teta1=300\n",
    "P=1\n",
    "U=1\n",
    "K=1\n",
    "J=4\n",
    "hyper_params=np.array([a_alpha,b_alpha,a_beta,b_beta,a_betaf,b_betaf,a_gama,b_gama,a_teta0,b_teta0,a_teta1,b_teta1])"
   ]
  },
  {
   "cell_type": "code",
   "execution_count": 30,
   "metadata": {},
   "outputs": [],
   "source": [
    "# function to sample infection and emission parameters(alpha,beta,betaf,gama,teta0,teta1)\n",
    "def initialize_parameters(hyper_params):\n",
    "    a_alpha=hyper_params[0]\n",
    "    b_alpha=hyper_params[1]\n",
    "    a_beta=hyper_params[2]\n",
    "    b_beta=hyper_params[3]\n",
    "    a_betaf=hyper_params[4]\n",
    "    b_betaf=hyper_params[5]\n",
    "    a_gama=hyper_params[6]\n",
    "    b_gama=hyper_params[7]\n",
    "    a_teta0=hyper_params[8]\n",
    "    b_teta0=hyper_params[9]\n",
    "    a_teta1=hyper_params[10]\n",
    "    b_teta1=hyper_params[11]\n",
    "    alpha_=Sample_alpha(a_alpha, b_alpha)\n",
    "    beta_=Sample_beta(a_beta, b_beta)\n",
    "    betaf=Sample_betaf(a_betaf, b_betaf)\n",
    "    while alpha_>beta_:\n",
    "        alpha_=Sample_alpha(a_alpha, b_alpha)\n",
    "        beta_=Sample_beta(a_beta, b_beta)\n",
    "    while beta_>betaf:\n",
    "        betaf=Sample_betaf(a_betaf, b_betaf)\n",
    "    gama_=Sample_gama(a_gama,b_gama)\n",
    "    theta_0_=Sample_theta0(a_teta0, b_teta0)\n",
    "    theta_1_=Sample_theta1(a_teta1, b_teta1)\n",
    "    params=np.array([alpha_,beta_,betaf,gama_,theta_0_,theta_1_])\n",
    "    return params"
   ]
  },
  {
   "cell_type": "code",
   "execution_count": 31,
   "metadata": {},
   "outputs": [
    {
     "data": {
      "text/plain": [
       "array([0.001 , 0.001 , 0.0106, 0.199 , 0.012 , 0.967 ])"
      ]
     },
     "execution_count": 31,
     "metadata": {},
     "output_type": "execute_result"
    }
   ],
   "source": [
    "params=initialize_parameters(hyper_params)\n",
    "params"
   ]
  },
  {
   "cell_type": "code",
   "execution_count": 21,
   "metadata": {
    "scrolled": true
   },
   "outputs": [],
   "source": [
    "# Generate synthetic data,G ,Y:\n",
    "n,T,y=100,100,5\n",
    "number_families=33\n",
    "#synthetic_data=Synthetic_Data(n,T,y,params,number_families)\n",
    "#%store synthetic_data\n",
    "%store -r synthetic_data"
   ]
  },
  {
   "cell_type": "code",
   "execution_count": 22,
   "metadata": {},
   "outputs": [],
   "source": [
    "%store -r synthetic_data\n",
    "G,YF,X,F,YF_missing =synthetic_data[0],synthetic_data[1],synthetic_data[2],synthetic_data[3],synthetic_data[4]"
   ]
  },
  {
   "cell_type": "code",
   "execution_count": 23,
   "metadata": {},
   "outputs": [],
   "source": [
    "unique_rows = np.unique(F.T, axis=0)"
   ]
  },
  {
   "cell_type": "code",
   "execution_count": 24,
   "metadata": {},
   "outputs": [],
   "source": [
    "#calculate y_missing:\n",
    "Y=np.zeros((n,T))\n",
    "for i in range(n):\n",
    "    for j in range(unique_rows.shape[0]):\n",
    "        if unique_rows[j,i]==1:\n",
    "            Y[i,:]=YF_missing[j,:]\n"
   ]
  },
  {
   "cell_type": "code",
   "execution_count": 25,
   "metadata": {},
   "outputs": [],
   "source": [
    "epsln=0.001\n",
    "def epsilone(a,b):\n",
    "    return np.abs(a-b).all()>epsln"
   ]
  },
  {
   "cell_type": "code",
   "execution_count": 28,
   "metadata": {},
   "outputs": [],
   "source": [
    "# Main code to run entire Gibbs sampling algorithm U times:\n",
    "def Gibbs_train(hyper_params,T,n,G,F,Y,U,K,J):\n",
    "    \n",
    "   \n",
    "    prob=[] \n",
    "    param=[]\n",
    "    XX=[]\n",
    "    for j in range(J):\n",
    "        params=initialize_parameters(hyper_params)\n",
    "        print(params)\n",
    "        param.append(params)\n",
    "        X=Forward_Sampling(T,n,G,F,params)\n",
    "        print(\"Forward_Sampling\",j,\"\\n\",\"\\n\")\n",
    "        print(\"Start Gibbs Sampling:\")\n",
    "        \n",
    "        for i in range(U):\n",
    "            print(\"************************************************ Iteration\",i,\"************************************************\")\n",
    "            print(\"Current Parameters:\",params)\n",
    "            now = datetime.now()\n",
    "            current_time = now.strftime(\"%H:%M:%S\")\n",
    "            print(\"Current Time is :\", current_time)\n",
    "            cal=Calculate_X(K,T,X,G,F,Y,params)\n",
    "            X=cal[0]\n",
    "            pos_probs=cal[1]\n",
    "            R=R_(G,X,params)\n",
    "            if (i!=U-1):\n",
    "                if i>1 & epsilone(param[-1],param[0]):\n",
    "                    prm=Params(R,G,F,X,n,T,Y,hyper_params)\n",
    "                    params=prm[0]\n",
    "                    R=prm[1]\n",
    "                    param.append(params)\n",
    "            prob.append(pos_probs)\n",
    "        XX.append(X)    \n",
    "        now = datetime.now()\n",
    "        current_time = now.strftime(\"%H:%M:%S\")\n",
    "        print(\"Current Time is :\", current_time)\n",
    "    winsound.Beep(freq, duration) \n",
    "    return params, np.array(XX) ,prob"
   ]
  },
  {
   "cell_type": "code",
   "execution_count": 26,
   "metadata": {},
   "outputs": [
    {
     "name": "stdout",
     "output_type": "stream",
     "text": [
      "4 1 1\n"
     ]
    },
    {
     "data": {
      "text/plain": [
       "3663"
      ]
     },
     "execution_count": 26,
     "metadata": {},
     "output_type": "execute_result"
    }
   ],
   "source": [
    "print(J,K,U)\n",
    "np.count_nonzero(YF_missing==-1)"
   ]
  },
  {
   "cell_type": "code",
   "execution_count": 34,
   "metadata": {},
   "outputs": [
    {
     "name": "stdout",
     "output_type": "stream",
     "text": [
      "[0.001  0.004  0.0064 0.196  0.015  0.965 ]\n",
      "Forward_Sampling 0 \n",
      " \n",
      "\n",
      "Start Gibbs Sampling:\n",
      "************************************************ Iteration 0 ************************************************\n",
      "Current Parameters: [0.001  0.004  0.0064 0.196  0.015  0.965 ]\n",
      "Current Time is : 15:38:20\n",
      "Current Time is : 16:02:06\n"
     ]
    }
   ],
   "source": [
    "Train=Gibbs_train(hyper_params,T,n,G,F,Y,U,K,1)"
   ]
  },
  {
   "cell_type": "code",
   "execution_count": null,
   "metadata": {},
   "outputs": [],
   "source": [
    "np.count_nonzero(YF_missing==-1)"
   ]
  },
  {
   "cell_type": "code",
   "execution_count": null,
   "metadata": {},
   "outputs": [],
   "source": [
    "trained_params=Train[0]\n",
    "%store trained_params"
   ]
  },
  {
   "cell_type": "code",
   "execution_count": null,
   "metadata": {},
   "outputs": [],
   "source": [
    "Test=Gibbs_test(trained_params,T,n,G,F,Y,K,J)"
   ]
  },
  {
   "cell_type": "code",
   "execution_count": null,
   "metadata": {},
   "outputs": [],
   "source": [
    "plt.figure()\n",
    "lw = 2\n",
    "for j in range(J):\n",
    "    y_score=np.hstack(Test[1][j])\n",
    "    y_test=np.hstack(X)\n",
    "    fpr, tpr, thresholds = roc_curve(y_test, y_score,pos_label=1)\n",
    "    roc_auc = auc(fpr, tpr)\n",
    "    plt.plot(\n",
    "        fpr,\n",
    "        tpr,\n",
    "        color=\"darkorange\",\n",
    "        lw=lw,\n",
    "        label=\"ROC curve (area = %0.2f)\" % roc_auc,\n",
    "    )\n",
    "    plt.plot([0, 1], [0, 1], color=\"navy\", lw=lw, linestyle=\"--\")\n",
    "    plt.xlim([0.0, 1.0])\n",
    "    plt.ylim([0.0, 1.05])\n",
    "    plt.xlabel(\"False Positive Rate\")\n",
    "    plt.ylabel(\"True Positive Rate\")\n",
    "    plt.title(\"ROC for family test result problem\")\n",
    "    plt.legend(loc=\"lower right\")\n",
    "    plt.show()"
   ]
  },
  {
   "cell_type": "code",
   "execution_count": null,
   "metadata": {},
   "outputs": [],
   "source": [
    "print(\"alpha,beta,betaf,gama,t0,t1,n,T,K,J,U\",Train[0],n,T,K,J,U)"
   ]
  },
  {
   "cell_type": "code",
   "execution_count": null,
   "metadata": {},
   "outputs": [],
   "source": [
    "plt.figure()\n",
    "lw = 2\n",
    "for j in range(J):\n",
    "    y_score=np.hstack(Train[2][j])\n",
    "    y_test=np.hstack(X)\n",
    "    fpr, tpr, thresholds = roc_curve(y_test, y_score,pos_label=1)\n",
    "    roc_auc = auc(fpr, tpr)\n",
    "    plt.plot(\n",
    "        fpr,\n",
    "        tpr,\n",
    "        color=\"darkorange\",\n",
    "        lw=lw,\n",
    "        label=\"ROC curve (area = %0.2f)\" % roc_auc,\n",
    "    )\n",
    "    plt.plot([0, 1], [0, 1], color=\"navy\", lw=lw, linestyle=\"--\")\n",
    "    plt.xlim([0.0, 1.0])\n",
    "    plt.ylim([0.0, 1.05])\n",
    "    plt.xlabel(\"False Positive Rate\")\n",
    "    plt.ylabel(\"True Positive Rate\")\n",
    "    plt.title(\"ROC for family test result problem\")\n",
    "    plt.legend(loc=\"lower right\")\n",
    "    plt.show()"
   ]
  },
  {
   "cell_type": "code",
   "execution_count": null,
   "metadata": {},
   "outputs": [],
   "source": [
    "def show_TPR_by_time(X_true,X_score,T):\n",
    "    TP,FN,TPR=np.zeros((T)),np.zeros((T)),np.zeros((T))\n",
    "    for t in range(T):\n",
    "        TP[t]=np.count_nonzero(np.multiply(X_true,X_score).T[t]==1)\n",
    "        FN[t]=np.count_nonzero((X_true-2*X_score).T[t]==1)\n",
    "        if (TP[t]+FN[t])!=0:\n",
    "            TPR[t]=TP[t]/(TP[t]+FN[t])\n",
    "        #print(TP[t],FN[t])\n",
    "        #plt.plot(t,TPR[t],'go--', linewidth=2, markersize=1)  \n",
    "    plt.plot(range(T),TPR) \n",
    "    plt.show() "
   ]
  },
  {
   "cell_type": "code",
   "execution_count": null,
   "metadata": {},
   "outputs": [],
   "source": [
    "show_TPR_by_time(X,Train[2][0],T)"
   ]
  },
  {
   "cell_type": "code",
   "execution_count": null,
   "metadata": {},
   "outputs": [],
   "source": [
    "plt.figure()\n",
    "lw = 2\n",
    "for j in range(J):\n",
    "    y_score=np.hstack(Train[2][j])\n",
    "    y_test=np.hstack(X)\n",
    "    fpr, tpr, thresholds = roc_curve(y_test, y_score,pos_label=1)\n",
    "    roc_auc = auc(fpr, tpr)\n",
    "    plt.plot(\n",
    "        fpr,\n",
    "        tpr,\n",
    "        color=\"darkorange\",\n",
    "        lw=lw,\n",
    "        label=\"ROC curve (area = %0.2f)\" % roc_auc,\n",
    "    )\n",
    "    plt.plot([0, 1], [0, 1], color=\"navy\", lw=lw, linestyle=\"--\")\n",
    "    plt.xlim([0.0, 1.0])\n",
    "    plt.ylim([0.0, 1.05])\n",
    "    plt.xlabel(\"False Positive Rate\")\n",
    "    plt.ylabel(\"True Positive Rate\")\n",
    "    plt.title(\"ROC for family test result problem\")\n",
    "    plt.legend(loc=\"lower right\")\n",
    "    plt.show()"
   ]
  },
  {
   "cell_type": "code",
   "execution_count": null,
   "metadata": {},
   "outputs": [],
   "source": [
    "Y=np.zeros((n,T))\n",
    "for i in range(n):\n",
    "    for j in range(unique_rows.shape[0]):\n",
    "        if unique_rows[j,i]==1:\n",
    "            Y[i,:]=YF[j,:]"
   ]
  },
  {
   "cell_type": "code",
   "execution_count": null,
   "metadata": {},
   "outputs": [],
   "source": [
    "K,U,J=2,2,2"
   ]
  },
  {
   "cell_type": "code",
   "execution_count": null,
   "metadata": {},
   "outputs": [],
   "source": [
    "# function to add noise to observation vector, in order to test the model performance:\n",
    "def add_noise(YF,noise_percent):\n",
    "    number_of_families=YF.shape[0]\n",
    "    YF_noisey=np.copy(YF)\n",
    "    index=random.sample(range(0,number_of_families*T ), int(number_of_families*T*noise_percent))\n",
    "    for j in index:\n",
    "        i=int(j/T)\n",
    "        t=j-i*T\n",
    "        YF_noisey[i,t]=(1+YF[i,t])*(1-YF[i,t])\n",
    "    return YF_noisey "
   ]
  },
  {
   "cell_type": "code",
   "execution_count": null,
   "metadata": {},
   "outputs": [],
   "source": [
    "noise_percent=.1\n",
    "YF_noisey=add_noise(YF,noise_percent)"
   ]
  },
  {
   "cell_type": "code",
   "execution_count": null,
   "metadata": {},
   "outputs": [],
   "source": [
    "trained_params=Train[0]"
   ]
  },
  {
   "cell_type": "code",
   "execution_count": null,
   "metadata": {},
   "outputs": [],
   "source": [
    "Y_noisey=np.zeros((n,T))\n",
    "for i in range(n):\n",
    "    for j in range(unique_rows.shape[0]):\n",
    "        if unique_rows[j,i]==1:\n",
    "            Y_noisey[i,:]=YF_noisey[j,:]"
   ]
  },
  {
   "cell_type": "code",
   "execution_count": null,
   "metadata": {},
   "outputs": [],
   "source": [
    "# Main code to run entire Gibbs sampling algorithm U times:\n",
    "def Gibbs_test(param,T,n,G,F,Y,K,J):\n",
    "    \n",
    "    alpha_=param[0]\n",
    "    beta_=param[1]\n",
    "    betaf=param[2]\n",
    "    gama_=param[3]\n",
    "    theta_0_=param[4]\n",
    "    thata_1_=param[5] \n",
    "    prob=[]  \n",
    "    XX=[]\n",
    "    for j in range(J):\n",
    "        \n",
    "        print(params)\n",
    "        X=Forward_Sampling(T,n,G,F,params)\n",
    "        print(\"Forward_Sampling\",j,\"\\n\",\"\\n\",X)\n",
    "        print(\"Start Gibbs Sampling:\")\n",
    "        cal=Calculate_X(K,T,X,G,F,Y,params)\n",
    "        X=cal[0]\n",
    "        pos_probs=cal[1]\n",
    "        prob.append(pos_probs)        \n",
    "        XX.append(X)    \n",
    "        now = datetime.now()\n",
    "        current_time = now.strftime(\"%H:%M:%S\")\n",
    "        print(\"Current Time is :\", current_time)\n",
    "    winsound.Beep(freq, duration) \n",
    "    return np.array(XX),np.array(prob)"
   ]
  },
  {
   "cell_type": "code",
   "execution_count": null,
   "metadata": {},
   "outputs": [],
   "source": [
    "Test=Gibbs_test(trained_params,T,n,G,F,Y_noisey,K,J)"
   ]
  },
  {
   "cell_type": "code",
   "execution_count": null,
   "metadata": {},
   "outputs": [],
   "source": [
    "plt.figure()\n",
    "lw = 2\n",
    "for j in range(J):\n",
    "    y_score=np.hstack(Test[1][j])\n",
    "    y_test=np.hstack(X)\n",
    "    fpr, tpr, thresholds = roc_curve(y_test, y_score,pos_label=1)\n",
    "    roc_auc = auc(fpr, tpr)\n",
    "    plt.plot(\n",
    "        fpr,\n",
    "        tpr,\n",
    "        color=\"darkorange\",\n",
    "        lw=lw,\n",
    "        label=\"ROC curve (area = %0.2f)\" % roc_auc,\n",
    "    )\n",
    "    plt.plot([0, 1], [0, 1], color=\"navy\", lw=lw, linestyle=\"--\")\n",
    "    plt.xlim([0.0, 1.0])\n",
    "    plt.ylim([0.0, 1.05])\n",
    "    plt.xlabel(\"False Positive Rate\")\n",
    "    plt.ylabel(\"True Positive Rate\")\n",
    "    plt.title(\"ROC for family test result problem\")\n",
    "    plt.legend(loc=\"lower right\")\n",
    "    plt.show()"
   ]
  },
  {
   "cell_type": "code",
   "execution_count": null,
   "metadata": {},
   "outputs": [],
   "source": [
    "plt.figure()\n",
    "lw = 2\n",
    "for j in range(J):\n",
    "    y_score=np.hstack(Train[2][j])\n",
    "    y_test=np.hstack(X)\n",
    "    fpr, tpr, thresholds = roc_curve(y_test, y_score,pos_label=1)\n",
    "    roc_auc = auc(fpr, tpr)\n",
    "    plt.plot(\n",
    "        fpr,\n",
    "        tpr,\n",
    "        color=\"darkorange\",\n",
    "        lw=lw,\n",
    "        label=\"ROC curve (area = %0.2f)\" % roc_auc,\n",
    "    )\n",
    "    plt.plot([0, 1], [0, 1], color=\"navy\", lw=lw, linestyle=\"--\")\n",
    "    plt.xlim([0.0, 1.0])\n",
    "    plt.ylim([0.0, 1.05])\n",
    "    plt.xlabel(\"False Positive Rate\")\n",
    "    plt.ylabel(\"True Positive Rate\")\n",
    "    plt.title(\"ROC for family test result problem\")\n",
    "    plt.legend(loc=\"lower right\")\n",
    "    plt.show()"
   ]
  },
  {
   "cell_type": "code",
   "execution_count": null,
   "metadata": {},
   "outputs": [],
   "source": [
    "# Save true value of X in Z, as the correct label of data:\n",
    "Z=X\n",
    "np.sum(Z)"
   ]
  },
  {
   "cell_type": "code",
   "execution_count": null,
   "metadata": {},
   "outputs": [],
   "source": [
    "F=Family"
   ]
  },
  {
   "cell_type": "markdown",
   "metadata": {},
   "source": [
    "# Adding noise to YF:"
   ]
  },
  {
   "cell_type": "code",
   "execution_count": null,
   "metadata": {},
   "outputs": [],
   "source": [
    "%store YF\n",
    "%store params"
   ]
  },
  {
   "cell_type": "code",
   "execution_count": null,
   "metadata": {},
   "outputs": [],
   "source": [
    "noise_percent=.1\n",
    "YF_noisey=add_noise(YF,noise_percent,unique_rows)"
   ]
  },
  {
   "cell_type": "code",
   "execution_count": null,
   "metadata": {},
   "outputs": [],
   "source": [
    "U=10\n",
    "K=10\n",
    "J=10"
   ]
  },
  {
   "cell_type": "code",
   "execution_count": null,
   "metadata": {
    "scrolled": true
   },
   "outputs": [],
   "source": [
    "# Main code to run entire Gibbs algorithm U times:\n",
    "Zflat = np.hstack(Z)\n",
    "XX=[]\n",
    "for j in range(J):\n",
    "    params=initialize_parameters(a_alpha,b_alpha,a_beta,b_beta,a_betaf,b_betaf,a_gama,b_gama,a_teta0,b_teta0,a_teta1,b_teta1)\n",
    "    #params=np.array([0.019 , 0.0118, 0.0841, 0.173 , 0.014 , 0.97  ])\n",
    "    X=Forward_Sampling(T,n,G,F,params)\n",
    "    #X=Z\n",
    "    print(\"Forward_Sampling\",j,\"\\n\",\"\\n\",X)\n",
    "    print(\"Start Gibbs Sampling:\")\n",
    "    mylist=[]\n",
    "    accuracy=[]\n",
    "    for i in range(U):\n",
    "        print(\"************************************************ Iteration\",i,\"************************************************\")\n",
    "        print(\"Current Parameters:\",params)\n",
    "        now = datetime.now()\n",
    "        current_time = now.strftime(\"%H:%M:%S\")\n",
    "        print(\"Current Time is :\", current_time)\n",
    "        X=Calculate_X(Z,K,T,X,G,F,Y,params)\n",
    "        prm=Params(R,G,F,X,n,T,Y,params)\n",
    "        params=prm[0]\n",
    "        R=prm[1]\n",
    "        Xflat = np.hstack(X)\n",
    "    #result = 1 - spatial.distance.cosine(Zflat, Xflat)\n",
    "        result=accuracy_score(Xflat, Zflat,normalize=True)\n",
    "        print(\"Accuracy:\",result)\n",
    "        accuracy.append(result)\n",
    "    XX.append(X)    \n",
    "    myList = list(range(U))\n",
    "    iteration=np.array(myList)\n",
    "    Accuracy=np.array(accuracy)\n",
    "    label=\"Sample:\"+str(j)\n",
    "    plt.figure()\n",
    "    plt.plot(iteration,Accuracy,label=label ) \n",
    "    plt.legend()\n",
    "    now = datetime.now()\n",
    "    current_time = now.strftime(\"%H:%M:%S\")\n",
    "    print(\"Current Time is :\", current_time)\n",
    "winsound.Beep(freq, duration) "
   ]
  },
  {
   "cell_type": "code",
   "execution_count": null,
   "metadata": {},
   "outputs": [],
   "source": [
    "def estimate_Y(Family,X,params):\n",
    "    theta_0=params[4]\n",
    "    theta_1=params[5]\n",
    "    unique_rows = np.unique(Family, axis=0)\n",
    "    nf=unique_rows.shape[0]\n",
    "    YF=np.zeros((nf,T))\n",
    "    for t in range(T):\n",
    "        for i in range(nf):\n",
    "            number_of_members_in_family=np.sum(unique_rows[i])\n",
    "            number_of_infected_members_in_family=unique_rows[i].dot(X.T[t])\n",
    "            number_of_healthy_members_in_family= number_of_members_in_family-number_of_infected_members_in_family\n",
    "            py1=(theta_0_*number_of_healthy_members_in_family+theta_1_*number_of_infected_members_in_family)/ number_of_members_in_family\n",
    "            py0=((1-theta_0_)*number_of_healthy_members_in_family+(1-theta_1_)*number_of_infected_members_in_family)/ number_of_members_in_family\n",
    "            l=py1/(py1+py0)\n",
    "            YF[i,t]=np.random.binomial( 1, l,size=None)\n",
    "    return YF"
   ]
  }
 ],
 "metadata": {
  "kernelspec": {
   "display_name": "Python 3",
   "language": "python",
   "name": "python3"
  },
  "language_info": {
   "codemirror_mode": {
    "name": "ipython",
    "version": 3
   },
   "file_extension": ".py",
   "mimetype": "text/x-python",
   "name": "python",
   "nbconvert_exporter": "python",
   "pygments_lexer": "ipython3",
   "version": "3.8.5"
  }
 },
 "nbformat": 4,
 "nbformat_minor": 4
}
