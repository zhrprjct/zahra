{
 "cells": [
  {
   "cell_type": "markdown",
   "metadata": {},
   "source": [
    "# Python code of Gibbs sampling model for sparse family test result Covid problem"
   ]
  },
  {
   "cell_type": "code",
   "execution_count": 176,
   "metadata": {},
   "outputs": [],
   "source": [
    "# import neccessary libraries\n",
    "import numpy as np\n",
    "import random\n",
    "import sympy as sym\n",
    "from datetime import datetime\n",
    "from scipy.stats import beta\n",
    "from sklearn.metrics import accuracy_score\n",
    "import winsound\n",
    "import matplotlib.pyplot as plt\n",
    "from scipy import spatial\n",
    "from sklearn import svm, datasets\n",
    "from sklearn.metrics import roc_curve, auc\n",
    "from sklearn.metrics import roc_auc_score\n",
    "\n",
    "duration = 1000  # milliseconds\n",
    "freq = 440  # Hz\n"
   ]
  },
  {
   "cell_type": "code",
   "execution_count": 177,
   "metadata": {},
   "outputs": [],
   "source": [
    "# function to count the number of the infected neighbores of i at t:\n",
    "def CNbr(G,X):\n",
    "    n,T=G.shape[1],G.shape[0]\n",
    "    C=np.zeros((T,n))\n",
    "    for t in range(T):\n",
    "        C[t]=G[t].dot(X.T[t])\n",
    "    return C.T"
   ]
  },
  {
   "cell_type": "code",
   "execution_count": 178,
   "metadata": {},
   "outputs": [],
   "source": [
    "def transition(X,t,G,F,j,param):\n",
    "    alpha_=param[0]\n",
    "    beta_=param[1]\n",
    "    betaf=param[2]\n",
    "    gama_=param[3]\n",
    "    c=CNbr(G,X)[j][t]\n",
    "    number_of_infected_members_in_family=F.dot(X.T[t])[j]\n",
    "    k=X[j,t]-2*X[j,t+1]\n",
    "    if k==0:\n",
    "        return 1-alpha_-beta_*c-betaf*number_of_infected_members_in_family\n",
    "    elif k==-2:\n",
    "        return alpha_+beta_*c+betaf*number_of_infected_members_in_family\n",
    "    elif k==1:\n",
    "        return gama_\n",
    "    else:\n",
    "        return 1-gama_\n",
    "    "
   ]
  },
  {
   "cell_type": "code",
   "execution_count": 179,
   "metadata": {},
   "outputs": [],
   "source": [
    "# Function to obtain the very initial sample of X, using forwad sampling:\n",
    "def Forward_Sampling(G,F,param):\n",
    "    T,n=G.shape[0],G.shape[1]\n",
    "    alpha_=param[0]\n",
    "    beta_=param[1]\n",
    "    betaf=param[2]\n",
    "    gama_=param[3]\n",
    "    p0=P\n",
    "    p1=1-P\n",
    "    x=int(np.round(((1-P)*n),0))\n",
    "    X=np.zeros((n,T))  \n",
    "    idx=np.random.choice(range(n), x)\n",
    "    X[idx,0]=1\n",
    "    for t in range(T-1):\n",
    "        cf=F.dot(X.T[t])\n",
    "        for i in range(n):\n",
    "            c=CNbr(G,X)[i,t]\n",
    "            if X[i,t]==0:\n",
    "                p1=(alpha_+beta_*c+betaf*cf[i])\n",
    "            else:\n",
    "                p1=(1-gama_)\n",
    "            X[i,t+1]=np.random.binomial( 1, p1,size=None) \n",
    "    return X"
   ]
  },
  {
   "cell_type": "code",
   "execution_count": 216,
   "metadata": {},
   "outputs": [],
   "source": [
    "def Sample_hidden_state(pos_probs,X,G,F,Y,param,P,t):\n",
    "    unique_rows = np.unique(F, axis=0)\n",
    "    alpha_=param[0]\n",
    "    beta_=param[1]\n",
    "    betaf=param[2]\n",
    "    gama_=param[3]\n",
    "    theta_0_=param[4]\n",
    "    theta_1_=param[5]\n",
    "    n,T=G.shape[1],G.shape[0]\n",
    "    for i in range(n):\n",
    "        if t==0:\n",
    "            p_0,p_1=P,1-P\n",
    "        else:\n",
    "            p_0,p_1=1,1\n",
    "        pow0=np.count_nonzero(Y[i,t]==0)\n",
    "        pow1=np.count_nonzero(Y[i,t]==1)\n",
    "        #pow1_=np.count_nonzero(Y[i,t]==-1)\n",
    "        number_of_members_in_family=np.sum(unique_rows[family_index(i,unique_rows)])\n",
    "        \n",
    "        X[i,t]=0\n",
    "        number_of_infected_members_in_family0=F.dot(X.T[t])[i]\n",
    "        number_of_healthy_members_in_family0=number_of_members_in_family-number_of_infected_members_in_family0\n",
    "        p_0=(1/number_of_members_in_family)*p_0*((1-theta_0_)*number_of_healthy_members_in_family0+(1-theta_1_)*number_of_infected_members_in_family0)**pow0*(theta_1_*number_of_infected_members_in_family0+theta_0_*number_of_healthy_members_in_family0)**pow1\n",
    "        if (t==0):\n",
    "            c=G[t].dot(X.T[t])[i]\n",
    "        else:    \n",
    "            c=G[t-1].dot(X.T[t-1])[i]\n",
    "    \n",
    "        if t!=0:\n",
    "            if X[i,t-1]==0:\n",
    "                p_0=p_0*(1-alpha_-beta_*c-betaf*number_of_infected_members_in_family0)\n",
    "            else:\n",
    "                p_0=p_0*gama_\n",
    "        \n",
    "        X[i,t]=1\n",
    "        number_of_infected_members_in_family1=F.dot(X.T[t])[i]\n",
    "        number_of_healthy_members_in_family1=number_of_members_in_family-number_of_infected_members_in_family1\n",
    "        p_1=(1/number_of_members_in_family)*p_1*((1-theta_0_)*number_of_healthy_members_in_family1+(1-theta_1_)*number_of_infected_members_in_family1)**pow0*(theta_1_*number_of_infected_members_in_family1+theta_0_*number_of_healthy_members_in_family1)**pow1\n",
    "\n",
    "        if (t==0):\n",
    "            c=G[t].dot(X.T[t])[i]\n",
    "        else:    \n",
    "            c=G[t-1].dot(X.T[t-1])[i]\n",
    "        if t!=0:\n",
    "            if X[i,t-1]==0:\n",
    "                p_1=p_1*(alpha_+beta_*c+betaf*number_of_infected_members_in_family1)\n",
    "            else:\n",
    "                p_1=p_1*(1-gama_)\n",
    "        family_members=unique_rows[family_index(i,unique_rows)]\n",
    "        \n",
    "        if t!=T-1:        \n",
    "            X[i,t]=0\n",
    "            for j in np.where(family_members==1)[0]:\n",
    "                if j!=i:\n",
    "                    p_0=p_0*transition(X,t,G,F,j,param)\n",
    "            for j in np.where(G[t][i]==1)[0]:\n",
    "                p_0=p_0*transition(X,t,G,F,j,param)\n",
    "            X[i,t]=1\n",
    "            for j in np.where(family_members==1)[0]:\n",
    "                if j!=i:\n",
    "                    p_1=p_1*transition(X,t,G,F,j,param)\n",
    "            for j in np.where(G[t][i]==1)[0]:\n",
    "                p_1=p_1*transition(X,t,G,F,j,param)\n",
    "        if t==T-1:\n",
    "            if X[i,t-1]==0:\n",
    "                X[i,t]=0\n",
    "                c=G[t].dot(X.T[t])[i]\n",
    "                number_of_infected_members_in_family=F.dot(X.T[t])[i]\n",
    "                p_0=p_0*(1-alpha_-beta_*c-betaf*number_of_infected_members_in_family)\n",
    "                X[i,t]=1\n",
    "                c=G[t].dot(X.T[t])[i]\n",
    "                number_of_infected_members_in_family=F.dot(X.T[t])[i]\n",
    "                p_1=p_1*(alpha_+beta_*c+betaf*number_of_infected_members_in_family)\n",
    "            else:\n",
    "                p_0=p_0*gama_\n",
    "                p_1=p_1*(1-gama_)\n",
    "        if p_0+p_1==0:            \n",
    "            l=0.5\n",
    "        else:\n",
    "            l=p_1/(p_0+p_1)\n",
    "        if (l<0)|(l>1): \n",
    "            print(p_0,p_1)\n",
    "        X[i,t]=np.random.binomial( 1,  l,size=None)    \n",
    "        pos_probs[i,t]=l\n",
    "    return X ,pos_probs   "
   ]
  },
  {
   "cell_type": "code",
   "execution_count": 214,
   "metadata": {},
   "outputs": [],
   "source": [
    "# Gibbs sampling to obtain X, as new sample of posterior distribution:\n",
    "def Calculate_X(K,T,X,G,F,Y,param,P):\n",
    "    n,T=X.shape[0],X.shape[1]\n",
    "    pos_probs=np.zeros((n,T))\n",
    "    for k in range(K):\n",
    "        for t in range(T):\n",
    "            print(t,k)\n",
    "            now = datetime.now()\n",
    "            current_time = now.strftime(\"%H:%M:%S\")\n",
    "            print(\"Current Time is :\", current_time)\n",
    "            hidden_states=Sample_hidden_state(pos_probs,X,G,F,Y,param,P,t)\n",
    "            X=hidden_states[0]\n",
    "            pos_probs=hidden_states[1]\n",
    "    return X  ,pos_probs      "
   ]
  },
  {
   "cell_type": "code",
   "execution_count": 182,
   "metadata": {},
   "outputs": [],
   "source": [
    "def Accuracy_(X,X_):\n",
    "    Xflat = np.hstack(np.hstack(X))\n",
    "    X_flat = np.hstack(np.hstack(X_))\n",
    "    result=accuracy_score(Xflat, X_flat,normalize=True)\n",
    "    return result"
   ]
  },
  {
   "cell_type": "markdown",
   "metadata": {},
   "source": [
    "# Functions to sample from beta distribution\n"
   ]
  },
  {
   "cell_type": "code",
   "execution_count": 183,
   "metadata": {},
   "outputs": [],
   "source": [
    "# function to define auxiliary variable R_(n,t):\n",
    "def R_(G,X,params):\n",
    "    T,n=G.shape[0],G.shape[1]\n",
    "    alpha_,beta_,betaf,gama_,theta_0_,theta_1_=params[0],params[1],params[2],params[3],params[4],params[5]\n",
    "    infected_neighbore=np.array(CNbr(G,X))\n",
    "    R=np.zeros((n,T))+1\n",
    "    for i in range(n):\n",
    "        for t in range(T-1):\n",
    "            c=int(infected_neighbore[i,t])\n",
    "            cf=int(F.dot(X.T[t])[i])\n",
    "            pr_a=alpha_/(alpha_+beta_*c+betaf*cf)\n",
    "            pr_b=beta_/(alpha_+beta_*c+betaf*cf)\n",
    "            pr_bf=betaf/(alpha_+beta_*c+betaf*cf)\n",
    "            v=np.random.multinomial(1, [pr_a]+[pr_b]*c+[pr_bf]*cf)\n",
    "            if (X[i][t]==0)&(X[i][t+1]==1):\n",
    "                if v[0]==1:\n",
    "                    R[i,t]=0\n",
    "                elif (cf!=0):\n",
    "                    if ((v[-cf:]==1).any()):\n",
    "                        R[i,t]=3\n",
    "                else:    \n",
    "                    R[i,t]=2\n",
    "    return R"
   ]
  },
  {
   "cell_type": "code",
   "execution_count": 184,
   "metadata": {},
   "outputs": [],
   "source": [
    "# function to sample new parameters and update parameters:\n",
    "def Params(R,G,F,X,YF,hyper_params):\n",
    "    n,T=G.shape[1],G.shape[0]\n",
    "    a_alpha=hyper_params[0]\n",
    "    b_alpha=hyper_params[1]\n",
    "    a_beta=hyper_params[2]\n",
    "    b_beta=hyper_params[3]\n",
    "    a_betaf=hyper_params[4]\n",
    "    b_betaf=hyper_params[5]\n",
    "    a_gama=hyper_params[6]\n",
    "    b_gama=hyper_params[7]\n",
    "    a_teta0=hyper_params[8]\n",
    "    b_teta0=hyper_params[9]\n",
    "    a_teta1=hyper_params[10]\n",
    "    b_teta1=hyper_params[11]\n",
    "      \n",
    "    TP=np.sum(np.multiply(unique_rows.dot(X),YF))\n",
    "    FP=np.count_nonzero(unique_rows.dot(X)-YF==-1)\n",
    "    \n",
    "    infected_neighbore=np.array(CNbr(G,X))\n",
    "    a_alpha, b_alpha=a_alpha +  np.count_nonzero(R==0) , b_alpha +np.count_nonzero(X==0)- np.count_nonzero(R==0)\n",
    "    alpha_=Sample_alpha(a_alpha, b_alpha)\n",
    "    a_beta,b_beta=a_beta + np.count_nonzero(R==2) , b_beta +np.sum(np.multiply((1-X),infected_neighbore))-np.count_nonzero(R==2)\n",
    "    beta_=Sample_beta(a_beta,b_beta)\n",
    "    a_betaf ,b_betaf=a_betaf + np.count_nonzero(R==3) , b_betaf +np.sum(np.multiply((1-X),F.dot(X)))-np.count_nonzero(R==3)\n",
    "    betaf=Sample_betaf(a_betaf ,b_betaf)\n",
    "    while alpha_>beta_:\n",
    "        print(\"Loop\",alpha_,beta_)\n",
    "        alpha_=Sample_alpha(a_alpha, b_alpha)\n",
    "        beta_=Sample_beta(a_beta, b_beta)\n",
    "    while beta_>betaf:\n",
    "        print(\"Looop\",betaf)\n",
    "        betaf=Sample_betaf(a_betaf, b_betaf)\n",
    "    gama_=Sample_gama(a_gama +np.count_nonzero((X[:,:-1]-X[:,1:])==1), b_gama+np.sum(X)-np.count_nonzero((X[:,:-1]-X[:,1:])==1))\n",
    "    theta_0_=Sample_theta0( a_teta0+FP,b_teta0+np.count_nonzero((unique_rows.dot(X))==0)-FP)\n",
    "    theta_1_=Sample_theta1( a_teta1+TP,b_teta1+np.sum(unique_rows.dot(X))-TP)\n",
    "    \n",
    "    R=R_(G,X,params)\n",
    "    param=[alpha_,beta_,betaf,gama_,theta_0_,theta_1_]\n",
    "    return param,R"
   ]
  },
  {
   "cell_type": "code",
   "execution_count": 185,
   "metadata": {},
   "outputs": [],
   "source": [
    "def Sample_alpha(a_alpha, b_alpha):\n",
    "    for i in beta.rvs(a_alpha, b_alpha, size=10000):\n",
    "        if (i>0.001)&(i<0.2):\n",
    "            alpha_=round(i,3)\n",
    "            break\n",
    "    return alpha_        \n"
   ]
  },
  {
   "cell_type": "code",
   "execution_count": 186,
   "metadata": {},
   "outputs": [],
   "source": [
    "def Sample_beta(a_beta, b_beta):\n",
    "    for i in beta.rvs(a_beta, b_beta, size=10000):\n",
    "        if (i>0.001)&(i<0.0451):\n",
    "            beta_=round(i,4)\n",
    "            break\n",
    "    return beta_        "
   ]
  },
  {
   "cell_type": "code",
   "execution_count": 187,
   "metadata": {},
   "outputs": [],
   "source": [
    "def Sample_betaf(a_betaf, b_betaf):\n",
    "    for i in beta.rvs(a_betaf, b_betaf, size=1000):\n",
    "        if (i>0.002)&(i<0.5):\n",
    "            betaf=round(i,4)\n",
    "            break\n",
    "    return betaf        "
   ]
  },
  {
   "cell_type": "code",
   "execution_count": 188,
   "metadata": {},
   "outputs": [],
   "source": [
    "def Sample_gama(a_gama,b_gama):\n",
    "    for i in beta.rvs(a_gama, b_gama, size=10000):\n",
    "        if (i>0.1)&(i<0.5):\n",
    "            gama_=round(i,3)\n",
    "            break\n",
    "    return gama_  "
   ]
  },
  {
   "cell_type": "code",
   "execution_count": 189,
   "metadata": {},
   "outputs": [],
   "source": [
    "def Sample_theta0(a_teta0, b_teta0):\n",
    "    for i in beta.rvs(a_teta0, b_teta0, size=10000):\n",
    "        if (i>0.01)&(i<0.51):\n",
    "            theta_0_=round(i,3)\n",
    "            break\n",
    "    return theta_0_  "
   ]
  },
  {
   "cell_type": "code",
   "execution_count": 190,
   "metadata": {},
   "outputs": [],
   "source": [
    "def Sample_theta1(a_teta1, b_teta1):\n",
    "    for i in beta.rvs(a_teta1, b_teta1, size=10000):\n",
    "        if 0.990>i>0.78:\n",
    "            theta_1_=round(i,3)\n",
    "            break\n",
    "    return theta_1_  "
   ]
  },
  {
   "cell_type": "code",
   "execution_count": 191,
   "metadata": {},
   "outputs": [],
   "source": [
    "def add_noise(YF,noise_percent,unique_rows):\n",
    "    \n",
    "    number_of_families=unique_rows.shape[0]\n",
    "    indx=random.sample(range(number_of_families), number_of_families)\n",
    "    tndx=random.sample(range(T), int(noise_percent*T))\n",
    "    for i in indx:\n",
    "        for t in tndx:\n",
    "            YF[i,t]=(YF[i,t]+1)*(1-YF[i,t])\n",
    "    return YF        "
   ]
  },
  {
   "cell_type": "code",
   "execution_count": 192,
   "metadata": {},
   "outputs": [],
   "source": [
    "# funtion to retun related family index of individual i:\n",
    "def family_index(i,unique_rows):\n",
    "    for j in range(n):\n",
    "        if unique_rows[j,i]==1:\n",
    "            return j"
   ]
  },
  {
   "cell_type": "code",
   "execution_count": 193,
   "metadata": {},
   "outputs": [],
   "source": [
    "%store -r G\n",
    "%store -r F"
   ]
  },
  {
   "cell_type": "code",
   "execution_count": 194,
   "metadata": {},
   "outputs": [],
   "source": [
    "# Function to generates Synthetic dataset\n",
    "def Synthetic_Data(n,T,y,params,number_families):\n",
    "    alpha_,beta_,betaf,gama_,theta_0_,theta_1_=params[0],params[1],params[2],params[3],params[4],params[5]\n",
    "    x=int(np.round(((1-P)*n),0))\n",
    "    X=np.zeros((n,T))\n",
    "    idx=np.random.choice(range(n), x)\n",
    "    X[idx,0]=1\n",
    "    # Random social network\n",
    "    G=[]\n",
    "    for j in range(T):\n",
    "        g=np.identity(n,dtype=int)\n",
    "        for i in range(n):\n",
    "            indx=np.random.choice(range(i,n), y)\n",
    "            for inx in indx:\n",
    "                g[i,inx]=1  \n",
    "                g[inx,i]=1\n",
    "        G.append(g)\n",
    "    G=np.array(G)\n",
    "    # Synthetize Family matrix:\n",
    "    a=list(range(n))\n",
    "    Family=np.identity(n,dtype=int)\n",
    "    for i in range(1,number_families):\n",
    "        number_family_members=np.random.randint(2, 5)\n",
    "        inx=random.sample(list(a), number_family_members)\n",
    "        a=set(a).difference(inx)\n",
    "        for j in inx:\n",
    "            for k in inx:\n",
    "                Family[j,k]=1  \n",
    "    G=G-Family\n",
    "    G=G+np.identity(n,dtype=int)\n",
    "    #Family=Family-np.identity(n,dtype=int)\n",
    "    G = np.where(G <0, 0, G)\n",
    "    # Synthetize X, using params,G, Family and transition probability:\n",
    "    #Family=Family+np.identity(n,dtype=int)\n",
    "    for t in range(T-1):\n",
    "        for i in range(n):\n",
    "            infR=CNbr(G,X,n,T)\n",
    "            cf=int(Family.dot(X.T[t])[i])\n",
    "            c=infR[i,t]\n",
    "            if X[i,t]==0:\n",
    "                p0=1-alpha_-beta_*c-betaf*cf\n",
    "                p1=alpha_+beta_*c+betaf*cf\n",
    "            else:\n",
    "                p0=gama_\n",
    "                p1=1-gama_\n",
    "            if p0+p1==0:\n",
    "                l=0.5\n",
    "            else:\n",
    "                l=p1/(p0+p1)\n",
    "            X[i,t+1]=np.random.binomial( 1, l,size=None) \n",
    "\n",
    "    # Synthetize Y, using params,G, X, emission probability:\n",
    "    unique_rows = np.unique(Family, axis=0)\n",
    "    nf=unique_rows.shape[0]\n",
    "    YF=np.zeros((nf,T))\n",
    "    for t in range(T):\n",
    "        for i in range(nf):\n",
    "            number_of_members_in_family=np.sum(unique_rows[i])\n",
    "            number_of_infected_members_in_family=unique_rows[i].dot(X.T[t])\n",
    "            number_of_healthy_members_in_family= number_of_members_in_family-number_of_infected_members_in_family\n",
    "            py1=(theta_0_*number_of_healthy_members_in_family+theta_1_*number_of_infected_members_in_family)/ number_of_members_in_family\n",
    "            py0=((1-theta_0_)*number_of_healthy_members_in_family+(1-theta_1_)*number_of_infected_members_in_family)/ number_of_members_in_family\n",
    "            l=py1/(py1+py0)\n",
    "            YF[i,t]=np.random.binomial( 1, l,size=None) \n",
    "    # generate missing_data:\n",
    "    number_of_families=YF.shape[0]\n",
    "    time=list(range(T))\n",
    "    random.shuffle(time)\n",
    "    YF_missing_1=np.zeros((number_of_families,T))-1\n",
    "    for f in range(number_of_families):\n",
    "        t=time[f]\n",
    "        YF_missing_1[f,t]=YF[f,t]+1\n",
    "        t=time[-f]\n",
    "        YF_missing_1[f,t]=YF[f,t]+1\n",
    " \n",
    "    YF_missing=np.zeros((number_of_families,T))-1\n",
    "    time=list(range(T))\n",
    "    random.shuffle(time)\n",
    "    for f in range(number_of_families):\n",
    "        t=time[f]\n",
    "        YF_missing[f,t]=YF[f,t]+1\n",
    "    return G,YF,X,Family,YF_missing,YF_missing_1    "
   ]
  },
  {
   "cell_type": "code",
   "execution_count": 164,
   "metadata": {},
   "outputs": [],
   "source": [
    "# function to generate missing data:\n",
    "# mu is the average number of tests for a typical family during a year:\n",
    "def missing_data(mu,YF):\n",
    "    number_of_families,T=YF.shape[0],YF.shape[1]\n",
    "    YF_missing=np.zeros((number_of_families,T))-1\n",
    "    time=list(range(T))\n",
    "    random.shuffle(time)\n",
    "    for f in range(number_of_families):\n",
    "        idx=np.sort(np.random.choice(time, mu,replace=False))\n",
    "        for t in idx:\n",
    "            YF_missing[f,t]=YF[f,t]\n",
    "        \n",
    "    return YF_missing    "
   ]
  },
  {
   "cell_type": "code",
   "execution_count": 174,
   "metadata": {},
   "outputs": [
    {
     "name": "stdout",
     "output_type": "stream",
     "text": [
      "Stored 'MissingData' (list)\n"
     ]
    }
   ],
   "source": [
    "mu=[1,2,3,4,6,12,25,52,365]\n",
    "MissingData=[]\n",
    "for i in mu:\n",
    "    MissingData.append([missing_data(i,YF),i])\n",
    "%store MissingData   "
   ]
  },
  {
   "cell_type": "code",
   "execution_count": 173,
   "metadata": {},
   "outputs": [],
   "source": [
    "with open('MissingData', 'w') as f:\n",
    "    for item in MissingData:\n",
    "        f.write(\"%s\\n\" % item)\n"
   ]
  },
  {
   "cell_type": "code",
   "execution_count": 195,
   "metadata": {},
   "outputs": [],
   "source": [
    "# initialize parameters for beta distributions:\n",
    "import numpy as np\n",
    "a_alpha=1\n",
    "b_alpha=800\n",
    "a_beta=2\n",
    "b_beta=800\n",
    "a_betaf=8\n",
    "b_betaf=800\n",
    "a_gama=50\n",
    "b_gama=200\n",
    "a_teta0=10\n",
    "b_teta0=1000\n",
    "a_teta1=9000\n",
    "b_teta1=300\n",
    "P=1\n",
    "U=1\n",
    "K=1\n",
    "J=1\n",
    "hyper_params=np.array([a_alpha,b_alpha,a_beta,b_beta,a_betaf,b_betaf,a_gama,b_gama,a_teta0,b_teta0,a_teta1,b_teta1])"
   ]
  },
  {
   "cell_type": "code",
   "execution_count": 196,
   "metadata": {},
   "outputs": [],
   "source": [
    "# function to sample infection and emission parameters(alpha,beta,betaf,gama,teta0,teta1)\n",
    "def initialize_parameters(hyper_params):\n",
    "    a_alpha=hyper_params[0]\n",
    "    b_alpha=hyper_params[1]\n",
    "    a_beta=hyper_params[2]\n",
    "    b_beta=hyper_params[3]\n",
    "    a_betaf=hyper_params[4]\n",
    "    b_betaf=hyper_params[5]\n",
    "    a_gama=hyper_params[6]\n",
    "    b_gama=hyper_params[7]\n",
    "    a_teta0=hyper_params[8]\n",
    "    b_teta0=hyper_params[9]\n",
    "    a_teta1=hyper_params[10]\n",
    "    b_teta1=hyper_params[11]\n",
    "    alpha_=Sample_alpha(a_alpha, b_alpha)\n",
    "    beta_=Sample_beta(a_beta, b_beta)\n",
    "    betaf=Sample_betaf(a_betaf, b_betaf)\n",
    "    while alpha_>beta_:\n",
    "        print(\"HR\")\n",
    "        alpha_=Sample_alpha(a_alpha, b_alpha)\n",
    "        beta_=Sample_beta(a_beta, b_beta)\n",
    "    while beta_>betaf:\n",
    "        print(\"hrr\")\n",
    "        betaf=Sample_betaf(a_betaf, b_betaf)\n",
    "    gama_=Sample_gama(a_gama,b_gama)\n",
    "    theta_0_=Sample_theta0(a_teta0, b_teta0)\n",
    "    theta_1_=Sample_theta1(a_teta1, b_teta1)\n",
    "    params=np.array([alpha_,beta_,betaf,gama_,theta_0_,theta_1_])\n",
    "    return params"
   ]
  },
  {
   "cell_type": "code",
   "execution_count": 197,
   "metadata": {},
   "outputs": [
    {
     "data": {
      "text/plain": [
       "array([0.001 , 0.001 , 0.0097, 0.213 , 0.01  , 0.967 ])"
      ]
     },
     "execution_count": 197,
     "metadata": {},
     "output_type": "execute_result"
    }
   ],
   "source": [
    "params=initialize_parameters(hyper_params)\n",
    "params"
   ]
  },
  {
   "cell_type": "code",
   "execution_count": 121,
   "metadata": {},
   "outputs": [
    {
     "name": "stdout",
     "output_type": "stream",
     "text": [
      "0.002 0.0032 0.0095\n",
      "0.001 0.0037 0.0131\n",
      "0.001 0.0031 0.0094\n",
      "0.001 0.0027 0.0102\n"
     ]
    }
   ],
   "source": [
    "n,T=100,365\n",
    "F=synthetic_data[3]\n",
    "G=synthetic_data[0]\n",
    "pool_list=[]\n",
    "for i in range(4):\n",
    "    params=initialize_parameters(hyper_params)\n",
    "    Xinitial=Forward_Sampling(T,n,G,F,params)\n",
    "    pool_list.append([params,Xinitial])"
   ]
  },
  {
   "cell_type": "code",
   "execution_count": 122,
   "metadata": {},
   "outputs": [
    {
     "name": "stdout",
     "output_type": "stream",
     "text": [
      "Stored 'pool_list' (list)\n"
     ]
    }
   ],
   "source": [
    "%store pool_list"
   ]
  },
  {
   "cell_type": "code",
   "execution_count": 212,
   "metadata": {},
   "outputs": [],
   "source": [
    "params,X=pool_list[0][0],pool_list[0][1]"
   ]
  },
  {
   "cell_type": "code",
   "execution_count": 68,
   "metadata": {},
   "outputs": [],
   "source": [
    "Family=F"
   ]
  },
  {
   "cell_type": "code",
   "execution_count": 102,
   "metadata": {
    "scrolled": true
   },
   "outputs": [
    {
     "name": "stdout",
     "output_type": "stream",
     "text": [
      "Stored 'synthetic_data' (tuple)\n"
     ]
    }
   ],
   "source": [
    "# Generate synthetic data,G ,Y:\n",
    "n,T,y=100,365,5\n",
    "number_families=33\n",
    "synthetic_data=Synthetic_Data(n,T,y,params,number_families)\n",
    "%store synthetic_data\n",
    "%store -r synthetic_data"
   ]
  },
  {
   "cell_type": "code",
   "execution_count": 208,
   "metadata": {},
   "outputs": [],
   "source": [
    "%store -r synthetic_data\n",
    "G,YF,X_true,F,YF_missing,YF_missing_1 =synthetic_data[0],synthetic_data[1],synthetic_data[2],synthetic_data[3],synthetic_data[4],synthetic_data[5]"
   ]
  },
  {
   "cell_type": "code",
   "execution_count": 106,
   "metadata": {},
   "outputs": [],
   "source": [
    "%store -r G\n",
    "%store -r F"
   ]
  },
  {
   "cell_type": "code",
   "execution_count": 124,
   "metadata": {},
   "outputs": [],
   "source": [
    "np.save('Greal.npy' ,G)\n",
    "np.save('YFreal.npy' ,YF)\n",
    "np.save('Xreal.npy' ,X)\n",
    "np.save('Freal.npy' ,F)\n",
    "np.save('YF_missingreal.npy' ,YF_missing)\n",
    "np.save('YF_missing_1real.npy' ,YF_missing_1)"
   ]
  },
  {
   "cell_type": "code",
   "execution_count": 199,
   "metadata": {},
   "outputs": [],
   "source": [
    "unique_rows = np.unique(F, axis=0)"
   ]
  },
  {
   "cell_type": "code",
   "execution_count": 202,
   "metadata": {},
   "outputs": [],
   "source": [
    "n,T=X.shape[0],X.shape[1]"
   ]
  },
  {
   "cell_type": "code",
   "execution_count": 203,
   "metadata": {},
   "outputs": [],
   "source": [
    "#calculate y_missing:\n",
    "Y=np.zeros((n,T))\n",
    "for i in range(n):\n",
    "    for j in range(unique_rows.shape[0]):\n",
    "        if unique_rows[j,i]==1:\n",
    "            Y[i,:]=YF[j,:]\n"
   ]
  },
  {
   "cell_type": "code",
   "execution_count": 8,
   "metadata": {},
   "outputs": [],
   "source": [
    "epsln=0.001\n",
    "def epsilone(a,b):\n",
    "    return np.abs(np.array(a)-np.array(b)).all()>epsln"
   ]
  },
  {
   "cell_type": "code",
   "execution_count": 200,
   "metadata": {},
   "outputs": [],
   "source": [
    "# Main code to run entire Gibbs sampling algorithm U times:\n",
    "def Gibbs_train(hyper_params,G,F,Y,U,K,J):\n",
    "    \n",
    "    prob=[] \n",
    "    param=[]\n",
    "    XX=[]\n",
    "    for j in range(J):\n",
    "        params=initialize_parameters(hyper_params)\n",
    "        print(params)\n",
    "        param.append(params)\n",
    "        X=Forward_Sampling(G,F,params)\n",
    "        print(\"Forward_Sampling\",j,\"\\n\",\"\\n\")\n",
    "        print(\"Start Gibbs Sampling:\")\n",
    "        \n",
    "        for i in range(U):\n",
    "            print(\"************************************************ Iteration\",j,\"************************************************\")\n",
    "            print(\"Current Parameters:\",params)\n",
    "            now = datetime.now()\n",
    "            current_time = now.strftime(\"%H:%M:%S\")\n",
    "            print(\"Current Time is :\", current_time)\n",
    "            cal=Calculate_X(K,X,G,F,Y,params)\n",
    "            X=cal[0]\n",
    "            pos_probs=cal[1]\n",
    "            R=R_(G,X,params)\n",
    "            if (i!=U-1):\n",
    "                if i>1 & epsilone(param[-1],param[0]):\n",
    "                    prm=Params(R,G,F,X,Y,hyper_params)\n",
    "                    params=prm[0]\n",
    "                    R=prm[1]\n",
    "                    param.append(params)\n",
    "            prob.append(pos_probs)\n",
    "        XX.append(X)    \n",
    "        now = datetime.now()\n",
    "        current_time = now.strftime(\"%H:%M:%S\")\n",
    "        print(\"Current Time is :\", current_time)\n",
    "    winsound.Beep(freq, duration) \n",
    "    return params, np.array(XX) ,np.array(prob)"
   ]
  },
  {
   "cell_type": "code",
   "execution_count": 140,
   "metadata": {},
   "outputs": [
    {
     "data": {
      "text/plain": [
       "(100, 10)"
      ]
     },
     "execution_count": 140,
     "metadata": {},
     "output_type": "execute_result"
    }
   ],
   "source": [
    "Y[:,:10].shape"
   ]
  },
  {
   "cell_type": "markdown",
   "metadata": {},
   "source": [
    "# loop for plotting figure 1:"
   ]
  },
  {
   "cell_type": "code",
   "execution_count": 219,
   "metadata": {},
   "outputs": [],
   "source": [
    "# Main code to run entire Gibbs sampling algorithm U times:\n",
    "def Gibbs(params,X,G,F,Y,U,K):\n",
    "    n,T=X.shape[0],X.shape[1]\n",
    "    prob=[] \n",
    "    param=[]\n",
    "    XX=[]\n",
    "    for u in range(U):\n",
    "        print(\"Start Gibbs Sampling:\")\n",
    "        print(\"************************************************ Iteration\",u,\"************************************************\")\n",
    "        now = datetime.now()\n",
    "        current_time = now.strftime(\"%H:%M:%S\")\n",
    "        print(\"Current Time is :\", current_time)\n",
    "        cal=Calculate_X(K,T,X,G,F,Y,params,P)\n",
    "        X=cal[0]\n",
    "        pos_probs=cal[1]\n",
    "        \n",
    "        prob.append(pos_probs)\n",
    "        XX.append(X)    \n",
    "    winsound.Beep(freq, duration) \n",
    "    return params, np.array(XX) ,prob"
   ]
  },
  {
   "cell_type": "code",
   "execution_count": 255,
   "metadata": {},
   "outputs": [
    {
     "name": "stdout",
     "output_type": "stream",
     "text": [
      "1\n",
      "2\n",
      "3\n",
      "4\n",
      "6\n",
      "12\n",
      "25\n",
      "52\n",
      "365\n"
     ]
    }
   ],
   "source": [
    "for i in range(9):\n",
    "    print(MissingData[i][1])"
   ]
  },
  {
   "cell_type": "code",
   "execution_count": 205,
   "metadata": {},
   "outputs": [],
   "source": [
    "YF_missing=MissingData[0][0]"
   ]
  },
  {
   "cell_type": "code",
   "execution_count": 206,
   "metadata": {},
   "outputs": [],
   "source": [
    "#calculate y_missing:\n",
    "Y=np.zeros((n,T))\n",
    "for i in range(n):\n",
    "    for j in range(unique_rows.shape[0]):\n",
    "        if unique_rows[j,i]==1:\n",
    "            Y[i,:]=YF_missing[j,:]\n"
   ]
  },
  {
   "cell_type": "code",
   "execution_count": 222,
   "metadata": {
    "scrolled": false
   },
   "outputs": [
    {
     "name": "stdout",
     "output_type": "stream",
     "text": [
      "Start Gibbs Sampling:\n",
      "************************************************ Iteration 0 ************************************************\n",
      "Current Time is : 15:47:02\n",
      "0 0\n",
      "Current Time is : 15:47:02\n",
      "1 0\n",
      "Current Time is : 15:47:03\n",
      "2 0\n",
      "Current Time is : 15:47:04\n",
      "3 0\n",
      "Current Time is : 15:47:06\n",
      "4 0\n",
      "Current Time is : 15:47:07\n",
      "5 0\n",
      "Current Time is : 15:47:08\n",
      "6 0\n",
      "Current Time is : 15:47:10\n",
      "7 0\n",
      "Current Time is : 15:47:11\n",
      "8 0\n",
      "Current Time is : 15:47:12\n",
      "9 0\n",
      "Current Time is : 15:47:13\n",
      "Start Gibbs Sampling:\n",
      "************************************************ Iteration 0 ************************************************\n",
      "Current Time is : 15:47:15\n",
      "0 0\n",
      "Current Time is : 15:47:15\n",
      "1 0\n",
      "Current Time is : 15:47:18\n",
      "2 0\n",
      "Current Time is : 15:47:22\n",
      "3 0\n",
      "Current Time is : 15:47:26\n",
      "4 0\n",
      "Current Time is : 15:47:29\n",
      "5 0\n",
      "Current Time is : 15:47:33\n",
      "6 0\n",
      "Current Time is : 15:47:36\n",
      "7 0\n",
      "Current Time is : 15:47:40\n",
      "8 0\n",
      "Current Time is : 15:47:44\n",
      "9 0\n",
      "Current Time is : 15:47:47\n",
      "10 0\n",
      "Current Time is : 15:47:51\n",
      "11 0\n",
      "Current Time is : 15:47:55\n",
      "12 0\n",
      "Current Time is : 15:47:58\n",
      "13 0\n",
      "Current Time is : 15:48:02\n",
      "14 0\n",
      "Current Time is : 15:48:06\n",
      "15 0\n",
      "Current Time is : 15:48:10\n",
      "16 0\n",
      "Current Time is : 15:48:14\n",
      "17 0\n",
      "Current Time is : 15:48:17\n",
      "18 0\n",
      "Current Time is : 15:48:22\n",
      "19 0\n",
      "Current Time is : 15:48:25\n",
      "20 0\n",
      "Current Time is : 15:48:30\n",
      "21 0\n",
      "Current Time is : 15:48:33\n",
      "22 0\n",
      "Current Time is : 15:48:38\n",
      "23 0\n",
      "Current Time is : 15:48:41\n",
      "24 0\n",
      "Current Time is : 15:48:45\n",
      "25 0\n",
      "Current Time is : 15:48:49\n",
      "26 0\n",
      "Current Time is : 15:48:54\n",
      "27 0\n",
      "Current Time is : 15:48:58\n",
      "28 0\n",
      "Current Time is : 15:49:02\n",
      "29 0\n",
      "Current Time is : 15:49:07\n",
      "Start Gibbs Sampling:\n",
      "************************************************ Iteration 0 ************************************************\n",
      "Current Time is : 15:49:08\n",
      "0 0\n",
      "Current Time is : 15:49:08\n",
      "1 0\n",
      "Current Time is : 15:49:15\n",
      "2 0\n",
      "Current Time is : 15:49:22\n",
      "3 0\n",
      "Current Time is : 15:49:29\n",
      "4 0\n",
      "Current Time is : 15:49:36\n",
      "5 0\n",
      "Current Time is : 15:49:43\n",
      "6 0\n",
      "Current Time is : 15:49:49\n",
      "7 0\n",
      "Current Time is : 15:49:56\n",
      "8 0\n",
      "Current Time is : 15:50:02\n",
      "9 0\n",
      "Current Time is : 15:50:09\n",
      "10 0\n",
      "Current Time is : 15:50:16\n",
      "11 0\n",
      "Current Time is : 15:50:22\n",
      "12 0\n",
      "Current Time is : 15:50:30\n",
      "13 0\n",
      "Current Time is : 15:50:38\n",
      "14 0\n",
      "Current Time is : 15:50:45\n",
      "15 0\n",
      "Current Time is : 15:50:52\n",
      "16 0\n",
      "Current Time is : 15:50:59\n",
      "17 0\n",
      "Current Time is : 15:51:06\n",
      "18 0\n",
      "Current Time is : 15:51:12\n",
      "19 0\n",
      "Current Time is : 15:51:19\n",
      "20 0\n",
      "Current Time is : 15:51:27\n",
      "21 0\n",
      "Current Time is : 15:51:34\n",
      "22 0\n",
      "Current Time is : 15:51:41\n",
      "23 0\n",
      "Current Time is : 15:51:48\n",
      "24 0\n",
      "Current Time is : 15:51:55\n",
      "25 0\n",
      "Current Time is : 15:52:02\n",
      "26 0\n",
      "Current Time is : 15:52:11\n",
      "27 0\n",
      "Current Time is : 15:52:18\n",
      "28 0\n",
      "Current Time is : 15:52:25\n",
      "29 0\n",
      "Current Time is : 15:52:32\n",
      "30 0\n",
      "Current Time is : 15:52:40\n",
      "31 0\n",
      "Current Time is : 15:52:47\n",
      "32 0\n",
      "Current Time is : 15:52:54\n",
      "33 0\n",
      "Current Time is : 15:53:02\n",
      "34 0\n",
      "Current Time is : 15:53:09\n",
      "35 0\n",
      "Current Time is : 15:53:16\n",
      "36 0\n",
      "Current Time is : 15:53:24\n",
      "37 0\n",
      "Current Time is : 15:53:31\n",
      "38 0\n",
      "Current Time is : 15:53:39\n",
      "39 0\n",
      "Current Time is : 15:53:46\n",
      "40 0\n",
      "Current Time is : 15:53:53\n",
      "41 0\n",
      "Current Time is : 15:54:00\n",
      "42 0\n",
      "Current Time is : 15:54:06\n",
      "43 0\n",
      "Current Time is : 15:54:13\n",
      "44 0\n",
      "Current Time is : 15:54:20\n",
      "45 0\n",
      "Current Time is : 15:54:26\n",
      "46 0\n",
      "Current Time is : 15:54:33\n",
      "47 0\n",
      "Current Time is : 15:54:40\n",
      "48 0\n",
      "Current Time is : 15:54:47\n",
      "49 0\n",
      "Current Time is : 15:54:54\n",
      "Start Gibbs Sampling:\n",
      "************************************************ Iteration 0 ************************************************\n",
      "Current Time is : 15:54:55\n",
      "0 0\n",
      "Current Time is : 15:54:55\n",
      "1 0\n",
      "Current Time is : 15:55:06\n",
      "2 0\n",
      "Current Time is : 15:55:15\n",
      "3 0\n",
      "Current Time is : 15:55:25\n",
      "4 0\n",
      "Current Time is : 15:55:35\n",
      "5 0\n",
      "Current Time is : 15:55:44\n",
      "6 0\n",
      "Current Time is : 15:55:54\n",
      "7 0\n",
      "Current Time is : 15:56:03\n",
      "8 0\n",
      "Current Time is : 15:56:12\n",
      "9 0\n",
      "Current Time is : 15:56:22\n",
      "10 0\n",
      "Current Time is : 15:56:31\n",
      "11 0\n",
      "Current Time is : 15:56:40\n",
      "12 0\n",
      "Current Time is : 15:56:50\n",
      "13 0\n",
      "Current Time is : 15:56:59\n",
      "14 0\n",
      "Current Time is : 15:57:08\n",
      "15 0\n",
      "Current Time is : 15:57:18\n",
      "16 0\n",
      "Current Time is : 15:57:27\n",
      "17 0\n",
      "Current Time is : 15:57:36\n",
      "18 0\n",
      "Current Time is : 15:57:45\n",
      "19 0\n",
      "Current Time is : 15:57:55\n",
      "20 0\n",
      "Current Time is : 15:58:04\n",
      "21 0\n",
      "Current Time is : 15:58:15\n",
      "22 0\n",
      "Current Time is : 15:58:25\n",
      "23 0\n",
      "Current Time is : 15:58:36\n",
      "24 0\n",
      "Current Time is : 15:58:46\n",
      "25 0\n",
      "Current Time is : 15:58:56\n",
      "26 0\n",
      "Current Time is : 15:59:05\n",
      "27 0\n",
      "Current Time is : 15:59:15\n",
      "28 0\n",
      "Current Time is : 15:59:25\n",
      "29 0\n",
      "Current Time is : 15:59:35\n",
      "30 0\n",
      "Current Time is : 15:59:45\n",
      "31 0\n",
      "Current Time is : 15:59:55\n",
      "32 0\n",
      "Current Time is : 16:00:05\n",
      "33 0\n",
      "Current Time is : 16:00:15\n",
      "34 0\n",
      "Current Time is : 16:00:27\n",
      "35 0\n",
      "Current Time is : 16:00:37\n",
      "36 0\n",
      "Current Time is : 16:00:47\n",
      "37 0\n",
      "Current Time is : 16:00:56\n",
      "38 0\n",
      "Current Time is : 16:01:06\n",
      "39 0\n",
      "Current Time is : 16:01:17\n",
      "40 0\n",
      "Current Time is : 16:01:27\n",
      "41 0\n",
      "Current Time is : 16:01:36\n",
      "42 0\n",
      "Current Time is : 16:01:45\n",
      "43 0\n",
      "Current Time is : 16:01:55\n",
      "44 0\n",
      "Current Time is : 16:02:04\n",
      "45 0\n",
      "Current Time is : 16:02:13\n",
      "46 0\n",
      "Current Time is : 16:02:22\n",
      "47 0\n",
      "Current Time is : 16:02:31\n",
      "48 0\n",
      "Current Time is : 16:02:40\n",
      "49 0\n",
      "Current Time is : 16:02:50\n",
      "50 0\n",
      "Current Time is : 16:03:00\n",
      "51 0\n",
      "Current Time is : 16:03:10\n",
      "52 0\n",
      "Current Time is : 16:03:19\n",
      "53 0\n",
      "Current Time is : 16:03:29\n",
      "54 0\n",
      "Current Time is : 16:03:39\n",
      "55 0\n",
      "Current Time is : 16:03:49\n",
      "56 0\n",
      "Current Time is : 16:03:59\n",
      "57 0\n",
      "Current Time is : 16:04:08\n",
      "58 0\n",
      "Current Time is : 16:04:18\n",
      "59 0\n",
      "Current Time is : 16:04:27\n",
      "60 0\n",
      "Current Time is : 16:04:37\n",
      "61 0\n",
      "Current Time is : 16:04:47\n",
      "62 0\n",
      "Current Time is : 16:04:56\n",
      "63 0\n",
      "Current Time is : 16:05:06\n",
      "64 0\n",
      "Current Time is : 16:05:16\n",
      "65 0\n",
      "Current Time is : 16:05:26\n",
      "66 0\n",
      "Current Time is : 16:05:35\n",
      "67 0\n",
      "Current Time is : 16:05:45\n",
      "68 0\n",
      "Current Time is : 16:05:55\n",
      "69 0\n",
      "Current Time is : 16:06:05\n",
      "Start Gibbs Sampling:\n",
      "************************************************ Iteration 0 ************************************************\n",
      "Current Time is : 16:06:06\n",
      "0 0\n",
      "Current Time is : 16:06:06\n",
      "1 0\n",
      "Current Time is : 16:06:19\n",
      "2 0\n",
      "Current Time is : 16:06:31\n",
      "3 0\n",
      "Current Time is : 16:06:44\n",
      "4 0\n",
      "Current Time is : 16:06:57\n",
      "5 0\n",
      "Current Time is : 16:07:09\n",
      "6 0\n",
      "Current Time is : 16:07:22\n",
      "7 0\n",
      "Current Time is : 16:07:35\n",
      "8 0\n",
      "Current Time is : 16:07:47\n",
      "9 0\n",
      "Current Time is : 16:08:00\n",
      "10 0\n",
      "Current Time is : 16:08:12\n",
      "11 0\n",
      "Current Time is : 16:08:25\n",
      "12 0\n",
      "Current Time is : 16:08:38\n",
      "13 0\n",
      "Current Time is : 16:08:50\n",
      "14 0\n",
      "Current Time is : 16:09:03\n",
      "15 0\n",
      "Current Time is : 16:09:16\n",
      "16 0\n",
      "Current Time is : 16:09:28\n",
      "17 0\n",
      "Current Time is : 16:09:40\n",
      "18 0\n",
      "Current Time is : 16:09:53\n",
      "19 0\n",
      "Current Time is : 16:10:05\n",
      "20 0\n",
      "Current Time is : 16:10:18\n",
      "21 0\n",
      "Current Time is : 16:10:34\n",
      "22 0\n",
      "Current Time is : 16:10:48\n",
      "23 0\n",
      "Current Time is : 16:11:00\n",
      "24 0\n",
      "Current Time is : 16:11:12\n",
      "25 0\n",
      "Current Time is : 16:11:25\n",
      "26 0\n",
      "Current Time is : 16:11:38\n",
      "27 0\n",
      "Current Time is : 16:11:53\n",
      "28 0\n",
      "Current Time is : 16:12:05\n",
      "29 0\n",
      "Current Time is : 16:12:20\n",
      "30 0\n",
      "Current Time is : 16:12:33\n",
      "31 0\n",
      "Current Time is : 16:12:46\n",
      "32 0\n",
      "Current Time is : 16:12:58\n",
      "33 0\n",
      "Current Time is : 16:13:11\n",
      "34 0\n",
      "Current Time is : 16:13:24\n",
      "35 0\n",
      "Current Time is : 16:13:36\n",
      "36 0\n",
      "Current Time is : 16:13:49\n",
      "37 0\n",
      "Current Time is : 16:14:01\n",
      "38 0\n",
      "Current Time is : 16:14:14\n",
      "39 0\n",
      "Current Time is : 16:14:27\n",
      "40 0\n",
      "Current Time is : 16:14:40\n",
      "41 0\n",
      "Current Time is : 16:14:55\n",
      "42 0\n",
      "Current Time is : 16:15:07\n",
      "43 0\n",
      "Current Time is : 16:15:19\n",
      "44 0\n",
      "Current Time is : 16:15:32\n",
      "45 0\n",
      "Current Time is : 16:15:45\n",
      "46 0\n",
      "Current Time is : 16:15:59\n",
      "47 0\n",
      "Current Time is : 16:16:13\n",
      "48 0\n",
      "Current Time is : 16:16:27\n",
      "49 0\n",
      "Current Time is : 16:16:40\n",
      "50 0\n",
      "Current Time is : 16:16:52\n",
      "51 0\n",
      "Current Time is : 16:17:05\n",
      "52 0\n",
      "Current Time is : 16:17:16\n",
      "53 0\n",
      "Current Time is : 16:17:29\n",
      "54 0\n",
      "Current Time is : 16:17:41\n",
      "55 0\n",
      "Current Time is : 16:17:54\n",
      "56 0\n",
      "Current Time is : 16:18:06\n",
      "57 0\n",
      "Current Time is : 16:18:18\n",
      "58 0\n",
      "Current Time is : 16:18:30\n",
      "59 0\n",
      "Current Time is : 16:18:42\n",
      "60 0\n",
      "Current Time is : 16:18:54\n",
      "61 0\n",
      "Current Time is : 16:19:06\n",
      "62 0\n",
      "Current Time is : 16:19:18\n",
      "63 0\n",
      "Current Time is : 16:19:30\n",
      "64 0\n",
      "Current Time is : 16:19:42\n",
      "65 0\n",
      "Current Time is : 16:19:54\n",
      "66 0\n",
      "Current Time is : 16:20:06\n",
      "67 0\n",
      "Current Time is : 16:20:18\n",
      "68 0\n",
      "Current Time is : 16:20:30\n",
      "69 0\n",
      "Current Time is : 16:20:43\n",
      "70 0\n",
      "Current Time is : 16:20:55\n",
      "71 0\n",
      "Current Time is : 16:21:07\n",
      "72 0\n",
      "Current Time is : 16:21:20\n"
     ]
    },
    {
     "name": "stdout",
     "output_type": "stream",
     "text": [
      "73 0\n",
      "Current Time is : 16:21:32\n",
      "74 0\n",
      "Current Time is : 16:21:43\n",
      "75 0\n",
      "Current Time is : 16:21:55\n",
      "76 0\n",
      "Current Time is : 16:22:07\n",
      "77 0\n",
      "Current Time is : 16:22:19\n",
      "78 0\n",
      "Current Time is : 16:22:32\n",
      "79 0\n",
      "Current Time is : 16:22:44\n",
      "80 0\n",
      "Current Time is : 16:22:55\n",
      "81 0\n",
      "Current Time is : 16:23:07\n",
      "82 0\n",
      "Current Time is : 16:23:20\n",
      "83 0\n",
      "Current Time is : 16:23:32\n",
      "84 0\n",
      "Current Time is : 16:23:44\n",
      "85 0\n",
      "Current Time is : 16:23:56\n",
      "86 0\n",
      "Current Time is : 16:24:08\n",
      "87 0\n",
      "Current Time is : 16:24:20\n",
      "88 0\n",
      "Current Time is : 16:24:33\n",
      "89 0\n",
      "Current Time is : 16:24:45\n"
     ]
    }
   ],
   "source": [
    "Trained=[]\n",
    "for time_step in range(10,100,20):\n",
    "    G_=G[:time_step]\n",
    "    Y_=Y[:,:time_step]\n",
    "    X_=X[:,:time_step]\n",
    "    #Train=Gibbs_train(hyper_params,G_,F,Y_,U,K,J)\n",
    "    Train=Gibbs(params,X_,G_,F,Y_,1,1)\n",
    "    Trained.append(Train)"
   ]
  },
  {
   "cell_type": "code",
   "execution_count": 232,
   "metadata": {},
   "outputs": [
    {
     "data": {
      "text/plain": [
       "100"
      ]
     },
     "execution_count": 232,
     "metadata": {},
     "output_type": "execute_result"
    }
   ],
   "source": [
    "Trained[0][1].shape[1]"
   ]
  },
  {
   "cell_type": "code",
   "execution_count": 251,
   "metadata": {},
   "outputs": [
    {
     "data": {
      "image/png": "[encoded data removed]",
      "text/plain": [
       "<Figure size 432x288 with 1 Axes>"
      ]
     },
     "metadata": {
      "needs_background": "light"
     },
     "output_type": "display_data"
    },
    {
     "data": {
      "image/png": "[encoded data removed]",
      "text/plain": [
       "<Figure size 432x288 with 1 Axes>"
      ]
     },
     "metadata": {
      "needs_background": "light"
     },
     "output_type": "display_data"
    },
    {
     "data": {
      "image/png": "[encoded data removed]",
      "text/plain": [
       "<Figure size 432x288 with 1 Axes>"
      ]
     },
     "metadata": {
      "needs_background": "light"
     },
     "output_type": "display_data"
    },
    {
     "data": {
      "image/png": "[encoded data removed]",
      "text/plain": [
       "<Figure size 432x288 with 1 Axes>"
      ]
     },
     "metadata": {
      "needs_background": "light"
     },
     "output_type": "display_data"
    },
    {
     "data": {
      "text/plain": [
       "[<matplotlib.lines.Line2D at 0x1aadcc8ac40>]"
      ]
     },
     "execution_count": 251,
     "metadata": {},
     "output_type": "execute_result"
    },
    {
     "data": {
      "image/png": "[encoded data removed]",
      "text/plain": [
       "<Figure size 432x288 with 1 Axes>"
      ]
     },
     "metadata": {
      "needs_background": "light"
     },
     "output_type": "display_data"
    }
   ],
   "source": [
    "roc_=[]\n",
    "for i in range(1,len(Trained)):\n",
    "    Train=np.array(Trained[i][2][0])\n",
    "    y_score=np.hstack(Train)\n",
    "    y_test=np.hstack(X_true[:,:Train.shape[1]])\n",
    "    \n",
    "    roc_.append(plot_ROC(y_score,y_test))\n",
    "plt.plot(range(20,100,20),roc_)"
   ]
  },
  {
   "cell_type": "code",
   "execution_count": 224,
   "metadata": {},
   "outputs": [],
   "source": [
    "def plot_ROC(y_score,y_test):\n",
    "    plt.figure()\n",
    "    lw = 2\n",
    "    #y_score=np.hstack(Train[2][j])\n",
    "    #y_test=np.hstack(X)\n",
    "    fpr, tpr, thresholds = roc_curve(y_test, y_score,pos_label=1)\n",
    "    roc_auc = auc(fpr, tpr)\n",
    "    plt.plot(\n",
    "        fpr,\n",
    "        tpr,\n",
    "        color=\"darkorange\",\n",
    "        lw=lw,\n",
    "        label=\"ROC curve (area = %0.2f)\" % roc_auc,\n",
    "    )\n",
    "    plt.plot([0, 1], [0, 1], color=\"navy\", lw=lw, linestyle=\"--\")\n",
    "    plt.xlim([0.0, 1.0])\n",
    "    plt.ylim([0.0, 1.05])\n",
    "    plt.xlabel(\"False Positive Rate\")\n",
    "    plt.ylabel(\"True Positive Rate\")\n",
    "    plt.title(\"ROC for family test result problem\")\n",
    "    plt.legend(loc=\"lower right\")\n",
    "    plt.show()\n",
    "    return roc_auc"
   ]
  },
  {
   "cell_type": "code",
   "execution_count": 223,
   "metadata": {},
   "outputs": [
    {
     "data": {
      "image/png": "[encoded data removed]",
      "text/plain": [
       "<Figure size 432x288 with 1 Axes>"
      ]
     },
     "metadata": {
      "needs_background": "light"
     },
     "output_type": "display_data"
    },
    {
     "data": {
      "text/plain": [
       "0.6788692461641095"
      ]
     },
     "execution_count": 223,
     "metadata": {},
     "output_type": "execute_result"
    }
   ],
   "source": [
    "plot_ROC(y_score,y_test)"
   ]
  },
  {
   "cell_type": "code",
   "execution_count": null,
   "metadata": {},
   "outputs": [],
   "source": [
    "trained_params=Train[0]\n",
    "%store trained_params"
   ]
  },
  {
   "cell_type": "code",
   "execution_count": null,
   "metadata": {},
   "outputs": [],
   "source": [
    "Test=Gibbs_test(trained_params,T,n,G,F,Y,K,J)"
   ]
  },
  {
   "cell_type": "code",
   "execution_count": null,
   "metadata": {},
   "outputs": [],
   "source": [
    "print(\"alpha,beta,betaf,gama,t0,t1,n,T,K,J,U\",Train[0],n,T,K,J,U)"
   ]
  },
  {
   "cell_type": "code",
   "execution_count": 219,
   "metadata": {},
   "outputs": [
    {
     "data": {
      "image/png": "[encoded data removed]",
      "text/plain": [
       "<Figure size 432x288 with 1 Axes>"
      ]
     },
     "metadata": {
      "needs_background": "light"
     },
     "output_type": "display_data"
    }
   ],
   "source": [
    "plt.figure()\n",
    "lw = 2\n",
    "for j in range(J):\n",
    "    #y_score=np.hstack(Train[2][j])\n",
    "    #y_test=np.hstack(X)\n",
    "    fpr, tpr, thresholds = roc_curve(y_test, y_score,pos_label=1)\n",
    "    roc_auc = auc(fpr, tpr)\n",
    "    plt.plot(\n",
    "        fpr,\n",
    "        tpr,\n",
    "        color=\"darkorange\",\n",
    "        lw=lw,\n",
    "        label=\"ROC curve (area = %0.2f)\" % roc_auc,\n",
    "    )\n",
    "    plt.plot([0, 1], [0, 1], color=\"navy\", lw=lw, linestyle=\"--\")\n",
    "    plt.xlim([0.0, 1.0])\n",
    "    plt.ylim([0.0, 1.05])\n",
    "    plt.xlabel(\"False Positive Rate\")\n",
    "    plt.ylabel(\"True Positive Rate\")\n",
    "    plt.title(\"ROC for family test result problem\")\n",
    "    plt.legend(loc=\"lower right\")\n",
    "    plt.show()"
   ]
  },
  {
   "cell_type": "code",
   "execution_count": null,
   "metadata": {},
   "outputs": [],
   "source": [
    "def show_TPR_by_time(X_true,X_score,T):\n",
    "    TP,FN,TPR=np.zeros((T)),np.zeros((T)),np.zeros((T))\n",
    "    for t in range(T):\n",
    "        TP[t]=np.count_nonzero(np.multiply(X_true,X_score).T[t]==1)\n",
    "        FN[t]=np.count_nonzero((X_true-2*X_score).T[t]==1)\n",
    "        if (TP[t]+FN[t])!=0:\n",
    "            TPR[t]=TP[t]/(TP[t]+FN[t])\n",
    "        #print(TP[t],FN[t])\n",
    "        #plt.plot(t,TPR[t],'go--', linewidth=2, markersize=1)  \n",
    "    plt.plot(range(T),TPR) \n",
    "    plt.show() "
   ]
  },
  {
   "cell_type": "code",
   "execution_count": null,
   "metadata": {},
   "outputs": [],
   "source": [
    "show_TPR_by_time(X,Train[2][0],T)"
   ]
  },
  {
   "cell_type": "code",
   "execution_count": null,
   "metadata": {},
   "outputs": [],
   "source": [
    "plt.figure()\n",
    "lw = 2\n",
    "for j in range(J):\n",
    "    y_score=np.hstack(Train[2][j])\n",
    "    y_test=np.hstack(X)\n",
    "    fpr, tpr, thresholds = roc_curve(y_test, y_score,pos_label=1)\n",
    "    roc_auc = auc(fpr, tpr)\n",
    "    plt.plot(\n",
    "        fpr,\n",
    "        tpr,\n",
    "        color=\"darkorange\",\n",
    "        lw=lw,\n",
    "        label=\"ROC curve (area = %0.2f)\" % roc_auc,\n",
    "    )\n",
    "    plt.plot([0, 1], [0, 1], color=\"navy\", lw=lw, linestyle=\"--\")\n",
    "    plt.xlim([0.0, 1.0])\n",
    "    plt.ylim([0.0, 1.05])\n",
    "    plt.xlabel(\"False Positive Rate\")\n",
    "    plt.ylabel(\"True Positive Rate\")\n",
    "    plt.title(\"ROC for family test result problem\")\n",
    "    plt.legend(loc=\"lower right\")\n",
    "    plt.show()"
   ]
  },
  {
   "cell_type": "code",
   "execution_count": null,
   "metadata": {},
   "outputs": [],
   "source": [
    "Y=np.zeros((n,T))\n",
    "for i in range(n):\n",
    "    for j in range(unique_rows.shape[0]):\n",
    "        if unique_rows[j,i]==1:\n",
    "            Y[i,:]=YF[j,:]"
   ]
  },
  {
   "cell_type": "code",
   "execution_count": null,
   "metadata": {},
   "outputs": [],
   "source": [
    "K,U,J=2,2,2"
   ]
  },
  {
   "cell_type": "code",
   "execution_count": null,
   "metadata": {},
   "outputs": [],
   "source": [
    "# function to add noise to observation vector, in order to test the model performance:\n",
    "def add_noise(YF,noise_percent):\n",
    "    number_of_families=YF.shape[0]\n",
    "    YF_noisey=np.copy(YF)\n",
    "    index=random.sample(range(0,number_of_families*T ), int(number_of_families*T*noise_percent))\n",
    "    for j in index:\n",
    "        i=int(j/T)\n",
    "        t=j-i*T\n",
    "        YF_noisey[i,t]=(1+YF[i,t])*(1-YF[i,t])\n",
    "    return YF_noisey "
   ]
  },
  {
   "cell_type": "code",
   "execution_count": null,
   "metadata": {},
   "outputs": [],
   "source": [
    "noise_percent=.1\n",
    "YF_noisey=add_noise(YF,noise_percent)"
   ]
  },
  {
   "cell_type": "code",
   "execution_count": null,
   "metadata": {},
   "outputs": [],
   "source": [
    "trained_params=Train[0]"
   ]
  },
  {
   "cell_type": "code",
   "execution_count": null,
   "metadata": {},
   "outputs": [],
   "source": [
    "Y_noisey=np.zeros((n,T))\n",
    "for i in range(n):\n",
    "    for j in range(unique_rows.shape[0]):\n",
    "        if unique_rows[j,i]==1:\n",
    "            Y_noisey[i,:]=YF_noisey[j,:]"
   ]
  },
  {
   "cell_type": "code",
   "execution_count": null,
   "metadata": {},
   "outputs": [],
   "source": [
    "# Main code to run entire Gibbs sampling algorithm U times:\n",
    "def Gibbs_test(param,T,n,G,F,Y,K,J):\n",
    "    \n",
    "    alpha_=param[0]\n",
    "    beta_=param[1]\n",
    "    betaf=param[2]\n",
    "    gama_=param[3]\n",
    "    theta_0_=param[4]\n",
    "    thata_1_=param[5] \n",
    "    prob=[]  \n",
    "    XX=[]\n",
    "    for j in range(J):\n",
    "        \n",
    "        print(params)\n",
    "        X=Forward_Sampling(T,n,G,F,params)\n",
    "        print(\"Forward_Sampling\",j,\"\\n\",\"\\n\",X)\n",
    "        print(\"Start Gibbs Sampling:\")\n",
    "        cal=Calculate_X(K,T,X,G,F,Y,params)\n",
    "        X=cal[0]\n",
    "        pos_probs=cal[1]\n",
    "        prob.append(pos_probs)        \n",
    "        XX.append(X)    \n",
    "        now = datetime.now()\n",
    "        current_time = now.strftime(\"%H:%M:%S\")\n",
    "        print(\"Current Time is :\", current_time)\n",
    "    winsound.Beep(freq, duration) \n",
    "    return np.array(XX),np.array(prob)"
   ]
  },
  {
   "cell_type": "code",
   "execution_count": null,
   "metadata": {},
   "outputs": [],
   "source": [
    "Test=Gibbs_test(trained_params,T,n,G,F,Y_noisey,K,J)"
   ]
  },
  {
   "cell_type": "code",
   "execution_count": null,
   "metadata": {},
   "outputs": [],
   "source": [
    "plt.figure()\n",
    "lw = 2\n",
    "for j in range(J):\n",
    "    y_score=np.hstack(Test[1][j])\n",
    "    y_test=np.hstack(X)\n",
    "    fpr, tpr, thresholds = roc_curve(y_test, y_score,pos_label=1)\n",
    "    roc_auc = auc(fpr, tpr)\n",
    "    plt.plot(\n",
    "        fpr,\n",
    "        tpr,\n",
    "        color=\"darkorange\",\n",
    "        lw=lw,\n",
    "        label=\"ROC curve (area = %0.2f)\" % roc_auc,\n",
    "    )\n",
    "    plt.plot([0, 1], [0, 1], color=\"navy\", lw=lw, linestyle=\"--\")\n",
    "    plt.xlim([0.0, 1.0])\n",
    "    plt.ylim([0.0, 1.05])\n",
    "    plt.xlabel(\"False Positive Rate\")\n",
    "    plt.ylabel(\"True Positive Rate\")\n",
    "    plt.title(\"ROC for family test result problem\")\n",
    "    plt.legend(loc=\"lower right\")\n",
    "    plt.show()"
   ]
  },
  {
   "cell_type": "code",
   "execution_count": null,
   "metadata": {},
   "outputs": [],
   "source": [
    "plt.figure()\n",
    "lw = 2\n",
    "for j in range(J):\n",
    "    y_score=np.hstack(Train[2][j])\n",
    "    y_test=np.hstack(X)\n",
    "    fpr, tpr, thresholds = roc_curve(y_test, y_score,pos_label=1)\n",
    "    roc_auc = auc(fpr, tpr)\n",
    "    plt.plot(\n",
    "        fpr,\n",
    "        tpr,\n",
    "        color=\"darkorange\",\n",
    "        lw=lw,\n",
    "        label=\"ROC curve (area = %0.2f)\" % roc_auc,\n",
    "    )\n",
    "    plt.plot([0, 1], [0, 1], color=\"navy\", lw=lw, linestyle=\"--\")\n",
    "    plt.xlim([0.0, 1.0])\n",
    "    plt.ylim([0.0, 1.05])\n",
    "    plt.xlabel(\"False Positive Rate\")\n",
    "    plt.ylabel(\"True Positive Rate\")\n",
    "    plt.title(\"ROC for family test result problem\")\n",
    "    plt.legend(loc=\"lower right\")\n",
    "    plt.show()"
   ]
  },
  {
   "cell_type": "code",
   "execution_count": null,
   "metadata": {},
   "outputs": [],
   "source": [
    "# Save true value of X in Z, as the correct label of data:\n",
    "Z=X\n",
    "np.sum(Z)"
   ]
  },
  {
   "cell_type": "code",
   "execution_count": null,
   "metadata": {},
   "outputs": [],
   "source": [
    "F=Family"
   ]
  },
  {
   "cell_type": "markdown",
   "metadata": {},
   "source": [
    "# Adding noise to YF:"
   ]
  },
  {
   "cell_type": "code",
   "execution_count": null,
   "metadata": {},
   "outputs": [],
   "source": [
    "%store YF\n",
    "%store params"
   ]
  },
  {
   "cell_type": "code",
   "execution_count": null,
   "metadata": {},
   "outputs": [],
   "source": [
    "noise_percent=.1\n",
    "YF_noisey=add_noise(YF,noise_percent,unique_rows)"
   ]
  },
  {
   "cell_type": "code",
   "execution_count": null,
   "metadata": {},
   "outputs": [],
   "source": [
    "U=10\n",
    "K=10\n",
    "J=10"
   ]
  },
  {
   "cell_type": "code",
   "execution_count": null,
   "metadata": {
    "scrolled": true
   },
   "outputs": [],
   "source": [
    "# Main code to run entire Gibbs algorithm U times:\n",
    "Zflat = np.hstack(Z)\n",
    "XX=[]\n",
    "for j in range(J):\n",
    "    params=initialize_parameters(a_alpha,b_alpha,a_beta,b_beta,a_betaf,b_betaf,a_gama,b_gama,a_teta0,b_teta0,a_teta1,b_teta1)\n",
    "    #params=np.array([0.019 , 0.0118, 0.0841, 0.173 , 0.014 , 0.97  ])\n",
    "    X=Forward_Sampling(T,n,G,F,params)\n",
    "    #X=Z\n",
    "    print(\"Forward_Sampling\",j,\"\\n\",\"\\n\",X)\n",
    "    print(\"Start Gibbs Sampling:\")\n",
    "    mylist=[]\n",
    "    accuracy=[]\n",
    "    for i in range(U):\n",
    "        print(\"************************************************ Iteration\",i,\"************************************************\")\n",
    "        print(\"Current Parameters:\",params)\n",
    "        now = datetime.now()\n",
    "        current_time = now.strftime(\"%H:%M:%S\")\n",
    "        print(\"Current Time is :\", current_time)\n",
    "        X=Calculate_X(Z,K,T,X,G,F,Y,params)\n",
    "        prm=Params(R,G,F,X,n,T,Y,params)\n",
    "        params=prm[0]\n",
    "        R=prm[1]\n",
    "        Xflat = np.hstack(X)\n",
    "    #result = 1 - spatial.distance.cosine(Zflat, Xflat)\n",
    "        result=accuracy_score(Xflat, Zflat,normalize=True)\n",
    "        print(\"Accuracy:\",result)\n",
    "        accuracy.append(result)\n",
    "    XX.append(X)    \n",
    "    myList = list(range(U))\n",
    "    iteration=np.array(myList)\n",
    "    Accuracy=np.array(accuracy)\n",
    "    label=\"Sample:\"+str(j)\n",
    "    plt.figure()\n",
    "    plt.plot(iteration,Accuracy,label=label ) \n",
    "    plt.legend()\n",
    "    now = datetime.now()\n",
    "    current_time = now.strftime(\"%H:%M:%S\")\n",
    "    print(\"Current Time is :\", current_time)\n",
    "winsound.Beep(freq, duration) "
   ]
  },
  {
   "cell_type": "code",
   "execution_count": null,
   "metadata": {},
   "outputs": [],
   "source": [
    "def estimate_Y(Family,X,params):\n",
    "    theta_0=params[4]\n",
    "    theta_1=params[5]\n",
    "    unique_rows = np.unique(Family, axis=0)\n",
    "    nf=unique_rows.shape[0]\n",
    "    YF=np.zeros((nf,T))\n",
    "    for t in range(T):\n",
    "        for i in range(nf):\n",
    "            number_of_members_in_family=np.sum(unique_rows[i])\n",
    "            number_of_infected_members_in_family=unique_rows[i].dot(X.T[t])\n",
    "            number_of_healthy_members_in_family= number_of_members_in_family-number_of_infected_members_in_family\n",
    "            py1=(theta_0_*number_of_healthy_members_in_family+theta_1_*number_of_infected_members_in_family)/ number_of_members_in_family\n",
    "            py0=((1-theta_0_)*number_of_healthy_members_in_family+(1-theta_1_)*number_of_infected_members_in_family)/ number_of_members_in_family\n",
    "            l=py1/(py1+py0)\n",
    "            YF[i,t]=np.random.binomial( 1, l,size=None)\n",
    "    return YF"
   ]
  }
 ],
 "metadata": {
  "kernelspec": {
   "display_name": "Python 3",
   "language": "python",
   "name": "python3"
  },
  "language_info": {
   "codemirror_mode": {
    "name": "ipython",
    "version": 3
   },
   "file_extension": ".py",
   "mimetype": "text/x-python",
   "name": "python",
   "nbconvert_exporter": "python",
   "pygments_lexer": "ipython3",
   "version": "3.8.5"
  }
 },
 "nbformat": 4,
 "nbformat_minor": 4
}
