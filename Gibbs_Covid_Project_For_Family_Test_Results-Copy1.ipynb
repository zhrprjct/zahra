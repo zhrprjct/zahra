{
 "cells": [
  {
   "cell_type": "markdown",
   "metadata": {},
   "source": [
    "# Python code of Gibbs sampling model for family test result Covid problem"
   ]
  },
  {
   "cell_type": "code",
   "execution_count": 1,
   "metadata": {},
   "outputs": [],
   "source": [
    "# import neccessary libraries\n",
    "import numpy as np\n",
    "import random\n",
    "from datetime import datetime\n",
    "from scipy.stats import beta\n",
    "from sklearn.metrics import accuracy_score\n",
    "import winsound\n",
    "import matplotlib.pyplot as plt\n",
    "from scipy import spatial\n",
    "duration = 1000  # milliseconds\n",
    "freq = 440  # Hz"
   ]
  },
  {
   "cell_type": "code",
   "execution_count": 2,
   "metadata": {},
   "outputs": [],
   "source": [
    "# function to count the number of infected neighbores of i at t:\n",
    "def CNbr(G,X,n,T):\n",
    "    C=np.zeros((T,n))\n",
    "    for t in range(T):\n",
    "        C[t]=G[t].dot(X.T[t])\n",
    "    return C.T"
   ]
  },
  {
   "cell_type": "code",
   "execution_count": 3,
   "metadata": {},
   "outputs": [],
   "source": [
    "# Function to obtain the very initial sample of X, using forwad sampling:\n",
    "def Forward_Sampling(T,n,G,F,param):\n",
    "    alpha_=param[0]\n",
    "    beta_=param[1]\n",
    "    betaf=param[2]\n",
    "    gama_=param[3]\n",
    "    p0=P\n",
    "    p1=np.round(1-P,1)\n",
    "    x=int(np.round(((1-P)*n),0))\n",
    "    X=np.zeros((n,T))  \n",
    "    idx=np.random.choice(range(n), x)\n",
    "    X[idx,0]=1\n",
    "    infected_neighbore=CNbr(G,X,n,T)\n",
    "    for t in range(T-1):\n",
    "        cf=F.dot(X.T[t])\n",
    "        for i in range(n):\n",
    "            c=infected_neighbore[i,t]\n",
    "            if X[i,t]==0:\n",
    "                p0=(1-alpha_-beta_*c-betaf*cf[i])\n",
    "                p1=(alpha_+beta_*c+betaf*cf[i])\n",
    "            else:\n",
    "                p0=(gama_)\n",
    "                p1=(1-gama_)\n",
    "            if p0+p1==0:\n",
    "                l=0.5\n",
    "            else:\n",
    "                l=p1/(p0+p1)\n",
    "            X[i,t+1]=np.random.binomial( 1, l,size=None)\n",
    "    return X"
   ]
  },
  {
   "cell_type": "code",
   "execution_count": 4,
   "metadata": {},
   "outputs": [],
   "source": [
    "# function to calculate transition probability of individual j from time step t to t+1:\n",
    "def transition(X,t,G,F,j,param):\n",
    "    alpha_=param[0]\n",
    "    beta_=param[1]\n",
    "    betaf=param[2]\n",
    "    gama_=param[3]\n",
    "    c=G[t].dot(X.T[t])[j]\n",
    "    number_of_infected_members_in_family=F.dot(X.T[t])[j]\n",
    "    k=X[j,t]-2*X[j,t+1]\n",
    "    if k==0:\n",
    "        return 1-alpha_-beta_*c-betaf*number_of_infected_members_in_family\n",
    "    elif k==-2:\n",
    "        return alpha_+beta_*c+betaf*number_of_infected_members_in_family\n",
    "    elif k==1:\n",
    "        return gama_\n",
    "    else:\n",
    "        return 1-gama_\n",
    "    "
   ]
  },
  {
   "cell_type": "code",
   "execution_count": 5,
   "metadata": {},
   "outputs": [],
   "source": [
    "# function to sample X, using Gibbs Sampling:\n",
    "def Sample_hidden_state(X,G,F,unique_rows,Y,param,t):\n",
    "    \n",
    "    alpha_=param[0]\n",
    "    beta_=param[1]\n",
    "    betaf=param[2]\n",
    "    gama_=param[3]\n",
    "    theta_0_=param[4]\n",
    "    theta_1_=param[5]\n",
    "    \n",
    "    for i in range(n):\n",
    "        p_0,p_1=0,0\n",
    "        if t==0:\n",
    "            p_0,p_1=P,1-P\n",
    "        else:\n",
    "            p_0,p_1=1,1\n",
    "        pow0=1-Y[i,t]\n",
    "        pow1=Y[i,t]\n",
    "        number_of_members_in_family=np.sum(unique_rows[family_index(i,unique_rows)])\n",
    "        X[i,t]=0\n",
    "        number_of_infected_members_in_family0=F.dot(X.T[t])[i]\n",
    "        number_of_healthy_members_in_family0=number_of_members_in_family-number_of_infected_members_in_family0\n",
    "        # emission probability when sample is X[i,t]=0:\n",
    "        p_0=(1/number_of_members_in_family)*p_0*((1-theta_0_)*number_of_healthy_members_in_family0+(1-theta_1_)*number_of_infected_members_in_family0)**pow0*(theta_1_*number_of_infected_members_in_family0+theta_0_*number_of_healthy_members_in_family0)**pow1\n",
    "        if (t==0):\n",
    "            c=G[t].dot(X.T[t])[i]\n",
    "        else:    \n",
    "            c=G[t-1].dot(X.T[t-1])[i]\n",
    "    \n",
    "        if t!=0:\n",
    "            # transition probability of i from t-1 to t, when sample is X[i,t]=0:\n",
    "            if X[i,t-1]==0:\n",
    "                p_0=p_0*(1-alpha_-beta_*c-betaf*number_of_infected_members_in_family0)\n",
    "            else:\n",
    "                p_0=p_0*gama_\n",
    "        # emission probability when sample is X[i,t]=1:\n",
    "        X[i,t]=1\n",
    "        number_of_infected_members_in_family1=F.dot(X.T[t])[i]\n",
    "        number_of_healthy_members_in_family1=number_of_members_in_family-number_of_infected_members_in_family1\n",
    "        p_1=(1/number_of_members_in_family)*p_1*((1-theta_0_)*number_of_healthy_members_in_family1+(1-theta_1_)*number_of_infected_members_in_family1)**pow0*(theta_1_*number_of_infected_members_in_family1+theta_0_*number_of_healthy_members_in_family1)**pow1\n",
    "\n",
    "        if (t==0):\n",
    "            c=G[t].dot(X.T[t])[i]\n",
    "        else:    \n",
    "            c=G[t-1].dot(X.T[t-1])[i]\n",
    "        if t!=0:\n",
    "            # transition probability of i, when sample is X[i,t]=1:\n",
    "            if X[i,t-1]==0:\n",
    "                p_1=p_1*(alpha_+beta_*c+betaf*number_of_infected_members_in_family0)\n",
    "            else:\n",
    "                p_1=p_1*(1-gama_)\n",
    "        family_members=unique_rows[family_index(i,unique_rows)]\n",
    "        # transition probability of i's neighbores and family members, from t to t+1:\n",
    "        if t!=T-1:        \n",
    "            X[i,t]=0\n",
    "            for j in np.where(family_members==1)[0]:\n",
    "                p_0=p_0*transition(X,t,G,F,j,param)\n",
    "            for j in np.where(G[t][i]==1)[0]:\n",
    "                if j!=i:\n",
    "                    p_0=p_0*transition(X,t,G,F,j,param)\n",
    "            X[i,t]=1\n",
    "            for j in np.where(family_members==1)[0]:\n",
    "                p_1=p_1*transition(X,t,G,F,j,param)\n",
    "            for j in np.where(G[t][i]==1)[0]:\n",
    "                p_1=p_1*transition(X,t,G,F,j,param)\n",
    "        \n",
    "        if p_0+p_1==0:            \n",
    "            l=0.5\n",
    "        else:\n",
    "            l=p_1/(p_0+p_1)\n",
    "        if (l<0)|(l>1): \n",
    "            print(p_0,p_1)\n",
    "        X[i,t]=np.random.binomial( 1,  l,size=None)    \n",
    "        \n",
    "    return X    "
   ]
  },
  {
   "cell_type": "code",
   "execution_count": 6,
   "metadata": {},
   "outputs": [],
   "source": [
    "def Accuracy_(X,X_):\n",
    "    Xflat = np.hstack(X)\n",
    "    X_flat = np.hstack(X_)\n",
    "    result=accuracy_score(Xflat, X_flat,normalize=True)\n",
    "    return result"
   ]
  },
  {
   "cell_type": "code",
   "execution_count": 7,
   "metadata": {},
   "outputs": [],
   "source": [
    "# Gibbs sampling to obtain X, as new sample of posterior distribution:\n",
    "def Calculate_X(K,T,X,G,F1,Y,param):\n",
    "    accuracy=[]\n",
    "    myList =[]\n",
    "    for k in range(K):\n",
    "        for t in range(T):\n",
    "            X=Sample_hidden_state(X,G,F,unique_rows,Y,param,t)\n",
    "    return X                "
   ]
  },
  {
   "cell_type": "code",
   "execution_count": 8,
   "metadata": {},
   "outputs": [],
   "source": [
    "# function to sample new parameters and update parameters:\n",
    "def Params(R,G,F,X,n,T,Y,param):\n",
    "    \n",
    "    alpha_=param[0]\n",
    "    beta_=param[1]\n",
    "    betaf=param[2]\n",
    "    gama_=param[3]\n",
    "    theta_0_=param[4]\n",
    "    thata_1_=param[5]    \n",
    "   \n",
    "    TP=np.sum(np.multiply(unique_rows.dot(X),YF))\n",
    "    FP=np.count_nonzero(unique_rows.dot(X)-YF==-1)\n",
    "    \n",
    "    infected_neighbore=np.array(CNbr(G,X,n,T))\n",
    "    alpha_=Sample_alpha(a_alpha +  np.count_nonzero(R==0) , b_alpha +np.count_nonzero(X==0)- np.count_nonzero(R==0))\n",
    "    beta_=Sample_beta(a_beta + np.count_nonzero(R==2) , b_beta +np.sum(np.multiply((1-X),infected_neighbore))-np.count_nonzero(R==2))\n",
    "    betaf=Sample_betaf(a_betaf + np.count_nonzero(R==3) , b_betaf +np.sum(np.multiply((1-X),F.dot(X)))-np.count_nonzero(R==3))\n",
    "    gama_=Sample_gama(a_gama +np.count_nonzero((X[:,:-1]-X[:,1:])==1), b_gama+np.sum(X)-np.count_nonzero((X[:,:-1]-X[:,1:])==1))\n",
    "    theta_0_=Sample_theta0( a_teta0+FP,b_teta0+np.count_nonzero((unique_rows.dot(X))==0)-FP)\n",
    "    theta_1_=Sample_theta1( a_teta1+TP,b_teta1+np.sum(unique_rows.dot(X))-TP)\n",
    "    \n",
    "    R=R_(G,X,params)\n",
    "    param=[alpha_,beta_,betaf,gama_,theta_0_,theta_1_]\n",
    "    return param,R"
   ]
  },
  {
   "cell_type": "markdown",
   "metadata": {},
   "source": [
    "# Functions to sample from beta distribution\n"
   ]
  },
  {
   "cell_type": "code",
   "execution_count": 9,
   "metadata": {},
   "outputs": [],
   "source": [
    "def Sample_alpha(a_alpha, b_alpha):\n",
    "    for i in beta.rvs(a_alpha, b_alpha, size=10000):\n",
    "        print(\"0\",i,a_beta,b_beta)\n",
    "        if (i>0.001)&(i<0.2):\n",
    "            alpha_=round(i,3)\n",
    "            break\n",
    "    return alpha_        \n"
   ]
  },
  {
   "cell_type": "code",
   "execution_count": 10,
   "metadata": {},
   "outputs": [],
   "source": [
    "def Sample_beta(a_beta, b_beta):\n",
    "    for i in beta.rvs(a_beta, b_beta, size=10000):\n",
    "        print(\"1\",i,a_beta,b_beta)\n",
    "        if (i>0.001)&(i<0.0451):\n",
    "            beta_=round(i,4)\n",
    "            break\n",
    "    return beta_        "
   ]
  },
  {
   "cell_type": "code",
   "execution_count": 11,
   "metadata": {},
   "outputs": [],
   "source": [
    "def Sample_betaf(a_betaf, b_betaf):\n",
    "    for i in beta.rvs(a_betaf, b_betaf, size=10000):\n",
    "        print(\"2\",i,a_betaf, b_betaf)\n",
    "        if (i>0.002)&(i<0.5):\n",
    "            betaf=round(i,4)\n",
    "            break\n",
    "    return betaf        "
   ]
  },
  {
   "cell_type": "code",
   "execution_count": 12,
   "metadata": {},
   "outputs": [],
   "source": [
    "def Sample_gama(a_gama,b_gama):\n",
    "    for i in beta.rvs(a_gama, b_gama, size=10000):\n",
    "        print(\"3\",i,a_gama,b_gama) \n",
    "        if (i>0.1)&(i<0.5):\n",
    "            gama_=round(i,3)\n",
    "            break\n",
    "    return gama_  "
   ]
  },
  {
   "cell_type": "code",
   "execution_count": 13,
   "metadata": {},
   "outputs": [],
   "source": [
    "def Sample_theta0(a_teta0, b_teta0):\n",
    "    for i in beta.rvs(a_teta0, b_teta0, size=10000):\n",
    "        print(\"4\",i,a_teta0,b_teta0)\n",
    "        if (i>0.01)&(i<0.51):\n",
    "            theta_0_=round(i,3)\n",
    "            break\n",
    "    return theta_0_  "
   ]
  },
  {
   "cell_type": "code",
   "execution_count": 14,
   "metadata": {},
   "outputs": [],
   "source": [
    "def Sample_theta1(a_teta1, b_teta1):\n",
    "    for i in beta.rvs(a_teta1, b_teta1, size=10000):\n",
    "        print(\"5\",i,a_teta1,b_teta1)\n",
    "        if 0.990>i>0.5:\n",
    "            theta_1_=round(i,3)\n",
    "            break\n",
    "    return theta_1_  "
   ]
  },
  {
   "cell_type": "code",
   "execution_count": 15,
   "metadata": {},
   "outputs": [
    {
     "ename": "IndentationError",
     "evalue": "unexpected indent (<ipython-input-15-7927aefdcd82>, line 3)",
     "output_type": "error",
     "traceback": [
      "\u001b[1;36m  File \u001b[1;32m\"<ipython-input-15-7927aefdcd82>\"\u001b[1;36m, line \u001b[1;32m3\u001b[0m\n\u001b[1;33m    return beta.rvs(a_alpha, b_alpha, size=1)[0]\u001b[0m\n\u001b[1;37m    ^\u001b[0m\n\u001b[1;31mIndentationError\u001b[0m\u001b[1;31m:\u001b[0m unexpected indent\n"
     ]
    }
   ],
   "source": [
    "#def Sample_alpha(a_alpha, b_alpha):\n",
    "    \n",
    "    return beta.rvs(a_alpha, b_alpha, size=1)[0]        \n"
   ]
  },
  {
   "cell_type": "code",
   "execution_count": null,
   "metadata": {},
   "outputs": [],
   "source": [
    "#def Sample_beta(a_beta, b_beta):\n",
    "    return beta.rvs(a_beta, b_beta, size=1)[0]       "
   ]
  },
  {
   "cell_type": "code",
   "execution_count": null,
   "metadata": {},
   "outputs": [],
   "source": [
    "#def Sample_betaf(a_betaf, b_betaf):\n",
    "     return beta.rvs(a_betaf, b_betaf, size=1)[0]        "
   ]
  },
  {
   "cell_type": "code",
   "execution_count": null,
   "metadata": {},
   "outputs": [],
   "source": [
    "#def Sample_gama(a_gama,b_gama):\n",
    "    \n",
    "    return beta.rvs(a_gama, b_gama, size=1)[0]  "
   ]
  },
  {
   "cell_type": "code",
   "execution_count": null,
   "metadata": {},
   "outputs": [],
   "source": [
    "#def Sample_theta0(a_teta0, b_teta0):\n",
    "    return beta.rvs(a_teta0, b_teta0, size=1)[0]  "
   ]
  },
  {
   "cell_type": "code",
   "execution_count": null,
   "metadata": {},
   "outputs": [],
   "source": [
    "#def Sample_theta1(a_teta1, b_teta1):\n",
    "    \n",
    "    return beta.rvs(a_teta1, b_teta1, size=1)[0]"
   ]
  },
  {
   "cell_type": "code",
   "execution_count": 19,
   "metadata": {},
   "outputs": [],
   "source": [
    "# function to add noise to observation vector, in order to test the model performance:\n",
    "def add_noise(YF,noise_percent,unique_rows):\n",
    "    \n",
    "    number_of_families=unique_rows.shape[0]\n",
    "    indx=random.sample(range(number_of_families), number_of_families)\n",
    "    tndx=random.sample(range(T), int(noise_percent*T))\n",
    "    for i in indx:\n",
    "        for t in tndx:\n",
    "            YF[i,t]=(YF[i,t]+1)*(1-YF[i,t])\n",
    "    return YF        "
   ]
  },
  {
   "cell_type": "code",
   "execution_count": 20,
   "metadata": {},
   "outputs": [],
   "source": [
    "# funtion to retun related family index of individual i:\n",
    "def family_index(i,unique_rows):\n",
    "    for j in range(n):\n",
    "        if unique_rows[j,i]==1:\n",
    "            return j"
   ]
  },
  {
   "cell_type": "code",
   "execution_count": 21,
   "metadata": {},
   "outputs": [],
   "source": [
    "# function to define auxiliary variable R_(n,t):\n",
    "def R_(G,X,params):\n",
    "    alpha_,beta_,betaf,gama_,theta_0_,theta_1_=params[0],params[1],params[2],params[3],params[4],params[5]\n",
    "    infected_neighbore=np.array(CNbr(G,X,n,T))\n",
    "    R=np.zeros((n,T))+1\n",
    "    for i in range(n):\n",
    "        for t in range(T-1):\n",
    "            c=int(infected_neighbore[i,t])\n",
    "            cf=int(F.dot(X.T[t])[i])\n",
    "            pr_a=alpha_/(alpha_+beta_*c+betaf*cf)\n",
    "            pr_b=beta_/(alpha_+beta_*c+betaf*cf)\n",
    "            pr_bf=betaf/(alpha_+beta_*c+betaf*cf)\n",
    "            v=np.random.multinomial(1, [pr_a]+[pr_b]*c+[pr_bf]*cf)\n",
    "            if (X[i][t]==0)&(X[i][t+1]==1):\n",
    "                if v[0]==1:\n",
    "                    R[i,t]=0\n",
    "                elif (cf!=0):\n",
    "                    if ((v[-cf:]==1).any()):\n",
    "                        R[i,t]=3\n",
    "                else:    \n",
    "                    R[i,t]=2\n",
    "    return R"
   ]
  },
  {
   "cell_type": "code",
   "execution_count": 22,
   "metadata": {},
   "outputs": [],
   "source": [
    "# function to estimate YF from estimated X:\n",
    "def estimate_Y(Family,X,params):\n",
    "    theta_0_=params[4]\n",
    "    theta_1_=params[5]\n",
    "    unique_rows = np.unique(Family, axis=0)\n",
    "    nf=unique_rows.shape[0]\n",
    "    YF=np.zeros((nf,T))\n",
    "    for t in range(T):\n",
    "        for i in range(nf):\n",
    "            number_of_members_in_family=np.sum(unique_rows[i])\n",
    "            number_of_infected_members_in_family=unique_rows[i].dot(X.T[t])\n",
    "            number_of_healthy_members_in_family= number_of_members_in_family-number_of_infected_members_in_family\n",
    "            py1=(theta_0_*number_of_healthy_members_in_family+theta_1_*number_of_infected_members_in_family)/ number_of_members_in_family\n",
    "            py0=((1-theta_0_)*number_of_healthy_members_in_family+(1-theta_1_)*number_of_infected_members_in_family)/ number_of_members_in_family\n",
    "            l=py1/(py1+py0)\n",
    "            YF[i,t]=np.random.binomial( 1, l,size=None)\n",
    "    return YF"
   ]
  },
  {
   "cell_type": "code",
   "execution_count": 23,
   "metadata": {},
   "outputs": [],
   "source": [
    "# Function to generates synthetic dataset\n",
    "def Synthetic_Data(n,T,y,params,number_families):\n",
    "    alpha_,beta_,betaf,gama_,theta_0_,theta_1_=params[0],params[1],params[2],params[3],params[4],params[5]\n",
    "    x=int(np.round(((1-P)*n),0))\n",
    "    X=np.zeros((n,T))\n",
    "    idx=np.random.choice(range(n), x)\n",
    "    X[idx,0]=1\n",
    "    # Random social network\n",
    "    G=[]\n",
    "    for j in range(T):\n",
    "        g=np.identity(n,dtype=int)\n",
    "        for i in range(n):\n",
    "            indx=np.random.choice(range(i,n), y)\n",
    "            for inx in indx:\n",
    "                g[i,inx]=1  \n",
    "                g[inx,i]=1\n",
    "        G.append(g)\n",
    "    G=np.array(G)\n",
    "    # Synthetize Family matrix:\n",
    "    a=list(range(n))\n",
    "    Family=np.identity(n,dtype=int)\n",
    "    for i in range(1,number_families):\n",
    "        number_family_members=np.random.randint(2, 5)\n",
    "        inx=random.sample(list(a), number_family_members)\n",
    "        a=set(a).difference(inx)\n",
    "        for j in inx:\n",
    "            for k in inx:\n",
    "                Family[j,k]=1  \n",
    "    G=G-Family\n",
    "    G=G+np.identity(n,dtype=int)\n",
    "    G = np.where(G <0, 0, G)\n",
    "    # Synthetize X, using params,G, Family and transition probability:\n",
    "    for t in range(T-1):\n",
    "        for i in range(n):\n",
    "            infected_neighbore=CNbr(G,X,n,T)\n",
    "            cf=int(Family.dot(X.T[t])[i])\n",
    "            c=infected_neighbore[i,t]\n",
    "            if X[i,t]==0:\n",
    "                p0=1-alpha_-beta_*c-betaf*cf\n",
    "                p1=alpha_+beta_*c+betaf*cf\n",
    "            else:\n",
    "                p0=gama_\n",
    "                p1=1-gama_\n",
    "            if p0+p1==0:\n",
    "                l=0.5\n",
    "            else:\n",
    "                l=p1/(p0+p1)\n",
    "            X[i,t+1]=np.random.binomial( 1, l,size=None) \n",
    "\n",
    "    # Synthetize Y, using params, G, X, emission probability:\n",
    "    unique_rows = np.unique(Family, axis=0)\n",
    "    nf=unique_rows.shape[0]\n",
    "    YF=np.zeros((nf,T))\n",
    "    for t in range(T):\n",
    "        for i in range(nf):\n",
    "            number_of_members_in_family=np.sum(unique_rows[i])\n",
    "            number_of_infected_members_in_family=unique_rows[i].dot(X.T[t])\n",
    "            number_of_healthy_members_in_family= number_of_members_in_family-number_of_infected_members_in_family\n",
    "            py1=(theta_0_*number_of_healthy_members_in_family+theta_1_*number_of_infected_members_in_family)/ number_of_members_in_family\n",
    "            py0=((1-theta_0_)*number_of_healthy_members_in_family+(1-theta_1_)*number_of_infected_members_in_family)/ number_of_members_in_family\n",
    "            l=py1/(py1+py0)\n",
    "            YF[i,t]=np.random.binomial( 1, l,size=None) \n",
    "    return G,YF,X,Family           "
   ]
  },
  {
   "cell_type": "code",
   "execution_count": 24,
   "metadata": {},
   "outputs": [],
   "source": [
    "# function to sample infection and emission parameters(alpha,beta,betaf,gama,teta0,teta1)\n",
    "def initialize_parameters(hyper_params):\n",
    "    a_alpha=hyper_params[0]\n",
    "    b_alpha=hyper_params[1]\n",
    "    a_beta=hyper_params[2]\n",
    "    b_beta=hyper_params[3]\n",
    "    a_betaf=hyper_params[4]\n",
    "    b_betaf=hyper_params[5]\n",
    "    a_gama=hyper_params[6]\n",
    "    b_gama=hyper_params[7]\n",
    "    a_teta0=hyper_params[8]\n",
    "    b_teta0=hyper_params[9]\n",
    "    a_teta1=hyper_params[10]\n",
    "    b_teta1=hyper_params[11]\n",
    "    alpha_=Sample_alpha(a_alpha, b_alpha)\n",
    "    beta_=Sample_beta(a_beta, b_beta)\n",
    "    betaf=Sample_betaf(a_betaf, b_betaf)\n",
    "    while alpha_>beta_:\n",
    "        alpha_=Sample_alpha(a_alpha, b_alpha)\n",
    "        beta_=Sample_beta(a_beta, b_beta)\n",
    "    while beta_>betaf:\n",
    "        betaf=Sample_betaf(a_betaf, b_betaf)\n",
    "    gama_=Sample_gama(a_gama,b_gama)\n",
    "    theta_0_=Sample_theta0(a_teta0, b_teta0)\n",
    "    theta_1_=Sample_theta1(a_teta1, b_teta1)\n",
    "    params=np.array([alpha_,beta_,betaf,gama_,theta_0_,theta_1_])\n",
    "    return params"
   ]
  },
  {
   "cell_type": "code",
   "execution_count": 25,
   "metadata": {},
   "outputs": [],
   "source": [
    "# initialize parameters for beta distributions:\n",
    "a_alpha=1\n",
    "b_alpha=100\n",
    "a_beta=1\n",
    "b_beta=100\n",
    "a_betaf=1\n",
    "b_betaf=50\n",
    "a_gama=1\n",
    "b_gama=2\n",
    "a_teta0=1\n",
    "b_teta0=100\n",
    "a_teta1=100\n",
    "b_teta1=1\n",
    "P=0.98\n",
    "epcilon=0.0001\n",
    "hyper_params=[a_alpha,b_alpha,a_beta,b_beta,a_betaf,b_betaf,a_gama,b_gama,a_teta0,b_teta0,a_teta1,b_teta1]"
   ]
  },
  {
   "cell_type": "code",
   "execution_count": 26,
   "metadata": {},
   "outputs": [
    {
     "name": "stdout",
     "output_type": "stream",
     "text": [
      "0 0.0251877638167921 1 100\n",
      "1 0.0077986683128867485 1 100\n",
      "2 0.0024313571990530495 1 50\n",
      "0 0.005122427316884919 1 100\n",
      "1 0.012407830142685816 1 100\n",
      "2 0.0187518064248171 1 50\n",
      "3 0.22171885382613787 1 2\n",
      "4 0.0022047146515331894 1 100\n",
      "4 0.0009134127787021089 1 100\n",
      "4 0.00245189619584532 1 100\n",
      "4 0.027391282787742385 1 100\n",
      "5 0.9859912380646477 100 1\n"
     ]
    },
    {
     "data": {
      "text/plain": [
       "array([0.005 , 0.0124, 0.0188, 0.222 , 0.027 , 0.986 ])"
      ]
     },
     "execution_count": 26,
     "metadata": {},
     "output_type": "execute_result"
    }
   ],
   "source": [
    "# parameter initialization:\n",
    "params=initialize_parameters(hyper_params)\n",
    "params"
   ]
  },
  {
   "cell_type": "code",
   "execution_count": 27,
   "metadata": {
    "scrolled": true
   },
   "outputs": [],
   "source": [
    "# Generate synthetic data,G ,Y:\n",
    "n,T,y=100,100,10\n",
    "number_families=33\n",
    "synthetic_data=Synthetic_Data(n,T,y,params,number_families)\n",
    "G,YF,X_true,Family =synthetic_data[0],synthetic_data[1],synthetic_data[2],synthetic_data[3]"
   ]
  },
  {
   "cell_type": "code",
   "execution_count": 28,
   "metadata": {},
   "outputs": [
    {
     "data": {
      "text/plain": [
       "1372.0"
      ]
     },
     "execution_count": 28,
     "metadata": {},
     "output_type": "execute_result"
    }
   ],
   "source": [
    "np.sum(X_true)"
   ]
  },
  {
   "cell_type": "code",
   "execution_count": 29,
   "metadata": {},
   "outputs": [],
   "source": [
    "F=Family"
   ]
  },
  {
   "cell_type": "code",
   "execution_count": 30,
   "metadata": {},
   "outputs": [],
   "source": [
    "unique_rows = np.unique(F.T, axis=0)"
   ]
  },
  {
   "cell_type": "markdown",
   "metadata": {},
   "source": [
    "# Adding noise to YF:"
   ]
  },
  {
   "cell_type": "code",
   "execution_count": 31,
   "metadata": {},
   "outputs": [
    {
     "name": "stdout",
     "output_type": "stream",
     "text": [
      "Stored 'YF' (ndarray)\n",
      "Stored 'params' (ndarray)\n",
      "Stored 'X_true' (ndarray)\n"
     ]
    }
   ],
   "source": [
    "%store YF\n",
    "%store params\n",
    "%store X_true"
   ]
  },
  {
   "cell_type": "code",
   "execution_count": 32,
   "metadata": {},
   "outputs": [],
   "source": [
    "Y=np.zeros((n,T))\n",
    "for i in range(n):\n",
    "    for j in range(unique_rows.shape[0]):\n",
    "        if unique_rows[j,i]==1:\n",
    "            Y[i,:]=YF[j,:]"
   ]
  },
  {
   "cell_type": "code",
   "execution_count": 33,
   "metadata": {},
   "outputs": [],
   "source": [
    "U=2\n",
    "K=2\n",
    "J=2"
   ]
  },
  {
   "cell_type": "code",
   "execution_count": 34,
   "metadata": {},
   "outputs": [
    {
     "data": {
      "text/plain": [
       "array([0.005 , 0.0124, 0.0188, 0.222 , 0.027 , 0.986 ])"
      ]
     },
     "execution_count": 34,
     "metadata": {},
     "output_type": "execute_result"
    }
   ],
   "source": [
    "params"
   ]
  },
  {
   "cell_type": "code",
   "execution_count": 35,
   "metadata": {
    "scrolled": true
   },
   "outputs": [],
   "source": [
    "# Main code to run entire Gibbs sampling algorithm U times:\n",
    "def Gibbs_train(hyper_params,T,n,G,F,Y,U,K,J):\n",
    "    \n",
    "    a_alpha=hyper_params[0]\n",
    "    b_alpha=hyper_params[1]\n",
    "    a_beta=hyper_params[2]\n",
    "    b_beta=hyper_params[3]\n",
    "    a_betaf=hyper_params[4]\n",
    "    b_betaf=hyper_params[5]\n",
    "    a_gama=hyper_params[6]\n",
    "    b_gama=hyper_params[7]\n",
    "    a_teta0=hyper_params[8]\n",
    "    b_teta0=hyper_params[9]\n",
    "    a_teta1=hyper_params[10]\n",
    "    b_teta1=hyper_params[11]\n",
    "    acc=[]  \n",
    "    XX=[]\n",
    "    for j in range(J):\n",
    "        params=initialize_parameters(hyper_params)\n",
    "        print(params)\n",
    "        X=Forward_Sampling(T,n,G,F,params)\n",
    "        print(\"Forward_Sampling\",j,\"\\n\",\"\\n\",X)\n",
    "        print(\"Start Gibbs Sampling:\")\n",
    "        mylist=[]\n",
    "        accuracy=[]\n",
    "        for i in range(U):\n",
    "            print(\"************************************************ Iteration\",i,\"************************************************\")\n",
    "            print(\"Current Parameters:\",params)\n",
    "            now = datetime.now()\n",
    "            current_time = now.strftime(\"%H:%M:%S\")\n",
    "            print(\"Current Time is :\", current_time)\n",
    "            X=Calculate_X(K,T,X,G,F,Y,params)\n",
    "            R=R_(G,X,params)\n",
    "            prm=Params(R,G,F,X,n,T,Y,params)\n",
    "            params=prm[0]\n",
    "            R=prm[1]\n",
    "        XX.append(X)    \n",
    "        now = datetime.now()\n",
    "        current_time = now.strftime(\"%H:%M:%S\")\n",
    "        print(\"Current Time is :\", current_time)\n",
    "    winsound.Beep(freq, duration) \n",
    "    return params, np.array(XX)"
   ]
  },
  {
   "cell_type": "code",
   "execution_count": 36,
   "metadata": {
    "scrolled": true
   },
   "outputs": [
    {
     "name": "stdout",
     "output_type": "stream",
     "text": [
      "0 0.0007339080417241247 1 100\n",
      "0 0.036945969797295516 1 100\n",
      "1 6.900082422802688e-05 1 100\n",
      "1 0.019702712238520388 1 100\n",
      "2 0.0707485228611862 1 50\n",
      "0 0.0070344401319740535 1 100\n",
      "1 0.007724782759337109 1 100\n",
      "3 0.02832109779565557 1 2\n",
      "3 0.18617836731589157 1 2\n",
      "4 0.004748228809939851 1 100\n",
      "4 0.009202624835616796 1 100\n",
      "4 0.0049429477131059186 1 100\n",
      "4 0.01858701733452592 1 100\n",
      "5 0.9976360448690034 100 1\n",
      "5 0.9941152043303016 100 1\n",
      "5 0.9838559219905838 100 1\n",
      "[0.007  0.0077 0.0707 0.186  0.019  0.984 ]\n",
      "Forward_Sampling 0 \n",
      " \n",
      " [[0. 0. 0. ... 0. 0. 0.]\n",
      " [0. 0. 0. ... 0. 0. 0.]\n",
      " [0. 0. 0. ... 0. 0. 0.]\n",
      " ...\n",
      " [0. 0. 0. ... 0. 0. 0.]\n",
      " [0. 0. 0. ... 0. 0. 0.]\n",
      " [0. 0. 0. ... 0. 0. 0.]]\n",
      "Start Gibbs Sampling:\n",
      "************************************************ Iteration 0 ************************************************\n",
      "Current Parameters: [0.007  0.0077 0.0707 0.186  0.019  0.984 ]\n",
      "Current Time is : 12:55:28\n",
      "0 0.0035076371115656036 1 100\n",
      "1 0.006530282526216579 19 3512.0\n",
      "2 0.022875549980258585 10 392.0\n",
      "3 0.29150633970615814 60 160.0\n",
      "4 0.13386347713015795 522 3386\n",
      "5 0.6214672622167016 201.0 117.0\n",
      "************************************************ Iteration 1 ************************************************\n",
      "Current Parameters: [0.004, 0.0065, 0.0229, 0.292, 0.134, 0.621]\n",
      "Current Time is : 12:55:51\n",
      "0 0.003596872236838487 1 100\n",
      "1 0.004027969527880133 9 2255.0\n",
      "2 0.0422702303544686 7 259.0\n",
      "3 0.2386883470264881 37 111.0\n",
      "4 0.13841948576819343 543 3426\n",
      "5 0.7102440784083122 176.0 70.0\n",
      "Current Time is : 12:56:14\n",
      "0 0.023592314997196787 1 100\n",
      "1 0.00019648309303648144 1 100\n",
      "1 0.009875265812328582 1 100\n",
      "2 0.0224080933077432 1 50\n",
      "0 0.0050030068838658555 1 100\n",
      "1 0.006583763925111423 1 100\n",
      "3 0.00015124812656274543 1 2\n",
      "3 0.4237223209148553 1 2\n",
      "4 0.030296061236065482 1 100\n",
      "5 0.9990930209948228 100 1\n",
      "5 0.9909389244535927 100 1\n",
      "5 0.9946271538446012 100 1\n",
      "5 0.9919491968498501 100 1\n",
      "5 0.9988931399803257 100 1\n",
      "5 0.9739332432947171 100 1\n",
      "[0.005  0.0066 0.0224 0.424  0.03   0.974 ]\n",
      "Forward_Sampling 1 \n",
      " \n",
      " [[0. 0. 0. ... 0. 0. 0.]\n",
      " [0. 0. 0. ... 0. 0. 0.]\n",
      " [0. 0. 0. ... 0. 0. 0.]\n",
      " ...\n",
      " [0. 0. 0. ... 0. 0. 0.]\n",
      " [0. 0. 0. ... 0. 0. 0.]\n",
      " [0. 0. 0. ... 0. 0. 0.]]\n",
      "Start Gibbs Sampling:\n",
      "************************************************ Iteration 0 ************************************************\n",
      "Current Parameters: [0.005  0.0066 0.0224 0.424  0.03   0.974 ]\n",
      "Current Time is : 12:56:14\n",
      "0 0.0031634396115671247 1 100\n",
      "1 0.00300080269819167 11 1599.0\n",
      "2 0.012481737667003926 2 205.0\n",
      "3 0.3802801105928864 41 54.0\n",
      "4 0.13465199516712073 552 3459\n",
      "5 0.848485852345738 159.0 34.0\n",
      "************************************************ Iteration 1 ************************************************\n",
      "Current Parameters: [0.003, 0.003, 0.0125, 0.38, 0.135, 0.848]\n",
      "Current Time is : 12:56:39\n",
      "0 0.0026466709727063667 1 100\n",
      "1 0.0027239419933529053 5 1149.0\n",
      "2 0.0021745427519365744 2 148.0\n",
      "3 0.3431227764144232 25 44.0\n",
      "4 0.13383973297276375 568 3470\n",
      "5 0.8357298602841231 143.0 24.0\n",
      "Current Time is : 12:57:03\n"
     ]
    }
   ],
   "source": [
    "Train=Gibbs_train(hyper_params,T,n,G,F,Y,U,K,J)"
   ]
  },
  {
   "cell_type": "code",
   "execution_count": 37,
   "metadata": {},
   "outputs": [],
   "source": [
    "trained_params=Train[0]"
   ]
  },
  {
   "cell_type": "code",
   "execution_count": 39,
   "metadata": {},
   "outputs": [
    {
     "name": "stdout",
     "output_type": "stream",
     "text": [
      "[0.8625, 0.8622]\n"
     ]
    }
   ],
   "source": [
    "%store -r X_true\n",
    "accuracy=[]\n",
    "for j in range(J):\n",
    "    X=Train[1][j]\n",
    "    accuracy.append(Accuracy_(X,X_true))\n",
    "print(accuracy)    "
   ]
  },
  {
   "cell_type": "markdown",
   "metadata": {},
   "source": [
    "# Test the trained model:"
   ]
  },
  {
   "cell_type": "code",
   "execution_count": 40,
   "metadata": {
    "scrolled": true
   },
   "outputs": [],
   "source": [
    "# Main code to run entire Gibbs sampling algorithm U times:\n",
    "def Gibbs_test(param,T,n,G,F,Y,K,J):\n",
    "    \n",
    "    alpha_=param[0]\n",
    "    beta_=param[1]\n",
    "    betaf=param[2]\n",
    "    gama_=param[3]\n",
    "    theta_0_=param[4]\n",
    "    thata_1_=param[5] \n",
    "    acc=[]  \n",
    "    XX=[]\n",
    "    for j in range(J):\n",
    "        \n",
    "        print(params)\n",
    "        X=Forward_Sampling(T,n,G,F,params)\n",
    "        print(\"Forward_Sampling\",j,\"\\n\",\"\\n\",X)\n",
    "        print(\"Start Gibbs Sampling:\")\n",
    "        X=Calculate_X(K,T,X,G,F,Y,params)\n",
    "        \n",
    "        XX.append(X)    \n",
    "        now = datetime.now()\n",
    "        current_time = now.strftime(\"%H:%M:%S\")\n",
    "        print(\"Current Time is :\", current_time)\n",
    "    winsound.Beep(freq, duration) \n",
    "    return np.array(XX)"
   ]
  },
  {
   "cell_type": "code",
   "execution_count": 41,
   "metadata": {},
   "outputs": [],
   "source": [
    "noise_percent=.1\n",
    "YF_noisey=add_noise(YF,noise_percent,unique_rows)"
   ]
  },
  {
   "cell_type": "code",
   "execution_count": 42,
   "metadata": {},
   "outputs": [],
   "source": [
    "params=trained_params"
   ]
  },
  {
   "cell_type": "code",
   "execution_count": 43,
   "metadata": {},
   "outputs": [],
   "source": [
    "Y=np.zeros((n,T))\n",
    "for i in range(n):\n",
    "    for j in range(unique_rows.shape[0]):\n",
    "        if unique_rows[j,i]==1:\n",
    "            Y[i,:]=YF_noisey[j,:]"
   ]
  },
  {
   "cell_type": "code",
   "execution_count": null,
   "metadata": {},
   "outputs": [
    {
     "name": "stdout",
     "output_type": "stream",
     "text": [
      "[0.003, 0.0027, 0.0022, 0.343, 0.134, 0.836]\n",
      "Forward_Sampling 0 \n",
      " \n",
      " [[0. 0. 0. ... 0. 0. 0.]\n",
      " [0. 0. 0. ... 0. 0. 0.]\n",
      " [0. 0. 0. ... 0. 0. 0.]\n",
      " ...\n",
      " [0. 0. 0. ... 0. 0. 0.]\n",
      " [0. 0. 0. ... 0. 0. 0.]\n",
      " [0. 0. 0. ... 0. 0. 0.]]\n",
      "Start Gibbs Sampling:\n",
      "Current Time is : 13:04:54\n",
      "[0.003, 0.0027, 0.0022, 0.343, 0.134, 0.836]\n",
      "Forward_Sampling 1 \n",
      " \n",
      " [[0. 0. 0. ... 0. 0. 0.]\n",
      " [0. 0. 0. ... 0. 0. 0.]\n",
      " [0. 0. 0. ... 0. 0. 0.]\n",
      " ...\n",
      " [0. 0. 0. ... 0. 0. 0.]\n",
      " [0. 0. 0. ... 0. 0. 0.]\n",
      " [0. 0. 0. ... 0. 0. 0.]]\n",
      "Start Gibbs Sampling:\n",
      "Current Time is : 13:05:15\n"
     ]
    }
   ],
   "source": [
    "Test=Gibbs_test(params,T,n,G,F,Y,K,J)"
   ]
  },
  {
   "cell_type": "code",
   "execution_count": null,
   "metadata": {},
   "outputs": [],
   "source": [
    "accuracy=[]\n",
    "for j in range(J):\n",
    "    YF_=estimate_Y(Family,Test[j],params)\n",
    "    accuracy.append(Accuracy_(YF_,YF))\n",
    "print(accuracy)    "
   ]
  },
  {
   "cell_type": "code",
   "execution_count": null,
   "metadata": {},
   "outputs": [],
   "source": [
    "estimate_Y(Family,X,params)"
   ]
  },
  {
   "cell_type": "markdown",
   "metadata": {},
   "source": [
    "# Test the trained model:"
   ]
  },
  {
   "cell_type": "code",
   "execution_count": null,
   "metadata": {},
   "outputs": [],
   "source": [
    "accuracy=[]\n",
    "for j in range(J):\n",
    "    YF_=estimate_Y(Family,Train[1][j],params)\n",
    "    accuracy.append(Accuracy_(YF_,YF))\n",
    "print(accuracy)    "
   ]
  },
  {
   "cell_type": "code",
   "execution_count": null,
   "metadata": {},
   "outputs": [],
   "source": []
  }
 ],
 "metadata": {
  "kernelspec": {
   "display_name": "Python 3",
   "language": "python",
   "name": "python3"
  },
  "language_info": {
   "codemirror_mode": {
    "name": "ipython",
    "version": 3
   },
   "file_extension": ".py",
   "mimetype": "text/x-python",
   "name": "python",
   "nbconvert_exporter": "python",
   "pygments_lexer": "ipython3",
   "version": "3.8.5"
  }
 },
 "nbformat": 4,
 "nbformat_minor": 4
}
