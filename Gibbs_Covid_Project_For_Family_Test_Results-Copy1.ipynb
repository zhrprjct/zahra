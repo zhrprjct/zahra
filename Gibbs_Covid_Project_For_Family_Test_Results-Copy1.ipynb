{
 "cells": [
  {
   "cell_type": "markdown",
   "metadata": {},
   "source": [
    "# Python code of Gibbs sampling model for family test result Covid problem"
   ]
  },
  {
   "cell_type": "code",
   "execution_count": 4,
   "metadata": {},
   "outputs": [],
   "source": [
    "# import neccessary libraries\n",
    "import numpy as np\n",
    "import random\n",
    "import sympy as sym\n",
    "from joblib import Parallel, delayed\n",
    "from sympy import *\n",
    "from sympy import symbols\n",
    "from sympy.plotting import plot, plot3d\n",
    "from datetime import datetime\n",
    "from scipy.stats import beta\n",
    "from sklearn.metrics import accuracy_score\n",
    "import winsound\n",
    "import matplotlib.pyplot as plt\n",
    "from scipy import spatial\n",
    "duration = 1000  # milliseconds\n",
    "freq = 440  # Hz"
   ]
  },
  {
   "cell_type": "code",
   "execution_count": 5,
   "metadata": {},
   "outputs": [],
   "source": [
    "# function to count the number of the infected neighbores of i at t:\n",
    "def CNbr(G,X,n,T):\n",
    "    C=np.zeros((T,n))\n",
    "    for t in range(T):\n",
    "        C[t]=G[t].dot(X.T[t])\n",
    "    return C.T"
   ]
  },
  {
   "cell_type": "code",
   "execution_count": 6,
   "metadata": {},
   "outputs": [],
   "source": [
    "# Function to obtain the very initial sample of X, using forwad sampling:\n",
    "def Forward_Sampling(T,n,G,F,param):\n",
    "    alpha_=param[0]\n",
    "    bata_=param[1]\n",
    "    bataf=param[2]\n",
    "    gama_=param[3]\n",
    "    p0=P\n",
    "    p1=1-P\n",
    "    x=int(np.round(((1-P)*n),0))\n",
    "    X=np.zeros((n,T))  \n",
    "    idx=np.random.choice(range(n), x)\n",
    "    X[idx,0]=1\n",
    "    infR=CNbr(G,X,n,T)\n",
    "    for t in range(T-1):\n",
    "        cf=F.dot(X.T[t])\n",
    "        for i in range(n):\n",
    "            c=infR[i,t]\n",
    "            if X[i,t]==0:\n",
    "                p0=(1-alpha_-beta_*c-betaf*cf[i])\n",
    "                p1=(alpha_+beta_*c+betaf*cf[i])\n",
    "            else:\n",
    "                p0=(gama_)\n",
    "                p1=(1-gama_)\n",
    "            if p0+p1==0:\n",
    "                l=0.5\n",
    "            else:\n",
    "                l=p1/(p0+p1)\n",
    "            X[i,t+1]=np.random.binomial( 1, l,size=None) \n",
    "    return X"
   ]
  },
  {
   "cell_type": "code",
   "execution_count": 7,
   "metadata": {},
   "outputs": [],
   "source": [
    "def Sample_hidden_state(X,G,F,unique_rows,Y,param,t):\n",
    "    \n",
    "    alpha_=param[0]\n",
    "    beta_=param[1]\n",
    "    bataf=param[2]\n",
    "    gama_=param[3]\n",
    "    theta_0_=param[4]\n",
    "    thata_1_=param[5]\n",
    "    \n",
    "       \n",
    "    for i in range(n):\n",
    "        p_0,p_1=0,0\n",
    "        if t==0:\n",
    "            p_0,p_1=P,1-P\n",
    "        else:\n",
    "            p_0,p_1=1,1\n",
    "        pow0=1-Y[i,t]\n",
    "        pow1=Y[i,t]\n",
    "        number_of_members_in_family=np.sum(unique_rows[family_index(i,unique_rows)])\n",
    "        \n",
    "        X[i,t]=0\n",
    "        number_of_infected_members_in_family0=F.dot(X.T[t])[i]\n",
    "        number_of_healthy_members_in_family0=number_of_members_in_family-number_of_infected_members_in_family0\n",
    "        p_0=(1/number_of_members_in_family)*p_0*((1-theta_0_)*number_of_healthy_members_in_family0+(1-theta_1_)*number_of_infected_members_in_family0)**pow0*(theta_1_*number_of_infected_members_in_family0+theta_0_*number_of_healthy_members_in_family0)**pow1\n",
    "        \n",
    "        if (t==0):\n",
    "            c=G[t].dot(X.T[t])[i]\n",
    "        else:    \n",
    "            c=G[t-1].dot(X.T[t-1])[i]\n",
    "    \n",
    "        if t!=T-1:\n",
    "            if X[i,t+1]==0:\n",
    "                p_0=p_0*(1-alpha_-beta_*c-betaf*number_of_infected_members_in_family0)\n",
    "            else:\n",
    "                p_0=p_0*(alpha_+beta_*c+betaf*number_of_infected_members_in_family0)\n",
    "\n",
    "        X[i,t]=1\n",
    "        number_of_infected_members_in_family1=F.dot(X.T[t])[i]\n",
    "        number_of_healthy_members_in_family1=number_of_members_in_family-number_of_infected_members_in_family1\n",
    "        p_1=(1/number_of_members_in_family)*p_1*((1-theta_0_)*number_of_healthy_members_in_family1+(1-theta_1_)*number_of_infected_members_in_family1)**pow0*(theta_1_*number_of_infected_members_in_family1+theta_0_*number_of_healthy_members_in_family1)**pow1\n",
    "        if (t==0):\n",
    "            c=G[t].dot(X.T[t])[i]\n",
    "        else:    \n",
    "            c=G[t-1].dot(X.T[t-1])[i]\n",
    "        if t!=T-1:\n",
    "            if X[i,t+1]==0:\n",
    "                p_1=p_1*gama_\n",
    "            else:\n",
    "                p_1=p_1*(1-gama_)\n",
    "        \n",
    "        family_members=unique_rows[family_index(i,unique_rows)]\n",
    "        if t!=T-1:        \n",
    "            X[i,t]=0\n",
    "            for j in np.where(family_members==1)[0]:\n",
    "                p_0=p_0*transition(X,t,G,F,j,params)\n",
    "            for j in np.where(G[t][i]==1)[0]:\n",
    "                p_0=p_0*transition(X,t,G,F,j,params)\n",
    "            X[i,t]=1\n",
    "            for j in np.where(family_members==1)[0]:\n",
    "                p_1=p_1*transition(X,t,G,F,j,params)\n",
    "            for j in np.where(G[t][i]==1)[0]:\n",
    "                p_1=p_1*transition(X,t,G,F,j,params)\n",
    "               \n",
    "        if t==T-1:\n",
    "            if X[i,t-1]==0:\n",
    "                X[i,t]=0\n",
    "                c=G[t].dot(X.T[t])[i]\n",
    "                number_of_infected_members_in_family=F.dot(X.T[t])[i]\n",
    "                p_0=p_0*(1-alpha_-beta_*c-betaf*number_of_infected_members_in_family)\n",
    "                X[i,t]=1\n",
    "                c=G[t].dot(X.T[t])[i]\n",
    "                number_of_infected_members_in_family=F.dot(X.T[t])[i]\n",
    "                p_1=p_1*(alpha_+beta_*c+betaf*number_of_infected_members_in_family)\n",
    "            else:\n",
    "                p_0=p_0*gama_\n",
    "                p_1=p_1*(1-gama_)\n",
    "        if p_0+p_1==0:            \n",
    "            l=0.5\n",
    "        else:\n",
    "            l=p_1/(p_0+p_1)\n",
    "        if (l<0)|(l>1): \n",
    "            print(p_0,p_1)\n",
    "        X[i,t]=np.random.binomial( 1,  l,size=None)    \n",
    "        \n",
    "    return X    "
   ]
  },
  {
   "cell_type": "code",
   "execution_count": 8,
   "metadata": {},
   "outputs": [],
   "source": [
    "def transition(X,t,G,F,j,param):\n",
    "    alpha_=param[0]\n",
    "    bata_=param[1]\n",
    "    bataf=param[2]\n",
    "    gama_=param[3]\n",
    "    c=G[t].dot(X.T[t])[j]\n",
    "    number_of_infected_members_in_family=F.dot(X.T[t])[j]\n",
    "    k=X[j,t]-2*X[j,t+1]\n",
    "    if k==0:\n",
    "        return 1-alpha_-beta_*c-betaf*number_of_infected_members_in_family\n",
    "    elif k==-2:\n",
    "        return alpha_+beta_*c+betaf*number_of_infected_members_in_family\n",
    "    elif k==1:\n",
    "        return gama_\n",
    "    else:\n",
    "        return 1-gama_\n",
    "    "
   ]
  },
  {
   "cell_type": "code",
   "execution_count": 9,
   "metadata": {},
   "outputs": [],
   "source": [
    "# Gibbs sampling to obtain X, as new sample of posterior distribution:\n",
    "def Calculate_X(Z,K,T,X,G,F1,Y,param):\n",
    "    accuracy=[]\n",
    "    myList =[]\n",
    "    for k in range(K):\n",
    "        for t in range(T):\n",
    "            X=Sample_hidden_state(X,G,F1,unique_rows,Y,param,t)\n",
    "    return X                "
   ]
  },
  {
   "cell_type": "markdown",
   "metadata": {},
   "source": [
    "# Functions to sample from beta distribution\n"
   ]
  },
  {
   "cell_type": "code",
   "execution_count": 10,
   "metadata": {},
   "outputs": [],
   "source": [
    "# function to sample new parameters and update parameters:\n",
    "def Params(R,G,F,X,n,T,Y,param):\n",
    "    \n",
    "    alpha_=param[0]\n",
    "    bata_=param[1]\n",
    "    bataf=param[2]\n",
    "    gama_=param[3]\n",
    "    theta_0_=param[4]\n",
    "    thata_1_=param[5]    \n",
    "   \n",
    "    TP=np.sum(np.multiply(unique_rows.dot(X),YF))\n",
    "    FP=np.count_nonzero(unique_rows.dot(X)-YF==-1)\n",
    "    \n",
    "    infR=np.array(CNbr(G,X,n,T))\n",
    "    alpha_=Sample_alpha(a_alpha +  np.count_nonzero(R==0) , b_alpha +np.count_nonzero(X==0)- np.count_nonzero(R==0))\n",
    "    beta_=Sample_beta(a_beta + np.count_nonzero(R==2) , b_beta +np.sum(np.multiply((1-X),infR))-np.count_nonzero(R==2))\n",
    "    betaf=Sample_betaf(a_betaf + np.count_nonzero(R==3) , b_betaf +np.sum(np.multiply((1-X),F.dot(X)))-np.count_nonzero(R==3))\n",
    "    gama_=Sample_gama(a_gama +np.count_nonzero((X[:,:-1]-X[:,1:])==1), b_gama+np.sum(X)-np.count_nonzero((X[:,:-1]-X[:,1:])==1))\n",
    "    theta_0_=Sample_theta0( a_teta0+FP,b_teta0+np.count_nonzero((unique_rows.dot(X))==0)-FP)\n",
    "    theta_1_=Sample_theta1( a_teta1+TP,b_teta1+np.sum(unique_rows.dot(X))-TP)\n",
    "    \n",
    "    R=np.zeros((n,T))+1\n",
    "    for i in range(n):\n",
    "        for t in range(T-1):\n",
    "            infr=int(infR[i,t])\n",
    "            cf=int(F.dot(X.T[t])[i])\n",
    "            pr_a=alpha_/(alpha_+beta_*infr+betaf*cf)\n",
    "            pr_b=beta_/(alpha_+beta_*infr+betaf*cf)\n",
    "            pr_bf=betaf/(alpha_+beta_*infr+betaf*cf)\n",
    "            v=np.random.multinomial(1, [pr_a]+[pr_b]*infr+[pr_bf]*cf)\n",
    "            if (X[i][t]==0)&(X[i][t+1]==1):\n",
    "                if v[0]==1:\n",
    "                    R[i,t]=0\n",
    "                elif (cf!=0):\n",
    "                    if ((np.equal(1,v[-cf:])).any):\n",
    "                        R[i,t]=3\n",
    "                else:    \n",
    "                    R[i,t]=2\n",
    "    param=[alpha_,beta_,betaf,gama_,theta_0_,theta_1_]\n",
    "    return param,R"
   ]
  },
  {
   "cell_type": "code",
   "execution_count": 11,
   "metadata": {},
   "outputs": [],
   "source": [
    "def Sample_alpha(a_alpha, b_alpha):\n",
    "    for i in beta.rvs(a_alpha, b_alpha, size=10000):\n",
    "        print(\"a\",i,a_alpha, b_alpha)\n",
    "        if (i>0.001)&(i<0.2):\n",
    "            alpha_=round(i,3)\n",
    "            break\n",
    "    return alpha_        \n"
   ]
  },
  {
   "cell_type": "code",
   "execution_count": 12,
   "metadata": {},
   "outputs": [],
   "source": [
    "def Sample_beta(a_beta, b_beta):\n",
    "    for i in beta.rvs(a_beta, b_beta, size=10000):\n",
    "        if (i>0.001)&(i<0.0451):\n",
    "            beta_=round(i,4)\n",
    "            break\n",
    "    return beta_        "
   ]
  },
  {
   "cell_type": "code",
   "execution_count": 13,
   "metadata": {},
   "outputs": [],
   "source": [
    "def Sample_betaf(a_betaf, b_betaf):\n",
    "    for i in beta.rvs(a_betaf, b_betaf, size=1000):\n",
    "        if (i>0.002)&(i<0.5):\n",
    "            betaf=round(i,4)\n",
    "            break\n",
    "    return betaf        "
   ]
  },
  {
   "cell_type": "code",
   "execution_count": 14,
   "metadata": {},
   "outputs": [],
   "source": [
    "def Sample_gama(a_gama,b_gama):\n",
    "    for i in beta.rvs(a_gama, b_gama, size=10000):\n",
    "        print(\"g\",i,a_gama,b_gama)\n",
    "        if (i>0.1)&(i<0.5):\n",
    "            gama_=round(i,3)\n",
    "            break\n",
    "    return gama_  "
   ]
  },
  {
   "cell_type": "code",
   "execution_count": 15,
   "metadata": {},
   "outputs": [],
   "source": [
    "def Sample_theta0(a_teta0, b_teta0):\n",
    "    for i in beta.rvs(a_teta0, b_teta0, size=10000):\n",
    "        if (i>0.01)&(i<0.51):\n",
    "            theta_0_=round(i,3)\n",
    "            break\n",
    "    return theta_0_  "
   ]
  },
  {
   "cell_type": "code",
   "execution_count": 16,
   "metadata": {},
   "outputs": [],
   "source": [
    "def Sample_theta1(a_teta1, b_teta1):\n",
    "    for i in beta.rvs(a_teta1, b_teta1, size=10000):\n",
    "        print(\"1\",i,a_teta1,b_teta1)\n",
    "        if 0.990>i>0.78:\n",
    "            theta_1_=round(i,3)\n",
    "            break\n",
    "    return theta_1_  "
   ]
  },
  {
   "cell_type": "code",
   "execution_count": 17,
   "metadata": {},
   "outputs": [],
   "source": [
    "# funtion to retun related family index of individual i:\n",
    "def family_index(i,unique_rows):\n",
    "    for j in range(n):\n",
    "        if unique_rows[j,i]==1:\n",
    "            return j"
   ]
  },
  {
   "cell_type": "code",
   "execution_count": 18,
   "metadata": {},
   "outputs": [],
   "source": [
    "# Function to generates Synthetic dataset\n",
    "def Synthetic_Data(n,T,y,params,number_families):\n",
    "    alpha_,beta_,betaf,gama_,theta_0_,theta_1_=params[0],params[1],params[2],params[3],params[4],params[5]\n",
    "    x=int(np.round(((1-P)*n),0))\n",
    "    X=np.zeros((n,T))\n",
    "    idx=np.random.choice(range(n), x)\n",
    "    X[idx,0]=1\n",
    "    # Random social network\n",
    "    G=[]\n",
    "    for j in range(T):\n",
    "        g=np.identity(n,dtype=int)\n",
    "        for i in range(n):\n",
    "            indx=np.random.choice(range(i,n), y)\n",
    "            for inx in indx:\n",
    "                g[i,inx]=1  \n",
    "                g[inx,i]=1\n",
    "        G.append(g)\n",
    "    G=np.array(G)\n",
    "    # Synthetize Family matrix:\n",
    "    a=list(range(n))\n",
    "    Family=np.identity(n,dtype=int)\n",
    "    for i in range(1,number_families):\n",
    "        number_family_members=np.random.randint(2, 5)\n",
    "        inx=random.sample(list(a), number_family_members)\n",
    "        a=set(a).difference(inx)\n",
    "        for j in inx:\n",
    "            for k in inx:\n",
    "                Family[j,k]=1  \n",
    "    G=G-Family\n",
    "    G=G+np.identity(n,dtype=int)\n",
    "    #Family=Family-np.identity(n,dtype=int)\n",
    "    G = np.where(G <0, 0, G)\n",
    "    # Synthetize X, using params,G, Family and transition probability:\n",
    "    #Family=Family+np.identity(n,dtype=int)\n",
    "    for t in range(T-1):\n",
    "        for i in range(n):\n",
    "            infR=CNbr(G,X,n,T)\n",
    "            cf=int(Family.dot(X.T[t])[i])\n",
    "            c=infR[i,t]\n",
    "            if X[i,t]==0:\n",
    "                p0=1-alpha_-beta_*c-betaf*cf\n",
    "                p1=alpha_+beta_*c+betaf*cf\n",
    "            else:\n",
    "                p0=gama_\n",
    "                p1=1-gama_\n",
    "            if p0+p1==0:\n",
    "                l=0.5\n",
    "            else:\n",
    "                l=p1/(p0+p1)\n",
    "            X[i,t+1]=np.random.binomial( 1, l,size=None) \n",
    "\n",
    "    # Synthetize Y, using params,G, X, emission probability:\n",
    "    unique_rows = np.unique(Family, axis=0)\n",
    "    nf=unique_rows.shape[0]\n",
    "    YF=np.zeros((nf,T))\n",
    "    for t in range(T):\n",
    "        for i in range(nf):\n",
    "            number_of_members_in_family=np.sum(unique_rows[i])\n",
    "            number_of_infected_members_in_family=unique_rows[i].dot(X.T[t])\n",
    "            number_of_healthy_members_in_family= number_of_members_in_family-number_of_infected_members_in_family\n",
    "            py1=(theta_0_*number_of_healthy_members_in_family+theta_1_*number_of_infected_members_in_family)/ number_of_members_in_family\n",
    "            py0=((1-theta_0_)*number_of_healthy_members_in_family+(1-theta_1_)*number_of_infected_members_in_family)/ number_of_members_in_family\n",
    "            l=py1/(py1+py0)\n",
    "            YF[i,t]=np.random.binomial( 1, l,size=None) \n",
    "    return G,YF,X,Family           "
   ]
  },
  {
   "cell_type": "code",
   "execution_count": 19,
   "metadata": {},
   "outputs": [],
   "source": [
    "# initialize parameters for beta distributions:\n",
    "a_alpha=20\n",
    "b_alpha=1000\n",
    "a_beta=10\n",
    "b_beta=1000\n",
    "a_betaf=8\n",
    "b_betaf=80\n",
    "a_gama=10\n",
    "b_gama=200\n",
    "a_teta0=10\n",
    "b_teta0=1000\n",
    "a_teta1=9000\n",
    "b_teta1=300\n",
    "P=.9"
   ]
  },
  {
   "cell_type": "code",
   "execution_count": 20,
   "metadata": {},
   "outputs": [],
   "source": [
    "#Sample infection and emision parameters(alpha,beta,gama,teta0,teta1)\n",
    "def initialize_parameters(a_alpha,b_alpha,a_beta,b_beta,a_betaf,b_betaf,a_gama,b_gama,a_teta0,b_teta0,a_teta1,b_teta1):\n",
    "    alpha_=Sample_alpha(a_alpha, b_alpha)\n",
    "    beta_=Sample_beta(a_beta, b_beta)\n",
    "    betaf=Sample_betaf(a_betaf, b_betaf)\n",
    "    gama_=Sample_gama(a_gama,b_gama)\n",
    "    theta_0_=Sample_theta0(a_teta0, b_teta0)\n",
    "    theta_1_=Sample_theta1(a_teta1, b_teta1)\n",
    "    params=np.array([alpha_,beta_,betaf,gama_,theta_0_,theta_1_])\n",
    "    return params"
   ]
  },
  {
   "cell_type": "code",
   "execution_count": 22,
   "metadata": {},
   "outputs": [
    {
     "name": "stdout",
     "output_type": "stream",
     "text": [
      "a 0.017795989847148072 20 1000\n",
      "g 0.04893692011662402 10 200\n",
      "g 0.04887173291001087 10 200\n",
      "g 0.040032794459122736 10 200\n",
      "g 0.044495004866874244 10 200\n",
      "g 0.03216571079876907 10 200\n",
      "g 0.03643161748239945 10 200\n",
      "g 0.054159358000004085 10 200\n",
      "g 0.04620537965637014 10 200\n",
      "g 0.032751436664688875 10 200\n",
      "g 0.045845749855804134 10 200\n",
      "g 0.061267668656729286 10 200\n",
      "g 0.06149284788636885 10 200\n",
      "g 0.06873084647661067 10 200\n",
      "g 0.024084952179016895 10 200\n",
      "g 0.03219898398911795 10 200\n",
      "g 0.05746535281433159 10 200\n",
      "g 0.038572958061471034 10 200\n",
      "g 0.04556514322728869 10 200\n",
      "g 0.05274389679904925 10 200\n",
      "g 0.04083814791169175 10 200\n",
      "g 0.03322433330591301 10 200\n",
      "g 0.043231466418417734 10 200\n",
      "g 0.029215853112950243 10 200\n",
      "g 0.06802030256831054 10 200\n",
      "g 0.026923006809817594 10 200\n",
      "g 0.030197707678134594 10 200\n",
      "g 0.046470795395273455 10 200\n",
      "g 0.04098356632530533 10 200\n",
      "g 0.039048853305494416 10 200\n",
      "g 0.05964881928995203 10 200\n",
      "g 0.043008379958012155 10 200\n",
      "g 0.03941239124289894 10 200\n",
      "g 0.04898227337248539 10 200\n",
      "g 0.031002402651926584 10 200\n",
      "g 0.057848900201287606 10 200\n",
      "g 0.07066943394068223 10 200\n",
      "g 0.05919310479701079 10 200\n",
      "g 0.0428875012647414 10 200\n",
      "g 0.044431817987241475 10 200\n",
      "g 0.06355183959973189 10 200\n",
      "g 0.04599085611272863 10 200\n",
      "g 0.03368477099751596 10 200\n",
      "g 0.06513669099349773 10 200\n",
      "g 0.04168709323614193 10 200\n",
      "g 0.0433931553198455 10 200\n",
      "g 0.04501600424004944 10 200\n",
      "g 0.03399487114078308 10 200\n",
      "g 0.0740849018391268 10 200\n",
      "g 0.07064457128675626 10 200\n",
      "g 0.04538443064242205 10 200\n",
      "g 0.048743500437756423 10 200\n",
      "g 0.046021594388837246 10 200\n",
      "g 0.04734241977967725 10 200\n",
      "g 0.04093747581333652 10 200\n",
      "g 0.06349999821718787 10 200\n",
      "g 0.04341394529653716 10 200\n",
      "g 0.040489740090939356 10 200\n",
      "g 0.03961093578764461 10 200\n",
      "g 0.04446707041267369 10 200\n",
      "g 0.07227399516642391 10 200\n",
      "g 0.061682385620531674 10 200\n",
      "g 0.06320570333186339 10 200\n",
      "g 0.04778314298314484 10 200\n",
      "g 0.023624401810066274 10 200\n",
      "g 0.056491276739825735 10 200\n",
      "g 0.05365124479631109 10 200\n",
      "g 0.05995900689170778 10 200\n",
      "g 0.05200577571606617 10 200\n",
      "g 0.05828806823755107 10 200\n",
      "g 0.040805936758715765 10 200\n",
      "g 0.025698460346925647 10 200\n",
      "g 0.037251069814636495 10 200\n",
      "g 0.054552259732301316 10 200\n",
      "g 0.037291689843805424 10 200\n",
      "g 0.06604624109778509 10 200\n",
      "g 0.03692923366010833 10 200\n",
      "g 0.054864273038052816 10 200\n",
      "g 0.06150615987170714 10 200\n",
      "g 0.04676369700750003 10 200\n",
      "g 0.05998818906499283 10 200\n",
      "g 0.03893643117103542 10 200\n",
      "g 0.03338470744559225 10 200\n",
      "g 0.04024534784273329 10 200\n",
      "g 0.029254314827747548 10 200\n",
      "g 0.03857697404276822 10 200\n",
      "g 0.03934274160809993 10 200\n",
      "g 0.03478774446393302 10 200\n",
      "g 0.03404886295618556 10 200\n",
      "g 0.06232165893644165 10 200\n",
      "g 0.045980186547990784 10 200\n",
      "g 0.03038602371444637 10 200\n",
      "g 0.05264976801698169 10 200\n",
      "g 0.0720811065193832 10 200\n",
      "g 0.04016220665055841 10 200\n",
      "g 0.030528784803930478 10 200\n",
      "g 0.04692235237297866 10 200\n",
      "g 0.04744061588337862 10 200\n",
      "g 0.060199618136110813 10 200\n",
      "g 0.03598434916488765 10 200\n",
      "g 0.0657150984136929 10 200\n",
      "g 0.07018648410324782 10 200\n",
      "g 0.014894129587256002 10 200\n",
      "g 0.05359459002767111 10 200\n",
      "g 0.02933122533796623 10 200\n",
      "g 0.06500273739513335 10 200\n",
      "g 0.057516104456353974 10 200\n",
      "g 0.05088914483437128 10 200\n",
      "g 0.033547312268727335 10 200\n",
      "g 0.025400869206706714 10 200\n",
      "g 0.059496106534697585 10 200\n",
      "g 0.05783712532489824 10 200\n",
      "g 0.04793546075023992 10 200\n",
      "g 0.0774940143434919 10 200\n",
      "g 0.06644905307933396 10 200\n",
      "g 0.043950039785575205 10 200\n",
      "g 0.03299913777853362 10 200\n",
      "g 0.03922584592824033 10 200\n",
      "g 0.05292578986283252 10 200\n",
      "g 0.06198568812765652 10 200\n",
      "g 0.06796203376538987 10 200\n",
      "g 0.027405449400282007 10 200\n",
      "g 0.058169479887725806 10 200\n",
      "g 0.07085876672936663 10 200\n",
      "g 0.05363157632054587 10 200\n",
      "g 0.05831889199763285 10 200\n",
      "g 0.04317277338983658 10 200\n",
      "g 0.024403184185267893 10 200\n",
      "g 0.05023301459649538 10 200\n",
      "g 0.045077412749301535 10 200\n",
      "g 0.035324917131618075 10 200\n",
      "g 0.047622123599789595 10 200\n",
      "g 0.06445810539080697 10 200\n",
      "g 0.04659547677311231 10 200\n",
      "g 0.031010384791110793 10 200\n",
      "g 0.029765377216437197 10 200\n",
      "g 0.05043756050137252 10 200\n",
      "g 0.05786850961657295 10 200\n",
      "g 0.04998734693514603 10 200\n",
      "g 0.0536140583527246 10 200\n",
      "g 0.05564291454487283 10 200\n",
      "g 0.04196254720545869 10 200\n",
      "g 0.054188319818978016 10 200\n",
      "g 0.03147184645351017 10 200\n",
      "g 0.044210441719996885 10 200\n",
      "g 0.07783420093940871 10 200\n",
      "g 0.02984955640107174 10 200\n",
      "g 0.03375382138910809 10 200\n",
      "g 0.042500313618349946 10 200\n",
      "g 0.060954123002727296 10 200\n",
      "g 0.039383850498036936 10 200\n",
      "g 0.05109222605957047 10 200\n",
      "g 0.03118063399777369 10 200\n",
      "g 0.05797077554576161 10 200\n",
      "g 0.026090171873174545 10 200\n",
      "g 0.0509749349158555 10 200\n",
      "g 0.05675696622075145 10 200\n",
      "g 0.04371114214218517 10 200\n",
      "g 0.053524040005162685 10 200\n",
      "g 0.030099877883395947 10 200\n",
      "g 0.05630333214220992 10 200\n",
      "g 0.06079749233331354 10 200\n",
      "g 0.0668180332548477 10 200\n",
      "g 0.08443375397065282 10 200\n",
      "g 0.04348221090803428 10 200\n",
      "g 0.054855913569418095 10 200\n",
      "g 0.06638063461647997 10 200\n",
      "g 0.0554470261930801 10 200\n",
      "g 0.047254069982660955 10 200\n",
      "g 0.025925606186753873 10 200\n",
      "g 0.027419357259272182 10 200\n",
      "g 0.05481895854038767 10 200\n",
      "g 0.036341570419837356 10 200\n",
      "g 0.05609706876315302 10 200\n",
      "g 0.03623968568906387 10 200\n",
      "g 0.06458298690671235 10 200\n",
      "g 0.04543317268475204 10 200\n",
      "g 0.044076716357269265 10 200\n",
      "g 0.0574335042422991 10 200\n",
      "g 0.0646847313655836 10 200\n",
      "g 0.04533767442764029 10 200\n",
      "g 0.04665201987777997 10 200\n",
      "g 0.033455125460514525 10 200\n",
      "g 0.03186052697069944 10 200\n",
      "g 0.044031457117039756 10 200\n",
      "g 0.04446041438405122 10 200\n",
      "g 0.04853649397877424 10 200\n",
      "g 0.028736020556956746 10 200\n",
      "g 0.04487708132082543 10 200\n",
      "g 0.04477121898197823 10 200\n",
      "g 0.05214011294118132 10 200\n",
      "g 0.01651399049773882 10 200\n",
      "g 0.07161647850716724 10 200\n",
      "g 0.04749799525665804 10 200\n",
      "g 0.05683743225563548 10 200\n",
      "g 0.018577608145442157 10 200\n",
      "g 0.04126934675607838 10 200\n",
      "g 0.03964762140149752 10 200\n",
      "g 0.05896945319621496 10 200\n",
      "g 0.03014586097742223 10 200\n",
      "g 0.04381525881514183 10 200\n",
      "g 0.03451363264215724 10 200\n",
      "g 0.044845821182402414 10 200\n",
      "g 0.03256476624113864 10 200\n",
      "g 0.026833309943058315 10 200\n",
      "g 0.04591636966164552 10 200\n",
      "g 0.04894005697856265 10 200\n",
      "g 0.05781311095484537 10 200\n",
      "g 0.05111331520473658 10 200\n",
      "g 0.05091159461679641 10 200\n",
      "g 0.04173611845395052 10 200\n",
      "g 0.10262129342019186 10 200\n",
      "1 0.966036368868454 9000 300\n"
     ]
    },
    {
     "data": {
      "text/plain": [
       "array([0.018 , 0.0075, 0.0761, 0.103 , 0.014 , 0.966 ])"
      ]
     },
     "execution_count": 22,
     "metadata": {},
     "output_type": "execute_result"
    }
   ],
   "source": [
    "params=initialize_parameters(a_alpha,b_alpha,a_beta,b_beta,a_betaf,b_betaf,a_gama,b_gama,a_teta0,b_teta0,a_teta1,b_teta1)\n",
    "params"
   ]
  },
  {
   "cell_type": "code",
   "execution_count": 23,
   "metadata": {
    "scrolled": true
   },
   "outputs": [],
   "source": [
    "# Generate synthetic data,G ,Y:\n",
    "n,T,y=100,100,5\n",
    "number_families=33\n",
    "synthetic_data=Synthetic_Data(n,T,y,params,number_families)\n",
    "G,YF,X,Family =synthetic_data[0],synthetic_data[1],synthetic_data[2],synthetic_data[3]"
   ]
  },
  {
   "cell_type": "code",
   "execution_count": 24,
   "metadata": {},
   "outputs": [
    {
     "data": {
      "text/plain": [
       "4995.0"
      ]
     },
     "execution_count": 24,
     "metadata": {},
     "output_type": "execute_result"
    }
   ],
   "source": [
    "# Save true value of X in Z, as the correct label of data:\n",
    "Z=X\n",
    "np.sum(Z)"
   ]
  },
  {
   "cell_type": "code",
   "execution_count": 25,
   "metadata": {},
   "outputs": [],
   "source": [
    "F=Family"
   ]
  },
  {
   "cell_type": "code",
   "execution_count": 26,
   "metadata": {},
   "outputs": [],
   "source": [
    "unique_rows = np.unique(F.T, axis=0)"
   ]
  },
  {
   "cell_type": "markdown",
   "metadata": {},
   "source": [
    "# Adding noise to YF:"
   ]
  },
  {
   "cell_type": "code",
   "execution_count": 27,
   "metadata": {},
   "outputs": [
    {
     "name": "stdout",
     "output_type": "stream",
     "text": [
      "Stored 'YF' (ndarray)\n",
      "Stored 'params' (ndarray)\n"
     ]
    }
   ],
   "source": [
    "%store YF\n",
    "%store params"
   ]
  },
  {
   "cell_type": "code",
   "execution_count": 36,
   "metadata": {},
   "outputs": [],
   "source": [
    "noise_percent=.1\n",
    "number_of_families=unique_rows.shape[0]\n",
    "indx=random.sample(range(number_of_families), number_of_families)\n",
    "tndx=random.sample(range(T), int(noise_percent*T))\n",
    "for i in indx:\n",
    "    for t in tndx:\n",
    "        YF[i,t]=(YF[i,t]+1)*(1-YF[i,t])"
   ]
  },
  {
   "cell_type": "code",
   "execution_count": 37,
   "metadata": {},
   "outputs": [],
   "source": [
    "Y=np.zeros((n,T))\n",
    "for i in range(n):\n",
    "    for j in range(unique_rows.shape[0]):\n",
    "        if unique_rows[j,i]==1:\n",
    "            Y[i,:]=YF[j,:]"
   ]
  },
  {
   "cell_type": "code",
   "execution_count": 31,
   "metadata": {},
   "outputs": [],
   "source": [
    "U=5\n",
    "K=6\n",
    "J=2"
   ]
  },
  {
   "cell_type": "code",
   "execution_count": 38,
   "metadata": {},
   "outputs": [],
   "source": [
    "# define auxiliary variable R(n,t):\n",
    "alpha_,beta_,betaf,gama_,theta_0_,theta_1_=params[0],params[1],params[2],params[3],params[4],params[5]\n",
    "infR=np.array(CNbr(G,X,n,T))\n",
    "R=np.zeros((n,T))+1\n",
    "for i in range(n):\n",
    "    for t in range(T-1):\n",
    "        infr=int(infR[i,t])\n",
    "        cf=int(F.dot(X.T[t])[i])\n",
    "        pr_a=alpha_/(alpha_+beta_*infr+betaf*cf)\n",
    "        pr_b=beta_/(alpha_+beta_*infr+betaf*cf)\n",
    "        pr_bf=betaf/(alpha_+beta_*infr+betaf*cf)\n",
    "        v=np.random.multinomial(1, [pr_a]+[pr_b]*infr+[pr_bf]*cf)\n",
    "        if (X[i][t]==0)&(X[i][t+1]==1):\n",
    "            if v[0]==1:\n",
    "                R[i,t]=0\n",
    "            elif (cf!=0):\n",
    "                if ((v[-cf:]==1).any()):\n",
    "                    R[i,t]=3\n",
    "            else:    \n",
    "                R[i,t]=2\n"
   ]
  },
  {
   "cell_type": "code",
   "execution_count": null,
   "metadata": {
    "scrolled": true
   },
   "outputs": [
    {
     "name": "stdout",
     "output_type": "stream",
     "text": [
      "a 0.018659939233945183 20 1000\n",
      "g 0.039818345072976984 10 200\n",
      "g 0.053070437376404454 10 200\n",
      "g 0.04883684112877406 10 200\n",
      "g 0.04091001149138755 10 200\n",
      "g 0.05204082406710964 10 200\n",
      "g 0.04519656488092495 10 200\n",
      "g 0.05333361832852669 10 200\n",
      "g 0.033246581826894966 10 200\n",
      "g 0.052460409179414816 10 200\n",
      "g 0.022459600143019214 10 200\n",
      "g 0.04743382367919633 10 200\n",
      "g 0.06429371906993873 10 200\n",
      "g 0.06593462003176051 10 200\n",
      "g 0.04063315901949873 10 200\n",
      "g 0.06472306299785774 10 200\n",
      "g 0.03662560192862708 10 200\n",
      "g 0.04281734772180631 10 200\n",
      "g 0.035319667174044375 10 200\n",
      "g 0.049898735006511555 10 200\n",
      "g 0.05528297811764754 10 200\n",
      "g 0.06444962283849894 10 200\n",
      "g 0.035438318326123826 10 200\n",
      "g 0.06238335664605089 10 200\n",
      "g 0.037003876357244433 10 200\n",
      "g 0.03539813167640181 10 200\n",
      "g 0.04268871252871496 10 200\n",
      "g 0.049824160672061996 10 200\n",
      "g 0.02195882745146574 10 200\n",
      "g 0.06789036809241622 10 200\n",
      "g 0.04029775500891932 10 200\n",
      "g 0.08977623071268437 10 200\n",
      "g 0.04935210773546505 10 200\n",
      "g 0.05472972167805813 10 200\n",
      "g 0.03307062945980523 10 200\n",
      "g 0.047250131246083044 10 200\n",
      "g 0.06064562933108029 10 200\n",
      "g 0.03685477304112604 10 200\n",
      "g 0.03310512958502768 10 200\n",
      "g 0.036673459055685774 10 200\n",
      "g 0.07225531749586186 10 200\n",
      "g 0.08382237192211717 10 200\n",
      "g 0.04616353496219242 10 200\n",
      "g 0.0556239747990948 10 200\n",
      "g 0.03459754638867558 10 200\n",
      "g 0.03906775365180686 10 200\n",
      "g 0.0548539157282339 10 200\n",
      "g 0.054042060259410434 10 200\n",
      "g 0.07399464809719651 10 200\n",
      "g 0.04827762638761862 10 200\n",
      "g 0.03239153772859766 10 200\n",
      "g 0.03850258284911571 10 200\n",
      "g 0.05920946200534635 10 200\n",
      "g 0.06694677015168377 10 200\n",
      "g 0.051758715457736706 10 200\n",
      "g 0.05511361653637422 10 200\n",
      "g 0.03984761193148951 10 200\n",
      "g 0.04469591388527593 10 200\n",
      "g 0.036915146577286624 10 200\n",
      "g 0.08131056352704234 10 200\n",
      "g 0.04793789822016129 10 200\n",
      "g 0.05474853522360649 10 200\n",
      "g 0.021120813323966398 10 200\n",
      "g 0.022751303489507158 10 200\n",
      "g 0.04174595500084157 10 200\n",
      "g 0.05130847528041152 10 200\n",
      "g 0.0452506563624605 10 200\n",
      "g 0.051543914977812154 10 200\n",
      "g 0.027265359486260292 10 200\n",
      "g 0.07417419041442555 10 200\n",
      "g 0.041572367444271584 10 200\n",
      "g 0.03203906331270782 10 200\n",
      "g 0.030252898208434253 10 200\n",
      "g 0.04403842220215727 10 200\n",
      "g 0.04295245903595599 10 200\n",
      "g 0.04429134042587509 10 200\n",
      "g 0.03675558077411682 10 200\n",
      "g 0.03887726710624065 10 200\n",
      "g 0.06749592951380734 10 200\n",
      "g 0.04299906239753877 10 200\n",
      "g 0.11424750178978886 10 200\n",
      "1 0.9658204214837571 9000 300\n",
      "Start Gibbs Sampling 0 :\n",
      "\n",
      "******************* Iteration: 0 *****************************************************************************\n",
      "Current Parameters: [0.019  0.0066 0.1749 0.114  0.01   0.966 ]\n",
      "a 0.1672325528112421 1134 5532\n",
      "g 0.3174844714327343 1492 3072.0\n",
      "1 0.8355418746202506 11430.0 2224.0\n",
      "Accuracy: 0.5329\n",
      "******************* Iteration: 1 *****************************************************************************\n",
      "Current Parameters: [0.167, 0.001, 0.1757, 0.317, 0.149, 0.836]\n",
      "a 0.12005396069818564 775 5841\n",
      "g 0.48584823409142874 2187 2427.0\n",
      "1 0.8445292392748764 11555.0 2149.0\n",
      "Accuracy: 0.5421\n",
      "******************* Iteration: 2 *****************************************************************************\n",
      "Current Parameters: [0.12, 0.0011, 0.1398, 0.486, 0.101, 0.845]\n"
     ]
    }
   ],
   "source": [
    "# Main code to run entire Gibbs algorithm U times:\n",
    "for j in range(J):\n",
    "    params=initialize_parameters(a_alpha,b_alpha,a_beta,b_beta,a_betaf,b_betaf,a_gama,b_gama,a_teta0,b_teta0,a_teta1,b_teta1)\n",
    "    X=Forward_Sampling(T,n,G,F,params)\n",
    "    print(\"Start Gibbs Sampling\",j,\":\\n\")\n",
    "    mylist=[]\n",
    "    accuracy=[]\n",
    "    for i in range(U):\n",
    "        print(\"************************************************ Iteration:\",i,\"************************************************\")\n",
    "        print(\"Current Parameters:\",params)\n",
    "        X=Calculate_X(Z,K,T,X,G,F,Y,params)\n",
    "        prm=Params(R,G,F,X,n,T,Y,params)\n",
    "        params=prm[0]\n",
    "        R=prm[1]\n",
    "        Zflat = np.hstack(Z)\n",
    "        Xflat = np.hstack(X)\n",
    "    #result = 1 - spatial.distance.cosine(Zflat, Xflat)\n",
    "        result=accuracy_score(Xflat, Zflat,normalize=True)\n",
    "        print(\"Accuracy:\",result)\n",
    "        accuracy.append(result)\n",
    "    myList = list(range(U))\n",
    "    iteration=np.array(myList)\n",
    "    Accuracy=np.array(accuracy)\n",
    "    plt.plot(iteration,Accuracy ) \n",
    "    winsound.Beep(freq, duration) \n",
    "    now = datetime.now()\n",
    "    current_time = now.strftime(\"%H:%M:%S\")\n",
    "    print(\"Current Time is :\", current_time)"
   ]
  },
  {
   "cell_type": "code",
   "execution_count": null,
   "metadata": {},
   "outputs": [],
   "source": [
    "Sample_alpha(a_alpha, b_alpha)"
   ]
  },
  {
   "cell_type": "code",
   "execution_count": null,
   "metadata": {},
   "outputs": [],
   "source": [
    "def estimate_Y(Family,X,params):\n",
    "    theta_0=params[4]\n",
    "    theta_1=params[5]\n",
    "    unique_rows = np.unique(Family, axis=0)\n",
    "    nf=unique_rows.shape[0]\n",
    "    YF=np.zeros((nf,T))\n",
    "    for t in range(T):\n",
    "        for i in range(nf):\n",
    "            number_of_members_in_family=np.sum(unique_rows[i])\n",
    "            number_of_infected_members_in_family=unique_rows[i].dot(X.T[t])\n",
    "            number_of_healthy_members_in_family= number_of_members_in_family-number_of_infected_members_in_family\n",
    "            py1=(theta_0_*number_of_healthy_members_in_family+theta_1_*number_of_infected_members_in_family)/ number_of_members_in_family\n",
    "            py0=((1-theta_0_)*number_of_healthy_members_in_family+(1-theta_1_)*number_of_infected_members_in_family)/ number_of_members_in_family\n",
    "            l=py1/(py1+py0)\n",
    "            YF[i,t]=np.random.binomial( 1, l,size=None)\n",
    "    return YF"
   ]
  },
  {
   "cell_type": "code",
   "execution_count": null,
   "metadata": {},
   "outputs": [],
   "source": [
    "YF_=estimate_Y(F,X,params)"
   ]
  },
  {
   "cell_type": "code",
   "execution_count": 29,
   "metadata": {},
   "outputs": [],
   "source": [
    "%store -r YF"
   ]
  },
  {
   "cell_type": "code",
   "execution_count": null,
   "metadata": {},
   "outputs": [],
   "source": [
    "Zflat = np.hstack(Z)\n",
    "Xflat = np.hstack(X)\n",
    "result = 1 - spatial.distance.cosine(Zflat, Xflat)\n",
    "print(\"Accuracy\",result)\n"
   ]
  },
  {
   "cell_type": "code",
   "execution_count": null,
   "metadata": {},
   "outputs": [],
   "source": [
    "\n",
    "print(accuracy_score(Xflat, Zflat,normalize=True))"
   ]
  },
  {
   "cell_type": "code",
   "execution_count": null,
   "metadata": {},
   "outputs": [],
   "source": []
  },
  {
   "cell_type": "code",
   "execution_count": null,
   "metadata": {},
   "outputs": [],
   "source": []
  },
  {
   "cell_type": "code",
   "execution_count": null,
   "metadata": {},
   "outputs": [],
   "source": []
  },
  {
   "cell_type": "code",
   "execution_count": null,
   "metadata": {},
   "outputs": [],
   "source": []
  },
  {
   "cell_type": "code",
   "execution_count": null,
   "metadata": {},
   "outputs": [],
   "source": []
  },
  {
   "cell_type": "code",
   "execution_count": null,
   "metadata": {},
   "outputs": [],
   "source": []
  },
  {
   "cell_type": "code",
   "execution_count": null,
   "metadata": {},
   "outputs": [],
   "source": []
  },
  {
   "cell_type": "code",
   "execution_count": null,
   "metadata": {},
   "outputs": [],
   "source": []
  },
  {
   "cell_type": "code",
   "execution_count": null,
   "metadata": {},
   "outputs": [],
   "source": []
  },
  {
   "cell_type": "code",
   "execution_count": null,
   "metadata": {},
   "outputs": [],
   "source": [
    "# synthetized observation vectore:\n",
    "Y_=np.zeros((n,T))\n",
    "for t in range(T):\n",
    "    for i in range(n):\n",
    "        if X[i,t]==0:\n",
    "            Y_[i,t]=np.random.binomial( 1, theta_0_,size=None) \n",
    "        else:\n",
    "            Y_[i,t]=np.random.binomial( 1, theta_1_,size=None) "
   ]
  },
  {
   "cell_type": "code",
   "execution_count": null,
   "metadata": {},
   "outputs": [],
   "source": [
    "print(np.sum(X),np.sum(Z),np.count_nonzero(X-Z))"
   ]
  },
  {
   "cell_type": "code",
   "execution_count": null,
   "metadata": {},
   "outputs": [],
   "source": [
    "# Run Gibbs sampling algorithm to estimate X:\n",
    "now = datetime.now()\n",
    "current_time = now.strftime(\"%H:%M:%S\")\n",
    "print(\"Current Time is:\", current_time)\n",
    "print(\"Current Parameters:\",params)\n",
    "X=Forward_Sampling(T,n,G,F,params)\n",
    "print(\"forward_sampling:\\n\",X)\n",
    "now = datetime.now()\n",
    "current_time = now.strftime(\"%H:%M:%S\")\n",
    "print(\"Start gibbs sampling: \\n Current Time is:\", current_time)\n",
    "Zflat = np.hstack(Z)\n",
    "Xflat = np.hstack(X)\n",
    "result = 1 - spatial.distance.cosine(Zflat, Xflat)\n",
    "print(np.sum(X))\n",
    "print(\"Accuracy:\",result)\n",
    "X=Calculate_X(Z,K,T,X,G+np.identity(n,dtype=int),F,Y,params)\n",
    "now = datetime.now()\n",
    "current_time = now.strftime(\"%H:%M:%S\")\n",
    "print(\"Current Time is :\", current_time)\n",
    "print(\"Gibbs_sampling\\n\",X)\n",
    "winsound.Beep(freq, duration)"
   ]
  },
  {
   "cell_type": "code",
   "execution_count": null,
   "metadata": {},
   "outputs": [],
   "source": [
    "Y=Y_"
   ]
  },
  {
   "cell_type": "markdown",
   "metadata": {},
   "source": [
    "# The following is for family test result problem:"
   ]
  },
  {
   "cell_type": "code",
   "execution_count": null,
   "metadata": {},
   "outputs": [],
   "source": [
    "# Synthetize data for famity test result problem"
   ]
  },
  {
   "cell_type": "code",
   "execution_count": null,
   "metadata": {},
   "outputs": [],
   "source": []
  },
  {
   "cell_type": "code",
   "execution_count": null,
   "metadata": {},
   "outputs": [],
   "source": [
    "def Sample_alpha(a_alpha, b_alpha):\n",
    "    for i in beta.rvs(a_alpha, b_alpha, size=1000):\n",
    "        if (i>0.029)&(i<0.051):\n",
    "            alpha_=round(i,3)\n",
    "            break\n",
    "    return alpha_        \n"
   ]
  },
  {
   "cell_type": "code",
   "execution_count": null,
   "metadata": {},
   "outputs": [],
   "source": [
    "def Sample_beta(a_beta, b_beta):\n",
    "    for i in beta.rvs(a_beta, b_beta, size=10000):\n",
    "        if (i>0.00491)&(i<0.01451):\n",
    "            beta_=round(i,4)\n",
    "            break\n",
    "    return beta_        \n"
   ]
  },
  {
   "cell_type": "code",
   "execution_count": null,
   "metadata": {},
   "outputs": [],
   "source": [
    "def Sample_gama(a_gama,b_gama):\n",
    "    for i in beta.rvs(a_gama, b_gama, size=1000):\n",
    "        if (i>0.291)&(i<0.31):\n",
    "            gama_=round(i,3)\n",
    "            break\n",
    "    return gama_  \n"
   ]
  },
  {
   "cell_type": "code",
   "execution_count": null,
   "metadata": {},
   "outputs": [],
   "source": [
    "def Sample_theta0(a_teta0, b_teta0):\n",
    "    for i in beta.rvs(a_teta0, b_teta0, size=10000):\n",
    "        print(i)\n",
    "        if (i<0.19975):\n",
    "            theta_0_=round(i,3)\n",
    "            break\n",
    "    return theta_0_  \n"
   ]
  },
  {
   "cell_type": "code",
   "execution_count": null,
   "metadata": {},
   "outputs": [],
   "source": [
    "def Sample_theta1(a_teta1, b_teta1):\n",
    "    for i in beta.rvs(a_teta1, b_teta1, size=100000):\n",
    "        if .9901>i>0.8:\n",
    "            theta_1_=round(i,3)\n",
    "            break\n",
    "    return theta_1_  \n"
   ]
  },
  {
   "cell_type": "code",
   "execution_count": null,
   "metadata": {},
   "outputs": [],
   "source": [
    "# initialize parameters for beta distributions:\n",
    "a_alpha=2\n",
    "b_alpha=7\n",
    "a_beta=2\n",
    "b_beta=10\n",
    "a_gama=1\n",
    "b_gama=3\n",
    "a_teta0=.1\n",
    "b_teta0=500\n",
    "a_teta1=4000\n",
    "b_teta1=100"
   ]
  },
  {
   "cell_type": "code",
   "execution_count": null,
   "metadata": {},
   "outputs": [],
   "source": [
    "# Choose some params close to obtimized params:\n",
    "alpha_= 0.05\n",
    "beta_= 0.01\n",
    "gama_= 0.3\n",
    "theta_0_= 0.07\n",
    "theta_1_= 0.8\n",
    "params=[]\n",
    "params.append([alpha_,beta_,gama_,theta_0_,theta_1_,p_])"
   ]
  },
  {
   "cell_type": "code",
   "execution_count": null,
   "metadata": {},
   "outputs": [],
   "source": [
    "#Sample infection and emision parameters(alpha,beta,gama,teta0,teta1)\n",
    "alpha_=Sample_alpha(a_alpha, b_alpha)\n",
    "beta_=Sample_beta(a_beta, b_beta)\n",
    "gama_=Sample_gama(a_gama,b_gama)\n",
    "theta_0_=Sample_theta0(a_teta0, b_teta0)\n",
    "theta_1_=Sample_theta1(a_teta1, b_teta1)"
   ]
  },
  {
   "cell_type": "code",
   "execution_count": null,
   "metadata": {},
   "outputs": [],
   "source": [
    "params=np.array([alpha_,beta_,gama_,theta_0_,theta_1_])\n",
    "params"
   ]
  },
  {
   "cell_type": "code",
   "execution_count": null,
   "metadata": {},
   "outputs": [],
   "source": [
    "#Use uptimized params:\n",
    "number_families=4\n",
    "alpha_=params[0]\n",
    "bata_=params[1]\n",
    "gama_=params[2]\n",
    "theta_0_=params[3]\n",
    "thata_1_=params[4]    \n",
    "p_=0.9"
   ]
  },
  {
   "cell_type": "code",
   "execution_count": null,
   "metadata": {},
   "outputs": [],
   "source": [
    "# Synthetize the \"Family\" matrix, which denotes that each two individuals are in the same family or not:\n",
    "a=list(range(n))\n",
    "Family=np.identity(n,dtype=int)\n",
    "for i in range(1,number_families):\n",
    "    number_family_members=np.random.randint(2, 5)\n",
    "    inx=random.sample(list(a), number_family_members)\n",
    "    a=set(a).difference(inx)\n",
    "    for j in inx:\n",
    "        for k in inx:\n",
    "            Family[j,k]=1\n",
    "F=Family\n",
    "F1=F-np.identity(n, dtype=int)"
   ]
  },
  {
   "cell_type": "code",
   "execution_count": null,
   "metadata": {},
   "outputs": [],
   "source": [
    "# Synthetize G,Y,X:\n",
    "n,T,y=10,10,2\n",
    "synthetic_data=Synthetic_Data(n,T,y,params)\n",
    "G,Y,X =synthetic_data[0],synthetic_data[1],synthetic_data[2]"
   ]
  },
  {
   "cell_type": "markdown",
   "metadata": {},
   "source": [
    "# Simulation data is ready now, YF,G,Family:"
   ]
  },
  {
   "cell_type": "code",
   "execution_count": null,
   "metadata": {},
   "outputs": [],
   "source": [
    "F"
   ]
  },
  {
   "cell_type": "code",
   "execution_count": null,
   "metadata": {},
   "outputs": [],
   "source": [
    "G[1]"
   ]
  },
  {
   "cell_type": "code",
   "execution_count": null,
   "metadata": {},
   "outputs": [],
   "source": []
  },
  {
   "cell_type": "code",
   "execution_count": null,
   "metadata": {},
   "outputs": [],
   "source": []
  },
  {
   "cell_type": "code",
   "execution_count": null,
   "metadata": {},
   "outputs": [],
   "source": []
  },
  {
   "cell_type": "code",
   "execution_count": null,
   "metadata": {},
   "outputs": [],
   "source": []
  },
  {
   "cell_type": "code",
   "execution_count": null,
   "metadata": {},
   "outputs": [],
   "source": []
  },
  {
   "cell_type": "code",
   "execution_count": null,
   "metadata": {},
   "outputs": [],
   "source": [
    "# ایده اول برای مین فیلد و شبه مشاهدات"
   ]
  },
  {
   "cell_type": "code",
   "execution_count": null,
   "metadata": {},
   "outputs": [],
   "source": [
    "y=np.zeros((n,T))\n",
    "for i in range(n):\n",
    "    for j in range(n):\n",
    "         if unique_rows[j,i]==1:\n",
    "                break\n",
    "    for t in range(T):\n",
    "       \n",
    "        y[i,t]=int(YF[j,t]-np.dot(np.multiply(unique_rows[j],X.T[t]),W)+X[i,t]*W[i])\n",
    "        y = np.where(y <0, 0, y)\n",
    "y "
   ]
  },
  {
   "cell_type": "code",
   "execution_count": null,
   "metadata": {},
   "outputs": [],
   "source": [
    "params"
   ]
  },
  {
   "cell_type": "code",
   "execution_count": null,
   "metadata": {},
   "outputs": [],
   "source": [
    "# Run Forward sampling algorithm to estimate X:\n",
    "U=10\n",
    "J=100\n",
    "P=p_\n",
    "X=Forward_Sampling(T,n,G,params)\n",
    "X=Calculate_X(J,T,n,X,G,y,params)\n",
    "winsound.Beep(freq, duration)"
   ]
  },
  {
   "cell_type": "code",
   "execution_count": null,
   "metadata": {},
   "outputs": [],
   "source": [
    "# define auxiliary variable R(n,t):\n",
    "R=np.zeros((n,T))+1\n",
    "infR=np.array(CNbr(G,X,n,T))\n",
    "for i in range(n):\n",
    "    for t in range(T-1):\n",
    "        infr=int(infR[i,t])\n",
    "        pr_a=alpha_/(alpha_+beta_*infr)\n",
    "        pr_b=beta_/(alpha_+beta_*infr)\n",
    "        v=np.random.multinomial(1, [pr_a]+[pr_b]*infr)\n",
    "        if (X[i][t]==0)&(X[i][t+1]==1):\n",
    "                if v[0]==1:\n",
    "                    R[i,t]=0\n",
    "                else: \n",
    "                    R[i,t]=2"
   ]
  },
  {
   "cell_type": "code",
   "execution_count": null,
   "metadata": {},
   "outputs": [],
   "source": [
    "for i in range(U):\n",
    "    print(\"******************* Iteration:\",i,\"*****************************************************************************\")\n",
    "    now = datetime.now()\n",
    "    current_time = now.strftime(\"%H:%M:%S\")\n",
    "    print(\"Current Time is :\", current_time)\n",
    "    prm=Params(R,G,X,n,T,y,params)\n",
    "    params=prm[0]\n",
    "    print(\"updated parameters:\",params)\n",
    "    X=Calculate_X(J,T,n,X,G,y,params)\n",
    "    print(\"Verctor of Health States:\",\"\\n\",X)\n",
    "    R=prm[1]\n",
    "winsound.Beep(freq, duration)"
   ]
  },
  {
   "cell_type": "code",
   "execution_count": null,
   "metadata": {},
   "outputs": [],
   "source": [
    "for i in range(n):\n",
    "    for t in range(T):\n",
    "        if X[i,t]==0:\n",
    "            yy[i,t]=np.random.binomial( 1, theta_0_,size=None) "
   ]
  },
  {
   "cell_type": "code",
   "execution_count": null,
   "metadata": {},
   "outputs": [],
   "source": [
    "print(np.sum(X),np.sum(Z),np.count_nonzero(Z-X))"
   ]
  },
  {
   "cell_type": "code",
   "execution_count": null,
   "metadata": {},
   "outputs": [],
   "source": [
    "# ایده دوم برای مین فیلد و شبه مشاهدات"
   ]
  },
  {
   "cell_type": "code",
   "execution_count": null,
   "metadata": {},
   "outputs": [],
   "source": [
    "# Save true X in Z:\n",
    "Z=X"
   ]
  },
  {
   "cell_type": "code",
   "execution_count": null,
   "metadata": {},
   "outputs": [],
   "source": [
    "#initialize parameters a0,b0,a1,b1:\n",
    "A=np.round(np.random.uniform(0, 10, (4,1)),3)\n",
    "a0,b0,a1,b1=A[0][0],A[1][0],A[2][0],A[3][0]\n",
    "print(a0,b0,a1,b1)"
   ]
  },
  {
   "cell_type": "code",
   "execution_count": null,
   "metadata": {},
   "outputs": [],
   "source": [
    "def Sample_Sudo_theta0(a0, b0):\n",
    "    for i in beta.rvs(a0, b0, size=10000):\n",
    "        if (i>0.001)&(i<0.5):\n",
    "            theta0=round(i,3)\n",
    "            break\n",
    "    return theta0  "
   ]
  },
  {
   "cell_type": "code",
   "execution_count": null,
   "metadata": {},
   "outputs": [],
   "source": [
    "def Sample_Sudo_theta1(a1, b1):\n",
    "    for i in beta.rvs(a1, b1, size=100000):\n",
    "        if .9901>i>0.5:\n",
    "            theta1=round(i,3)\n",
    "            break\n",
    "    return theta1  \n"
   ]
  },
  {
   "cell_type": "code",
   "execution_count": null,
   "metadata": {},
   "outputs": [],
   "source": [
    "theta0=Sample_Sudo_theta0(a0, b0)\n",
    "theta0"
   ]
  },
  {
   "cell_type": "code",
   "execution_count": null,
   "metadata": {},
   "outputs": [],
   "source": [
    "theta1=Sample_Sudo_theta1(a1, b1)\n",
    "theta1"
   ]
  },
  {
   "cell_type": "code",
   "execution_count": null,
   "metadata": {},
   "outputs": [],
   "source": [
    "y=np.zeros((n,T))\n"
   ]
  },
  {
   "cell_type": "code",
   "execution_count": null,
   "metadata": {},
   "outputs": [],
   "source": [
    "def Calculate_Sudo_observations(a0,b0,a1,b1,X):\n",
    "    for i in range(n):\n",
    "        j=family_index(i,unique_rows)\n",
    "        for t in range(T):\n",
    "            if YF[j,t]==1:\n",
    "                theta1=Sample_Sudo_theta1(a1+YF[j,t]*np.sum(unique_rows[j])-np.sum(X[unique_rows[j]==1,t])+X[i,t], b1+np.sum(X[unique_rows[j]==1,t])-X[i,t])\n",
    "                y[i,t]=np.random.binomial( 1, theta1,size=None)\n",
    "            else:\n",
    "                y[i,t]=0\n",
    "    return y"
   ]
  },
  {
   "cell_type": "code",
   "execution_count": null,
   "metadata": {},
   "outputs": [],
   "source": [
    "# Run Forward sampling algorithm to estimate X:\n",
    "U=10\n",
    "J=1000\n",
    "P=p_\n",
    "X=Forward_Sampling(T,n,G,params)\n",
    "y=Calculate_Sudo_observations(a0,b0,a1,b1,X)\n",
    "X=Calculate_X(J,T,n,X,G,y,params)\n",
    "winsound.Beep(freq, duration)"
   ]
  },
  {
   "cell_type": "code",
   "execution_count": null,
   "metadata": {},
   "outputs": [],
   "source": [
    "# define auxiliary variable R(n,t):\n",
    "R=np.zeros((n,T))+1\n",
    "infR=np.array(CNbr(G,X,n,T))\n",
    "for i in range(n):\n",
    "    for t in range(T-1):\n",
    "        infr=int(infR[i,t])\n",
    "        pr_a=alpha_/(alpha_+beta_*infr)\n",
    "        pr_b=beta_/(alpha_+beta_*infr)\n",
    "        v=np.random.multinomial(1, [pr_a]+[pr_b]*infr)\n",
    "        if (X[i][t]==0)&(X[i][t+1]==1):\n",
    "                if v[0]==1:\n",
    "                    R[i,t]=0\n",
    "                else: \n",
    "                    R[i,t]=2"
   ]
  },
  {
   "cell_type": "code",
   "execution_count": null,
   "metadata": {},
   "outputs": [],
   "source": [
    "for i in range(U):\n",
    "    print(\"******************* Iteration:\",i,\"*****************************************************************************\")\n",
    "    now = datetime.now()\n",
    "    current_time = now.strftime(\"%H:%M:%S\")\n",
    "    print(\"Current Time is :\", current_time)\n",
    "    prm=Params(R,G,X,n,T,y,params)\n",
    "    params=prm[0]\n",
    "    print(\"updated parameters:\",params)\n",
    "    y=Calculate_Sudo_observations(a0,b0,a1,b1,X)\n",
    "    X=Calculate_X(J,T,n,X,G,y,params)\n",
    "    print(\"Verctor of Health States:\",\"\\n\",X)\n",
    "    R=prm[1]\n",
    "winsound.Beep(freq, duration)\n",
    "    \n",
    "    "
   ]
  },
  {
   "cell_type": "code",
   "execution_count": null,
   "metadata": {},
   "outputs": [],
   "source": [
    "params"
   ]
  },
  {
   "cell_type": "code",
   "execution_count": null,
   "metadata": {},
   "outputs": [],
   "source": [
    "#y=Calculate_Sudo_observations(a0,b0,a1,b1,X)\n",
    "for i in range(n):\n",
    "    for t in range(T):\n",
    "        j=family_index(i,unique_rows)\n",
    "        if YF[j,t]==1:\n",
    "            if (np.sum(X[unique_rows[j]==1,t]))==0:\n",
    "                print(np.sum(X[unique_rows[j]==1,t]))"
   ]
  },
  {
   "cell_type": "code",
   "execution_count": null,
   "metadata": {},
   "outputs": [],
   "source": [
    "Y=np.zeros((n,T))\n",
    "for i in range(n):\n",
    "    for j in range(unique_rows.shape[0]):\n",
    "        if unique_rows[j,i]==1:\n",
    "            Y[i,:]=YF[j,:]"
   ]
  },
  {
   "cell_type": "code",
   "execution_count": null,
   "metadata": {},
   "outputs": [],
   "source": [
    "np.sum(y)"
   ]
  },
  {
   "cell_type": "code",
   "execution_count": null,
   "metadata": {},
   "outputs": [],
   "source": [
    "print(np.sum(X),np.sum(Z),np.count_nonzero(Z-X))"
   ]
  },
  {
   "cell_type": "code",
   "execution_count": null,
   "metadata": {},
   "outputs": [],
   "source": []
  },
  {
   "cell_type": "code",
   "execution_count": null,
   "metadata": {},
   "outputs": [],
   "source": [
    "# sample parameter of sudo obsarvations:\n",
    "def Sample_theta(a, b):\n",
    "    for i in beta.rvs(a, b, size=10000):\n",
    "        if (i>0.3)&(i<0.6):\n",
    "            theta=round(i,3)\n",
    "            break\n",
    "    return theta "
   ]
  }
 ],
 "metadata": {
  "kernelspec": {
   "display_name": "Python 3",
   "language": "python",
   "name": "python3"
  },
  "language_info": {
   "codemirror_mode": {
    "name": "ipython",
    "version": 3
   },
   "file_extension": ".py",
   "mimetype": "text/x-python",
   "name": "python",
   "nbconvert_exporter": "python",
   "pygments_lexer": "ipython3",
   "version": "3.8.5"
  }
 },
 "nbformat": 4,
 "nbformat_minor": 4
}
