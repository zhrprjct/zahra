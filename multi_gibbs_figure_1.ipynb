{
 "cells": [
  {
   "cell_type": "code",
   "execution_count": null,
   "metadata": {},
   "outputs": [],
   "source": [
    "import multiprocessing\n",
    "from multiprocessing import Pool\n",
    "from functools import partial\n",
    "from tqdm import tqdm\n",
    "import numpy as np\n",
    "import matplotlib.pyplot as plt\n",
    "import os"
   ]
  },
  {
   "cell_type": "code",
   "execution_count": null,
   "metadata": {},
   "outputs": [],
   "source": [
    "from sklearn.metrics import accuracy_score\n",
    "import winsound\n",
    "import matplotlib.pyplot as plt\n",
    "from scipy import spatial\n",
    "from sklearn import svm, datasets\n",
    "from sklearn.metrics import roc_curve, auc\n",
    "from sklearn.metrics import roc_auc_score\n",
    "import workers_1"
   ]
  },
  {
   "cell_type": "code",
   "execution_count": 1,
   "metadata": {},
   "outputs": [],
   "source": [
    "# stored best initializations for X and different parametrisations:\n",
    "%store -r pool_list"
   ]
  },
  {
   "cell_type": "code",
   "execution_count": null,
   "metadata": {},
   "outputs": [],
   "source": [
    "# extract just initial x values\n",
    "plist=np.array(pool_list)[:,1]"
   ]
  },
  {
   "cell_type": "code",
   "execution_count": null,
   "metadata": {},
   "outputs": [],
   "source": [
    "#function for spliting X,Y,G into desired timesteps, the output of this function is the result of Gibbs sampling algorithm:\n",
    "# returns probability which is the model estimate of X:\n",
    "# this code is parallelized on different timesteps:\n",
    "def Step_Gibbs_parallel(X):\n",
    "    arg=[]\n",
    "    pool_list=[]\n",
    "    for i in range(1,5):\n",
    "        time_step=i*90\n",
    "        G_=G[:time_step]\n",
    "        # here by passing Y related to YF_missing for specified value of mu, we can apply desired amount of missing value:\n",
    "        Y_=Y[:,:time_step]\n",
    "        X_=X[:,:time_step]\n",
    "        pool_list.append([X_,G_,Y_])\n",
    "        \n",
    "    if __name__ ==  '__main__': \n",
    "        with Pool(processes =4) as pool:\n",
    "\n",
    "            parallel_output = pool.starmap(workers_1.Step_Gibbs,pool_list )# use tqdm to show the progress\n",
    "            pool.close()\n",
    "            pool.join()\n",
    "    return parallel_output"
   ]
  },
  {
   "cell_type": "code",
   "execution_count": 6,
   "metadata": {},
   "outputs": [
    {
     "name": "stdout",
     "output_type": "stream",
     "text": [
      "90\n",
      "180\n",
      "270\n",
      "360\n"
     ]
    }
   ],
   "source": [
    "for i in range(1,5):\n",
    "    print(i*90)"
   ]
  },
  {
   "cell_type": "code",
   "execution_count": 10,
   "metadata": {},
   "outputs": [],
   "source": [
    "# function for plotting figure 1,outputs the array of AUC \n",
    "def plot_figure_1(Trained):\n",
    "    roc_=[]\n",
    "    for i in range(len(Trained)):\n",
    "        for j in range(9):\n",
    "            Train=np.array(Trained)[i][2][j]\n",
    "            y_score=np.hstack(Train)\n",
    "            y_test=np.hstack(X_true[:,:Train.shape[1]])\n",
    "            roc_.append([(i*9+j)*10,plot_ROC(y_score,y_test)])\n",
    "    plt.plot(roc_) \n",
    "    return  roc_"
   ]
  },
  {
   "cell_type": "code",
   "execution_count": null,
   "metadata": {},
   "outputs": [],
   "source": [
    "if os.path.exists('Xreal.npy'):\n",
    "    X_true = np.load('Xreal.npy')"
   ]
  },
  {
   "cell_type": "code",
   "execution_count": null,
   "metadata": {},
   "outputs": [],
   "source": [
    "duration = 1000  # milliseconds\n",
    "freq = 440  # Hz \n",
    "# initialize parameters for beta distributions:\n",
    "a_alpha=1\n",
    "b_alpha=400\n",
    "a_beta=1\n",
    "b_beta=800\n",
    "a_betaf=8\n",
    "b_betaf=800\n",
    "a_gama=50\n",
    "b_gama=200\n",
    "a_teta0=10\n",
    "b_teta0=1000\n",
    "a_teta1=9000\n",
    "b_teta1=300\n",
    "P=1\n",
    "U=1\n",
    "K=1\n",
    "J=1\n",
    "n,T=100,365\n",
    "epsln=0.001\n",
    "hyper_params=np.array([a_alpha,b_alpha,a_beta,b_beta,a_betaf,b_betaf,a_gama,b_gama,a_teta0,b_teta0,a_teta1,b_teta1])\n",
    "\n",
    "if os.path.exists('Greal.npy'):\n",
    "    G = np.load('Greal.npy')\n",
    "if os.path.exists('YFreal.npy'):\n",
    "    YF = np.load('YFreal.npy')\n",
    "if os.path.exists('Freal.npy'):\n",
    "    F = np.load('Freal.npy')\n",
    "if os.path.exists('YF_missingreal.npy'):\n",
    "    YF_missing = np.load('YF_missingreal.npy')\n",
    "if os.path.exists('YF_missing_1real.npy'):\n",
    "    YF_missing1 = np.load('YF_missing_1real.npy')\n",
    "if os.path.exists('Xreal.npy'):\n",
    "    X_True = np.load('Xreal.npy')\n",
    "n,T=X_True.shape[0],X_True.shape[1]\n",
    "if os.path.exists('params.npy'):\n",
    "    params = np.load('params.npy')\n",
    "\n",
    "unique_rows = np.unique(F, axis=0)\n",
    "#calculate y_missing:\n",
    "Y=np.zeros((n,T))\n",
    "for i in range(n):\n",
    "    for j in range(unique_rows.shape[0]):\n",
    "        if unique_rows[j,i]==1:\n",
    "            Y[i,:]=YF[j,:]\n"
   ]
  },
  {
   "cell_type": "code",
   "execution_count": 11,
   "metadata": {},
   "outputs": [
    {
     "ename": "NameError",
     "evalue": "name 'plist' is not defined",
     "output_type": "error",
     "traceback": [
      "\u001b[1;31m---------------------------------------------------------------------------\u001b[0m",
      "\u001b[1;31mNameError\u001b[0m                                 Traceback (most recent call last)",
      "\u001b[1;32m<ipython-input-11-82a2f66cc274>\u001b[0m in \u001b[0;36m<module>\u001b[1;34m\u001b[0m\n\u001b[0;32m      1\u001b[0m \u001b[1;31m#for is just because of different initializations for X:\u001b[0m\u001b[1;33m\u001b[0m\u001b[1;33m\u001b[0m\u001b[1;33m\u001b[0m\u001b[0m\n\u001b[1;32m----> 2\u001b[1;33m \u001b[1;32mfor\u001b[0m \u001b[0mi\u001b[0m \u001b[1;32min\u001b[0m \u001b[0mrange\u001b[0m\u001b[1;33m(\u001b[0m\u001b[0mlen\u001b[0m\u001b[1;33m(\u001b[0m\u001b[0mplist\u001b[0m\u001b[1;33m)\u001b[0m\u001b[1;33m)\u001b[0m\u001b[1;33m:\u001b[0m\u001b[1;33m\u001b[0m\u001b[1;33m\u001b[0m\u001b[0m\n\u001b[0m\u001b[0;32m      3\u001b[0m     \u001b[0mX\u001b[0m\u001b[1;33m=\u001b[0m\u001b[0mplist\u001b[0m\u001b[1;33m[\u001b[0m\u001b[0mi\u001b[0m\u001b[1;33m]\u001b[0m\u001b[1;33m\u001b[0m\u001b[1;33m\u001b[0m\u001b[0m\n\u001b[0;32m      4\u001b[0m     \u001b[0mTrained\u001b[0m\u001b[1;33m=\u001b[0m\u001b[0mStep_Gibbs_parallel\u001b[0m\u001b[1;33m(\u001b[0m\u001b[0mX\u001b[0m\u001b[1;33m)\u001b[0m\u001b[1;33m\u001b[0m\u001b[1;33m\u001b[0m\u001b[0m\n\u001b[0;32m      5\u001b[0m     \u001b[0mAUC_t\u001b[0m\u001b[1;33m=\u001b[0m\u001b[0mplot_figure_1\u001b[0m\u001b[1;33m(\u001b[0m\u001b[0mTrained\u001b[0m\u001b[1;33m)\u001b[0m\u001b[1;33m\u001b[0m\u001b[1;33m\u001b[0m\u001b[0m\n",
      "\u001b[1;31mNameError\u001b[0m: name 'plist' is not defined"
     ]
    }
   ],
   "source": [
    "# for is just because of different initializations for X:\n",
    "for i in range(len(plist)):\n",
    "    X=plist[i]\n",
    "    Trained=Step_Gibbs_parallel(X)\n",
    "    AUC_t=plot_figure_1(Trained)"
   ]
  },
  {
   "cell_type": "code",
   "execution_count": 35,
   "metadata": {},
   "outputs": [],
   "source": [
    "import numpy as np\n",
    "a=[[[[0,1,2],[.1,.2,.3]],1],[[[0,1,2],[.1,.2,.3]],2],[[[0,1,2],[.1,.2,.3]],3]]"
   ]
  },
  {
   "cell_type": "code",
   "execution_count": 54,
   "metadata": {},
   "outputs": [
    {
     "name": "stdout",
     "output_type": "stream",
     "text": [
      "[[[[0, 1, 2], [0.1, 0.2, 0.3]], 1], [[[0, 1, 2], [0.1, 0.2, 0.3]], 2], [[[0, 1, 2], [0.1, 0.2, 0.3]], 3]]\n"
     ]
    }
   ],
   "source": [
    "print(a)"
   ]
  },
  {
   "cell_type": "code",
   "execution_count": 55,
   "metadata": {},
   "outputs": [
    {
     "data": {
      "text/plain": [
       "[0, 1, 2]"
      ]
     },
     "execution_count": 55,
     "metadata": {},
     "output_type": "execute_result"
    }
   ],
   "source": [
    "a[0][0][0]"
   ]
  },
  {
   "cell_type": "code",
   "execution_count": 52,
   "metadata": {},
   "outputs": [],
   "source": [
    "AUC=[]\n",
    "for i in range(len(a)):\n",
    "    AUC.append(    "
   ]
  },
  {
   "cell_type": "code",
   "execution_count": 50,
   "metadata": {},
   "outputs": [
    {
     "data": {
      "text/plain": [
       "array([0.2, 0.2, 0.2])"
      ]
     },
     "execution_count": 50,
     "metadata": {},
     "output_type": "execute_result"
    }
   ],
   "source": [
    "np.mean(AUC,axis=1)"
   ]
  },
  {
   "cell_type": "code",
   "execution_count": null,
   "metadata": {},
   "outputs": [],
   "source": [
    "# to obtain AUC_t with regard to different mu, so here for is because of different values of mu:\n",
    "%store -r MissingData\n",
    "mu=MissingData[0]\n",
    "for i in len(mu):\n",
    "    YF_missing=MissingData[1]\n",
    "    #calculate y_missing:\n",
    "    Y=np.zeros((n,T))\n",
    "    for i in range(n):\n",
    "        for j in range(unique_rows.shape[0]):\n",
    "            if unique_rows[j,i]==1:\n",
    "                Y[i,:]=YF_missing[j,:]\n",
    "    Trained=Step_Gibbs_parallel(X)\n",
    "    AUC_t=plot_figure_1(Trained)\n",
    "    result.append([AUC_t,mu[i]])\n",
    "# avraging AUC's over mu, and report the result for each timestep:\n",
    "AUC=[]\n",
    "for i in range(len(result)):\n",
    "    AUC.append(result[i][0][1])\n",
    "AUC_avg=np.mean(AUC,axis=1) \n",
    "# plot  avarge value of AUC over mu  against t :\n",
    "plt.plot(AUC[0][0][0],AUC_avg)"
   ]
  },
  {
   "cell_type": "code",
   "execution_count": 12,
   "metadata": {},
   "outputs": [],
   "source": [
    "def plot_ROC(y_score,y_test):\n",
    "    plt.figure()\n",
    "    lw = 2\n",
    "    #y_score=np.hstack(Train[2][j])\n",
    "    #y_test=np.hstack(X)\n",
    "    fpr, tpr, thresholds = roc_curve(y_test, y_score,pos_label=1)\n",
    "    roc_auc = auc(fpr, tpr)\n",
    "    plt.plot(\n",
    "        fpr,\n",
    "        tpr,\n",
    "        color=\"darkorange\",\n",
    "        lw=lw,\n",
    "        label=\"ROC curve (area = %0.2f)\" % roc_auc,\n",
    "    )\n",
    "    plt.plot([0, 1], [0, 1], color=\"navy\", lw=lw, linestyle=\"--\")\n",
    "    plt.xlim([0.0, 1.0])\n",
    "    plt.ylim([0.0, 1.05])\n",
    "    plt.xlabel(\"False Positive Rate\")\n",
    "    plt.ylabel(\"True Positive Rate\")\n",
    "    plt.title(\"ROC for family test result problem\")\n",
    "    plt.legend(loc=\"lower right\")\n",
    "    plt.show()\n",
    "    return roc_auc"
   ]
  },
  {
   "cell_type": "code",
   "execution_count": null,
   "metadata": {},
   "outputs": [],
   "source": []
  },
  {
   "cell_type": "code",
   "execution_count": null,
   "metadata": {},
   "outputs": [],
   "source": [
    "import multiprocessing\n",
    "from multiprocessing import Pool\n",
    "from functools import partial\n",
    "from tqdm import tqdm\n",
    "import numpy as np\n",
    "import workers_1\n",
    "if __name__ ==  '__main__': \n",
    "    with Pool(processes =4) as pool:\n",
    "\n",
    "        parallel_output = pool.map(workers_1.Step_Gibbs_paralel,list(plist) )# use tqdm to show the progress\n",
    "        pool.close()\n",
    "        pool.join()\n",
    "    \n",
    "   "
   ]
  }
 ],
 "metadata": {
  "kernelspec": {
   "display_name": "Python 3",
   "language": "python",
   "name": "python3"
  },
  "language_info": {
   "codemirror_mode": {
    "name": "ipython",
    "version": 3
   },
   "file_extension": ".py",
   "mimetype": "text/x-python",
   "name": "python",
   "nbconvert_exporter": "python",
   "pygments_lexer": "ipython3",
   "version": "3.8.5"
  }
 },
 "nbformat": 4,
 "nbformat_minor": 4
}
