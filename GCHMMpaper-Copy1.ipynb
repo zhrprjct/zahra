{
 "cells": [
  {
   "cell_type": "code",
   "execution_count": 1,
   "metadata": {},
   "outputs": [],
   "source": [
    "# imports\n",
    "from itertools import cycle\n",
    "from sklearn import svm, datasets\n",
    "from sklearn.metrics import roc_curve, auc\n",
    "from sklearn.model_selection import train_test_split\n",
    "from sklearn.preprocessing import label_binarize\n",
    "from sklearn.multiclass import OneVsRestClassifier\n",
    "from sklearn.metrics import roc_auc_score\n",
    "\n",
    "import numpy as np\n",
    "import random\n",
    "import sympy as sym\n",
    "import winsound\n",
    "from scipy.stats import beta\n",
    "from sklearn.metrics import accuracy_score\n",
    "from datetime import datetime\n",
    "import matplotlib.pyplot as plt\n",
    "from sklearn.model_selection import train_test_split\n",
    "import winsound"
   ]
  },
  {
   "cell_type": "code",
   "execution_count": 2,
   "metadata": {},
   "outputs": [],
   "source": [
    "duration = 1000  # milliseconds\n",
    "freq = 440  # Hz"
   ]
  },
  {
   "cell_type": "code",
   "execution_count": 3,
   "metadata": {},
   "outputs": [],
   "source": [
    "# function to count the number of the infected neighbores of i at t:\\n\",\n",
    "def CNbr(G,X,n,T):\n",
    "    C=np.zeros((T,n))\n",
    "    for t in range(T):\n",
    "        C[t]=G[t].dot(X.T[t])\n",
    "    return C.T"
   ]
  },
  {
   "cell_type": "code",
   "execution_count": 4,
   "metadata": {},
   "outputs": [],
   "source": [
    "def transition(X,t,G,j,param):\n",
    "    alpha_=param[0]\n",
    "    beta_=param[1]\n",
    "    gama_=param[2]\n",
    "    c=CNbr(G,X,n,T)[j][t]\n",
    "    k=X[j,t]-2*X[j,t+1]\n",
    "    if k==0:\n",
    "        return 1-alpha_-beta_*c\n",
    "    elif k==-2:\n",
    "        return alpha_+beta_*c\n",
    "    elif k==1:\n",
    "        return gama_\n",
    "    else:\n",
    "        return 1-gama_"
   ]
  },
  {
   "cell_type": "code",
   "execution_count": 296,
   "metadata": {},
   "outputs": [],
   "source": [
    "# Function to obtain the very initial sample of X, using forwad sampling:\\n\",\n",
    "def Forward_Sampling(T,n,G,param):\n",
    "    alpha_=param[0]\n",
    "    beta_=param[1]\n",
    "    gama_=param[2]\n",
    "    p0=P\n",
    "    p1=np.round((1-P),2)\n",
    "    x=int(np.round(((1-P)*n),0))\n",
    "    X=np.zeros((n,T))  \n",
    "    idx=np.random.choice(range(n), x)\n",
    "    X[idx,0]=1\n",
    "    for t in range(T-1):\n",
    "        for i in range(n):\n",
    "            c=CNbr(G,X,n,T)[i,t]\n",
    "            if X[i,t]==0:\n",
    "                p1=(alpha_+beta_*c)\n",
    "            else:\n",
    "                p1=(1-gama_)\n",
    "            np.random.binomial( 1, p1,size=None)\n",
    "            X[i,t+1]=np.random.binomial( 1, p1,size=None)\n",
    "    return X "
   ]
  },
  {
   "cell_type": "code",
   "execution_count": 607,
   "metadata": {},
   "outputs": [],
   "source": [
    "# function to sample X, using Gibbs Sampling:\\n\",\n",
    "def Sample_hidden_state(pos_probs,X,G,Y,param,t):\n",
    "    x=np.zeros((n,T))\n",
    "    \n",
    "    alpha_=param[0]\n",
    "    beta_=param[1]\n",
    "    gama_=param[2]\n",
    "    theta_0_0=param[3]\n",
    "    theta_1_0=param[4] \n",
    "    theta_0_1=param[5]\n",
    "    theta_1_1=param[6] \n",
    "    theta_0_2=param[7]\n",
    "    theta_1_2=param[8]\n",
    "    theta_0_3=param[9]\n",
    "    theta_1_3=param[10] \n",
    "    theta_0_4=param[11]\n",
    "    theta_1_4=param[12] \n",
    "    theta_0_5=param[13]\n",
    "    theta_1_5=param[14] \n",
    "    for i in range(n):\n",
    "        \n",
    "        if t==0:\n",
    "            p0,p1=P,np.round(1-P,2)\n",
    "        else:\n",
    "            p0,p1=1,1\n",
    "        pow00=int(Y[0,i,t] == 0)   \n",
    "        pow10=int(Y[0,i,t] == 1)\n",
    "        pow01=int(Y[1,i,t] == 0)  \n",
    "        pow11=int(Y[1,i,t] == 1)    \n",
    "        pow02=int(Y[2,i,t] == 0)      \n",
    "        pow12=int(Y[2,i,t] == 1)\n",
    "        pow03=int(Y[3,i,t] == 0)  \n",
    "        pow13=int(Y[3,i,t] == 1)\n",
    "        pow04=int(Y[4,i,t] == 0)  \n",
    "        pow14=int(Y[4,i,t] == 1)    \n",
    "        pow05=int(Y[5,i,t] == 0)      \n",
    "        pow15=int(Y[5,i,t] == 1)     \n",
    "        p0=p0*np.round(1-theta_0_0,3)**pow00\n",
    "        p1=p1*np.round(1-theta_1_0,3)**pow00\n",
    "        p0=p0*np.round(1-theta_0_1,3)**pow01\n",
    "        p1=p1*np.round(1-theta_1_1,3)**pow01\n",
    "        p0=p0*np.round(1-theta_0_2,3)**pow02\n",
    "        p1=p1*np.round(1-theta_1_2,3)**pow02\n",
    "        p0=p0*np.round(1-theta_0_3,3)**pow03\n",
    "        p1=p1*np.round(1-theta_1_3,3)**pow03\n",
    "        p0=p0*np.round(1-theta_0_4,3)**pow04\n",
    "        p1=p1*np.round(1-theta_1_4,3)**pow04\n",
    "        p0=p0*np.round(1-theta_0_5,3)**pow05\n",
    "        p1=p1*np.round(1-theta_1_5,3)**pow05\n",
    "        p0=p0*(theta_0_0)**pow10\n",
    "        p1=p1*theta_1_0**pow10\n",
    "        p0=p0*(theta_0_1)**pow11\n",
    "        p1=p1*theta_1_1**pow11\n",
    "        p0=p0*(theta_0_2)**pow12\n",
    "        p1=p1*theta_1_2**pow12\n",
    "        p0=p0*(theta_0_3)**pow13\n",
    "        p1=p1*theta_1_3**pow13\n",
    "        p0=p0*(theta_0_4)**pow14\n",
    "        p1=p1*theta_1_4**pow14\n",
    "        p0=p0*(theta_0_5)**pow15\n",
    "        p1=p1*theta_1_5**pow15\n",
    "              \n",
    "       # emission probability when sample is X[i,t]=0:\n",
    "    \n",
    "        X[i,t]=0\n",
    "        p_0=p0\n",
    "        if (t==0):\n",
    "            c=CNbr(G,X,n,T)[i][t]\n",
    "        else:  \n",
    "            c=CNbr(G,X,n,T)[i][t-1]\n",
    "              \n",
    "       # transition probability of i from t-1 to t, when sample is X[i,t]=0:\n",
    "       \n",
    "        if t!=0:\n",
    "            if X[i,t-1]==0:\n",
    "                p_0=p_0*(1-alpha_-beta_*c)\n",
    "            else:\n",
    "                p_0=p_0*gama_\n",
    "    \n",
    "       # emission probability when sample is X[i,t]=1:\n",
    "        X[i,t]=1\n",
    "        p_1=p1\n",
    "        if (t==0):\n",
    "            c=CNbr(G,X,n,T)[i][t]\n",
    "        else:    \n",
    "            c=CNbr(G,X,n,T)[i][t-1]\n",
    "        if t!=0:\n",
    "        # transition probability of i, when sample is X[i,t]=1:\n",
    "            if X[i,t-1]==0:\n",
    "                p_1=p_1*(alpha_+beta_*c)\n",
    "            else:\n",
    "                p_1=p_1*(1-gama_)\n",
    "        # transition probability of i's neighbores, from t to t+1:\n",
    "        if t!=T-1:        \n",
    "            X[i,t]=0\n",
    "            for j in np.where(G[t][i]==1)[0]:\n",
    "                p_0=p_0*transition(X,t,G,j,param)\n",
    "            X[i,t]=1\n",
    "            for j in np.where(G[t][i]==1)[0]:\n",
    "                p_1=p_1*transition(X,t,G,j,param)\n",
    "        if p_0+p_1==0:            \n",
    "            l=0.5\n",
    "        else:\n",
    "            l=p_1/(p_0+p_1)\n",
    "        X[i,t]=np.random.binomial( 1,  l,size=None) \n",
    "        x[i,t]=np.random.binomial( 1,  l,size=None)\n",
    "        pos_probs[i,t]=l\n",
    "    return X ,pos_probs   ,x"
   ]
  },
  {
   "cell_type": "code",
   "execution_count": 527,
   "metadata": {},
   "outputs": [],
   "source": [
    "# Gibbs sampling to obtain X, as new sample of posterior distribution:\n",
    "def Calculate_X(K,T,X,G,Y,param):\n",
    "    pos_probs=np.zeros((n,T))\n",
    "    for k in range(K):\n",
    "        for t in range(T):\n",
    "            hidden_states=Sample_hidden_state(pos_probs,X,G,Y,param,t)\n",
    "            X=hidden_states[0]\n",
    "            pos_probs=hidden_states[1]\n",
    "            x=hidden_states[2]\n",
    "    return X , pos_probs, x"
   ]
  },
  {
   "cell_type": "code",
   "execution_count": 8,
   "metadata": {},
   "outputs": [],
   "source": [
    "def Accuracy_(X,X_):\n",
    "    Xflat = np.hstack(np.hstack(X))\n",
    "    X_flat = np.hstack(np.hstack(X_))\n",
    "    result=accuracy_score(Xflat, X_flat,normalize=True)\n",
    "    return result"
   ]
  },
  {
   "cell_type": "code",
   "execution_count": 9,
   "metadata": {},
   "outputs": [],
   "source": [
    "# function to define auxiliary variable R_(n,t):\n",
    "def R_(G,X,params):\n",
    "    alpha_,beta_,gama_=params[0],params[1],params[2]\n",
    "    \n",
    "    R=np.zeros((n,T))+1\n",
    "    for i in range(n):\n",
    "        for t in range(T-1):\n",
    "            infected_neighbore=int(CNbr(G,X,n,T)[i,t])\n",
    "            pr_a=alpha_/(alpha_+beta_*infected_neighbore)\n",
    "            pr_b=beta_/(alpha_+beta_*infected_neighbore)\n",
    "            v=np.random.multinomial(1, [pr_a]+[pr_b]*infected_neighbore)\n",
    "            if (X[i][t]==0)&(X[i][t+1]==1):\n",
    "                if v[0]==1:\n",
    "                    R[i,t]=0\n",
    "                else: \n",
    "                    R[i,t]=2"
   ]
  },
  {
   "cell_type": "code",
   "execution_count": 10,
   "metadata": {},
   "outputs": [],
   "source": [
    "# function to sample new parameters and update parameters:\n",
    "def Params(R,G,X,n,T,Y,param):\n",
    "        \n",
    "    alpha_=param[0]\n",
    "    beta_=param[1]\n",
    "    gama_=param[2]\n",
    "    #theta_0_0=param[3]\n",
    "    #theta_1_0=param[4] \n",
    "    #theta_0_1=param[5]\n",
    "    #theta_1_1=param[6] \n",
    "    #theta_0_2=param[7]\n",
    "    #theta_1_2=param[8]\n",
    "    #theta_0_3=param[9]\n",
    "    #theta_1_3=param[10] \n",
    "    #theta_0_4=param[11]\n",
    "    #theta_1_4=param[12] \n",
    "    #theta_0_5=param[13]\n",
    "    #TP0=np.sum(np.multiply(X,Y[0]))\n",
    "    #FP0=np.count_nonzero(X-Y[0]==-1)\n",
    "    #TP1=np.sum(np.multiply(X,Y[1]))\n",
    "    #FP1=np.count_nonzero(X-Y[1]==-1)\n",
    "    #TP2=np.sum(np.multiply(X,Y[2]))\n",
    "    #FP2=np.count_nonzero(X-Y[2]==-1)\n",
    "    #TP3=np.sum(np.multiply(X,Y[3]))\n",
    "    #FP3=np.count_nonzero(X-Y[3]==-1)\n",
    "    #TP4=np.sum(np.multiply(X,Y[4]))\n",
    "    #FP4=np.count_nonzero(X-Y[4]==-1)\n",
    "    #TP5=np.sum(np.multiply(X,Y[5]))\n",
    "    #FP5=np.count_nonzero(X-Y[5]==-1)    \n",
    "    infR=np.array(CNbr(G,X,n,T))\n",
    "    alpha_=Sample_alpha(a_alpha +  np.count_nonzero(R==0) , b_alpha +np.count_nonzero(X==0)- np.count_nonzero(R==0))\n",
    "    beta_=Sample_beta(a_beta + np.count_nonzero(R==2) , b_beta +np.sum(np.multiply((1-X),infR))-np.count_nonzero(R==2))\n",
    "    gama_=Sample_gama(a_gama +(T-1)*n-np.count_nonzero(X[:,:-1]-X[:,1:]-1), b_gama+np.sum(X)-(T-1)*n+np.count_nonzero(X[:,:-1]-X[:,1:]-1))\n",
    "    theta_0_0=.01#Sample_theta00( a_teta00+FP0,b_teta00+np.count_nonzero(X==0)-FP0)\n",
    "    theta_1_0=.99#Sample_theta10( a_teta10+TP0,b_teta10+np.count_nonzero(X==1)-TP0)\n",
    "    theta_0_1=.01#Sample_theta01( a_teta01+FP1,b_teta01+np.count_nonzero(X==0)-FP1)\n",
    "    theta_1_1=.99#Sample_theta11( a_teta11+TP1,b_teta11+np.count_nonzero(X==1)-TP1)\n",
    "    theta_0_2=.01#Sample_theta02( a_teta02+FP2,b_teta02+np.count_nonzero(X==0)-FP2)\n",
    "    theta_1_2=.99#Sample_theta12( a_teta12+TP2,b_teta12+np.count_nonzero(X==1)-TP2)\n",
    "    theta_0_3=.01#Sample_theta03( a_teta03+FP3,b_teta03+np.count_nonzero(X==0)-FP3)\n",
    "    theta_1_3=.99#Sample_theta13( a_teta13+TP3,b_teta13+np.count_nonzero(X==1)-TP3)\n",
    "    theta_0_4=.01#Sample_theta04( a_teta04+FP4,b_teta04+np.count_nonzero(X==0)-FP4)\n",
    "    theta_1_4=.99#Sample_theta14( a_teta14+TP4,b_teta14+np.count_nonzero(X==1)-TP4)\n",
    "    theta_0_5=.01#Sample_theta05( a_teta05+FP5,b_teta05+np.count_nonzero(X==0)-FP5)\n",
    "    theta_1_5=.99#Sample_theta15( a_teta15+TP5,b_teta15+np.count_nonzero(X==1)-TP5)\n",
    "\n",
    "    R=R_(G,X,params)\n",
    "    param=np.array([alpha_,beta_,gama_,theta_0_0,theta_1_0,theta_0_1,theta_1_1,theta_0_2,theta_1_2,theta_0_3,theta_1_3,theta_0_4,theta_1_4,theta_0_5,theta_1_5])\n",
    "    return param,R"
   ]
  },
  {
   "cell_type": "markdown",
   "metadata": {},
   "source": [
    "# function to sample from beta distribution"
   ]
  },
  {
   "cell_type": "code",
   "execution_count": 613,
   "metadata": {},
   "outputs": [],
   "source": [
    "def Sample_alpha(a_alpha, b_alpha):\n",
    "    for i in beta.rvs(a_alpha, b_alpha, size=10000):\n",
    "        #print(\"al\",i,a_alpha,b_alpha)\n",
    "        if (i>0.001)&(i<0.01):\n",
    "            alpha_=round(i,3)\n",
    "            break\n",
    "    return alpha_    "
   ]
  },
  {
   "cell_type": "code",
   "execution_count": 614,
   "metadata": {},
   "outputs": [],
   "source": [
    "def Sample_beta(a_beta, b_beta):\n",
    "    for i in beta.rvs(a_beta, b_beta, size=10000):\n",
    "        #print(\"be\",a_beta, b_beta)\n",
    "        if (i>0.0001)&(i<0.051):\n",
    "            beta_=round(i,4)\n",
    "            break\n",
    "    return beta_ "
   ]
  },
  {
   "cell_type": "code",
   "execution_count": 615,
   "metadata": {},
   "outputs": [],
   "source": [
    "def Sample_gama(a_gama,b_gama):\n",
    "    for i in beta.rvs(a_gama, b_gama, size=10000):\n",
    "        #print(\"g\",i,a_gama,b_gama)\n",
    "        if (i>0.02)&(i<0.7):\n",
    "            gama_=round(i,3)\n",
    "            break\n",
    "    return gama_  "
   ]
  },
  {
   "cell_type": "code",
   "execution_count": 616,
   "metadata": {},
   "outputs": [],
   "source": [
    "def Sample_theta00(a_teta00, b_teta00):\n",
    "    for i in beta.rvs(a_teta00, b_teta00, size=10000):\n",
    "        #print(\"t00\",a_teta00,b_teta00)\n",
    "        if (i>0.01)&(i<0.3):\n",
    "            theta_0_0=round(i,3)    \n",
    "            break\n",
    "    return theta_0_0 "
   ]
  },
  {
   "cell_type": "code",
   "execution_count": 15,
   "metadata": {},
   "outputs": [],
   "source": [
    "def Sample_theta10(a_teta10, b_teta10):\n",
    "    for i in beta.rvs(a_teta10, b_teta10, size=10000):\n",
    "        #print(\"t10\",i,a_teta10, b_teta10)\n",
    "        if .993>round(i,3)>0.5:\n",
    "            theta_1_0=round(i,3)\n",
    "            break\n",
    "    return theta_1_0 "
   ]
  },
  {
   "cell_type": "code",
   "execution_count": 16,
   "metadata": {},
   "outputs": [],
   "source": [
    "def Sample_theta01(a_teta01, b_teta01):\n",
    "    for i in beta.rvs(a_teta01, b_teta01, size=10000):\n",
    "        #print(\"t01\",i,a_teta01, b_teta01)\n",
    "        if (i>0.01)&(i<0.3):\n",
    "            theta_0_1=round(i,3)\n",
    "            break\n",
    "    return theta_0_1"
   ]
  },
  {
   "cell_type": "code",
   "execution_count": 17,
   "metadata": {},
   "outputs": [],
   "source": [
    "def Sample_theta11(a_teta11, b_teta11):\n",
    "    for i in beta.rvs(a_teta11, b_teta11, size=10000):\n",
    "        #print(\"t11\",i,a_teta11, b_teta11)\n",
    "        if .993>round(i,3)>0.5:\n",
    "            theta_1_1=round(i,3)\n",
    "            break\n",
    "    return theta_1_1"
   ]
  },
  {
   "cell_type": "code",
   "execution_count": 18,
   "metadata": {},
   "outputs": [],
   "source": [
    "def Sample_theta02(a_teta02, b_teta02):\n",
    "    for i in beta.rvs(a_teta02, b_teta02, size=10000):\n",
    "        #print(\"t02\",i,a_teta02, b_teta02)\n",
    "        if (i>0.01)&(i<0.3):\n",
    "            theta_0_2=round(i,3)\n",
    "            break\n",
    "    return theta_0_2 "
   ]
  },
  {
   "cell_type": "code",
   "execution_count": 19,
   "metadata": {},
   "outputs": [],
   "source": [
    "def Sample_theta12(a_teta12, b_teta12):\n",
    "    for i in beta.rvs(a_teta12, b_teta12, size=10000):\n",
    "        #print(\"t12\",i,a_teta12,b_teta12,i)\n",
    "        if .993>round(i,3)>0.5:\n",
    "            theta_1_2=round(i,3)\n",
    "            break\n",
    "    return theta_1_2"
   ]
  },
  {
   "cell_type": "code",
   "execution_count": 20,
   "metadata": {},
   "outputs": [],
   "source": [
    "def Sample_theta03(a_teta03, b_teta03):\n",
    "    for i in beta.rvs(a_teta03, b_teta03, size=10000):\n",
    "        #print(\"t03\",i,a_teta03, b_teta03)\n",
    "        if (i>0.01)&(i<0.3):\n",
    "            theta_0_3=round(i,3)\n",
    "            break\n",
    "    return theta_0_3  "
   ]
  },
  {
   "cell_type": "code",
   "execution_count": 21,
   "metadata": {},
   "outputs": [],
   "source": [
    "def Sample_theta13(a_teta13, b_teta13):\n",
    "    for i in beta.rvs(a_teta13, b_teta13, size=10000):\n",
    "        #print(\"t13\",i,a_teta13, b_teta13)\n",
    "        if .993>round(i,3)>0.5:\n",
    "            theta_1_3=round(i,3)\n",
    "            break\n",
    "    return theta_1_3"
   ]
  },
  {
   "cell_type": "code",
   "execution_count": 22,
   "metadata": {},
   "outputs": [],
   "source": [
    " def Sample_theta04(a_teta04, b_teta04):\n",
    "    for i in beta.rvs(a_teta04, b_teta04, size=10000):\n",
    "        #print(\"t04\",i,a_teta04, b_teta04)\n",
    "        if (i>0.01)&(i<0.3):\n",
    "            theta_0_4=round(i,3)\n",
    "            break\n",
    "    return theta_0_4  "
   ]
  },
  {
   "cell_type": "code",
   "execution_count": 23,
   "metadata": {},
   "outputs": [],
   "source": [
    "def Sample_theta14(a_teta14, b_teta14):\n",
    "    for i in beta.rvs(a_teta14, b_teta14, size=10000):\n",
    "        #print(\"t14\",i,a_teta14, b_teta14)\n",
    "        if .993>round(i,3)>0.5:\n",
    "            theta_1_4=round(i,3)\n",
    "            break\n",
    "    return theta_1_4"
   ]
  },
  {
   "cell_type": "code",
   "execution_count": 24,
   "metadata": {},
   "outputs": [],
   "source": [
    "def Sample_theta05(a_teta05, b_teta05):\n",
    "    for i in beta.rvs(a_teta05, b_teta05, size=10000):\n",
    "        #print(\"t05\",i,a_teta05, b_teta05)\n",
    "        if (i>0.01)&(i<0.3):\n",
    "            theta_0_5=round(i,3)\n",
    "            break\n",
    "    return theta_0_5"
   ]
  },
  {
   "cell_type": "code",
   "execution_count": 25,
   "metadata": {},
   "outputs": [],
   "source": [
    "def Sample_theta15(a_teta15, b_teta15):\n",
    "    for i in beta.rvs(a_teta15, b_teta15, size=10000):\n",
    "        #print(\"t15\",a_teta15, b_teta15)\n",
    "        if .993>round(i,3)>0.5:\n",
    "            theta_1_5=round(i,3)\n",
    "            break\n",
    "    return theta_1_5"
   ]
  },
  {
   "cell_type": "code",
   "execution_count": 26,
   "metadata": {},
   "outputs": [],
   "source": [
    "# initialize parameters for beta distributions:\n",
    "a_alpha=1\n",
    "b_alpha=1\n",
    "a_beta=1\n",
    "b_beta=5\n",
    "a_gama=1\n",
    "b_gama=5\n",
    "    \n",
    "a_teta00=1\n",
    "b_teta00=5\n",
    "a_teta10=800\n",
    "b_teta10=1\n",
    "a_teta01=1\n",
    "b_teta01=5\n",
    "a_teta11=800\n",
    "b_teta11=1\n",
    "a_teta02=1\n",
    "b_teta02=5\n",
    "a_teta12=800\n",
    "b_teta12=1\n",
    "a_teta03=1\n",
    "b_teta03=5\n",
    "a_teta13=800\n",
    "b_teta13=1\n",
    "a_teta04=1\n",
    "b_teta04=5\n",
    "a_teta14=800\n",
    "b_teta14=1\n",
    "a_teta05=1\n",
    "b_teta05=5\n",
    "a_teta15=800\n",
    "b_teta15=1\n",
    "# infection rate\n",
    "P=1\n",
    "hyper_params=[a_alpha,b_alpha,a_beta,b_beta,a_gama,b_gama,a_teta00,b_teta00,a_teta10,b_teta10,a_teta01,b_teta01,a_teta11,b_teta11,a_teta02,b_teta02,a_teta12,b_teta12,a_teta03,b_teta03,a_teta13,b_teta13,a_teta04,b_teta04,a_teta14,b_teta14,a_teta05,b_teta05,a_teta15,b_teta15]\n",
    "   "
   ]
  },
  {
   "cell_type": "code",
   "execution_count": 617,
   "metadata": {},
   "outputs": [],
   "source": [
    "# function to sample infection and emission parameters(alpha,beta,betaf,gama,teta0,teta1)\\n\",\n",
    "def initialize_parameters(hyper_params):\n",
    "    a_alpha=hyper_params[0]\n",
    "    b_alpha=hyper_params[1]\n",
    "    a_beta=hyper_params[2]\n",
    "    b_beta=hyper_params[3]\n",
    "    a_gama=hyper_params[4]\n",
    "    b_gama=hyper_params[5]\n",
    "    a_teta00=hyper_params[6]\n",
    "    b_teta00=hyper_params[7]\n",
    "    a_teta10=hyper_params[8]\n",
    "    b_teta10=hyper_params[9]\n",
    "    a_teta01=hyper_params[10]\n",
    "    b_teta01=hyper_params[11]\n",
    "    a_teta11=hyper_params[12]\n",
    "    b_teta11=hyper_params[13]\n",
    "    a_teta02=hyper_params[14]\n",
    "    b_teta02=hyper_params[15]\n",
    "    a_teta12=hyper_params[16]\n",
    "    b_teta12=hyper_params[17]\n",
    "    a_teta03=hyper_params[18]\n",
    "    b_teta03=hyper_params[19]\n",
    "    a_teta13=hyper_params[20]\n",
    "    b_teta13=hyper_params[21]\n",
    "    a_teta04=hyper_params[22]\n",
    "    b_teta04=hyper_params[23]\n",
    "    a_teta14=hyper_params[24]\n",
    "    b_teta14=hyper_params[25]\n",
    "    a_teta05=hyper_params[26]\n",
    "    b_teta05=hyper_params[27]\n",
    "    a_teta15=hyper_params[28]\n",
    "    b_teta15=hyper_params[29]\n",
    "    alpha_=Sample_alpha(a_alpha, b_alpha)\n",
    "    beta_=Sample_beta(a_beta, b_beta)\n",
    "    gama_=Sample_gama(a_gama,b_gama)\n",
    "    theta_0_0=Sample_theta00(a_teta00, b_teta00)\n",
    "    theta_1_0=Sample_theta10(a_teta10, b_teta10)\n",
    "    theta_0_1=Sample_theta01(a_teta01, b_teta01)\n",
    "    theta_1_1=Sample_theta11(a_teta11, b_teta11)\n",
    "    theta_0_2=Sample_theta02(a_teta02, b_teta02)\n",
    "    theta_1_2=Sample_theta12(a_teta12, b_teta12)\n",
    "   \n",
    "    theta_0_3=Sample_theta03(a_teta03, b_teta03)\n",
    "    theta_1_3=Sample_theta13(a_teta13, b_teta13)\n",
    "    \n",
    "    theta_0_4=Sample_theta04(a_teta04, b_teta04)\n",
    "    theta_1_4=Sample_theta14(a_teta14, b_teta14)\n",
    "    theta_0_5=Sample_theta05(a_teta05, b_teta05)\n",
    "    theta_1_5=Sample_theta15(a_teta15, b_teta15)\n",
    "    params=np.array([alpha_,beta_,gama_,theta_0_0,theta_1_0,theta_0_1,theta_1_1,theta_0_2,theta_1_2,theta_0_3,theta_1_3,theta_0_4,theta_1_4,theta_0_5,theta_1_5])\n",
    "    return params"
   ]
  },
  {
   "cell_type": "code",
   "execution_count": 576,
   "metadata": {},
   "outputs": [],
   "source": [
    "# function to add noise to observation vector, in order to test the model performance:\\n\",\n",
    "def add_noise(Y,noise_percent):\n",
    "    Y_noisey=np.copy(Y)\n",
    "    for turn in range(6):\n",
    "        index=random.sample(range(0,n*T ), int(n*T*noise_percent))\n",
    "        for j in index:\n",
    "            feature=random.randint(0, 5)\n",
    "            i=int(j/T)\n",
    "            t=j-i*T\n",
    "            Y_noisey[feature,i,t]=(1+Y[feature,i,t])*(1-Y[feature,i,t])\n",
    "    return Y_noisey  "
   ]
  },
  {
   "cell_type": "code",
   "execution_count": 792,
   "metadata": {},
   "outputs": [
    {
     "data": {
      "text/plain": [
       "array([0.003 , 0.0276, 0.117 , 0.092 , 0.992 , 0.22  , 0.992 , 0.023 ,\n",
       "       0.989 , 0.104 , 0.992 , 0.171 , 0.99  , 0.012 , 0.992 ])"
      ]
     },
     "execution_count": 792,
     "metadata": {},
     "output_type": "execute_result"
    }
   ],
   "source": [
    "# load data sets for Y,G and generate first J samples of X:\n",
    "%store -r Y\n",
    "%store -r G\n",
    "n,T=G.shape[1],G.shape[0]\n",
    "U=5\n",
    "K=5\n",
    "J=5\n",
    "params=initialize_parameters(hyper_params)\n",
    "params#=np.array([0.006 , 0.0168, 0.305 , 0.045 , 0.992 , 0.096 , 0.992 , 0.185 ,\n",
    "   #    0.992 , 0.192 , 0.991 , 0.251 , 0.99  , 0.289 , 0.992 ])"
   ]
  },
  {
   "cell_type": "code",
   "execution_count": 725,
   "metadata": {},
   "outputs": [
    {
     "data": {
      "text/plain": [
       "0.8161375661375662"
      ]
     },
     "execution_count": 725,
     "metadata": {},
     "output_type": "execute_result"
    }
   ],
   "source": [
    "Y_noisey=add_noise(Y_true,.2)\n",
    "Accuracy_(Y_true,Y_noisey)"
   ]
  },
  {
   "cell_type": "code",
   "execution_count": 770,
   "metadata": {},
   "outputs": [],
   "source": [
    "# Main code to run entire Gibbs sampling algorithm U times:\n",
    "def Gibbs_train(hyper_params,T,n,G,Y,U,K,J):\n",
    "    xx=[]\n",
    "    XX=[]\n",
    "    prob=[]\n",
    "    for j in range(J):\n",
    "        params=initialize_parameters(hyper_params)\n",
    "        print(params)\n",
    "        X=Forward_Sampling(T,n,G,params)\n",
    "        print(\"Forward_Sampling\",j)\n",
    "        print(\"Start Gibbs Sampling:\")\n",
    "        mylist=[]\n",
    "        accuracy=[]\n",
    "        for i in range(U):\n",
    "            print(\"************************************************ Iteration\",i,\"************************************************\")\n",
    "            print(\"Current Parameters:\",params)\n",
    "            now = datetime.now()\n",
    "            current_time = now.strftime(\"%H:%M:%S\")\n",
    "            print(\"Current Time is :\", current_time)\n",
    "            cal=Calculate_X(K,T,X,G,Y,params)\n",
    "            X=cal[0]\n",
    "            pos_probs=cal[1]\n",
    "            x=cal[2]\n",
    "            R=R_(G,X,params)\n",
    "            if i!=U-1:\n",
    "                prm=Params(R,G,X,n,T,Y,hyper_params)\n",
    "                params=prm[0]\n",
    "                R=prm[1]\n",
    "        xx.append(x)\n",
    "        XX.append(X) \n",
    "        prob.append(pos_probs)\n",
    "        now = datetime.now()\n",
    "        current_time = now.strftime(\"%H:%M:%S\")\n",
    "        print(\"Current Time is :\", current_time)\n",
    "    winsound.Beep(freq, duration) \n",
    "    return np.array(XX) ,np.array(prob), params   "
   ]
  },
  {
   "cell_type": "code",
   "execution_count": 793,
   "metadata": {},
   "outputs": [
    {
     "name": "stdout",
     "output_type": "stream",
     "text": [
      "[0.003  0.0045 0.443  0.183  0.991  0.123  0.992  0.034  0.992  0.011\n",
      " 0.992  0.194  0.992  0.11   0.991 ]\n",
      "Forward_Sampling 0\n",
      "Start Gibbs Sampling:\n",
      "************************************************ Iteration 0 ************************************************\n",
      "Current Parameters: [0.003  0.0045 0.443  0.183  0.991  0.123  0.992  0.034  0.992  0.011\n",
      " 0.992  0.194  0.992  0.11   0.991 ]\n",
      "Current Time is : 08:33:52\n",
      "************************************************ Iteration 1 ************************************************\n",
      "Current Parameters: [0.001  0.0018 0.553  0.01   0.99   0.01   0.99   0.01   0.99   0.01\n",
      " 0.99   0.01   0.99   0.01   0.99  ]\n",
      "Current Time is : 08:35:36\n",
      "************************************************ Iteration 2 ************************************************\n",
      "Current Parameters: [0.002 0.02  0.643 0.01  0.99  0.01  0.99  0.01  0.99  0.01  0.99  0.01\n",
      " 0.99  0.01  0.99 ]\n",
      "Current Time is : 08:37:21\n",
      "************************************************ Iteration 3 ************************************************\n",
      "Current Parameters: [0.001  0.0095 0.613  0.01   0.99   0.01   0.99   0.01   0.99   0.01\n",
      " 0.99   0.01   0.99   0.01   0.99  ]\n",
      "Current Time is : 08:39:06\n",
      "************************************************ Iteration 4 ************************************************\n",
      "Current Parameters: [0.001  0.0183 0.329  0.01   0.99   0.01   0.99   0.01   0.99   0.01\n",
      " 0.99   0.01   0.99   0.01   0.99  ]\n",
      "Current Time is : 08:40:54\n",
      "Current Time is : 08:42:40\n",
      "[0.01   0.0498 0.048  0.1    0.991  0.081  0.992  0.062  0.992  0.082\n",
      " 0.992  0.254  0.988  0.222  0.992 ]\n",
      "Forward_Sampling 1\n",
      "Start Gibbs Sampling:\n",
      "************************************************ Iteration 0 ************************************************\n",
      "Current Parameters: [0.01   0.0498 0.048  0.1    0.991  0.081  0.992  0.062  0.992  0.082\n",
      " 0.992  0.254  0.988  0.222  0.992 ]\n",
      "Current Time is : 08:42:42\n",
      "************************************************ Iteration 1 ************************************************\n",
      "Current Parameters: [0.002  0.0135 0.384  0.01   0.99   0.01   0.99   0.01   0.99   0.01\n",
      " 0.99   0.01   0.99   0.01   0.99  ]\n",
      "Current Time is : 08:44:30\n",
      "************************************************ Iteration 2 ************************************************\n",
      "Current Parameters: [0.001  0.0085 0.636  0.01   0.99   0.01   0.99   0.01   0.99   0.01\n",
      " 0.99   0.01   0.99   0.01   0.99  ]\n",
      "Current Time is : 08:46:18\n",
      "************************************************ Iteration 3 ************************************************\n",
      "Current Parameters: [0.001  0.0063 0.522  0.01   0.99   0.01   0.99   0.01   0.99   0.01\n",
      " 0.99   0.01   0.99   0.01   0.99  ]\n",
      "Current Time is : 08:48:06\n",
      "************************************************ Iteration 4 ************************************************\n",
      "Current Parameters: [0.001  0.0172 0.456  0.01   0.99   0.01   0.99   0.01   0.99   0.01\n",
      " 0.99   0.01   0.99   0.01   0.99  ]\n",
      "Current Time is : 08:49:54\n",
      "Current Time is : 08:51:40\n",
      "[0.005  0.0028 0.06   0.093  0.992  0.013  0.992  0.251  0.991  0.196\n",
      " 0.992  0.032  0.992  0.019  0.992 ]\n",
      "Forward_Sampling 2\n",
      "Start Gibbs Sampling:\n",
      "************************************************ Iteration 0 ************************************************\n",
      "Current Parameters: [0.005  0.0028 0.06   0.093  0.992  0.013  0.992  0.251  0.991  0.196\n",
      " 0.992  0.032  0.992  0.019  0.992 ]\n",
      "Current Time is : 08:51:43\n",
      "************************************************ Iteration 1 ************************************************\n",
      "Current Parameters: [0.001  0.0203 0.297  0.01   0.99   0.01   0.99   0.01   0.99   0.01\n",
      " 0.99   0.01   0.99   0.01   0.99  ]\n",
      "Current Time is : 08:53:32\n",
      "************************************************ Iteration 2 ************************************************\n",
      "Current Parameters: [0.001  0.0427 0.488  0.01   0.99   0.01   0.99   0.01   0.99   0.01\n",
      " 0.99   0.01   0.99   0.01   0.99  ]\n",
      "Current Time is : 08:55:24\n",
      "************************************************ Iteration 3 ************************************************\n",
      "Current Parameters: [1.00e-03 3.00e-04 5.27e-01 1.00e-02 9.90e-01 1.00e-02 9.90e-01 1.00e-02\n",
      " 9.90e-01 1.00e-02 9.90e-01 1.00e-02 9.90e-01 1.00e-02 9.90e-01]\n",
      "Current Time is : 08:57:13\n",
      "************************************************ Iteration 4 ************************************************\n",
      "Current Parameters: [0.001  0.0199 0.549  0.01   0.99   0.01   0.99   0.01   0.99   0.01\n",
      " 0.99   0.01   0.99   0.01   0.99  ]\n",
      "Current Time is : 08:59:01\n",
      "Current Time is : 08:59:44\n",
      "[0.006  0.0454 0.078  0.117  0.99   0.072  0.991  0.059  0.992  0.011\n",
      " 0.992  0.057  0.991  0.038  0.991 ]\n",
      "Forward_Sampling 3\n",
      "Start Gibbs Sampling:\n",
      "************************************************ Iteration 0 ************************************************\n",
      "Current Parameters: [0.006  0.0454 0.078  0.117  0.99   0.072  0.991  0.059  0.992  0.011\n",
      " 0.992  0.057  0.991  0.038  0.991 ]\n",
      "Current Time is : 08:59:46\n",
      "************************************************ Iteration 1 ************************************************\n",
      "Current Parameters: [0.001  0.0388 0.389  0.01   0.99   0.01   0.99   0.01   0.99   0.01\n",
      " 0.99   0.01   0.99   0.01   0.99  ]\n",
      "Current Time is : 09:00:25\n",
      "************************************************ Iteration 2 ************************************************\n",
      "Current Parameters: [0.001  0.0088 0.623  0.01   0.99   0.01   0.99   0.01   0.99   0.01\n",
      " 0.99   0.01   0.99   0.01   0.99  ]\n",
      "Current Time is : 09:01:04\n",
      "************************************************ Iteration 3 ************************************************\n",
      "Current Parameters: [0.001  0.0032 0.422  0.01   0.99   0.01   0.99   0.01   0.99   0.01\n",
      " 0.99   0.01   0.99   0.01   0.99  ]\n",
      "Current Time is : 09:01:42\n",
      "************************************************ Iteration 4 ************************************************\n",
      "Current Parameters: [0.001  0.0033 0.475  0.01   0.99   0.01   0.99   0.01   0.99   0.01\n",
      " 0.99   0.01   0.99   0.01   0.99  ]\n",
      "Current Time is : 09:02:21\n",
      "Current Time is : 09:03:00\n",
      "[0.009  0.0349 0.086  0.072  0.991  0.2    0.992  0.018  0.991  0.117\n",
      " 0.992  0.245  0.992  0.083  0.992 ]\n",
      "Forward_Sampling 4\n",
      "Start Gibbs Sampling:\n",
      "************************************************ Iteration 0 ************************************************\n",
      "Current Parameters: [0.009  0.0349 0.086  0.072  0.991  0.2    0.992  0.018  0.991  0.117\n",
      " 0.992  0.245  0.992  0.083  0.992 ]\n",
      "Current Time is : 09:03:01\n",
      "************************************************ Iteration 1 ************************************************\n",
      "Current Parameters: [0.001  0.0249 0.442  0.01   0.99   0.01   0.99   0.01   0.99   0.01\n",
      " 0.99   0.01   0.99   0.01   0.99  ]\n",
      "Current Time is : 09:03:40\n",
      "************************************************ Iteration 2 ************************************************\n",
      "Current Parameters: [0.001 0.001 0.485 0.01  0.99  0.01  0.99  0.01  0.99  0.01  0.99  0.01\n",
      " 0.99  0.01  0.99 ]\n",
      "Current Time is : 09:04:18\n",
      "************************************************ Iteration 3 ************************************************\n",
      "Current Parameters: [0.001  0.0089 0.37   0.01   0.99   0.01   0.99   0.01   0.99   0.01\n",
      " 0.99   0.01   0.99   0.01   0.99  ]\n",
      "Current Time is : 09:04:57\n",
      "************************************************ Iteration 4 ************************************************\n",
      "Current Parameters: [0.001  0.0047 0.468  0.01   0.99   0.01   0.99   0.01   0.99   0.01\n",
      " 0.99   0.01   0.99   0.01   0.99  ]\n",
      "Current Time is : 09:05:35\n",
      "Current Time is : 09:06:15\n"
     ]
    }
   ],
   "source": [
    "Train=Gibbs_train(hyper_params,T,n,G,Y,U,K,J)"
   ]
  },
  {
   "cell_type": "code",
   "execution_count": 589,
   "metadata": {},
   "outputs": [],
   "source": [
    "def estimate_Y(X,param):\n",
    "    theta_0_0=param[3]\n",
    "    theta_1_0=param[4]\n",
    "    theta_0_1=param[5]\n",
    "    theta_1_1=param[6] \n",
    "    theta_0_2=param[7]\n",
    "    theta_1_2=param[8]\n",
    "    theta_0_3=param[9]\n",
    "    theta_1_3=param[10] \n",
    "    theta_0_4=param[11]\n",
    "    theta_1_4=param[12]\n",
    "    theta_0_5=param[13]\n",
    "    theta_1_5=param[14]\n",
    "    theta0=[theta_0_0,theta_0_1,theta_0_2,theta_0_3,theta_0_4,theta_0_5]\n",
    "    theta1=[theta_1_0,theta_1_1,theta_1_2,theta_1_3,theta_1_4,theta_1_5]\n",
    "    Y_=np.zeros((6,n,T))\n",
    "    prob=np.zeros((6,n,T))\n",
    "    for t in range(T):\n",
    "        for i in range(n):\n",
    "            for j in range(6):\n",
    "                p1=theta0[j]**(1-X[i,t])*(theta1[j])**X[i,t]\n",
    "                p0=(1-theta0[j])**(1-X[i,t])*(1-theta1[j])**X[i,t]\n",
    "                l=p1/(p1+p0)\n",
    "                Y_[j,i,t]=np.random.binomial( 1, l,size=None)\n",
    "                prob[j,i,t]=l\n",
    "    return Y_, prob"
   ]
  },
  {
   "cell_type": "code",
   "execution_count": 802,
   "metadata": {},
   "outputs": [],
   "source": [
    "X=Train[0]\n",
    "pos_probs=Train[1]\n",
    "params=Train[2]"
   ]
  },
  {
   "cell_type": "code",
   "execution_count": 803,
   "metadata": {},
   "outputs": [
    {
     "name": "stdout",
     "output_type": "stream",
     "text": [
      "(5, 63, 66) (5, 63, 66)\n"
     ]
    }
   ],
   "source": [
    "print(X.shape,pos_probs.shape)"
   ]
  },
  {
   "cell_type": "code",
   "execution_count": 811,
   "metadata": {},
   "outputs": [
    {
     "data": {
      "text/plain": [
       "189.0"
      ]
     },
     "execution_count": 811,
     "metadata": {},
     "output_type": "execute_result"
    }
   ],
   "source": [
    "np.sum(X[:])"
   ]
  },
  {
   "cell_type": "code",
   "execution_count": 812,
   "metadata": {},
   "outputs": [
    {
     "data": {
      "text/plain": [
       "array([0.001 , 0.0047, 0.468 , 0.01  , 0.99  , 0.01  , 0.99  , 0.01  ,\n",
       "       0.99  , 0.01  , 0.99  , 0.01  , 0.99  , 0.01  , 0.99  ])"
      ]
     },
     "execution_count": 812,
     "metadata": {},
     "output_type": "execute_result"
    }
   ],
   "source": [
    "params"
   ]
  },
  {
   "cell_type": "code",
   "execution_count": 806,
   "metadata": {},
   "outputs": [],
   "source": [
    "Y_estimate=estimate_Y(X[4],params)[0]\n",
    "Y_prob=estimate_Y(X[4],params)[1]"
   ]
  },
  {
   "cell_type": "code",
   "execution_count": 569,
   "metadata": {},
   "outputs": [],
   "source": [
    "def Gibbs_test(params,T,n,G,Y,K,J):\n",
    "       \n",
    "    acc=[]  \n",
    "    XX=[]\n",
    "    prob=[]\n",
    "    for j in range(J):\n",
    "        #params=initialize_parameters(hyper_params)\n",
    "        print(params)\n",
    "        X=Forward_Sampling(T,n,G,params)\n",
    "        print(\"Forward_Sampling\",j,\"\\n\",X)\n",
    "        print(\"Start Gibbs Sampling:\")\n",
    "        cal=Calculate_X(K,T,X,G,Y,params)\n",
    "        X=cal[0]\n",
    "        label=\"Sample:\"+str(j)\n",
    "        pos_probs=cal[1]\n",
    "        prob.append(pos_probs)    \n",
    "        XX.append(X)    \n",
    "        now = datetime.now()\n",
    "        current_time = now.strftime(\"%H:%M:%S\")\n",
    "        print(\"Current Time is :\", current_time)\n",
    "    winsound.Beep(freq, duration) \n",
    "    return np.array(XX),prob\n",
    "   "
   ]
  },
  {
   "cell_type": "code",
   "execution_count": 813,
   "metadata": {},
   "outputs": [
    {
     "name": "stdout",
     "output_type": "stream",
     "text": [
      "[0.001  0.0047 0.468  0.01   0.99   0.01   0.99   0.01   0.99   0.01\n",
      " 0.99   0.01   0.99   0.01   0.99  ]\n",
      "Forward_Sampling 0 \n",
      " [[0. 0. 0. ... 0. 0. 0.]\n",
      " [1. 0. 0. ... 0. 0. 0.]\n",
      " [1. 1. 0. ... 0. 0. 0.]\n",
      " ...\n",
      " [1. 1. 0. ... 0. 0. 0.]\n",
      " [0. 0. 0. ... 0. 0. 0.]\n",
      " [0. 0. 0. ... 0. 0. 0.]]\n",
      "Start Gibbs Sampling:\n",
      "Current Time is : 09:30:57\n",
      "[0.001  0.0047 0.468  0.01   0.99   0.01   0.99   0.01   0.99   0.01\n",
      " 0.99   0.01   0.99   0.01   0.99  ]\n",
      "Forward_Sampling 1 \n",
      " [[0. 0. 0. ... 0. 0. 0.]\n",
      " [0. 0. 0. ... 0. 0. 0.]\n",
      " [1. 0. 0. ... 0. 0. 0.]\n",
      " ...\n",
      " [0. 0. 0. ... 0. 0. 0.]\n",
      " [0. 0. 0. ... 0. 0. 0.]\n",
      " [0. 0. 0. ... 0. 0. 0.]]\n",
      "Start Gibbs Sampling:\n",
      "Current Time is : 09:32:22\n",
      "[0.001  0.0047 0.468  0.01   0.99   0.01   0.99   0.01   0.99   0.01\n",
      " 0.99   0.01   0.99   0.01   0.99  ]\n",
      "Forward_Sampling 2 \n",
      " [[0. 0. 0. ... 0. 0. 0.]\n",
      " [0. 0. 0. ... 0. 0. 0.]\n",
      " [1. 1. 0. ... 0. 0. 0.]\n",
      " ...\n",
      " [0. 0. 0. ... 0. 0. 0.]\n",
      " [1. 0. 0. ... 0. 0. 0.]\n",
      " [0. 0. 0. ... 0. 0. 0.]]\n",
      "Start Gibbs Sampling:\n",
      "Current Time is : 09:33:48\n",
      "[0.001  0.0047 0.468  0.01   0.99   0.01   0.99   0.01   0.99   0.01\n",
      " 0.99   0.01   0.99   0.01   0.99  ]\n",
      "Forward_Sampling 3 \n",
      " [[1. 1. 0. ... 0. 0. 0.]\n",
      " [0. 0. 0. ... 0. 0. 0.]\n",
      " [0. 1. 1. ... 0. 0. 0.]\n",
      " ...\n",
      " [0. 0. 0. ... 0. 0. 0.]\n",
      " [0. 0. 0. ... 0. 0. 0.]\n",
      " [1. 0. 0. ... 0. 0. 0.]]\n",
      "Start Gibbs Sampling:\n",
      "Current Time is : 09:35:14\n",
      "[0.001  0.0047 0.468  0.01   0.99   0.01   0.99   0.01   0.99   0.01\n",
      " 0.99   0.01   0.99   0.01   0.99  ]\n",
      "Forward_Sampling 4 \n",
      " [[0. 0. 0. ... 0. 0. 0.]\n",
      " [0. 0. 0. ... 0. 0. 0.]\n",
      " [0. 0. 0. ... 0. 0. 0.]\n",
      " ...\n",
      " [0. 0. 0. ... 0. 0. 0.]\n",
      " [1. 0. 0. ... 0. 0. 0.]\n",
      " [0. 0. 0. ... 0. 0. 0.]]\n",
      "Start Gibbs Sampling:\n",
      "Current Time is : 09:36:42\n"
     ]
    }
   ],
   "source": [
    "Test=Gibbs_test(params,T,n,G,Y_estimate,K,J)"
   ]
  },
  {
   "cell_type": "code",
   "execution_count": 789,
   "metadata": {},
   "outputs": [
    {
     "data": {
      "text/plain": [
       "0.7510822510822511"
      ]
     },
     "execution_count": 789,
     "metadata": {},
     "output_type": "execute_result"
    }
   ],
   "source": [
    "Accuracy_(Y_true[2],Y_estimate[2])"
   ]
  },
  {
   "cell_type": "code",
   "execution_count": 759,
   "metadata": {},
   "outputs": [
    {
     "data": {
      "text/plain": [
       "array([[0.108, 0.108, 0.108, ..., 0.108, 0.108, 0.108],\n",
       "       [0.108, 0.108, 0.108, ..., 0.108, 0.108, 0.108],\n",
       "       [0.108, 0.108, 0.108, ..., 0.108, 0.108, 0.108],\n",
       "       ...,\n",
       "       [0.108, 0.108, 0.108, ..., 0.108, 0.108, 0.108],\n",
       "       [0.108, 0.108, 0.108, ..., 0.108, 0.108, 0.108],\n",
       "       [0.108, 0.108, 0.108, ..., 0.108, 0.108, 0.108]])"
      ]
     },
     "execution_count": 759,
     "metadata": {},
     "output_type": "execute_result"
    }
   ],
   "source": [
    "Y_prob[0]"
   ]
  },
  {
   "cell_type": "code",
   "execution_count": 815,
   "metadata": {},
   "outputs": [
    {
     "data": {
      "image/png": "[encoded data removed]",
      "text/plain": [
       "<Figure size 432x288 with 1 Axes>"
      ]
     },
     "metadata": {
      "needs_background": "light"
     },
     "output_type": "display_data"
    },
    {
     "data": {
      "image/png": "[encoded data removed]",
      "text/plain": [
       "<Figure size 432x288 with 1 Axes>"
      ]
     },
     "metadata": {
      "needs_background": "light"
     },
     "output_type": "display_data"
    },
    {
     "data": {
      "image/png": "[encoded data removed]",
      "text/plain": [
       "<Figure size 432x288 with 1 Axes>"
      ]
     },
     "metadata": {
      "needs_background": "light"
     },
     "output_type": "display_data"
    },
    {
     "data": {
      "image/png": "[encoded data removed]",
      "text/plain": [
       "<Figure size 432x288 with 1 Axes>"
      ]
     },
     "metadata": {
      "needs_background": "light"
     },
     "output_type": "display_data"
    },
    {
     "data": {
      "image/png": "[encoded data removed]",
      "text/plain": [
       "<Figure size 432x288 with 1 Axes>"
      ]
     },
     "metadata": {
      "needs_background": "light"
     },
     "output_type": "display_data"
    }
   ],
   "source": [
    "plt.figure()\n",
    "lw = 2\n",
    "for i in range(5):\n",
    "    y_score=np.hstack(Test[0][i])\n",
    "    y_test=np.hstack(Train[0][i])\n",
    "    fpr, tpr, thresholds = roc_curve(y_test, y_score,pos_label=1)\n",
    "    roc_auc = auc(fpr, tpr)\n",
    "    plt.plot(\n",
    "        fpr,\n",
    "        tpr,\n",
    "        color=\"darkorange\",\n",
    "        lw=lw,\n",
    "        label=\"ROC curve (area = %0.2f)\" % roc_auc,\n",
    "    )\n",
    "    plt.plot([0, 1], [0, 1], color=\"navy\", lw=lw, linestyle=\"--\")\n",
    "    plt.xlim([0.0, 1.0])\n",
    "    plt.ylim([0.0, 1.05])\n",
    "    plt.xlabel(\"False Positive Rate\")\n",
    "    plt.ylabel(\"True Positive Rate\")\n",
    "    plt.title(\"Receiver operating characteristic for symptom\"+str(i))\n",
    "    plt.legend(loc=\"lower right\")\n",
    "    plt.show()"
   ]
  },
  {
   "cell_type": "code",
   "execution_count": 608,
   "metadata": {},
   "outputs": [
    {
     "data": {
      "text/plain": [
       "(5346,)"
      ]
     },
     "execution_count": 608,
     "metadata": {},
     "output_type": "execute_result"
    }
   ],
   "source": [
    "pos_probs=Test[1][0]\n",
    "y_score=np.hstack(pos_probs)\n",
    "y_score.shape"
   ]
  },
  {
   "cell_type": "code",
   "execution_count": 609,
   "metadata": {},
   "outputs": [
    {
     "data": {
      "text/plain": [
       "(5346,)"
      ]
     },
     "execution_count": 609,
     "metadata": {},
     "output_type": "execute_result"
    }
   ],
   "source": [
    "X_=Train[0][0]\n",
    "y_test=np.hstack(X_true)\n",
    "y_test.shape"
   ]
  },
  {
   "cell_type": "code",
   "execution_count": 610,
   "metadata": {},
   "outputs": [],
   "source": [
    "fpr, tpr, thresholds = roc_curve(y_test, y_score,pos_label=1)\n",
    "roc_auc = auc(fpr, tpr)"
   ]
  },
  {
   "cell_type": "code",
   "execution_count": 612,
   "metadata": {},
   "outputs": [
    {
     "data": {
      "image/png": "[encoded data removed]",
      "text/plain": [
       "<Figure size 432x288 with 1 Axes>"
      ]
     },
     "metadata": {
      "needs_background": "light"
     },
     "output_type": "display_data"
    }
   ],
   "source": [
    "plt.figure()\n",
    "lw = 2\n",
    "plt.plot(\n",
    "    fpr,\n",
    "    tpr,\n",
    "    color=\"darkorange\",\n",
    "    lw=lw,\n",
    "    label=\"ROC curve (area = %0.2f)\" % roc_auc,\n",
    ")\n",
    "plt.plot([0, 1], [0, 1], color=\"navy\", lw=lw, linestyle=\"--\")\n",
    "plt.xlim([0.0, 1.0])\n",
    "plt.ylim([0.0, 1.05])\n",
    "plt.xlabel(\"False Positive Rate\")\n",
    "plt.ylabel(\"True Positive Rate\")\n",
    "plt.title(\"ROC for X when noise percent is 20%\")\n",
    "plt.legend(loc=\"lower right\")\n",
    "plt.show()"
   ]
  },
  {
   "cell_type": "code",
   "execution_count": 700,
   "metadata": {},
   "outputs": [],
   "source": [
    "# Synthetized data:\n",
    "# Function to generates synthetic dataset\n",
    "def Synthetic_Data(n,T,y,params):\n",
    "    Y_=np.zeros((6,n,T))\n",
    "    x_=np.zeros((n,T))\n",
    "    alpha_,beta_,gama_,theta_0_0,theta_1_0,theta_0_1,theta_1_1,theta_0_2,theta_1_2,theta_0_3,theta_1_3,theta_0_4,theta_1_4,theta_0_5,theta_1_5=params[0],params[1],params[2],params[3],params[4],params[5],params[6],params[7],params[8],params[9],params[10],params[11],params[12],params[13],params[14]\n",
    "    teta_0=[theta_0_0,theta_0_1,theta_0_2,theta_0_3,theta_0_4,theta_0_5]\n",
    "    teta_1=[theta_1_0,theta_1_1,theta_1_2,theta_1_3,theta_1_4,theta_1_5]\n",
    "    P=1\n",
    "    x=int(np.round(((1-P)*n),0))\n",
    "    X=np.zeros((n,T))\n",
    "    idx=np.random.choice(range(n), x)\n",
    "    X[idx,0]=1\n",
    "    x_[idx,0]=1-P\n",
    "    # Random social network\n",
    "    #G=[]\n",
    "    #for j in range(T):\n",
    "     #   g=np.identity(n,dtype=int)\n",
    "      #  for i in range(n):\n",
    "       #     indx=np.random.choice(range(i,n), y)\n",
    "        #    for inx in indx:\n",
    "         #       g[i,inx]=1  \n",
    "          #      g[inx,i]=1\n",
    "        #G.append(g)\n",
    "    #G=np.array(G)\n",
    "     \n",
    "    # Synthetize X, using params,G and transition probability:\n",
    "    for t in range(T-1):\n",
    "        for i in range(n):\n",
    "            c=CNbr(G,X,n,T)[i,t]\n",
    "            if X[i,t]==0:\n",
    "                p1=alpha_+beta_*c\n",
    "            else:\n",
    "                p1=1-gama_\n",
    "            \n",
    "            X[i,t+1]=np.random.binomial( 1, p1,size=None) \n",
    "            x_[i,t+1]=p1\n",
    "    #X=(x_>0.2)+0       \n",
    "    # Synthetize Y, using params, G, X, emission probability:\n",
    "    for t in range(T):\n",
    "        for i in range(n):\n",
    "            for j in range(6):\n",
    "                if X[i,t]==0:\n",
    "                    teta0=teta_0[j]\n",
    "                    Y_[j,i,t]=np.random.binomial( 1, teta0,size=None) \n",
    "                else:\n",
    "                    teta1=teta_1[j]\n",
    "                    Y_[j,i,t]=np.random.binomial( 1, teta1,size=None) \n",
    "    return G,Y_,X   ,x_       "
   ]
  },
  {
   "cell_type": "code",
   "execution_count": 211,
   "metadata": {},
   "outputs": [],
   "source": [
    "params=np.array([.005,.045,.3,.01,.99,.01,.99,.01,.99,.01,.99,.01,.99,.01,.99])"
   ]
  },
  {
   "cell_type": "code",
   "execution_count": 698,
   "metadata": {},
   "outputs": [],
   "source": [
    "%store -r G"
   ]
  },
  {
   "cell_type": "code",
   "execution_count": 699,
   "metadata": {},
   "outputs": [
    {
     "data": {
      "text/plain": [
       "(66, 63, 63)"
      ]
     },
     "execution_count": 699,
     "metadata": {},
     "output_type": "execute_result"
    }
   ],
   "source": [
    "G.shape"
   ]
  },
  {
   "cell_type": "code",
   "execution_count": 701,
   "metadata": {},
   "outputs": [],
   "source": [
    "# Generate synthetic data,G ,Y:\n",
    "n,T,y=63,66,4\n",
    "synthetic_data=Synthetic_Data(n,T,y,params)\n",
    "G,Y_true,X_true,xx =synthetic_data[0],synthetic_data[1],synthetic_data[2],synthetic_data[3]"
   ]
  },
  {
   "cell_type": "code",
   "execution_count": 711,
   "metadata": {
    "scrolled": true
   },
   "outputs": [
    {
     "name": "stdout",
     "output_type": "stream",
     "text": [
      "[0.004  0.0019 0.07   0.083  0.99   0.149  0.991  0.262  0.992  0.209\n",
      " 0.991  0.088  0.992  0.029  0.992 ]\n",
      "Forward_Sampling 0\n",
      "Start Gibbs Sampling:\n",
      "************************************************ Iteration 0 ************************************************\n",
      "Current Parameters: [0.004  0.0019 0.07   0.083  0.99   0.149  0.991  0.262  0.992  0.209\n",
      " 0.991  0.088  0.992  0.029  0.992 ]\n",
      "Current Time is : 22:48:34\n",
      "X [[0. 0. 0. ... 0. 0. 0.]\n",
      " [0. 0. 0. ... 0. 0. 0.]\n",
      " [0. 0. 0. ... 0. 0. 0.]\n",
      " ...\n",
      " [0. 0. 0. ... 0. 0. 0.]\n",
      " [0. 0. 0. ... 0. 0. 0.]\n",
      " [0. 0. 0. ... 0. 0. 0.]]\n",
      "p [[8.50549560e-11 3.72891408e-13 1.20012520e-12 ... 1.82483231e-13\n",
      "  1.82483231e-13 4.12866669e-15]\n",
      " [6.30892062e-12 1.31266705e-09 2.89058154e-16 ... 2.87403917e-16\n",
      "  1.82134455e-13 4.12866669e-15]\n",
      " [1.80629168e-14 2.34507541e-10 1.20473476e-12 ... 3.72891408e-13\n",
      "  1.20923266e-13 1.71416546e-11]\n",
      " ...\n",
      " [8.10771519e-09 3.72891408e-13 6.45188111e-07 ... 1.19328758e-12\n",
      "  6.41502811e-07 1.72056532e-12]\n",
      " [5.15833175e-05 1.20923266e-13 1.20473476e-12 ... 1.78570654e-03\n",
      "  4.20792701e-10 2.21108285e-09]\n",
      " [1.80629168e-14 3.72891408e-13 1.20923266e-13 ... 6.37381887e-11\n",
      "  1.20923266e-13 2.21108285e-09]]\n",
      "x [[0. 0. 0. ... 0. 0. 0.]\n",
      " [0. 0. 0. ... 0. 0. 0.]\n",
      " [0. 0. 0. ... 0. 0. 0.]\n",
      " ...\n",
      " [0. 0. 0. ... 0. 0. 0.]\n",
      " [0. 0. 0. ... 0. 0. 0.]\n",
      " [0. 0. 0. ... 0. 0. 0.]]\n",
      "Current Time is : 22:48:43\n"
     ]
    }
   ],
   "source": [
    "Train=Gibbs_train(hyper_params,T,n,G[:56],Y_true[:,:,:56],U,K,J)"
   ]
  },
  {
   "cell_type": "code",
   "execution_count": 632,
   "metadata": {},
   "outputs": [],
   "source": [
    "Y_test=add_noise(Y_true,.2)"
   ]
  },
  {
   "cell_type": "code",
   "execution_count": 712,
   "metadata": {},
   "outputs": [],
   "source": [
    "T=66"
   ]
  },
  {
   "cell_type": "code",
   "execution_count": 713,
   "metadata": {},
   "outputs": [
    {
     "name": "stdout",
     "output_type": "stream",
     "text": [
      "[0.005  0.0318 0.235  0.037  0.992  0.123  0.992  0.185  0.992  0.258\n",
      " 0.988  0.27   0.992  0.266  0.992 ]\n",
      "Forward_Sampling 0 \n",
      " [[1. 1. 0. ... 0. 0. 0.]\n",
      " [0. 0. 0. ... 0. 0. 0.]\n",
      " [0. 0. 0. ... 0. 0. 0.]\n",
      " ...\n",
      " [0. 0. 0. ... 0. 0. 0.]\n",
      " [1. 0. 0. ... 0. 0. 0.]\n",
      " [0. 0. 0. ... 0. 0. 0.]]\n",
      "Start Gibbs Sampling:\n",
      "Current Time is : 22:49:42\n"
     ]
    }
   ],
   "source": [
    "Test=Gibbs_test(params,T,n,G,Y_true,K,J)"
   ]
  },
  {
   "cell_type": "code",
   "execution_count": 714,
   "metadata": {
    "scrolled": true
   },
   "outputs": [
    {
     "data": {
      "image/png": "[encoded data removed]",
      "text/plain": [
       "<Figure size 432x288 with 1 Axes>"
      ]
     },
     "metadata": {
      "needs_background": "light"
     },
     "output_type": "display_data"
    }
   ],
   "source": [
    "for j in range(J):\n",
    "    pos_probs=Test[1][j]\n",
    "    y_score=np.hstack(pos_probs)\n",
    "    y_test=np.hstack(X_true)\n",
    "    fpr, tpr, thresholds = roc_curve(y_test, y_score,pos_label=1)\n",
    "    roc_auc = auc(fpr, tpr)\n",
    "    plt.figure()\n",
    "    lw = 4\n",
    "    plt.plot(\n",
    "        fpr,\n",
    "        tpr,\n",
    "        color=\"darkorange\",\n",
    "        lw=lw,\n",
    "        label=\"ROC curve (area = %0.2f)\" % roc_auc,\n",
    "    )\n",
    "    plt.plot([0, 1], [0, 1], color=\"navy\", lw=lw, linestyle=\"--\")\n",
    "    plt.xlim([0.0, 1.0])\n",
    "    plt.ylim([0.0, 1.05])\n",
    "    plt.xlabel(\"False Positive Rate\")\n",
    "    plt.ylabel(\"True Positive Rate\")\n",
    "    plt.title(\"Receiver operating characteristic \")\n",
    "    plt.legend(loc=\"lower right\")\n",
    "    plt.show()"
   ]
  },
  {
   "cell_type": "code",
   "execution_count": 624,
   "metadata": {},
   "outputs": [
    {
     "data": {
      "image/png": "[encoded data removed]",
      "text/plain": [
       "<Figure size 432x288 with 1 Axes>"
      ]
     },
     "metadata": {
      "needs_background": "light"
     },
     "output_type": "display_data"
    }
   ],
   "source": [
    "import matplotlib.pyplot as plt\n",
    "import numpy as np\n",
    "from sklearn import metrics\n",
    "y = np.array([0, 0, 1, 1])\n",
    "pred = np.array([0.1, 0.53, 0.45, 0.8])\n",
    "fpr, tpr, thresholds = metrics.roc_curve(y, pred)\n",
    "roc_auc = metrics.auc(fpr, tpr)\n",
    "display = metrics.RocCurveDisplay(fpr=fpr, tpr=tpr, roc_auc=roc_auc,\n",
    "                                  estimator_name='example estimator')\n",
    "display.plot()\n",
    "\n",
    "plt.show()"
   ]
  },
  {
   "cell_type": "code",
   "execution_count": 635,
   "metadata": {},
   "outputs": [
    {
     "data": {
      "text/plain": [
       "array([[0., 0., 0., ..., 0., 0., 0.],\n",
       "       [0., 0., 0., ..., 1., 1., 1.],\n",
       "       [0., 0., 0., ..., 0., 0., 0.],\n",
       "       ...,\n",
       "       [0., 0., 0., ..., 0., 0., 0.],\n",
       "       [0., 0., 0., ..., 1., 1., 1.],\n",
       "       [0., 0., 0., ..., 0., 0., 0.]])"
      ]
     },
     "execution_count": 635,
     "metadata": {},
     "output_type": "execute_result"
    }
   ],
   "source": [
    "X_true"
   ]
  },
  {
   "cell_type": "code",
   "execution_count": 636,
   "metadata": {},
   "outputs": [
    {
     "data": {
      "text/plain": [
       "array([[[0., 0., 0., ..., 0., 0., 0.],\n",
       "        [0., 0., 0., ..., 1., 1., 1.],\n",
       "        [0., 0., 0., ..., 0., 0., 0.],\n",
       "        ...,\n",
       "        [0., 0., 0., ..., 0., 0., 0.],\n",
       "        [0., 0., 0., ..., 1., 0., 0.],\n",
       "        [0., 0., 0., ..., 0., 0., 0.]]])"
      ]
     },
     "execution_count": 636,
     "metadata": {},
     "output_type": "execute_result"
    }
   ],
   "source": [
    "X_test=Test[0]\n",
    "X_test"
   ]
  },
  {
   "cell_type": "code",
   "execution_count": null,
   "metadata": {},
   "outputs": [],
   "source": []
  },
  {
   "cell_type": "code",
   "execution_count": 696,
   "metadata": {},
   "outputs": [],
   "source": [
    "def show_TPR_by_time(X_true,X_score,T):\n",
    "    TP,FN,TPR=np.zeros((T)),np.zeros((T)),np.zeros((T))\n",
    "    for t in range(T):\n",
    "        TP[t]=np.count_nonzero(np.multiply(X_true,X_score).T[t]==1)\n",
    "        FN[t]=np.count_nonzero((X_true-2*X_score).T[t]==1)\n",
    "        if (TP[t]+FN[t])!=0:\n",
    "            TPR[t]=TP[t]/(TP[t]+FN[t])\n",
    "        #print(TP[t],FN[t])\n",
    "        #plt.plot(t,TPR[t],'go--', linewidth=2, markersize=1)  \n",
    "    plt.plot(range(T),TPR) \n",
    "    plt.show()    "
   ]
  },
  {
   "cell_type": "code",
   "execution_count": 691,
   "metadata": {},
   "outputs": [],
   "source": [
    "a=np.array([[1,0],[1,1]])\n",
    "b=np.array([[1,1],[1,0]])"
   ]
  },
  {
   "cell_type": "code",
   "execution_count": 692,
   "metadata": {},
   "outputs": [
    {
     "data": {
      "text/plain": [
       "array([[1, 0],\n",
       "       [1, 1]])"
      ]
     },
     "execution_count": 692,
     "metadata": {},
     "output_type": "execute_result"
    }
   ],
   "source": [
    "a"
   ]
  },
  {
   "cell_type": "code",
   "execution_count": 693,
   "metadata": {},
   "outputs": [
    {
     "data": {
      "text/plain": [
       "array([[1, 1],\n",
       "       [1, 0]])"
      ]
     },
     "execution_count": 693,
     "metadata": {},
     "output_type": "execute_result"
    }
   ],
   "source": [
    "b"
   ]
  },
  {
   "cell_type": "code",
   "execution_count": 823,
   "metadata": {},
   "outputs": [
    {
     "data": {
      "image/png": "[encoded data removed]",
      "text/plain": [
       "<Figure size 432x288 with 1 Axes>"
      ]
     },
     "metadata": {
      "needs_background": "light"
     },
     "output_type": "display_data"
    }
   ],
   "source": [
    "show_TPR_by_time(Y_true[2],estimate_Y(X_true,params)[0][2],T)"
   ]
  },
  {
   "cell_type": "code",
   "execution_count": 717,
   "metadata": {},
   "outputs": [
    {
     "name": "stdout",
     "output_type": "stream",
     "text": [
      "0.9244829244829245\n",
      "0.7845117845117845\n",
      "0.714045214045214\n",
      "0.626022126022126\n",
      "0.6180856180856181\n",
      "0.6267436267436267\n"
     ]
    }
   ],
   "source": [
    "for i in range(6):\n",
    "    print(Accuracy_(Y_true[i],estimate_Y(X_true,params)[0][i]))\n"
   ]
  },
  {
   "cell_type": "code",
   "execution_count": 816,
   "metadata": {},
   "outputs": [
    {
     "data": {
      "text/plain": [
       "<Figure size 432x288 with 0 Axes>"
      ]
     },
     "metadata": {},
     "output_type": "display_data"
    }
   ],
   "source": [
    "plt.savefig('my_plot.png')"
   ]
  },
  {
   "cell_type": "code",
   "execution_count": 820,
   "metadata": {},
   "outputs": [],
   "source": [
    "plt.show()"
   ]
  },
  {
   "cell_type": "code",
   "execution_count": 819,
   "metadata": {},
   "outputs": [],
   "source": [
    "plt.close()"
   ]
  },
  {
   "cell_type": "code",
   "execution_count": null,
   "metadata": {},
   "outputs": [],
   "source": []
  }
 ],
 "metadata": {
  "kernelspec": {
   "display_name": "Python 3",
   "language": "python",
   "name": "python3"
  },
  "language_info": {
   "codemirror_mode": {
    "name": "ipython",
    "version": 3
   },
   "file_extension": ".py",
   "mimetype": "text/x-python",
   "name": "python",
   "nbconvert_exporter": "python",
   "pygments_lexer": "ipython3",
   "version": "3.8.5"
  }
 },
 "nbformat": 4,
 "nbformat_minor": 4
}
